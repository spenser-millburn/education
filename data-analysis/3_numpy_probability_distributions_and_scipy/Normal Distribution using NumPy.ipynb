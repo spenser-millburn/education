{
 "cells": [
  {
   "cell_type": "code",
   "execution_count": 3,
   "id": "8a9700f4",
   "metadata": {},
   "outputs": [],
   "source": [
    "import numpy as np\n",
    "import matplotlib.pyplot as plt\n",
    "import seaborn as sns"
   ]
  },
  {
   "cell_type": "code",
   "execution_count": 7,
   "id": "1a25d7e9",
   "metadata": {},
   "outputs": [
    {
     "data": {
      "text/plain": [
       "array([101.94, 101.82,  99.2 , 101.73, 100.34, 102.89, 102.01,  99.59,\n",
       "        98.76,  99.58, 100.58, 101.81,  98.94,  99.21,  99.73, 101.9 ,\n",
       "       101.17, 100.69,  99.02, 103.24,  95.05, 101.24,  99.73,  96.46,\n",
       "        98.68,  99.97, 102.67, 102.86, 103.62,  98.45, 101.54,  97.42,\n",
       "        99.94, 101.26, 100.42,  95.67,  98.37, 100.87,  99.38,  98.06,\n",
       "       102.28, 101.25,  98.5 , 101.46,  96.45,  98.99,  99.03, 100.7 ,\n",
       "        99.45,  98.08, 100.75, 100.91,  99.79, 102.13,  98.13,  98.99,\n",
       "        98.36, 104.27, 100.81, 101.47, 100.65, 101.26,  98.78,  96.9 ,\n",
       "        98.97,  99.02, 101.1 ,  98.72, 102.06,  99.25,  99.25,  99.4 ,\n",
       "        98.19, 101.46, 102.11, 100.62, 102.51,  97.62, 100.69,  99.48,\n",
       "        99.81, 100.47,  99.4 , 100.31, 100.9 ,  94.08,  99.24,  98.61,\n",
       "        99.67, 101.22,  98.63, 100.79, 100.19,  99.38, 100.98, 100.16,\n",
       "        98.76,  99.02, 100.  ,  98.93,  97.82,  99.61,  97.98,  97.23,\n",
       "        98.93, 101.19,  98.54, 102.62, 101.3 , 100.89,  98.15,  99.71,\n",
       "        97.21, 100.88, 100.09,  98.96,  99.34,  97.49,  98.88,  99.19,\n",
       "        98.32,  99.21, 101.85,  99.28, 100.81, 102.59, 102.49,  99.67,\n",
       "        98.79,  99.63, 102.47,  98.8 , 101.83, 101.27,  96.57, 101.47,\n",
       "       101.51, 101.83, 102.49,  96.3 , 101.63, 101.1 ,  99.11,  99.41,\n",
       "       102.41,  97.56,  98.87, 101.86, 100.67,  97.06, 100.87, 101.93,\n",
       "        99.49, 101.23, 102.43, 101.97,  99.66, 101.  ,  99.99, 104.96,\n",
       "        96.71,  96.79, 100.42, 102.17, 100.57, 101.75, 100.04,  99.26,\n",
       "        98.79,  99.93, 100.06,  98.53,  98.32, 100.59,  98.65,  99.68,\n",
       "       100.79,  97.3 , 101.34,  99.93,  97.67, 104.77, 101.47, 102.05,\n",
       "       104.58,  96.97,  98.2 ,  96.78,  98.28, 103.87, 101.3 ,  97.54,\n",
       "       103.4 , 100.15,  97.41, 100.12,  99.64,  97.43, 100.94, 100.23,\n",
       "       101.58, 102.11, 102.81,  96.89,  96.67,  96.67,  99.77, 103.5 ,\n",
       "       100.5 , 100.58, 100.22,  98.86,  97.95, 104.01, 102.71, 100.21,\n",
       "        98.87,  96.54,  98.84,  99.22, 100.99,  96.31,  98.96,  98.22,\n",
       "        96.77, 100.99,  98.24, 100.63,  99.62,  97.45,  98.04,  97.43,\n",
       "        99.41, 100.88,  98.89,  97.99, 101.49,  99.67,  99.44,  97.89,\n",
       "       100.85, 100.7 ,  99.87, 102.77, 100.02, 101.13, 101.03, 100.76,\n",
       "       102.83,  99.53, 101.53, 102.72, 100.72, 102.16, 102.33, 100.42,\n",
       "        99.29, 101.49,  97.88,  99.3 , 103.72, 101.1 ,  97.98,  95.71,\n",
       "        97.79,  99.51, 102.95, 101.65, 100.15,  99.69, 101.35, 102.51,\n",
       "       102.14,  98.92,  99.4 , 102.21, 101.29,  99.28,  98.36,  98.66,\n",
       "        94.11,  98.36, 101.07,  98.44,  95.42, 101.14,  99.99,  98.8 ,\n",
       "       100.72,  99.23, 102.95,  99.51,  97.56, 100.77,  98.58,  98.5 ,\n",
       "       101.24, 102.81,  96.65,  94.3 ,  99.88,  98.64, 101.5 ,  99.67,\n",
       "       100.56, 101.12,  99.52,  99.5 ,  97.37, 100.35,  98.6 , 103.32,\n",
       "       100.18, 100.4 , 100.72,  97.46,  99.55,  99.15, 100.38, 103.98,\n",
       "        99.26, 104.98, 101.31,  98.31, 101.75,  97.78,  99.76,  99.7 ,\n",
       "       103.91,  98.23,  98.77, 101.2 ,  99.7 ,  99.35, 100.17,  99.83,\n",
       "        99.28,  98.36,  96.93, 103.52,  98.12, 100.31,  99.52,  98.82,\n",
       "       103.07,  97.81,  98.36, 100.15,  99.79, 102.46, 102.59, 103.27,\n",
       "        99.67, 102.21, 101.65,  95.11,  98.  , 101.19, 101.37, 102.43,\n",
       "        98.94,  95.61,  99.34, 101.65,  97.61, 100.7 , 102.24,  99.04,\n",
       "       102.32, 100.04,  99.19, 101.31,  98.65, 102.93,  98.56, 101.86,\n",
       "        97.95, 101.02, 103.35, 103.07, 100.49,  96.55,  99.7 ,  99.  ,\n",
       "       100.75, 100.11,  99.76, 103.49,  98.65, 100.5 , 100.66,  98.97,\n",
       "        95.51,  97.47, 100.78, 101.21, 101.  , 101.29, 102.25,  96.3 ,\n",
       "       104.17,  97.95, 100.81,  95.58,  99.77, 104.91, 100.23, 101.38,\n",
       "       104.67, 100.61, 102.02, 100.51, 103.03, 101.77, 101.23,  98.65,\n",
       "       105.41,  98.23,  99.66,  98.46,  97.76,  98.96,  99.47, 101.88,\n",
       "        97.98, 100.97, 103.03,  97.55, 100.4 , 100.03,  98.74,  99.57,\n",
       "       100.22, 101.43, 101.35, 103.99, 100.13,  98.77,  99.23,  95.65,\n",
       "       101.99, 100.78,  97.36,  97.28,  98.28,  99.59, 101.34, 101.53,\n",
       "       102.14,  99.36,  99.78, 100.7 ,  98.89,  99.85, 100.03,  98.88,\n",
       "        99.46,  99.61,  99.98,  98.68, 102.47,  99.91,  96.51,  99.43,\n",
       "        98.99,  99.28,  99.83,  99.4 , 102.93,  97.9 ,  94.48,  97.52,\n",
       "        99.99, 100.2 , 103.62,  97.03,  95.93,  98.66,  99.27, 101.49,\n",
       "        98.32,  99.62, 101.36,  98.89, 103.49,  96.47,  99.26, 102.49,\n",
       "       101.53, 102.21,  98.6 , 102.33, 100.96,  99.53, 100.87,  98.05,\n",
       "        99.87, 100.97,  98.21, 100.69, 101.26,  98.82, 101.04,  97.44,\n",
       "       100.92,  99.37, 102.28, 102.12, 102.02, 100.7 , 101.44,  99.41,\n",
       "        97.46,  99.5 , 102.18,  99.09, 100.98, 100.99, 100.84, 102.6 ,\n",
       "       102.2 ,  98.85, 101.21, 100.43, 100.25,  96.86,  99.76, 103.66,\n",
       "       101.02, 103.87, 100.64, 102.56,  97.09, 101.96, 100.61,  98.18,\n",
       "       102.13,  97.69, 103.92, 100.51,  97.26, 100.48, 101.04, 101.45,\n",
       "       101.18,  99.83, 100.76, 102.9 , 100.75, 101.42,  98.85,  97.39,\n",
       "       100.48,  98.72, 100.97,  99.9 ,  94.83, 102.83,  99.33, 104.43,\n",
       "        98.06,  98.85,  98.09, 100.67, 100.26, 101.95, 101.12,  99.28,\n",
       "       101.03,  99.84, 100.19,  98.09, 100.99, 100.24, 102.23,  96.77,\n",
       "       102.11, 100.59,  98.9 ,  98.18,  99.22,  97.29,  99.53, 101.06,\n",
       "        99.13,  98.41, 100.25, 100.82,  98.69,  99.53,  98.77, 102.29,\n",
       "        98.01, 100.47, 103.09,  97.56, 102.34,  97.46, 105.72, 100.09,\n",
       "        98.9 ,  99.46, 100.6 ,  96.84,  95.17,  98.56, 100.56, 102.79,\n",
       "       100.98, 101.5 , 103.83, 102.57,  97.1 , 100.46, 100.02, 100.94,\n",
       "        99.52, 101.89,  98.71,  99.39, 101.31,  99.23,  96.22,  97.56,\n",
       "       102.74,  99.  ,  99.9 , 100.83,  97.78,  99.4 ,  96.63, 100.19,\n",
       "        97.8 , 101.36, 101.83, 102.8 ,  97.98,  99.44, 100.12,  99.71,\n",
       "       101.4 ,  97.72,  98.13, 100.74, 100.22, 100.18,  99.27, 101.82,\n",
       "        97.71, 103.52, 101.17,  98.51, 101.76, 102.58,  99.38,  98.2 ,\n",
       "       100.86, 101.35, 103.92, 102.18, 101.34,  98.68, 100.36,  98.01,\n",
       "       101.37, 103.08,  98.97, 101.61,  97.88, 101.81, 100.04, 100.93,\n",
       "        98.91, 100.09,  99.44,  99.76, 101.92, 102.57, 100.28,  99.85,\n",
       "       102.17,  98.05, 101.6 ,  98.86,  97.06,  99.97, 103.43, 103.  ,\n",
       "       106.11,  99.37, 100.65, 101.52, 100.59, 100.94, 101.6 ,  99.61,\n",
       "        97.79,  98.85,  96.95,  96.62,  97.24,  96.83, 105.11,  99.49,\n",
       "       102.92, 102.17, 102.63, 104.09, 100.76,  99.97, 100.54,  98.84,\n",
       "       100.45,  98.15,  98.12, 104.52,  98.57,  97.19,  97.84, 100.8 ,\n",
       "        98.85,  99.62,  99.2 , 100.69,  98.87,  98.1 ,  97.06, 105.42,\n",
       "        98.46, 101.13, 102.78, 101.52,  97.38, 102.36,  99.45,  97.82,\n",
       "       100.65,  98.87, 100.03, 100.73, 100.84, 102.58,  98.68, 103.59,\n",
       "        97.66, 100.85, 101.93, 107.37, 101.07,  99.54, 102.3 , 101.34,\n",
       "        99.31,  99.97,  99.85, 100.2 ,  98.54,  99.15,  96.15,  99.33,\n",
       "       102.98, 100.57, 100.26, 100.15, 100.96, 101.71, 101.85,  99.93,\n",
       "        99.23,  99.7 , 105.62, 100.84,  98.26, 101.08,  98.84,  98.76,\n",
       "        97.77,  98.79, 100.13,  98.09, 100.77, 100.73,  98.08,  99.66,\n",
       "        96.44,  98.82, 101.66, 101.94,  99.41, 103.16,  99.72,  99.01,\n",
       "       101.66,  99.06, 102.06,  96.43,  99.49, 102.97,  99.13,  99.18,\n",
       "       101.63, 101.65, 101.89,  99.58,  96.31,  96.78,  98.88, 100.97,\n",
       "        99.25,  98.01,  98.88, 100.12,  98.46, 100.17,  98.86,  99.83,\n",
       "        95.74, 102.22, 104.35, 101.54, 102.79, 100.05,  97.59,  93.03,\n",
       "        98.54,  97.5 ,  99.4 , 102.29,  96.7 ,  99.42,  98.55, 101.44,\n",
       "       104.17, 102.15,  95.69, 101.4 ,  96.15,  98.32, 101.43,  98.5 ,\n",
       "       101.92, 101.61, 101.44,  95.86,  98.8 ,  99.8 , 100.07, 102.23,\n",
       "       100.76, 102.32,  99.85,  98.39, 101.63,  97.18, 100.57,  99.17,\n",
       "       104.  , 101.39, 102.33,  99.16,  98.17, 101.43,  99.5 , 100.78,\n",
       "        98.07,  99.64, 102.58,  97.84,  98.82,  99.76,  99.98, 103.06,\n",
       "        99.86, 100.98,  94.8 ,  96.4 , 101.36, 101.81, 100.7 , 100.77,\n",
       "        98.28,  99.08,  97.08,  96.7 ,  98.62,  97.79, 101.16,  99.34,\n",
       "        95.9 , 105.04,  95.14,  96.77,  98.2 , 100.61, 103.52, 102.88,\n",
       "        99.05, 102.37,  97.99, 102.66, 100.85, 101.83, 100.7 , 102.09,\n",
       "        97.09,  98.13, 104.2 , 100.71, 100.98,  97.93,  99.63,  94.72,\n",
       "       101.46, 101.1 , 101.27,  97.43, 100.7 ,  97.27, 101.86, 102.08,\n",
       "       100.36,  96.7 ,  98.33,  97.79, 105.29,  99.55, 100.94,  99.56,\n",
       "       101.37,  99.85, 100.44, 102.51,  99.8 ,  95.98,  99.37,  97.79,\n",
       "       101.39, 102.17,  97.27,  98.37,  98.29,  97.01, 101.19, 101.5 ,\n",
       "       102.51, 101.13,  98.14,  98.54,  99.43, 103.93,  98.89,  98.84,\n",
       "        99.11, 100.82,  97.71,  99.36, 102.21, 103.46, 100.56, 101.58,\n",
       "        98.1 , 101.85, 101.32,  97.72,  95.67, 102.55,  96.71, 100.15,\n",
       "        98.11,  97.02, 101.9 , 101.29,  99.46,  99.66, 100.01,  95.79,\n",
       "       100.19, 100.63,  99.5 ,  99.08, 102.36, 101.68,  97.9 ,  99.5 ,\n",
       "        96.3 ,  98.69, 105.31, 100.21, 100.75, 100.99, 101.49, 101.26,\n",
       "        96.69, 100.52, 101.56,  99.93, 102.43, 102.32, 101.32, 101.39])"
      ]
     },
     "execution_count": 7,
     "metadata": {},
     "output_type": "execute_result"
    }
   ],
   "source": [
    "mean = 100\n",
    "std = 2\n",
    "a = np.round(np.random.normal(mean, std, 1000),2)\n",
    "a"
   ]
  },
  {
   "cell_type": "code",
   "execution_count": 8,
   "id": "52c35892",
   "metadata": {},
   "outputs": [
    {
     "ename": "StopIteration",
     "evalue": "",
     "output_type": "error",
     "traceback": [
      "\u001b[0;31m---------------------------------------------------------------------------\u001b[0m",
      "\u001b[0;31mStopIteration\u001b[0m                             Traceback (most recent call last)",
      "Cell \u001b[0;32mIn [8], line 2\u001b[0m\n\u001b[1;32m      1\u001b[0m sns\u001b[38;5;241m.\u001b[39mset_theme(style \u001b[38;5;241m=\u001b[39m \u001b[38;5;124m'\u001b[39m\u001b[38;5;124mdarkgrid\u001b[39m\u001b[38;5;124m'\u001b[39m)\n\u001b[0;32m----> 2\u001b[0m \u001b[43msns\u001b[49m\u001b[38;5;241;43m.\u001b[39;49m\u001b[43mhistplot\u001b[49m\u001b[43m(\u001b[49m\u001b[43mx\u001b[49m\u001b[43m \u001b[49m\u001b[38;5;241;43m=\u001b[39;49m\u001b[43m \u001b[49m\u001b[43ma\u001b[49m\u001b[43m)\u001b[49m\n\u001b[1;32m      3\u001b[0m plt\u001b[38;5;241m.\u001b[39mshow()\n",
      "File \u001b[0;32m~/.local/lib/python3.8/site-packages/seaborn/distributions.py:1418\u001b[0m, in \u001b[0;36mhistplot\u001b[0;34m(data, x, y, hue, weights, stat, bins, binwidth, binrange, discrete, cumulative, common_bins, common_norm, multiple, element, fill, shrink, kde, kde_kws, line_kws, thresh, pthresh, pmax, cbar, cbar_ax, cbar_kws, palette, hue_order, hue_norm, color, log_scale, legend, ax, **kwargs)\u001b[0m\n\u001b[1;32m   1416\u001b[0m     \u001b[38;5;28;01melse\u001b[39;00m:\n\u001b[1;32m   1417\u001b[0m         method \u001b[38;5;241m=\u001b[39m ax\u001b[38;5;241m.\u001b[39mplot\n\u001b[0;32m-> 1418\u001b[0m     color \u001b[38;5;241m=\u001b[39m \u001b[43m_default_color\u001b[49m\u001b[43m(\u001b[49m\u001b[43mmethod\u001b[49m\u001b[43m,\u001b[49m\u001b[43m \u001b[49m\u001b[43mhue\u001b[49m\u001b[43m,\u001b[49m\u001b[43m \u001b[49m\u001b[43mcolor\u001b[49m\u001b[43m,\u001b[49m\u001b[43m \u001b[49m\u001b[43mkwargs\u001b[49m\u001b[43m)\u001b[49m\n\u001b[1;32m   1420\u001b[0m \u001b[38;5;28;01mif\u001b[39;00m \u001b[38;5;129;01mnot\u001b[39;00m p\u001b[38;5;241m.\u001b[39mhas_xy_data:\n\u001b[1;32m   1421\u001b[0m     \u001b[38;5;28;01mreturn\u001b[39;00m ax\n",
      "File \u001b[0;32m~/.local/lib/python3.8/site-packages/seaborn/utils.py:139\u001b[0m, in \u001b[0;36m_default_color\u001b[0;34m(method, hue, color, kws)\u001b[0m\n\u001b[1;32m    134\u001b[0m     scout\u001b[38;5;241m.\u001b[39mremove()\n\u001b[1;32m    136\u001b[0m \u001b[38;5;28;01melif\u001b[39;00m method\u001b[38;5;241m.\u001b[39m\u001b[38;5;18m__name__\u001b[39m \u001b[38;5;241m==\u001b[39m \u001b[38;5;124m\"\u001b[39m\u001b[38;5;124mbar\u001b[39m\u001b[38;5;124m\"\u001b[39m:\n\u001b[1;32m    137\u001b[0m \n\u001b[1;32m    138\u001b[0m     \u001b[38;5;66;03m# bar() needs masked, not empty data, to generate a patch\u001b[39;00m\n\u001b[0;32m--> 139\u001b[0m     scout, \u001b[38;5;241m=\u001b[39m \u001b[43mmethod\u001b[49m\u001b[43m(\u001b[49m\u001b[43m[\u001b[49m\u001b[43mnp\u001b[49m\u001b[38;5;241;43m.\u001b[39;49m\u001b[43mnan\u001b[49m\u001b[43m]\u001b[49m\u001b[43m,\u001b[49m\u001b[43m \u001b[49m\u001b[43m[\u001b[49m\u001b[43mnp\u001b[49m\u001b[38;5;241;43m.\u001b[39;49m\u001b[43mnan\u001b[49m\u001b[43m]\u001b[49m\u001b[43m,\u001b[49m\u001b[43m \u001b[49m\u001b[38;5;241;43m*\u001b[39;49m\u001b[38;5;241;43m*\u001b[39;49m\u001b[43mkws\u001b[49m\u001b[43m)\u001b[49m\n\u001b[1;32m    140\u001b[0m     color \u001b[38;5;241m=\u001b[39m to_rgb(scout\u001b[38;5;241m.\u001b[39mget_facecolor())\n\u001b[1;32m    141\u001b[0m     scout\u001b[38;5;241m.\u001b[39mremove()\n",
      "File \u001b[0;32m~/.local/lib/python3.8/site-packages/matplotlib/__init__.py:1423\u001b[0m, in \u001b[0;36m_preprocess_data.<locals>.inner\u001b[0;34m(ax, data, *args, **kwargs)\u001b[0m\n\u001b[1;32m   1420\u001b[0m \u001b[38;5;129m@functools\u001b[39m\u001b[38;5;241m.\u001b[39mwraps(func)\n\u001b[1;32m   1421\u001b[0m \u001b[38;5;28;01mdef\u001b[39;00m \u001b[38;5;21minner\u001b[39m(ax, \u001b[38;5;241m*\u001b[39margs, data\u001b[38;5;241m=\u001b[39m\u001b[38;5;28;01mNone\u001b[39;00m, \u001b[38;5;241m*\u001b[39m\u001b[38;5;241m*\u001b[39mkwargs):\n\u001b[1;32m   1422\u001b[0m     \u001b[38;5;28;01mif\u001b[39;00m data \u001b[38;5;129;01mis\u001b[39;00m \u001b[38;5;28;01mNone\u001b[39;00m:\n\u001b[0;32m-> 1423\u001b[0m         \u001b[38;5;28;01mreturn\u001b[39;00m \u001b[43mfunc\u001b[49m\u001b[43m(\u001b[49m\u001b[43max\u001b[49m\u001b[43m,\u001b[49m\u001b[43m \u001b[49m\u001b[38;5;241;43m*\u001b[39;49m\u001b[38;5;28;43mmap\u001b[39;49m\u001b[43m(\u001b[49m\u001b[43msanitize_sequence\u001b[49m\u001b[43m,\u001b[49m\u001b[43m \u001b[49m\u001b[43margs\u001b[49m\u001b[43m)\u001b[49m\u001b[43m,\u001b[49m\u001b[43m \u001b[49m\u001b[38;5;241;43m*\u001b[39;49m\u001b[38;5;241;43m*\u001b[39;49m\u001b[43mkwargs\u001b[49m\u001b[43m)\u001b[49m\n\u001b[1;32m   1425\u001b[0m     bound \u001b[38;5;241m=\u001b[39m new_sig\u001b[38;5;241m.\u001b[39mbind(ax, \u001b[38;5;241m*\u001b[39margs, \u001b[38;5;241m*\u001b[39m\u001b[38;5;241m*\u001b[39mkwargs)\n\u001b[1;32m   1426\u001b[0m     auto_label \u001b[38;5;241m=\u001b[39m (bound\u001b[38;5;241m.\u001b[39marguments\u001b[38;5;241m.\u001b[39mget(label_namer)\n\u001b[1;32m   1427\u001b[0m                   \u001b[38;5;129;01mor\u001b[39;00m bound\u001b[38;5;241m.\u001b[39mkwargs\u001b[38;5;241m.\u001b[39mget(label_namer))\n",
      "File \u001b[0;32m~/.local/lib/python3.8/site-packages/matplotlib/axes/_axes.py:2373\u001b[0m, in \u001b[0;36mAxes.bar\u001b[0;34m(self, x, height, width, bottom, align, **kwargs)\u001b[0m\n\u001b[1;32m   2371\u001b[0m x0 \u001b[38;5;241m=\u001b[39m x\n\u001b[1;32m   2372\u001b[0m x \u001b[38;5;241m=\u001b[39m np\u001b[38;5;241m.\u001b[39masarray(\u001b[38;5;28mself\u001b[39m\u001b[38;5;241m.\u001b[39mconvert_xunits(x))\n\u001b[0;32m-> 2373\u001b[0m width \u001b[38;5;241m=\u001b[39m \u001b[38;5;28;43mself\u001b[39;49m\u001b[38;5;241;43m.\u001b[39;49m\u001b[43m_convert_dx\u001b[49m\u001b[43m(\u001b[49m\u001b[43mwidth\u001b[49m\u001b[43m,\u001b[49m\u001b[43m \u001b[49m\u001b[43mx0\u001b[49m\u001b[43m,\u001b[49m\u001b[43m \u001b[49m\u001b[43mx\u001b[49m\u001b[43m,\u001b[49m\u001b[43m \u001b[49m\u001b[38;5;28;43mself\u001b[39;49m\u001b[38;5;241;43m.\u001b[39;49m\u001b[43mconvert_xunits\u001b[49m\u001b[43m)\u001b[49m\n\u001b[1;32m   2374\u001b[0m \u001b[38;5;28;01mif\u001b[39;00m xerr \u001b[38;5;129;01mis\u001b[39;00m \u001b[38;5;129;01mnot\u001b[39;00m \u001b[38;5;28;01mNone\u001b[39;00m:\n\u001b[1;32m   2375\u001b[0m     xerr \u001b[38;5;241m=\u001b[39m \u001b[38;5;28mself\u001b[39m\u001b[38;5;241m.\u001b[39m_convert_dx(xerr, x0, x, \u001b[38;5;28mself\u001b[39m\u001b[38;5;241m.\u001b[39mconvert_xunits)\n",
      "File \u001b[0;32m~/.local/lib/python3.8/site-packages/matplotlib/axes/_axes.py:2182\u001b[0m, in \u001b[0;36mAxes._convert_dx\u001b[0;34m(dx, x0, xconv, convert)\u001b[0m\n\u001b[1;32m   2170\u001b[0m \u001b[38;5;28;01mtry\u001b[39;00m:\n\u001b[1;32m   2171\u001b[0m     \u001b[38;5;66;03m# attempt to add the width to x0; this works for\u001b[39;00m\n\u001b[1;32m   2172\u001b[0m     \u001b[38;5;66;03m# datetime+timedelta, for instance\u001b[39;00m\n\u001b[0;32m   (...)\u001b[0m\n\u001b[1;32m   2179\u001b[0m     \u001b[38;5;66;03m# removes the units from unit packages like `pint` that\u001b[39;00m\n\u001b[1;32m   2180\u001b[0m     \u001b[38;5;66;03m# wrap numpy arrays.\u001b[39;00m\n\u001b[1;32m   2181\u001b[0m     \u001b[38;5;28;01mtry\u001b[39;00m:\n\u001b[0;32m-> 2182\u001b[0m         x0 \u001b[38;5;241m=\u001b[39m \u001b[43mcbook\u001b[49m\u001b[38;5;241;43m.\u001b[39;49m\u001b[43m_safe_first_finite\u001b[49m\u001b[43m(\u001b[49m\u001b[43mx0\u001b[49m\u001b[43m)\u001b[49m\n\u001b[1;32m   2183\u001b[0m     \u001b[38;5;28;01mexcept\u001b[39;00m (\u001b[38;5;167;01mTypeError\u001b[39;00m, \u001b[38;5;167;01mIndexError\u001b[39;00m, \u001b[38;5;167;01mKeyError\u001b[39;00m):\n\u001b[1;32m   2184\u001b[0m         \u001b[38;5;28;01mpass\u001b[39;00m\n",
      "File \u001b[0;32m~/.local/lib/python3.8/site-packages/matplotlib/cbook/__init__.py:1749\u001b[0m, in \u001b[0;36m_safe_first_finite\u001b[0;34m(obj, skip_nonfinite)\u001b[0m\n\u001b[1;32m   1746\u001b[0m     \u001b[38;5;28;01mraise\u001b[39;00m \u001b[38;5;167;01mRuntimeError\u001b[39;00m(\u001b[38;5;124m\"\u001b[39m\u001b[38;5;124mmatplotlib does not \u001b[39m\u001b[38;5;124m\"\u001b[39m\n\u001b[1;32m   1747\u001b[0m                        \u001b[38;5;124m\"\u001b[39m\u001b[38;5;124msupport generators as input\u001b[39m\u001b[38;5;124m\"\u001b[39m)\n\u001b[1;32m   1748\u001b[0m \u001b[38;5;28;01melse\u001b[39;00m:\n\u001b[0;32m-> 1749\u001b[0m     \u001b[38;5;28;01mreturn\u001b[39;00m \u001b[38;5;28;43mnext\u001b[39;49m\u001b[43m(\u001b[49m\u001b[43mval\u001b[49m\u001b[43m \u001b[49m\u001b[38;5;28;43;01mfor\u001b[39;49;00m\u001b[43m \u001b[49m\u001b[43mval\u001b[49m\u001b[43m \u001b[49m\u001b[38;5;129;43;01min\u001b[39;49;00m\u001b[43m \u001b[49m\u001b[43mobj\u001b[49m\u001b[43m \u001b[49m\u001b[38;5;28;43;01mif\u001b[39;49;00m\u001b[43m \u001b[49m\u001b[43msafe_isfinite\u001b[49m\u001b[43m(\u001b[49m\u001b[43mval\u001b[49m\u001b[43m)\u001b[49m\u001b[43m)\u001b[49m\n",
      "\u001b[0;31mStopIteration\u001b[0m: "
     ]
    },
    {
     "data": {
      "image/png": "[encoded data removed]",
      "text/plain": [
       "<Figure size 640x480 with 1 Axes>"
      ]
     },
     "metadata": {},
     "output_type": "display_data"
    }
   ],
   "source": [
    "sns.set_theme(style = 'darkgrid')\n",
    "sns.histplot(x = a)\n",
    "plt.show()"
   ]
  },
  {
   "cell_type": "code",
   "execution_count": null,
   "id": "b398b83e",
   "metadata": {},
   "outputs": [],
   "source": [
    "mean = 100\n",
    "std = 2\n",
    "b = np.round(np.random.normal(mean, std, 100000),2)\n",
    "b"
   ]
  },
  {
   "cell_type": "code",
   "execution_count": null,
   "id": "65bc4c5e",
   "metadata": {},
   "outputs": [],
   "source": [
    "sns.set_theme(style = 'darkgrid')\n",
    "sns.histplot(x = b, kde = True)\n",
    "plt.show()"
   ]
  },
  {
   "cell_type": "code",
   "execution_count": 17,
   "id": "c6a333f0",
   "metadata": {},
   "outputs": [
    {
     "data": {
      "text/plain": [
       "68493"
      ]
     },
     "execution_count": 17,
     "metadata": {},
     "output_type": "execute_result"
    }
   ],
   "source": [
    "sum((b > 98) & (b < 102))"
   ]
  },
  {
   "cell_type": "code",
   "execution_count": 21,
   "id": "12574fdb",
   "metadata": {},
   "outputs": [
    {
     "data": {
      "text/plain": [
       "95415"
      ]
     },
     "execution_count": 21,
     "metadata": {},
     "output_type": "execute_result"
    }
   ],
   "source": [
    "sum((b > 96) & ( b < 104))"
   ]
  },
  {
   "cell_type": "code",
   "execution_count": 20,
   "id": "40b967e8",
   "metadata": {},
   "outputs": [
    {
     "data": {
      "text/plain": [
       "99719"
      ]
     },
     "execution_count": 20,
     "metadata": {},
     "output_type": "execute_result"
    }
   ],
   "source": [
    "sum((b > 94) & ( b < 106))"
   ]
  }
 ],
 "metadata": {
  "kernelspec": {
   "display_name": "Python 3 (ipykernel)",
   "language": "python",
   "name": "python3"
  },
  "language_info": {
   "codemirror_mode": {
    "name": "ipython",
    "version": 3
   },
   "file_extension": ".py",
   "mimetype": "text/x-python",
   "name": "python",
   "nbconvert_exporter": "python",
   "pygments_lexer": "ipython3",
   "version": "3.8.10"
  }
 },
 "nbformat": 4,
 "nbformat_minor": 5
}
