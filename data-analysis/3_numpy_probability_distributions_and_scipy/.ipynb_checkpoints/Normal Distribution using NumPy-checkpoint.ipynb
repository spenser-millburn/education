{
 "cells": [
  {
   "cell_type": "code",
   "execution_count": 3,
   "id": "8a9700f4",
   "metadata": {},
   "outputs": [],
   "source": [
    "import numpy as np\n",
    "import matplotlib.pyplot as plt\n",
    "import seaborn as sns"
   ]
  },
  {
   "cell_type": "code",
   "execution_count": 4,
   "id": "1a25d7e9",
   "metadata": {},
   "outputs": [
    {
     "data": {
      "text/plain": [
       "array([102.33, 100.93,  97.53,  97.09, 103.15,  96.1 , 100.64, 101.6 ,\n",
       "        99.58, 100.89, 101.59,  98.94,  97.51, 101.83, 102.83, 102.1 ,\n",
       "       102.53,  97.62,  98.33,  98.8 ,  98.53,  98.27,  98.68, 100.21,\n",
       "        98.39, 101.14,  97.89,  98.83,  98.89,  97.52, 103.55, 102.48,\n",
       "        99.29, 101.13,  99.59, 105.19, 101.4 , 100.05,  99.16,  99.94,\n",
       "        97.83,  99.38,  96.54, 101.3 ,  96.82, 100.86,  98.24,  97.78,\n",
       "        99.83, 100.89, 101.04,  99.43, 101.12, 101.27,  99.  ,  98.21,\n",
       "        98.8 ,  97.9 , 102.56, 102.01, 100.12, 104.77,  99.38,  98.53,\n",
       "       101.44,  99.01,  99.29,  97.28,  98.92,  99.01, 101.92, 100.84,\n",
       "       100.9 ,  99.86, 100.61, 101.76,  99.97,  99.94, 100.39, 102.98,\n",
       "       101.18,  99.13, 102.28,  98.94,  97.98,  98.41, 100.35, 100.92,\n",
       "       102.86,  99.99,  98.14,  96.99, 100.5 , 100.97, 100.39,  99.56,\n",
       "        98.63, 102.38,  97.34, 100.05, 100.79,  99.67,  98.93, 100.81,\n",
       "        99.22, 101.57,  99.98, 101.33,  99.76, 102.33, 102.61,  98.98,\n",
       "        97.26, 101.54,  99.78, 100.7 , 103.8 , 103.2 ,  99.07,  99.29,\n",
       "       101.85, 100.18, 100.55, 101.56,  98.85,  94.82, 103.16,  95.84,\n",
       "       102.59,  97.67,  99.04, 101.61, 100.8 , 103.32, 100.24,  96.85,\n",
       "        98.18,  99.8 , 100.  ,  99.54, 101.92, 100.1 ,  97.51,  98.2 ,\n",
       "        98.65, 101.85,  97.9 ,  98.39,  98.92, 102.74, 101.45,  98.93,\n",
       "       102.1 ,  99.38,  98.09,  98.16,  96.81,  99.09,  98.23,  98.47,\n",
       "        99.4 ,  96.31, 101.85,  98.89, 100.36, 100.59, 102.35, 101.01,\n",
       "        98.6 ,  97.9 , 100.29,  96.91, 100.94,  99.12,  99.  , 100.45,\n",
       "       100.87,  98.64, 101.02,  98.47, 100.87,  99.46, 100.18,  98.18,\n",
       "       103.32,  96.95, 100.44,  98.45,  98.55, 101.58, 100.52, 101.15,\n",
       "        99.52, 101.52, 100.03, 100.82,  99.65, 101.23, 101.39, 102.28,\n",
       "       103.26, 103.05,  99.2 ,  99.48, 101.24, 104.18,  97.95, 102.18,\n",
       "        99.63, 100.32, 100.64, 100.49,  99.96,  99.81,  99.19,  98.17,\n",
       "       100.36, 101.65,  98.9 ,  98.53, 100.42, 102.5 , 100.49, 100.73,\n",
       "       104.18,  97.1 , 102.81, 104.25, 101.23, 100.56, 101.96,  97.79,\n",
       "        97.63, 100.04, 101.43,  97.48,  98.6 ,  98.33, 101.99,  98.53,\n",
       "       101.75, 100.68,  98.53, 101.88,  97.84, 100.93,  97.79, 100.57,\n",
       "       101.57, 102.89, 101.79,  98.83, 102.31, 100.96,  97.84,  99.12,\n",
       "       100.08,  99.19,  98.94,  99.24, 100.52,  96.53,  98.88,  98.23,\n",
       "        98.87, 103.25, 100.95,  98.28,  99.68,  97.4 , 102.11, 100.82,\n",
       "       103.22, 102.74, 101.81, 100.73, 101.74, 100.68, 100.78,  99.66,\n",
       "       101.09, 101.36, 103.85, 102.09,  99.95,  99.22, 100.42,  98.  ,\n",
       "       100.59,  98.  ,  97.81, 100.68, 101.88,  97.04,  99.43, 100.39,\n",
       "       100.11, 100.94,  98.2 , 103.34,  99.51, 101.5 ,  99.39,  96.83,\n",
       "        98.81,  98.79,  99.68, 102.08, 100.65, 101.04,  99.26,  99.04,\n",
       "       102.86,  99.77, 100.16, 100.77,  97.66, 101.02, 100.37, 102.24,\n",
       "        97.51,  93.96, 100.8 , 102.05,  97.48,  97.26,  98.73,  97.48,\n",
       "        99.11, 102.35,  99.58, 101.72,  97.7 ,  99.52,  96.94,  97.26,\n",
       "       101.46, 100.48, 101.66,  98.12,  98.34, 100.11, 102.39,  98.18,\n",
       "       101.19, 101.46, 103.07, 101.99,  98.21,  97.59, 101.2 ,  97.92,\n",
       "       103.09, 100.27, 100.02,  99.26,  99.52,  98.44,  95.16, 101.27,\n",
       "        98.38,  98.11, 100.26,  99.37,  97.24, 103.07, 102.09, 101.88,\n",
       "       101.56, 100.63,  99.52, 101.16,  98.74,  99.81, 100.95,  94.79,\n",
       "        99.13,  98.05, 103.91, 101.64, 103.46, 100.05, 102.25,  95.59,\n",
       "        99.57, 102.95, 102.71, 100.97, 100.08,  98.76,  98.2 ,  98.13,\n",
       "       100.38,  99.22,  96.6 , 100.45,  99.92, 100.49, 101.4 ,  98.72,\n",
       "        99.7 ,  95.17,  99.5 ,  99.31, 101.24, 102.64, 100.98, 101.93,\n",
       "       100.45,  97.79, 100.66, 100.83,  98.89,  97.88,  98.3 , 103.54,\n",
       "       102.39,  99.17,  99.  , 103.13, 102.34,  99.65, 101.09, 102.36,\n",
       "        98.25, 100.64,  97.47, 100.28, 103.84, 104.09,  99.73, 103.61,\n",
       "       101.65,  99.75, 101.75, 101.37,  98.05, 100.55, 100.36,  97.95,\n",
       "       101.17, 100.33,  97.47,  99.11,  99.21, 100.05, 100.92, 100.84,\n",
       "        98.46,  97.36,  99.22,  98.02, 101.66,  99.39,  98.27, 100.23,\n",
       "        97.95, 100.02,  98.39, 103.5 ,  98.56, 102.98,  97.39, 101.82,\n",
       "       100.82,  96.17, 100.7 , 101.61, 102.82, 100.02,  98.35, 101.59,\n",
       "       103.31,  98.23, 103.1 ,  97.67, 101.68, 103.02, 101.52, 101.07,\n",
       "       100.24, 101.67, 101.5 ,  98.51,  99.24,  97.56, 100.3 ,  97.15,\n",
       "        98.62,  98.39, 100.44, 102.77, 100.36, 101.71, 102.81,  97.96,\n",
       "        95.08,  97.67, 102.63, 102.21, 102.18,  98.77,  99.97,  99.07,\n",
       "        99.34,  99.39, 100.55, 101.96, 103.6 ,  98.77,  98.26,  97.08,\n",
       "        99.39,  99.15, 101.4 ,  97.42, 101.36,  99.86, 101.32,  98.92,\n",
       "       101.02, 103.35,  99.92, 100.76, 100.  ,  96.42,  98.56,  98.86,\n",
       "       100.96,  97.58,  99.93, 101.19, 102.2 ,  98.86, 104.67,  97.31,\n",
       "        98.  , 100.34, 101.1 ,  98.64, 100.14, 102.26, 101.27,  98.02,\n",
       "       103.01, 101.14,  97.48,  98.83, 100.79,  98.93, 101.38, 101.17,\n",
       "        96.87,  99.63,  97.59, 100.26, 102.74, 101.71, 102.24,  98.61,\n",
       "        99.14, 100.3 ,  99.36, 101.65, 100.59,  99.31, 102.65, 100.51,\n",
       "        96.37, 101.11,  99.96,  98.99,  97.27,  99.48,  98.83,  99.93,\n",
       "        98.53, 103.08, 104.23,  97.63, 103.07,  99.9 , 100.11,  99.39,\n",
       "        99.91, 100.15, 100.86, 103.56,  98.89,  99.62,  98.58, 100.5 ,\n",
       "        99.82,  97.09,  96.87,  97.49, 102.6 ,  98.67, 102.29,  99.02,\n",
       "       100.8 ,  97.79,  98.46,  97.51,  97.78, 101.56,  99.84, 101.67,\n",
       "        99.73,  99.2 , 102.26, 100.83, 100.23,  98.36,  99.81, 101.28,\n",
       "        97.73,  99.72,  99.28,  97.38,  98.04, 101.01, 102.56,  95.11,\n",
       "       102.5 , 100.59, 100.38, 100.64,  95.51, 100.43,  97.35, 100.35,\n",
       "        99.37,  98.21, 100.24, 100.18,  99.09,  98.63,  97.97, 100.52,\n",
       "       102.29,  96.64,  99.63,  97.14, 100.78,  99.1 , 104.73, 101.55,\n",
       "       102.71,  97.83,  99.88, 101.59,  99.86, 102.53, 102.58, 100.34,\n",
       "        99.81,  98.95,  94.5 ,  99.84, 100.28, 102.48,  98.24, 100.33,\n",
       "       101.21, 102.81,  96.56, 100.98, 100.98, 100.12, 100.07, 101.76,\n",
       "        99.13, 102.91, 102.03,  97.47, 100.  , 100.57,  96.77,  98.19,\n",
       "       100.01, 101.6 , 102.01,  98.79,  97.97,  98.23, 100.9 ,  98.38,\n",
       "        98.99,  96.86,  99.4 , 101.21, 103.  , 100.82, 101.05, 101.58,\n",
       "        96.93,  98.35, 100.3 , 101.52,  98.56,  98.83, 103.57, 101.32,\n",
       "        99.94,  98.74, 102.14, 100.47, 101.52,  99.37, 100.59,  98.14,\n",
       "       102.56,  99.77,  98.8 ,  98.3 , 101.08, 101.23,  98.74, 103.13,\n",
       "        97.47,  98.95,  99.34, 100.96, 100.89, 100.77, 100.77,  97.58,\n",
       "        95.34,  99.06, 100.51, 102.04,  99.01, 103.04, 103.39, 102.22,\n",
       "       102.8 , 105.44, 104.68, 101.96,  98.3 , 101.26, 100.71, 103.8 ,\n",
       "       100.76,  99.34, 102.56,  97.65,  99.26,  99.7 ,  99.44,  98.3 ,\n",
       "       104.26, 100.33,  97.19,  95.66, 100.28,  98.8 ,  97.16, 102.39,\n",
       "        99.07,  96.87,  99.96, 100.25, 102.17, 103.83, 102.25,  99.19,\n",
       "       103.72,  95.98, 101.7 , 100.18, 102.02, 101.58,  97.56,  98.3 ,\n",
       "        99.32,  99.19, 102.06, 101.41, 101.52,  95.79, 102.92, 100.19,\n",
       "        96.25,  98.65, 100.87, 101.63,  98.33, 104.75, 100.21,  98.96,\n",
       "       101.86,  99.34,  97.38,  99.16,  96.93,  97.17,  97.06, 101.85,\n",
       "       106.09,  99.1 , 101.92,  99.45, 100.01, 100.87,  97.95, 102.33,\n",
       "        99.06,  95.87,  99.67, 100.01, 103.02, 100.68,  99.48,  98.34,\n",
       "        99.51,  98.3 , 104.02, 103.06,  94.45, 100.5 , 102.05, 100.1 ,\n",
       "       100.76, 100.34, 100.24,  99.86, 101.67,  99.95, 101.46,  99.05,\n",
       "       103.94, 100.98,  97.78, 103.28,  97.79,  97.82, 102.1 , 103.88,\n",
       "        99.32,  98.72,  99.57, 100.59,  98.66,  97.7 , 100.31, 100.42,\n",
       "       101.31,  99.86,  97.66, 101.65, 103.05, 101.56, 101.88, 101.21,\n",
       "       101.94, 100.22, 101.66, 102.71,  99.54, 103.41, 103.03,  99.84,\n",
       "        99.01,  98.72,  97.15, 100.77, 102.06, 100.09,  98.85, 104.9 ,\n",
       "        96.99,  95.41, 100.84,  99.77,  99.55,  99.79, 100.26,  99.06,\n",
       "        99.74,  97.9 ,  99.37, 100.36,  99.17,  98.77, 101.42, 102.04,\n",
       "       100.52,  96.16, 104.09,  96.75, 100.04,  95.37, 101.82,  96.73,\n",
       "       100.2 , 101.92, 105.08,  98.84,  99.61, 102.76,  97.78,  97.73,\n",
       "        94.05,  95.59, 102.62, 101.58, 101.1 , 100.61, 103.06,  98.67,\n",
       "        99.53, 100.45, 104.25,  96.43,  99.72, 100.06,  98.2 , 100.68,\n",
       "       100.01, 102.72,  98.41, 100.09, 101.68,  98.79,  99.71, 102.12,\n",
       "       100.59, 100.55, 102.21,  97.31, 100.13, 101.11, 103.31, 100.94,\n",
       "       100.78,  98.74, 100.26, 102.34, 101.02, 100.04,  98.89, 102.54,\n",
       "       101.96,  99.63,  97.02, 101.07, 101.4 ,  99.04,  99.4 , 102.24,\n",
       "       101.71,  99.93, 103.86, 102.07, 100.19,  99.31, 100.58, 103.87,\n",
       "       100.73,  96.78, 101.53,  99.46,  99.71, 102.17,  98.04, 101.99,\n",
       "        97.26, 101.11,  99.71,  97.96,  98.94, 102.62, 101.47,  99.35,\n",
       "        96.13, 100.97, 100.42, 100.22, 102.19,  99.94, 100.55,  99.56,\n",
       "       102.03,  99.58, 101.93,  98.94,  99.38, 102.48, 100.37, 101.28,\n",
       "       100.5 ,  99.37, 102.38,  99.92, 100.87, 103.08, 101.35,  99.02])"
      ]
     },
     "execution_count": 4,
     "metadata": {},
     "output_type": "execute_result"
    }
   ],
   "source": [
    "mean = 100\n",
    "std = 2\n",
    "a = np.round(np.random.normal(mean, std, 1000),2)\n",
    "a"
   ]
  },
  {
   "cell_type": "code",
   "execution_count": 6,
   "id": "52c35892",
   "metadata": {},
   "outputs": [
    {
     "ename": "StopIteration",
     "evalue": "",
     "output_type": "error",
     "traceback": [
      "\u001b[0;31m---------------------------------------------------------------------------\u001b[0m",
      "\u001b[0;31mStopIteration\u001b[0m                             Traceback (most recent call last)",
      "Cell \u001b[0;32mIn [6], line 2\u001b[0m\n\u001b[1;32m      1\u001b[0m sns\u001b[38;5;241m.\u001b[39mset_theme(style \u001b[38;5;241m=\u001b[39m \u001b[38;5;124m'\u001b[39m\u001b[38;5;124mdarkgrid\u001b[39m\u001b[38;5;124m'\u001b[39m)\n\u001b[0;32m----> 2\u001b[0m \u001b[43msns\u001b[49m\u001b[38;5;241;43m.\u001b[39;49m\u001b[43mhistplot\u001b[49m\u001b[43m(\u001b[49m\u001b[43mx\u001b[49m\u001b[43m \u001b[49m\u001b[38;5;241;43m=\u001b[39;49m\u001b[43m \u001b[49m\u001b[43ma\u001b[49m\u001b[43m)\u001b[49m\n\u001b[1;32m      3\u001b[0m plt\u001b[38;5;241m.\u001b[39mshow()\n",
      "File \u001b[0;32m~/.local/lib/python3.8/site-packages/seaborn/distributions.py:1418\u001b[0m, in \u001b[0;36mhistplot\u001b[0;34m(data, x, y, hue, weights, stat, bins, binwidth, binrange, discrete, cumulative, common_bins, common_norm, multiple, element, fill, shrink, kde, kde_kws, line_kws, thresh, pthresh, pmax, cbar, cbar_ax, cbar_kws, palette, hue_order, hue_norm, color, log_scale, legend, ax, **kwargs)\u001b[0m\n\u001b[1;32m   1416\u001b[0m     \u001b[38;5;28;01melse\u001b[39;00m:\n\u001b[1;32m   1417\u001b[0m         method \u001b[38;5;241m=\u001b[39m ax\u001b[38;5;241m.\u001b[39mplot\n\u001b[0;32m-> 1418\u001b[0m     color \u001b[38;5;241m=\u001b[39m \u001b[43m_default_color\u001b[49m\u001b[43m(\u001b[49m\u001b[43mmethod\u001b[49m\u001b[43m,\u001b[49m\u001b[43m \u001b[49m\u001b[43mhue\u001b[49m\u001b[43m,\u001b[49m\u001b[43m \u001b[49m\u001b[43mcolor\u001b[49m\u001b[43m,\u001b[49m\u001b[43m \u001b[49m\u001b[43mkwargs\u001b[49m\u001b[43m)\u001b[49m\n\u001b[1;32m   1420\u001b[0m \u001b[38;5;28;01mif\u001b[39;00m \u001b[38;5;129;01mnot\u001b[39;00m p\u001b[38;5;241m.\u001b[39mhas_xy_data:\n\u001b[1;32m   1421\u001b[0m     \u001b[38;5;28;01mreturn\u001b[39;00m ax\n",
      "File \u001b[0;32m~/.local/lib/python3.8/site-packages/seaborn/utils.py:139\u001b[0m, in \u001b[0;36m_default_color\u001b[0;34m(method, hue, color, kws)\u001b[0m\n\u001b[1;32m    134\u001b[0m     scout\u001b[38;5;241m.\u001b[39mremove()\n\u001b[1;32m    136\u001b[0m \u001b[38;5;28;01melif\u001b[39;00m method\u001b[38;5;241m.\u001b[39m\u001b[38;5;18m__name__\u001b[39m \u001b[38;5;241m==\u001b[39m \u001b[38;5;124m\"\u001b[39m\u001b[38;5;124mbar\u001b[39m\u001b[38;5;124m\"\u001b[39m:\n\u001b[1;32m    137\u001b[0m \n\u001b[1;32m    138\u001b[0m     \u001b[38;5;66;03m# bar() needs masked, not empty data, to generate a patch\u001b[39;00m\n\u001b[0;32m--> 139\u001b[0m     scout, \u001b[38;5;241m=\u001b[39m \u001b[43mmethod\u001b[49m\u001b[43m(\u001b[49m\u001b[43m[\u001b[49m\u001b[43mnp\u001b[49m\u001b[38;5;241;43m.\u001b[39;49m\u001b[43mnan\u001b[49m\u001b[43m]\u001b[49m\u001b[43m,\u001b[49m\u001b[43m \u001b[49m\u001b[43m[\u001b[49m\u001b[43mnp\u001b[49m\u001b[38;5;241;43m.\u001b[39;49m\u001b[43mnan\u001b[49m\u001b[43m]\u001b[49m\u001b[43m,\u001b[49m\u001b[43m \u001b[49m\u001b[38;5;241;43m*\u001b[39;49m\u001b[38;5;241;43m*\u001b[39;49m\u001b[43mkws\u001b[49m\u001b[43m)\u001b[49m\n\u001b[1;32m    140\u001b[0m     color \u001b[38;5;241m=\u001b[39m to_rgb(scout\u001b[38;5;241m.\u001b[39mget_facecolor())\n\u001b[1;32m    141\u001b[0m     scout\u001b[38;5;241m.\u001b[39mremove()\n",
      "File \u001b[0;32m~/.local/lib/python3.8/site-packages/matplotlib/__init__.py:1423\u001b[0m, in \u001b[0;36m_preprocess_data.<locals>.inner\u001b[0;34m(ax, data, *args, **kwargs)\u001b[0m\n\u001b[1;32m   1420\u001b[0m \u001b[38;5;129m@functools\u001b[39m\u001b[38;5;241m.\u001b[39mwraps(func)\n\u001b[1;32m   1421\u001b[0m \u001b[38;5;28;01mdef\u001b[39;00m \u001b[38;5;21minner\u001b[39m(ax, \u001b[38;5;241m*\u001b[39margs, data\u001b[38;5;241m=\u001b[39m\u001b[38;5;28;01mNone\u001b[39;00m, \u001b[38;5;241m*\u001b[39m\u001b[38;5;241m*\u001b[39mkwargs):\n\u001b[1;32m   1422\u001b[0m     \u001b[38;5;28;01mif\u001b[39;00m data \u001b[38;5;129;01mis\u001b[39;00m \u001b[38;5;28;01mNone\u001b[39;00m:\n\u001b[0;32m-> 1423\u001b[0m         \u001b[38;5;28;01mreturn\u001b[39;00m \u001b[43mfunc\u001b[49m\u001b[43m(\u001b[49m\u001b[43max\u001b[49m\u001b[43m,\u001b[49m\u001b[43m \u001b[49m\u001b[38;5;241;43m*\u001b[39;49m\u001b[38;5;28;43mmap\u001b[39;49m\u001b[43m(\u001b[49m\u001b[43msanitize_sequence\u001b[49m\u001b[43m,\u001b[49m\u001b[43m \u001b[49m\u001b[43margs\u001b[49m\u001b[43m)\u001b[49m\u001b[43m,\u001b[49m\u001b[43m \u001b[49m\u001b[38;5;241;43m*\u001b[39;49m\u001b[38;5;241;43m*\u001b[39;49m\u001b[43mkwargs\u001b[49m\u001b[43m)\u001b[49m\n\u001b[1;32m   1425\u001b[0m     bound \u001b[38;5;241m=\u001b[39m new_sig\u001b[38;5;241m.\u001b[39mbind(ax, \u001b[38;5;241m*\u001b[39margs, \u001b[38;5;241m*\u001b[39m\u001b[38;5;241m*\u001b[39mkwargs)\n\u001b[1;32m   1426\u001b[0m     auto_label \u001b[38;5;241m=\u001b[39m (bound\u001b[38;5;241m.\u001b[39marguments\u001b[38;5;241m.\u001b[39mget(label_namer)\n\u001b[1;32m   1427\u001b[0m                   \u001b[38;5;129;01mor\u001b[39;00m bound\u001b[38;5;241m.\u001b[39mkwargs\u001b[38;5;241m.\u001b[39mget(label_namer))\n",
      "File \u001b[0;32m~/.local/lib/python3.8/site-packages/matplotlib/axes/_axes.py:2373\u001b[0m, in \u001b[0;36mAxes.bar\u001b[0;34m(self, x, height, width, bottom, align, **kwargs)\u001b[0m\n\u001b[1;32m   2371\u001b[0m x0 \u001b[38;5;241m=\u001b[39m x\n\u001b[1;32m   2372\u001b[0m x \u001b[38;5;241m=\u001b[39m np\u001b[38;5;241m.\u001b[39masarray(\u001b[38;5;28mself\u001b[39m\u001b[38;5;241m.\u001b[39mconvert_xunits(x))\n\u001b[0;32m-> 2373\u001b[0m width \u001b[38;5;241m=\u001b[39m \u001b[38;5;28;43mself\u001b[39;49m\u001b[38;5;241;43m.\u001b[39;49m\u001b[43m_convert_dx\u001b[49m\u001b[43m(\u001b[49m\u001b[43mwidth\u001b[49m\u001b[43m,\u001b[49m\u001b[43m \u001b[49m\u001b[43mx0\u001b[49m\u001b[43m,\u001b[49m\u001b[43m \u001b[49m\u001b[43mx\u001b[49m\u001b[43m,\u001b[49m\u001b[43m \u001b[49m\u001b[38;5;28;43mself\u001b[39;49m\u001b[38;5;241;43m.\u001b[39;49m\u001b[43mconvert_xunits\u001b[49m\u001b[43m)\u001b[49m\n\u001b[1;32m   2374\u001b[0m \u001b[38;5;28;01mif\u001b[39;00m xerr \u001b[38;5;129;01mis\u001b[39;00m \u001b[38;5;129;01mnot\u001b[39;00m \u001b[38;5;28;01mNone\u001b[39;00m:\n\u001b[1;32m   2375\u001b[0m     xerr \u001b[38;5;241m=\u001b[39m \u001b[38;5;28mself\u001b[39m\u001b[38;5;241m.\u001b[39m_convert_dx(xerr, x0, x, \u001b[38;5;28mself\u001b[39m\u001b[38;5;241m.\u001b[39mconvert_xunits)\n",
      "File \u001b[0;32m~/.local/lib/python3.8/site-packages/matplotlib/axes/_axes.py:2182\u001b[0m, in \u001b[0;36mAxes._convert_dx\u001b[0;34m(dx, x0, xconv, convert)\u001b[0m\n\u001b[1;32m   2170\u001b[0m \u001b[38;5;28;01mtry\u001b[39;00m:\n\u001b[1;32m   2171\u001b[0m     \u001b[38;5;66;03m# attempt to add the width to x0; this works for\u001b[39;00m\n\u001b[1;32m   2172\u001b[0m     \u001b[38;5;66;03m# datetime+timedelta, for instance\u001b[39;00m\n\u001b[0;32m   (...)\u001b[0m\n\u001b[1;32m   2179\u001b[0m     \u001b[38;5;66;03m# removes the units from unit packages like `pint` that\u001b[39;00m\n\u001b[1;32m   2180\u001b[0m     \u001b[38;5;66;03m# wrap numpy arrays.\u001b[39;00m\n\u001b[1;32m   2181\u001b[0m     \u001b[38;5;28;01mtry\u001b[39;00m:\n\u001b[0;32m-> 2182\u001b[0m         x0 \u001b[38;5;241m=\u001b[39m \u001b[43mcbook\u001b[49m\u001b[38;5;241;43m.\u001b[39;49m\u001b[43m_safe_first_finite\u001b[49m\u001b[43m(\u001b[49m\u001b[43mx0\u001b[49m\u001b[43m)\u001b[49m\n\u001b[1;32m   2183\u001b[0m     \u001b[38;5;28;01mexcept\u001b[39;00m (\u001b[38;5;167;01mTypeError\u001b[39;00m, \u001b[38;5;167;01mIndexError\u001b[39;00m, \u001b[38;5;167;01mKeyError\u001b[39;00m):\n\u001b[1;32m   2184\u001b[0m         \u001b[38;5;28;01mpass\u001b[39;00m\n",
      "File \u001b[0;32m~/.local/lib/python3.8/site-packages/matplotlib/cbook/__init__.py:1749\u001b[0m, in \u001b[0;36m_safe_first_finite\u001b[0;34m(obj, skip_nonfinite)\u001b[0m\n\u001b[1;32m   1746\u001b[0m     \u001b[38;5;28;01mraise\u001b[39;00m \u001b[38;5;167;01mRuntimeError\u001b[39;00m(\u001b[38;5;124m\"\u001b[39m\u001b[38;5;124mmatplotlib does not \u001b[39m\u001b[38;5;124m\"\u001b[39m\n\u001b[1;32m   1747\u001b[0m                        \u001b[38;5;124m\"\u001b[39m\u001b[38;5;124msupport generators as input\u001b[39m\u001b[38;5;124m\"\u001b[39m)\n\u001b[1;32m   1748\u001b[0m \u001b[38;5;28;01melse\u001b[39;00m:\n\u001b[0;32m-> 1749\u001b[0m     \u001b[38;5;28;01mreturn\u001b[39;00m \u001b[38;5;28;43mnext\u001b[39;49m\u001b[43m(\u001b[49m\u001b[43mval\u001b[49m\u001b[43m \u001b[49m\u001b[38;5;28;43;01mfor\u001b[39;49;00m\u001b[43m \u001b[49m\u001b[43mval\u001b[49m\u001b[43m \u001b[49m\u001b[38;5;129;43;01min\u001b[39;49;00m\u001b[43m \u001b[49m\u001b[43mobj\u001b[49m\u001b[43m \u001b[49m\u001b[38;5;28;43;01mif\u001b[39;49;00m\u001b[43m \u001b[49m\u001b[43msafe_isfinite\u001b[49m\u001b[43m(\u001b[49m\u001b[43mval\u001b[49m\u001b[43m)\u001b[49m\u001b[43m)\u001b[49m\n",
      "\u001b[0;31mStopIteration\u001b[0m: "
     ]
    },
    {
     "data": {
      "image/png": "[encoded data removed]",
      "text/plain": [
       "<Figure size 640x480 with 1 Axes>"
      ]
     },
     "metadata": {},
     "output_type": "display_data"
    }
   ],
   "source": [
    "sns.set_theme(style = 'darkgrid')\n",
    "sns.histplot(x = a)\n",
    "plt.show()"
   ]
  },
  {
   "cell_type": "code",
   "execution_count": null,
   "id": "b398b83e",
   "metadata": {},
   "outputs": [],
   "source": [
    "mean = 100\n",
    "std = 2\n",
    "b = np.round(np.random.normal(mean, std, 100000),2)\n",
    "b"
   ]
  },
  {
   "cell_type": "code",
   "execution_count": null,
   "id": "65bc4c5e",
   "metadata": {},
   "outputs": [],
   "source": [
    "sns.set_theme(style = 'darkgrid')\n",
    "sns.histplot(x = b, kde = True)\n",
    "plt.show()"
   ]
  },
  {
   "cell_type": "code",
   "execution_count": 17,
   "id": "c6a333f0",
   "metadata": {},
   "outputs": [
    {
     "data": {
      "text/plain": [
       "68493"
      ]
     },
     "execution_count": 17,
     "metadata": {},
     "output_type": "execute_result"
    }
   ],
   "source": [
    "sum((b > 98) & (b < 102))"
   ]
  },
  {
   "cell_type": "code",
   "execution_count": 21,
   "id": "12574fdb",
   "metadata": {},
   "outputs": [
    {
     "data": {
      "text/plain": [
       "95415"
      ]
     },
     "execution_count": 21,
     "metadata": {},
     "output_type": "execute_result"
    }
   ],
   "source": [
    "sum((b > 96) & ( b < 104))"
   ]
  },
  {
   "cell_type": "code",
   "execution_count": 20,
   "id": "40b967e8",
   "metadata": {},
   "outputs": [
    {
     "data": {
      "text/plain": [
       "99719"
      ]
     },
     "execution_count": 20,
     "metadata": {},
     "output_type": "execute_result"
    }
   ],
   "source": [
    "sum((b > 94) & ( b < 106))"
   ]
  }
 ],
 "metadata": {
  "kernelspec": {
   "display_name": "Python 3 (ipykernel)",
   "language": "python",
   "name": "python3"
  },
  "language_info": {
   "codemirror_mode": {
    "name": "ipython",
    "version": 3
   },
   "file_extension": ".py",
   "mimetype": "text/x-python",
   "name": "python",
   "nbconvert_exporter": "python",
   "pygments_lexer": "ipython3",
   "version": "3.8.10"
  }
 },
 "nbformat": 4,
 "nbformat_minor": 5
}
