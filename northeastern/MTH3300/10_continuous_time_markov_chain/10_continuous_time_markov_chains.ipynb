{
 "cells": [
  {
   "cell_type": "markdown",
   "metadata": {},
   "source": [
    "## Continuous Time Markov Chains"
   ]
  },
  {
   "cell_type": "markdown",
   "metadata": {},
   "source": [
    "## Write out the definition of the derivative as a limit\n",
    "\n",
    "$$\n",
    "f'(a) = \\lim_{h \\to 0} \\frac{f(a+h) - f(a)}{h}\n",
    "$$"
   ]
  },
  {
   "cell_type": "markdown",
   "metadata": {},
   "source": [
    "## Write out the McLaurin expansion for the exponential function\n",
    "$$\n",
    "e^x = \\sum_{n=0}^{\\infty} \\frac{x^n}{n!}\n",
    "$$\n"
   ]
  },
  {
   "cell_type": "markdown",
   "metadata": {},
   "source": [
    "## Explain in your own words how continuous time markov chains differ from the markov chains previously studied in the course\n",
    "\n",
    "Continuous time markov chains make transitions possible at any real numbered time, as opposed to discrete time markov chains which would only make it possible to transition at discrete time steps. continuos time markove chains are useful when considering systems where events are spontaneous.  \n",
    "\n"
   ]
  },
  {
   "cell_type": "markdown",
   "metadata": {},
   "source": [
    "## How do we take a limit of a matrix of functions and how then do we differentiate a matrix of functions\n",
    "\n",
    "apply the limit to each element of the matrix individually:\n",
    "$$\n",
    "\\lim_{x \\to a} \\begin{bmatrix}\n",
    "f_{11}(x) & f_{12}(x) \\\\\n",
    "f_{21}(x) & f_{22}(x)\n",
    "\\end{bmatrix}\n",
    "=\n",
    "\\begin{bmatrix}\n",
    "\\lim_{x \\to a} f_{11}(x) & \\lim_{x \\to a} f_{12}(x) \\\\\n",
    "\\lim_{x \\to a} f_{21}(x) & \\lim_{x \\to a} f_{22}(x)\n",
    "\\end{bmatrix}\n",
    "$$\n",
    "\n",
    " differentiate each function:\n",
    "\n",
    "$$\n",
    "\\frac{d}{dx} \\begin{bmatrix}\n",
    "g_{11}(x) & g_{12}(x) \\\\\n",
    "g_{21}(x) & g_{22}(x)\n",
    "\\end{bmatrix}\n",
    "=\n",
    "\\begin{bmatrix}\n",
    "g'_{11}(x) & g'_{12}(x) \\\\\n",
    "g'_{21}(x) & g'_{22}(x)\n",
    "\\end{bmatrix}\n",
    "$$\n",
    "\n"
   ]
  },
  {
   "cell_type": "markdown",
   "metadata": {},
   "source": [
    "## How is the Jump rate matrix for a continuous time Markov chain, Q, defined?\n",
    "\n",
    "$$\n",
    "Q_{ij} = \n",
    "\\begin{cases} \n",
    "\\lambda_{ij} & \\text{if } i \\neq j \\\\\n",
    "-\\sum_{k \\neq i} \\lambda_{ik} & \\text{if } i = j\n",
    "\\end{cases}\n",
    "$$\n",
    "\n",
    " $ \\lambda_{ij} $  represents the rate at which transitions occur from state $ i $ to state $ j $ (for $ i \\neq j $). The diagonal elements $ Q_{ii} $ are defined such that each row sums to zero, reflecting that the total rate of leaving a state equals the negative sum of the rates of entering other states.\n"
   ]
  },
  {
   "cell_type": "markdown",
   "metadata": {},
   "source": [
    "## Explain how the exponential of a matrix is calculated\n",
    "Using a power series : \n",
    "\n",
    "$$ e^A = \\sum_{n=0}^{\\infty} \\frac{A^n}{n!} $$\n",
    "\n",
    "This series converges for any square matrix $A$. Here, $A^n$ represents the matrix $A$ raised to the power $n$, and $n!$ is the factorial of $n$. This approach is fundamentally different from element-wise exponentiation and involves:\n",
    "\n",
    "\n"
   ]
  },
  {
   "cell_type": "markdown",
   "metadata": {
    "vscode": {
     "languageId": "plaintext"
    }
   },
   "source": [
    "## How do you determine whether or not a continuous time Markov chain has a limiting stationary distribution and how do you determine the elements of this distribution\n",
    "\n",
    "- check if the chain is irreducible and positive recurrent.\n",
    "-  If so, solve the system of linear equations $ \\pi Q = 0 $ and $ \\sum \\pi_i = 1 $ where $ Q $ is the generator matrix to find the distribution elements $ \\pi $.\n"
   ]
  },
  {
   "cell_type": "markdown",
   "metadata": {},
   "source": []
  }
 ],
 "metadata": {
  "language_info": {
   "name": "python"
  }
 },
 "nbformat": 4,
 "nbformat_minor": 2
}
