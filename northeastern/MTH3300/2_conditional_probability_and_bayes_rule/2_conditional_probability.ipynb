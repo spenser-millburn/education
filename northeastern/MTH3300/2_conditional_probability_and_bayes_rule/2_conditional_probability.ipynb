{
 "cells": [
  {
   "cell_type": "markdown",
   "metadata": {},
   "source": [
    "\n",
    "# Module 2 "
   ]
  },
  {
   "cell_type": "markdown",
   "metadata": {},
   "source": [
    "\\begin{align*}\n",
    "\\text{Intersection: } & P(A \\cap B) \\quad \\text{Probability that both A and B occur.} \\\\\n",
    "\\text{Union: } & P(A \\cup B) \\quad \\text{Probability that at least one of A or B occurs.} \\\\\n",
    "\\text{Conditional: } & P(A | B) \\quad \\text{Probability of A given B has occurred.}\n",
    "\\end{align*}\n"
   ]
  },
  {
   "cell_type": "markdown",
   "metadata": {
    "vscode": {
     "languageId": "plaintext"
    }
   },
   "source": [
    "## [ 2.3 ] Conditional Probabiliyt and Bayes theorem - Notes"
   ]
  },
  {
   "cell_type": "markdown",
   "metadata": {},
   "source": [
    "\\begin{aligned}\n",
    "\\textbf{Conditional Probability:} & \\quad P(A \\mid B) = \\frac{P(A \\cap B)}{P(B)}, \\quad \\text{if } P(B) > 0. \\\\\n",
    "& \\quad \\text{This expresses the probability of } A \\text{ given that } B \\text{ has occurred.} \\\\\n",
    "\n",
    "\\textbf{Independence:} & \\quad \\text{Events } A \\text{ and } B \\text{ are independent if } \\\\\n",
    "& \\quad P(A \\cap B) = P(A)P(B). \\\\\n",
    "& \\quad \\text{This means that the occurrence of } B \\text{ does not affect the probability of } A. \\\\\n",
    "\n",
    "\\textbf{Multiplication Rule:} & \\quad P(A \\cap B) = P(A \\mid B) P(B). \\\\\n",
    "& \\quad \\text{This rule is used to find the probability that both } A \\text{ and } B \\text{ occur.} \\\\\n",
    "& \\quad \\text{ Note that if A and B are independent events, then} P(A \\cap B) = P(A) P(B) \\\\\n",
    "\n",
    "\\textbf{Law of Total Probability:} & \\quad \\text{If } \\{B_1, B_2, \\ldots, B_n\\} \\text{ is a partition of the sample space } S \\text{ and } P(B_i) > 0, \\\\\n",
    "& \\quad P(A) = \\sum_{i=1}^n P(A \\mid B_i) P(B_i). \\\\\n",
    "& \\quad \\text{This law allows us to compute the probability of } A \\text{ by considering different scenarios } B_i. \\\\\n",
    "\n",
    "\\textbf{Bayes' Theorem:} & \\quad P(A \\mid B) = \\frac{P(B \\mid A) P(A)}{P(B)}. \\\\\n",
    "& \\quad \\text{This theorem allows us to update our probability estimate for } A \\text{ given the evidence } B. \\\\\n",
    "& \\quad \\text{Where:} \\\\\n",
    "& \\quad P(A \\mid B) \\text{ is the posterior probability of } A \\text{ given } B. \\\\\n",
    "& \\quad P(B \\mid A) \\text{ is the likelihood, the probability of observing } B \\text{ given } A. \\\\\n",
    "& \\quad P(A) \\text{ is the prior probability of } A, \\text{ before observing } B. \\\\\n",
    "& \\quad P(B) \\text{ is the marginal probability of } B, \\text{ averaged over all possible outcomes of } A. \\\\\n",
    "\n",
    "\\textbf{Addition Theorem:} & \\quad P(A \\cup B) = P(A) + P(B) - P(A \\cap B). \\\\\n",
    "& \\quad \\text{This theorem provides a formula to calculate the probability of either } A \\text{ or } B \\text{ occurring. It accounts for any overlap between } A \\text{ and } B.\n",
    "\\end{aligned}\n",
    "\n"
   ]
  },
  {
   "cell_type": "markdown",
   "metadata": {},
   "source": [
    "# Random Variables\n",
    "\n",
    "A random variable assigns a numerical value to each outcome in a sample space. Random variables are denoted with uppercase letters like $X$, $Y$, and $Z$.\n",
    "\n",
    "#### Discrete Random Variables\n",
    "\n",
    "- A discrete random variable has possible values forming a discrete set with gaps between adjacent values.\n",
    "- The probability mass function (PMF) of a discrete random variable gives the probability of each possible value.\n",
    "- The sum of probabilities in the PMF over all possible values is always equal to 1.\n",
    "\n",
    "#### Continuous Random Variables\n",
    "\n",
    "- Continuous random variables have possible values within an interval.\n",
    "- Probabilities for continuous random variables are represented using a cumulative distribution function (CDF) which gives the probability that a variable is less than or equal to a specific value.\n",
    "\n",
    "#### Random Variables and Populations\n",
    "\n",
    "- Thinking of random variable values as samples from populations helps in understanding and calculating probabilities.\n",
    "- For discrete random variables, the set of possible values along with their probabilities completely describes the population.\n",
    "#### Cumulative Distribution Function (CDF)\n",
    "- The cumulative distribution function (CDF) of a random variable $X$ is denoted as $F(x) = P(X \\leq x)$.\n",
    "- CDF is computed by summing the probabilities of all possible values of $X$ that are less than or equal to $x$.\n",
    "- For any discrete random variable, the CDF $F(x)$ can be found by summing the probabilities of all possible values of $X$ less than or equal to $x$.\n",
    "\n",
    "#### Mean and Variance for Discrete Random Variables\n",
    "- The mean $\\mu_X$ of a discrete random variable $X$ is given by $\\mu_X = \\sum x \\cdot P(X = x)$.\n",
    "- The mean is also known as the expectation or expected value of $X$.\n",
    "- The population variance $\\sigma^2_X$ of $X$ is given by $\\sigma^2_X = \\sum x(x - \\mu_X)^2P(X = x)$.\n",
    "- The standard deviation $\\sigma_X$ is the square root of the variance.\n",
    "\n",
    "#### Probability Histogram\n",
    "- When possible values of a discrete random variable are evenly spaced, a probability histogram can represent the probability mass function.\n",
    "- In a probability histogram, rectangles centered at possible values represent the probabilities $P(X = x)$.\n",
    "- The area of each rectangle corresponds to the probability of that value occurring for the random variable.#### Probability Representation for Discrete Random Variables\n",
    "\n",
    "$P(a \\leq X \\leq b) = P(a \\leq X < b) = P(a < X \\leq b) = P(a < X < b) = \\int_a^b f(x)dx$\n",
    "\n",
    "#### Continuous Random Variables\n",
    "\n",
    "A continuous random variable's probabilities are represented by areas under a curve, known as the probability density function. The integral of the probability density function over a certain interval gives the probability that the random variable takes on a value in that interval.\n",
    "\n",
    "#### Cumulative Distribution Function of a Continuous Random Variable\n",
    "\n",
    "The cumulative distribution function of a continuous random variable $X$ is defined as:\n",
    "\n",
    "$F(x) = P(X \\leq x) = \\int_{-\\infty}^{x} f(t)dt$\n",
    "\n",
    "For a continuous random variable, the cumulative distribution function will always be continuous.\n",
    "\n",
    "#### Mean and Variance for Continuous Random Variables\n",
    "\n",
    "The population mean and variance of a continuous random variable are calculated using the probability density function, similar to how they are determined for discrete random variables. The mean is the center of mass, and the variance is the moment of inertia around the mean.\n",
    "\n",
    "#### Continuous Random Variables\n",
    "\n",
    "The mean of a continuous random variable \\(X\\) is given by:\n",
    "$$\\mu_X = \\int_{-\\infty}^{\\infty} x f(x) dx$$\n",
    "\n",
    "The variance of \\(X\\) is given by:\n",
    "$$\\sigma_X^2 = \\int_{-\\infty}^{\\infty} (x - \\mu_X)^2 f(x) dx$$\n",
    "\n",
    "An alternate formula for the variance is:\n",
    "$$\\sigma_X^2 = \\int_{-\\infty}^{\\infty} x^2 f(x) dx - \\mu_X^2$$\n",
    "\n",
    "The standard deviation is the square root of the variance: \\(\\sigma_X = \\sqrt{\\sigma_X^2}\\)\n",
    "\n",
    "#### The Population Median and Percentiles\n",
    "\n",
    "The median of a continuous random variable \\(X\\) is the point \\(x_m\\) that solves \\(P(X \\leq x_m) = \\int_{-\\infty}^{x_m} f(x) dx = 0.5\\)\n",
    "\n",
    "The \\(p\\)th percentile of \\(X\\) is the point \\(x_p\\) that solves \\(P(X \\leq x_p) = \\int_{-\\infty}^{x_p} f(x) dx = p/100\\)"
   ]
  },
  {
   "cell_type": "markdown",
   "metadata": {},
   "source": [
    "## Problem Set \n",
    "\n"
   ]
  },
  {
   "cell_type": "markdown",
   "metadata": {},
   "source": [
    "# Section 2.3"
   ]
  },
  {
   "cell_type": "markdown",
   "metadata": {},
   "source": [
    "#### Problem 2\n",
    "-------------------------------------------------------------------------------------------------\n",
    "\n",
    "Let $A$ and $B$ be two events. If $A$ and $B$ are independent events, then:\n",
    "\n",
    "Finding the value of P(B) that will make events A and B independent:\n",
    "$$P(A \\cap B) = P(A) \\cdot P(B)\\\\\n",
    "0.4 = 0.5*P(B) \\\\ \n",
    "P(B) =  \\frac{0.4}{0.5} = 0.8\n",
    "$$\n",
    "A and B will be independent when P(B) is 0.8"
   ]
  },
  {
   "cell_type": "markdown",
   "metadata": {},
   "source": [
    "\n",
    "#### Problem 6\n",
    "-------------------------------------------------------------------------------------------------\n",
    "From the prompt: only 5.6% of the population has asthma, and of this sub population they have a possibility of 0.027 of suffering an asthma attack on a given day. What is the probability that a person in the entire population has an asthma attack\n",
    "\n",
    "$$P(A \\mid B) = \\frac{P(A \\cap B)}{P(B)}$$\n",
    "$$P(A \\mid B) \\cdot P(B) = P(A \\cap B)$$\n",
    "\n",
    "\n",
    "$$\n",
    "P(has\\_asthma) = 0.056\\\\ \n",
    "P(asthma\\_attack|has\\_asthma) = 0.027\\\\\n",
    "$$\n",
    "$$P(asthma\\_attack) = P(has\\_asthma) \\cdot P(asthma\\_attack | asthma)$$\n",
    "$$P(asthma\\_attack) = 0.056 \\cdot 0.027$$\n",
    "$$P(asthma\\_attack) = 0.001512$$\n"
   ]
  },
  {
   "cell_type": "markdown",
   "metadata": {},
   "source": []
  },
  {
   "cell_type": "markdown",
   "metadata": {},
   "source": [
    "#### Problem 10\n",
    "-------------------------------------------------------------------------------------------------\n",
    "- $P(engineering) = 0.3$ is the probability that a student majors in engineering.\n",
    "- $P(club\\_sports) = 0.2$ is the probability that a student plays club sports.\n",
    "- $P(engineering \\cap club\\_sports) = 0.1$ is the probability that a student both majors in engineering and plays club sports.\n"
   ]
  },
  {
   "cell_type": "markdown",
   "metadata": {},
   "source": [
    "a) 0.3\n",
    "\n",
    "b) 0.2\n",
    "\n",
    "c) $P(club\\_sports | engineering) = 0.1/0.3 = 0.333$\n",
    "\n",
    "d) $P(engineering | club\\_sports ) = 0.1/0.2$\n",
    "\n",
    "e)  $P(engineering | does\\_not\\_play\\_club\\_sports ) = 1-0.333 = 0.66$\n",
    "\n",
    "f) $P(not\\_majoring\\_in\\_engineering) = 1-0.20 = 0.80$   "
   ]
  },
  {
   "cell_type": "markdown",
   "metadata": {},
   "source": []
  },
  {
   "cell_type": "markdown",
   "metadata": {},
   "source": [
    "\n",
    "#### Problem 14\n",
    "-------------------------------------------------------------------------------------------------\n",
    "$$\n",
    "P(L) = 0.5\\\\\n",
    "P(F) = 0.3\\\\\n",
    "P(hit) = P(L \\cup F)\\\\\n",
    "P(hit\\_once) = P(L \\cap F^c)  +  P(L^c \\cup F)\\\\\n",
    "$$\n",
    "\n",
    "a) from addition theorem $P(L \\cup F) = P(A) + P(B) - P(A \\cap B) = 0.5+0.3−(0.5×0.3) = 0.65$  \n",
    "\n",
    "b)  $(0.5×0.7)+(0.3×0.5)=0.35+0.15=0.5$\n",
    "\n",
    "c) P(L_hit_and_not_P) = P(L| one_hit)"
   ]
  },
  {
   "cell_type": "markdown",
   "metadata": {},
   "source": []
  },
  {
   "cell_type": "markdown",
   "metadata": {},
   "source": []
  }
 ],
 "metadata": {
  "language_info": {
   "name": "python"
  }
 },
 "nbformat": 4,
 "nbformat_minor": 2
}
