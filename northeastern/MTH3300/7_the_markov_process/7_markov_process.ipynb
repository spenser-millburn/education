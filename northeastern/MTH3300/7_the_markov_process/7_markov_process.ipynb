{
 "cells": [
  {
   "cell_type": "markdown",
   "metadata": {},
   "source": [
    "### 7.1 the Markov process\n",
    "\n",
    "```\n",
    "Explain why conditional probabilities are used in models that tell us about the future. If absolute\n",
    "probabilities are used in such models what does this tell us about the relation between the events\n",
    "in the past and in the present and events in the future.\n",
    "```\n",
    "Conditional probabilities are used  because they allow for the incorporation of the influence of past and present events on future outcomes, reflecting the dependency between events over time. If absolute probabilities were used, it would imply that events are independent of each other, with past and present events having no bearing on future occurrences.\n",
    "\n",
    "```\n",
    "• Complete the following statement: The conditional probability P (T2 = c|T0 = a, T1 = b) gives the\n",
    "likelihood of being in state c ? steps in the future given that you are currently in state ? ? given\n",
    "that you were in state ? in the past.\n",
    "```\n",
    "$$ P(T2 = c \\mid T0 = a, T1 = b) $$\n",
    "\n",
    "\n",
    "gives the likelihood of being in state $c$ two steps in the future, given that you are currently in state $b$, and given that you were in state $a$ in the past.\n",
    "\n",
    "\n",
    "```\n",
    "• Give a mathematical statement for the Markov property and explain the meaning of the word\n",
    "homogeneous.\n",
    "```\n",
    "Given a stochastic process $\\{X_n\\}_{n \\geq 0}$, the process has the Markov property if for every $n$ and every sequence of states $i_0, i_1, \\ldots, i_{n-1}, i_n, i_{n+1}$, the following condition holds:\n",
    "\n",
    "$$ P(X_{n+1} = i_{n+1} | X_n = i_n, X_{n-1} = i_{n-1}, \\ldots, X_0 = i_0) = P(X_{n+1} = i_{n+1} | X_n = i_n) $$\n",
    "\n",
    "The word \"homogeneous\" in the context of Markov processes refers to the property that the transition probabilities are independent of time. That is, for a homogeneous Markov process, the probability of transitioning from state $i$ to state $j$ is the same at any time step:\n",
    "\n",
    "$$ P(X_{n+1} = j | X_n = i) = P(X_{m+1} = j | X_m = i) \\quad \\text{for all } n, m $$\n",
    "\n",
    "\n",
    "```\n",
    "• Give a description of the behavior of a example system that has the Markov property but which is\n",
    "not homogeneous.\n",
    "```\n",
    "\n",
    "The system would need to have the markov property (where the future state depends only on the current state ), and to be non-homogenous (different weights for each transition arrow). \n",
    "An example of this could be Stock market prices: future price depends only on current price, but transition probabilities vary with time and news events.\n",
    "\n",
    "```\n",
    "Write out the full transition matrix for the transition graph shown in the video.\n",
    "```\n",
    "$$\n",
    "P = \\begin{pmatrix}\n",
    "0.3 & 0.4 & 0.3 \\\\\n",
    "0.3 & 0.2 & 0.5 \\\\\n",
    "0.8 & 0.1 & 0.1 \\\\\n",
    "\\end{pmatrix}\n",
    "$$"
   ]
  },
  {
   "cell_type": "markdown",
   "metadata": {},
   "source": []
  },
  {
   "cell_type": "markdown",
   "metadata": {},
   "source": []
  }
 ],
 "metadata": {
  "language_info": {
   "name": "python"
  }
 },
 "nbformat": 4,
 "nbformat_minor": 2
}
