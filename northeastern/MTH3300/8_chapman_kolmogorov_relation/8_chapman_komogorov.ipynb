{
 "cells": [
  {
   "cell_type": "markdown",
   "metadata": {},
   "source": [
    "# 8 Chapman-Kolmogorov relation "
   ]
  },
  {
   "cell_type": "code",
   "execution_count": null,
   "metadata": {},
   "outputs": [],
   "source": [
    "## [Problem 1 ]\n",
    "```\n",
    "Explain what the Chapman-Kolmogorov relation can be used to compute.\n",
    "```\n",
    "\n",
    "The Chapman-Kolmogorov relation can be used to be used to compute the n-step transition probabilities in a Markov chain. It relates the probability of transitioning from one state to another in a certain number of steps to the probabilities of doing so in fewer steps. Specifically, if $ P $ is the one-step transition probability matrix of a Markov chain, then the n-step transition probability matrix $ P^n $ can be computed using matrix multiplication, where $ P^n $ gives the probabilities of transitioning between states in exactly n steps. "
   ]
  },
  {
   "cell_type": "markdown",
   "metadata": {},
   "source": [
    "## [Problem 2 ]\n",
    "\n",
    "**Explain how the probability that $P(T_3 = b \\wedge T_2 = c \\mid T_1 = a)$ is computed from elements of the 1-step transition probablity matrix and the justification for calculating this quantity in this way.**\n",
    "\n"
   ]
  },
  {
   "cell_type": "markdown",
   "metadata": {},
   "source": []
  },
  {
   "cell_type": "markdown",
   "metadata": {},
   "source": [
    "### Calculating $P(T_3 = b \\cap T_2 = c \\mid T_1 = a)$\n",
    "\n",
    "1. **Definition**: This is the probability that the system is in state $c$ at time 2 and in state $b$ at time 3, given that it was in state $a$ at time 1.\n",
    "\n",
    "2. **Computation**:\n",
    "   - This computation uses the elements of the 1-step transition probability matrix:\n",
    "     $$\n",
    "     P(T_3 = b \\cap T_2 = c \\mid T_1 = a) = P(T_2 = c \\mid T_1 = a) \\times P(T_3 = b \\mid T_2 = c)\n",
    "     $$\n",
    "   - Here, $P(T_2 = c \\mid T_1 = a)$ is directly given by the 1-step transition matrix element $P_{ac}$.\n",
    "   - $P(T_3 = b \\mid T_2 = c)$ is also from the 1-step transition matrix element $P_{cb}$.\n",
    "\n",
    "3. **Justification**:\n",
    "   - The justification for this computation is the Markov property, which states that the future state of the process depends only on the current state and not on the history of the process. Thus, once $T_2 = c$ is known, the probability of moving to $T_3 = b$ is independent of $T_1 = a$.\n",
    "\n",
    "### Calculating $P(T_3 = b \\mid T_1 = a)$\n",
    "\n",
    "1. **Definition**: This is the probability that the system is in state $b$ at time 3, given it was in state $a$ at time 1.\n",
    "\n",
    "2. **Computation**:\n",
    "   - To find this probability, we sum over all possible intermediate states at time 2:\n",
    "     $$\n",
    "     P(T_3 = b \\mid T_1 = a) = \\sum_{c} P(T_3 = b \\cap T_2 = c \\mid T_1 = a)\n",
    "     $$\n",
    "   - Using the Chapman-Kolmogorov relation:\n",
    "     $$\n",
    "     P(T_3 = b \\mid T_1 = a) = \\sum_{c} P(T_2 = c \\mid T_1 = a) \\times P(T_3 = b \\mid T_2 = c)\n",
    "     $$\n",
    "   - This expands to:\n",
    "     $$\n",
    "     P(T_3 = b \\mid T_1 = a) = \\sum_{c} P_{ac} \\times P_{cb}\n",
    "     $$\n",
    "\n",
    "3. **Justification**:\n",
    "   - The sum over all possible intermediate states ensures that all possible pathways through which the process could move from $a$ to $b$ over two time steps are considered. This is justified by the Markov property and the independence of transitions, as each transition depends only on the immediate prior state.\n",
    "\n",
    "### Statement of the Chapman-Kolmogorov Relation\n",
    "\n",
    "The Chapman-Kolmogorov relation can be stated as:\n",
    "$$\n",
    "P_{ij}(t+s) = \\sum_{k} P_{ik}(t) \\times P_{kj}(s)\n",
    "$$\n",
    "This equation relates the probabilities of transitioning from state $i$ to state $j$ over the combined time interval $t+s$ by summing the products of probabilities of going from $i$ to an intermediate state $k$ in time $t$ and then from $k$ to $j$ in time $s$. The relation is derived from the Markov property and is a fundamental component in the analysis and computation of probabilities in Markov processes.\n"
   ]
  },
  {
   "cell_type": "markdown",
   "metadata": {},
   "source": [
    "## [ Problem 3 ]\n",
    "\n",
    "To compute the probability $P(T_3 = b | T_1 = a)$ using the elements of the 1-step transition probability matrix in a Markov chain, we use the concept of matrix multiplication and properties inherent to Markov chains. This computation involves considering all possible states that the system might pass through at time $T_2$.\n",
    "\n",
    "### Step-by-Step Computation\n",
    "\n",
    "1. **Matrix Representation**: Let $P$ be the transition matrix where each element $p_{ij}$ represents the probability of moving from state $i$ to state $j$ in one step.\n",
    "2. **Two-Step Transition Probabilities**: The element at the $(i, j)$ position in the matrix $P^2$ (which is $P$ multiplied by itself) represents the probability of transitioning from state $i$ to state $j$ in two steps. This is computed as:\n",
    "   $$\n",
    "   (P^2)_{ij} = \\sum_k p_{ik} p_{kj}\n",
    "   $$\n",
    "   This sum iterates over all possible intermediate states $k$ that could be visited between the first and the second step.\n",
    "3. **Three-Step Transition Probabilities**: To find the probability of moving from state $a$ to state $b$ in three steps, represented by $(P^3)_{ab}$, we need the product of the matrix $P$ three times:\n",
    "   $$\n",
    "   (P^3)_{ab} = \\sum_k (P^2)_{ak} p_{kb}\n",
    "   $$\n",
    "   where $(P^2)_{ak}$ is the probability of transitioning from $a$ to $k$ in two steps, and $p_{kb}$ is the probability of transitioning from $k$ to $b$ in one additional step.\n",
    "\n",
    "### Justification for This Method\n",
    "\n",
    "- **Markov Property**: The fundamental assumption of a Markov chain is that the future state depends only on the current state and not on how the process arrived in the current state. This property allows us to consider only the immediate last state in calculations for transitions.\n",
    "- **Matrix Multiplication Corresponds to State Transitions**: Matrix multiplication naturally encapsulates the process of adding probabilities over all possible intermediate states, as required by the total probability theorem. Each entry in the resulting matrix $P^n$ represents the probability of transitioning from one state to another in $n$ steps, considering all possible paths.\n",
    "- **Efficiency**: This method is computationally efficient and systematic, allowing for straightforward calculations using linear algebra tools. It also scales well for larger state spaces and longer time steps.\n",
    "\n",
    "Thus, the use of matrix powers to calculate transition probabilities in Markov chains is both mathematically justified and practical, enabling us to predict long-term behaviors and transient states in stochastic processes.\n"
   ]
  },
  {
   "cell_type": "markdown",
   "metadata": {},
   "source": [
    "## [ Problem 4 ] Statement of the Chapman-Kolmogorov Equation\n",
    "\n",
    "Given a stochastic process with states and transition probabilities, the Chapman-Kolmogorov equation describes the relationship between the probabilities of transitioning from one state to another over different time intervals. Specifically, if $P_{ij}(t)$ is the probability of transitioning from state $i$ to state $j$ in $t$ time steps, then the Chapman-Kolmogorov equation is given by:\n",
    "\n",
    "$$\n",
    "P_{ij}(t+s) = \\sum_k P_{ik}(t) P_{kj}(s)\n",
    "$$"
   ]
  },
  {
   "cell_type": "markdown",
   "metadata": {},
   "source": []
  }
 ],
 "metadata": {
  "kernelspec": {
   "display_name": ".venv",
   "language": "python",
   "name": "python3"
  },
  "language_info": {
   "name": "python",
   "version": "3.12.3"
  }
 },
 "nbformat": 4,
 "nbformat_minor": 2
}
