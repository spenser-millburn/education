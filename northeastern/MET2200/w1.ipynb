{
 "cells": [
  {
   "cell_type": "code",
   "execution_count": 3,
   "id": "a6d82b8a-c213-4b63-a50c-715ac02868b9",
   "metadata": {
    "tags": []
   },
   "outputs": [],
   "source": [
    "from IPython.display import display as d\n",
    "from sympy import *\n",
    "t = Symbol(\"t\")"
   ]
  },
  {
   "cell_type": "code",
   "execution_count": 81,
   "id": "f7df71f9-322c-468a-bb25-171e7dbbd91c",
   "metadata": {
    "tags": []
   },
   "outputs": [],
   "source": [
    "x = t**3 -6*t**2 + 9*t + 5\n",
    "v = (diff(x))\n",
    "a = (diff(v))"
   ]
  },
  {
   "cell_type": "code",
   "execution_count": 150,
   "id": "856839b5-0d04-4120-8267-19c04ee91da7",
   "metadata": {
    "tags": []
   },
   "outputs": [
    {
     "data": {
      "text/plain": [
       "[1, 3]"
      ]
     },
     "execution_count": 150,
     "metadata": {},
     "output_type": "execute_result"
    }
   ],
   "source": [
    "#times_when_v_0 \n",
    "solve(diff(x))"
   ]
  },
  {
   "cell_type": "code",
   "execution_count": 156,
   "id": "5bc63e9d-5480-485b-a704-bbbdc6d49efa",
   "metadata": {
    "tags": []
   },
   "outputs": [
    {
     "data": {
      "text/latex": [
       "$\\displaystyle 25.0$"
      ],
      "text/plain": [
       "25.0000000000000"
      ]
     },
     "metadata": {},
     "output_type": "display_data"
    },
    {
     "data": {
      "text/latex": [
       "$\\displaystyle -66.0$"
      ],
      "text/plain": [
       "-66.0000000000000"
      ]
     },
     "metadata": {},
     "output_type": "display_data"
    },
    {
     "data": {
      "text/latex": [
       "$\\displaystyle 28.0$"
      ],
      "text/plain": [
       "28.0000000000000"
      ]
     },
     "execution_count": 156,
     "metadata": {},
     "output_type": "execute_result"
    }
   ],
   "source": [
    "#position, velocity, accelleration at t = 5s \n",
    "display(x.evalf(subs={t:5}))\n",
    "display(a.evalf(subs={t:5}))\n",
    "\n",
    "#total distance\n",
    "sum([\n",
    "     abs(Integral(v,limit).evalf()) \n",
    "     for limit in \n",
    "     [(t,0,1), (t,1,3),(t,3,5)]\n",
    "    ])"
   ]
  },
  {
   "cell_type": "code",
   "execution_count": 158,
   "id": "ec2b421f-2385-482a-aadc-e9bbcb2930ce",
   "metadata": {
    "tags": []
   },
   "outputs": [
    {
     "data": {
      "image/png": "[encoded data removed]",
      "text/plain": [
       "<Figure size 640x480 with 1 Axes>"
      ]
     },
     "metadata": {},
     "output_type": "display_data"
    },
    {
     "data": {
      "text/plain": [
       "<sympy.plotting.plot.Plot at 0x7feacab82df0>"
      ]
     },
     "execution_count": 158,
     "metadata": {},
     "output_type": "execute_result"
    }
   ],
   "source": [
    "plot(x)"
   ]
  },
  {
   "cell_type": "code",
   "execution_count": 180,
   "id": "20a2a612-d978-49c1-bb92-e34c82d4e84c",
   "metadata": {
    "tags": []
   },
   "outputs": [
    {
     "data": {
      "text/latex": [
       "$\\displaystyle 13.0$"
      ],
      "text/plain": [
       "13.0000000000000"
      ]
     },
     "metadata": {},
     "output_type": "display_data"
    },
    {
     "data": {
      "text/latex": [
       "$\\displaystyle -28.0$"
      ],
      "text/plain": [
       "-28.0000000000000"
      ]
     },
     "metadata": {},
     "output_type": "display_data"
    }
   ],
   "source": [
    "#3\n",
    "a = 9-3*t**2\n",
    "x0 =5\n",
    "v = integrate(a)\n",
    "x = integrate(v) + x0\n",
    "solve(v)\n",
    "#4\n",
    "d(x.evalf(subs = {t:4}))\n",
    "d(v.evalf(subs = {t:4}))"
   ]
  },
  {
   "cell_type": "code",
   "execution_count": 186,
   "id": "eb24a278-aa83-435b-a549-ee6510a4b9f8",
   "metadata": {
    "tags": []
   },
   "outputs": [
    {
     "data": {
      "text/latex": [
       "$\\displaystyle 32.5$"
      ],
      "text/plain": [
       "32.5000000000000"
      ]
     },
     "execution_count": 186,
     "metadata": {},
     "output_type": "execute_result"
    }
   ],
   "source": [
    "#5\n",
    "\n",
    "sum([\n",
    "     abs(Integral(v,limit).evalf()) \n",
    "     for limit in \n",
    "     [(t,0,3),(t,3,4)]\n",
    "    ])\n",
    "# solve(v)"
   ]
  },
  {
   "cell_type": "code",
   "execution_count": 246,
   "id": "e0a570ce-af92-4b1f-9fd2-72d399c65c42",
   "metadata": {
    "tags": []
   },
   "outputs": [],
   "source": [
    "#6\n",
    "x = Symbol('x')\n",
    "v = Symbol('v')\n",
    "a = 100*(0.25-x)\n",
    "# d(a)\n",
    "# x0 = 0.2\n",
    "# v = integrate(a)\n",
    "# xf = integrate(v) + x0\n",
    "# d(Eq(Integral(v,(v,0,v)) , Integral(a,(x,0.2,x))))\n",
    "# d(Eq(Integral(v,(v,0,v)) , Integral(a,(x,0.2,x))).doit())\n",
    "# sol = (solve(Eq(Integral(v,(v,0,v)) , Integral(a,(x,0.2,x))).doit(),x))\n",
    "# d(sol[0],sol[1])"
   ]
  },
  {
   "cell_type": "code",
   "execution_count": 135,
   "id": "481b6efe-3d6f-4c9d-b181-6e477928ef34",
   "metadata": {
    "tags": []
   },
   "outputs": [
    {
     "data": {
      "text/latex": [
       "$\\displaystyle 0.404212209117933$"
      ],
      "text/plain": [
       "0.404212209117933"
      ]
     },
     "execution_count": 135,
     "metadata": {},
     "output_type": "execute_result"
    }
   ],
   "source": [
    "#6\n",
    "from sympy import Derivative as der\n",
    "from sympy import Integral as itl\n",
    "from sympy import Rational as rat \n",
    "def p(arg):\n",
    "    display(arg)\n",
    "    return(arg)\n",
    "    \n",
    "dv, v = Symbol('dv'), Symbol('v')\n",
    "dx, x = Symbol('dx'), Symbol('x')\n",
    "dt,t = Symbol('dt'),Symbol('t')\n",
    "v0 = Symbol('v0')\n",
    "\n",
    "a = 100*(0.25-x)\n",
    "s = sqrt(-100*x**2 + 50*x - 6) \n",
    "s.evalf(subs = {x: 0.27943})\n"
   ]
  },
  {
   "cell_type": "code",
   "execution_count": 147,
   "id": "2a660e0c-d296-4c5f-9873-98fd2082d1ff",
   "metadata": {},
   "outputs": [
    {
     "data": {
      "text/latex": [
       "$\\displaystyle 1.4539385122571 - 1.25 \\log{\\left(0.8 v - 10.0 \\right)}$"
      ],
      "text/plain": [
       "1.4539385122571 - 1.25*log(0.8*v - 10.0)"
      ]
     },
     "execution_count": 147,
     "metadata": {},
     "output_type": "execute_result"
    }
   ],
   "source": [
    "#7\n",
    "itl(1/(10- 0.8 * v),(v,16.5,v)).doit().evalf()"
   ]
  },
  {
   "cell_type": "code",
   "execution_count": null,
   "id": "366a88b7-3a4f-488d-a5e6-98b139f00713",
   "metadata": {},
   "outputs": [],
   "source": [
    "evalf"
   ]
  }
 ],
 "metadata": {
  "kernelspec": {
   "display_name": "Python 3 (ipykernel)",
   "language": "python",
   "name": "python3"
  },
  "language_info": {
   "codemirror_mode": {
    "name": "ipython",
    "version": 3
   },
   "file_extension": ".py",
   "mimetype": "text/x-python",
   "name": "python",
   "nbconvert_exporter": "python",
   "pygments_lexer": "ipython3",
   "version": "3.8.10"
  }
 },
 "nbformat": 4,
 "nbformat_minor": 5
}
