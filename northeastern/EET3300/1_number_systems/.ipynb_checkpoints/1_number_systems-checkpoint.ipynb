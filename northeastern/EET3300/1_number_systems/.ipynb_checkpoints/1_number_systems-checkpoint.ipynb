{
 "cells": [
  {
   "cell_type": "markdown",
   "id": "5a225efb-2176-416c-b93b-d3494fc648ad",
   "metadata": {},
   "source": [
    "# Week One - EET3300 "
   ]
  },
  {
   "cell_type": "markdown",
   "id": "5a6ef555-4ef7-455a-b6f3-11669021af43",
   "metadata": {
    "tags": []
   },
   "source": [
    "# **Number Systems Conversions**"
   ]
  },
  {
   "cell_type": "markdown",
   "id": "57c5c84e-e1a4-46e8-bf95-35cc313aa331",
   "metadata": {
    "tags": []
   },
   "source": [
    "## 1. Convert  $413.1_5 $ to unsigned binary\n",
    "\n",
    "### converting from base 5 to decimal \n",
    "\n",
    "413 in binary is:  \n",
    "\n",
    "-----------------------\n",
    "$(413)_5 = (4 × 52) + (1 × 51) + (3 × 50) = (108)_{10}$\n",
    "\n",
    "$\\frac{108}{2}= 54 r0 \\leftarrow LSB $\n",
    "\n",
    "$\\frac{54}{2}=  27 r0$\n",
    "\n",
    "$\\frac{27}{2}= 13 r1$\n",
    "\n",
    "$\\frac{13}{2}= 6 r1$\n",
    "\n",
    "$\\frac{6}{2}= 3 r0 $\n",
    "\n",
    "$\\frac{3}{2}= 1 r1 $\n",
    "\n",
    "$\\frac{1}{2}= 0 r1 $\n",
    "\n",
    "-----------------------\n",
    "**Therefore,** $ 413_5 = 1101100$\n",
    "\n",
    "-----------------------\n",
    "\n",
    "0.1_5 in decimal is:\n",
    "\n",
    "$(0.1)_5 = (1 × 5^{(-1)} ) = (0.2)_{10}$\n",
    "\n",
    "$0.2_{10}$ to binary is \n",
    "\n",
    "$\\frac{12}{2}= 6r0 \\leftarrow LSB $\n",
    "\n",
    "$\\frac{6}{2}=3r0$\n",
    "\n",
    "$\\frac{3}{2}= 1r1$\n",
    "\n",
    "$\\frac{1}{2}= 0 r1$\n",
    "\n",
    "therefore, $0.1_5 = 0011 recurring$\n",
    "\n",
    "-----------------------\n",
    "answer:\n",
    "$1101100.\\overline{0011}$"
   ]
  },
  {
   "cell_type": "markdown",
   "id": "d30d0fe7-459e-4f1f-bb02-8ef7fa1bc9e8",
   "metadata": {
    "tags": []
   },
   "source": [
    "## 2. Express $-120_{10}$ as an 8 bit 2's complement number \n",
    "$120 \\rightarrow 64+32+16 +8 = 01111000$ \n",
    "\n",
    "to make negative, flip all bits, then add one\n",
    "\n",
    "$01111000 \\rightarrow 10000111 +1 \\rightarrow answer \\textbf{ 10001000}$ \n",
    "___________"
   ]
  },
  {
   "cell_type": "markdown",
   "id": "b062cfa0-c3ae-4c2f-a5ca-434a55ac54d4",
   "metadata": {
    "tags": []
   },
   "source": [
    "## 3. Convert $27.77$ to unisgned binary number, rounging the non integer component to fit into three spaces\n",
    "_____"
   ]
  },
  {
   "cell_type": "markdown",
   "id": "0d53118a-cca9-42fb-bf37-e4c8d4834fbd",
   "metadata": {
    "tags": []
   },
   "source": [
    "## 4. Convert $AF013C_{16}$ to a base 4 number\n",
    "\n",
    "$AF013C_{16} \\rightarrow  (10 × 16⁵) + (15 × 16⁴) + (0 × 16³) + (1 × 16²) + (3 × 16¹) + (12 × 16⁰) = (11469116)_10$\n",
    "\n",
    "For fun and to save time, I solved the conversion from base 10 to base 4 below in python, using the division remainder method that I wrote out in full on question 1. \n"
   ]
  },
  {
   "cell_type": "code",
   "execution_count": 3,
   "id": "4afc3cd3-8cb6-4815-b58b-179eb094f1ee",
   "metadata": {
    "tags": []
   },
   "outputs": [
    {
     "name": "stdout",
     "output_type": "stream",
     "text": [
      "converting 11349116 to base 4 = 223102301330\n"
     ]
    }
   ],
   "source": [
    "#From decimal to any base via division remainder method\n",
    "def change_of_base(n, b):\n",
    "    if n == 0:\n",
    "        return [0]\n",
    "    digits = []\n",
    "    while n:\n",
    "        digits.append(str(n % b))\n",
    "        n //= b\n",
    "    return int(\"\".join(digits[::-1]))\n",
    "\n",
    "print(f\"converting 11349116 to base 4 = {change_of_base(11349116,4)}\")"
   ]
  },
  {
   "cell_type": "markdown",
   "id": "e62dbfe0-945a-4ecf-a7a7-553c7cb7bb86",
   "metadata": {
    "tags": []
   },
   "source": [
    "________\n",
    "## 5. Convert ${101101.11_2}$ to a base 7 number\n"
   ]
  },
  {
   "cell_type": "markdown",
   "id": "aaf430f0-8c9d-46a0-8e26-c7432001ec26",
   "metadata": {
    "tags": []
   },
   "source": [
    "### First convert from base 2 to base 10 \n",
    "\n",
    "$0010 1101 \\rightarrow 2^5 + 2^3 +2^2 + 2^0 = 45$\n",
    "\n",
    "$0.11 = (1\\times2^{-1}) + (1\\times2^{-2}) = (0.75)_{10}$\n",
    "\n",
    "### Then convert to base 7 via the division remainder method:\n",
    "\n",
    "`print(f\"converting 45 to base 7 = {change_of_base(45,7)}\")`\n",
    "$ \\rightarrow 63_7$\n",
    "\n",
    "0.075 in base 7 by multiplcation remainder method:\n",
    "\n",
    "0.75 × 7 = **5** + 0.25\\$\\leftarrow LSB $\n",
    "0.25 × 7 = **1** + 0.75\\\n",
    "0.75 × 7 = **5** + 0.25\\\n",
    "0.25 × 7 = **1** + 0.75\\\n",
    "0.75 × 7 = **5** + 0.25\\\n",
    "0.25 × 7 = **1** + 0.75\\\n",
    "0.75 × 7 = **5** + 0.25\\\n",
    "0.25 × 7 = **1** + 0.75\\\n",
    "0.75 × 7 = **5** + 0.25\\\n",
    "0.25 × 7 = **1** + 0.75 \n",
    "\n",
    "### Answer : $63.\\overline{515}$\n",
    "________________"
   ]
  },
  {
   "cell_type": "markdown",
   "id": "40aca44a-cbf2-4330-9b4f-f647a3eff19d",
   "metadata": {
    "tags": []
   },
   "source": [
    "# **Binary Addition** "
   ]
  },
  {
   "cell_type": "markdown",
   "id": "1b024e05-14fa-4504-aeb0-e6297be9cc2c",
   "metadata": {},
   "source": [
    "### 1.In a 5 bit system, add $15_{10}$ and $-4_{10}$\n",
    "\n",
    "start by converting to 4 bit, twos complement numbers\n",
    "\n",
    "$15 \\rightarrow 01111 $\\\n",
    "$-4 \\rightarrow 11100 $\\\n",
    "performing binary addition\\\n",
    "**Answer is     01011**\n",
    "------           \n",
    "### 2.In a 5 bit system, add $-13_{10}$ and $5_{10}$\n",
    "\n",
    "start by converting to 4 bit, twos complement numbers\n",
    "\n",
    "$-13 \\rightarrow 10011$\\\n",
    "$5 \\rightarrow   00101$\\\n",
    "performing binary addition\n",
    "**Answer is      11000  = -8  = -13 + 5**\n",
    "\n",
    "------           \n",
    "### 3.In a 5 bit system, add $-6_{10}$ and $8_{10}$\n",
    "start by converting to 4 bit, twos complement numbers\n",
    "\n",
    "$-6 \\rightarrow 11010$\\\n",
    "$8  \\rightarrow 01000$\\\n",
    "performing binary addition\n",
    "**Answer is     00010  = 2  = -6 + 8**\n",
    "\n",
    "------           \n",
    "### 4.In a 5 bit system, add $12_{10}$ and $10_{10}$\n",
    "start by converting to 4 bit, twos complement numbers\n",
    "\n",
    "$12 \\rightarrow 01100$\\\n",
    "$10 \\rightarrow 01010$\\\n",
    "**Answer is     10110  = -6  != 12+10 = 22**\n",
    "\n",
    "OVERFLOW, because the max number a 5 bit twos complement integer can hold is +/-2^4-1 or +/-15. 12 + 10 is 22 \n",
    "\n",
    "------           \n",
    "### 5.In a 5 bit system, add $-14_{10}$ and $7_{10}$\n",
    "start by converting to 4 bit, twos complement numbers\n",
    "\n",
    "$-14 \\rightarrow 10010 $\\\n",
    "$7 \\rightarrow   00111 $\\\n",
    "**Answer is      11001 $\\rightarrow$ -00111 = -7 = -14+7**\n"
   ]
  },
  {
   "cell_type": "markdown",
   "id": "40d4ab97-fa39-4617-b0a9-52a149bcabaa",
   "metadata": {},
   "source": [
    "# **Binary Subtraction** "
   ]
  },
  {
   "cell_type": "markdown",
   "id": "7a0e9d37-17d6-4239-b27f-e70d11d90bab",
   "metadata": {},
   "source": [
    "### 1.In a 5 bit system, subtract $10_{10}$ and $-8_{10}$\n",
    "\n",
    "start by converting to 5 bit, twos complement numbers\n",
    "\n",
    "$10 \\rightarrow 01010$\\\n",
    "$-8 \\rightarrow 11000$\\\n",
    "performing binary subtraction\\\n",
    "**Answer is     10010, OVERFLOW because 18 > +/- 2^4 -1 = +/-15\n",
    "\n",
    "------           \n",
    "\n",
    "### 2.In a 4 bit system, subtract $-1_{10}$ and $0_{10}$\n",
    "start by converting to 4 bit, twos complement numbers\n",
    "\n",
    "$-1 \\rightarrow  1111$\\\n",
    "$0 \\rightarrow   0000$\\\n",
    "performing binary subtraction\n",
    "**Answer is      1111= -1  = -1 - 0**\n",
    "\n",
    "------           \n",
    "### 3.In a 6 bit system, subtract $-7_{10}$ and $-24_{10}$\n",
    "start by converting to 6 bit, twos complement numbers\n",
    "\n",
    "$-7 \\rightarrow   111001$\\\n",
    "$-24  \\rightarrow 101000$\\\n",
    "performing binary subtraction\n",
    "**Answer is       010001= 17  = -7 - (-24)** \n",
    "\n",
    "------           \n",
    "### 4.In a 4 bit system, subtract $-5_{10}$ and $2_{10}$\n",
    "start by converting to 4 bit, twos complement numbers\n",
    "\n",
    "$-5 \\rightarrow  1011$\\\n",
    "$2  \\rightarrow  0010$\\\n",
    "performing binary subtraction\n",
    "**Answer is      1001 = -7 = -5 -2 \n",
    "\n",
    "------           \n",
    "\n",
    "### 5.In a 6 bit system, subtract $-7_{10}$ and $5_{10}$\n",
    "start by converting to 6 bit, twos complement numbers\n",
    "\n",
    "$-7 \\rightarrow  11001 $\\\n",
    "$5 \\rightarrow   00101 $\\\n",
    "performing binary subtraction\n",
    "**Answer is      10100 $\\rightarrow$ -01010 = -12 = -7 - 5 **"
   ]
  },
  {
   "cell_type": "markdown",
   "id": "12cfd058-42fb-469d-afb0-b00394ef523f",
   "metadata": {},
   "source": [
    "# **Binary Multiplication** "
   ]
  },
  {
   "cell_type": "markdown",
   "id": "43cde441-7651-4439-881b-c329087ef226",
   "metadata": {},
   "source": [
    "1.  5 bit system : $10_{10} \\times -3_{10} \\rightarrow 00010 $ \n",
    "OVERFLOW, because -30 does not fit into +/-(2^4-1) or +/-15\n",
    "2.  4 bit system : $2_{10} \\times -4_{10} \\rightarrow 1000 $\n",
    "3.  5 bit system : $9_{10} \\times -1_{10} \\rightarrow 10111$ \n",
    "4.  5 bit system : $-8_{10} \\times 3_{10} \\rightarrow 11000$ \n",
    "OVERFLOW, because -24 does not fit into +/-(2^4 -1) = +/-15\n",
    "5.  6 bit system : $-6_{10} \\times 3_{10} \\rightarrow 101110$ \n",
    "    "
   ]
  },
  {
   "cell_type": "markdown",
   "id": "8dd44064-ff57-40ac-9b4a-6cd5eb20e6ae",
   "metadata": {},
   "source": [
    "# **Binary Codes** "
   ]
  },
  {
   "cell_type": "markdown",
   "id": "ce4b652d-cda6-44c0-97af-fca96fe16901",
   "metadata": {},
   "source": [
    "1. Express 352_10 as an 8-4-2-1 BCD Number : **001101010010**\n",
    "\n",
    "3. ASCII q  =  111 0001\n"
   ]
  },
  {
   "cell_type": "code",
   "execution_count": null,
   "id": "35a20935-ccd6-48dd-8e97-42ffc25dc194",
   "metadata": {},
   "outputs": [],
   "source": []
  },
  {
   "cell_type": "code",
   "execution_count": null,
   "id": "b607a3f1-6297-4853-a92b-ce40d0cbcd55",
   "metadata": {},
   "outputs": [],
   "source": []
  },
  {
   "cell_type": "code",
   "execution_count": null,
   "id": "2f2eec95-e24c-41a0-a8ed-50d9136239b8",
   "metadata": {},
   "outputs": [],
   "source": []
  }
 ],
 "metadata": {
  "kernelspec": {
   "display_name": "Python 3 (ipykernel)",
   "language": "python",
   "name": "python3"
  },
  "language_info": {
   "codemirror_mode": {
    "name": "ipython",
    "version": 3
   },
   "file_extension": ".py",
   "mimetype": "text/x-python",
   "name": "python",
   "nbconvert_exporter": "python",
   "pygments_lexer": "ipython3",
   "version": "3.8.10"
  }
 },
 "nbformat": 4,
 "nbformat_minor": 5
}
