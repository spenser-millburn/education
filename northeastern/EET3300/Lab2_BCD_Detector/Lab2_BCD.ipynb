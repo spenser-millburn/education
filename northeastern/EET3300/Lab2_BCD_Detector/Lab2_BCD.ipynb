{
 "cells": [
  {
   "cell_type": "markdown",
   "id": "25cd50f6-7216-42f4-87e5-b7ebe8a7280f",
   "metadata": {},
   "source": [
    "# **Lab 2 - BCD Detector**\n",
    "-----"
   ]
  },
  {
   "cell_type": "markdown",
   "id": "6feb917e-1886-46e5-9d76-55e6daaece70",
   "metadata": {},
   "source": [
    "### Objectives:\n",
    "x To understand the Sum-of-Product (SOP) form\n",
    "x To apply the Karnaugh map method to simplify a Boolean equation\n",
    "x To apply “don’t care” states to a Karnaugh Map (K-map)\n",
    "x To create a MultiSim simulation of a digital circuit\n",
    "\n",
    "Text References:\n",
    "Chapters 1-4, 6\n",
    "\n",
    "### Components Needed: (quantities unknown)\n",
    "- 7400 IC – quad two-input NAND gate\n",
    "- 7404 IC – hex inverter (NOT gate)\n",
    "- 7408 IC – quad two input AND gate\n",
    "- 7420 IC – 4-input NAND gate\n",
    "- 7432 IC – quad two input OR gate\n",
    "\n",
    "#### Discussion:\n",
    "The Karnaugh map (K-map) method of simplification is a powerful graphical technique.\n",
    "The advantages of using K-maps for reduction is that it is easier to see when the\n",
    "expression has been fully simplified and the K-map method provides a structured\n",
    "approach to Boolean simplification.\n",
    "\n",
    "In this experiment, you will design a BCD detector, implement it in MultiSim, simplify the\n",
    "design using a K-map, implement the new designs and do a cost analysis. Start with a\n",
    "truth table for your first design. Think about which 4 input digital numbers make a valid\n",
    "BCD code. Pay special attention to the specifications that follow. We will look at cost of\n",
    "this BCD detector as changes are made. The specification for the BCD detector is as\n",
    "follows:\n",
    "\n",
    "\n",
    "- #### Components:\n",
    "    - 7400 IC – quad two-input NAND gate\n",
    "    - 7404 IC – hex inverter (NOT gate)\n",
    "    - 7408 IC – quad two input AND gate\n",
    "    - 7420 IC – four-input NAND gate\n",
    "    - 7432 IC – quad two input OR gate\n",
    "- Need to minimize the overall cost of the BCD detector\n",
    "- Cost breakdown of the components used:\n",
    "    - Each part number is \\$4 (i.e 7400, 7404, 7408,...)\n",
    "    - Each other Component (LED, switch, etc) is \\$2\n",
    "    - Each individual connection is charged by \\$1 per wire connection\n",
    "------"
   ]
  },
  {
   "cell_type": "code",
   "execution_count": 1,
   "id": "cf9abff6-7279-422d-9cc9-afde155e7b25",
   "metadata": {
    "tags": []
   },
   "outputs": [],
   "source": [
    "from BooleanAlgebra import Signal \n",
    "from BooleanAlgebra import KarnaughMap as kmap"
   ]
  },
  {
   "cell_type": "markdown",
   "id": "84671e1d-8b65-4fa1-b20e-a792774d249a",
   "metadata": {},
   "source": [
    "- Inputs: Four from level switches (A, B, C, D) representing the binary number\n",
    "- Outputs: One LED turns ON to indicate a valid BCD number as an input, turns OFF for an invalid BCD number"
   ]
  },
  {
   "cell_type": "code",
   "execution_count": 2,
   "id": "6ac8c64d-a707-440b-be5d-e0a8ddc8551e",
   "metadata": {
    "tags": []
   },
   "outputs": [
    {
     "data": {
      "text/markdown": [
       "### Truth Table"
      ],
      "text/plain": [
       "<IPython.core.display.Markdown object>"
      ]
     },
     "metadata": {},
     "output_type": "display_data"
    },
    {
     "data": {
      "text/html": [
       "<div>\n",
       "<style scoped>\n",
       "    .dataframe tbody tr th:only-of-type {\n",
       "        vertical-align: middle;\n",
       "    }\n",
       "\n",
       "    .dataframe tbody tr th {\n",
       "        vertical-align: top;\n",
       "    }\n",
       "\n",
       "    .dataframe thead th {\n",
       "        text-align: right;\n",
       "    }\n",
       "</style>\n",
       "<table border=\"1\" class=\"dataframe\">\n",
       "  <thead>\n",
       "    <tr style=\"text-align: right;\">\n",
       "      <th></th>\n",
       "      <th>A</th>\n",
       "      <th>B</th>\n",
       "      <th>C</th>\n",
       "      <th>D</th>\n",
       "      <th>F</th>\n",
       "    </tr>\n",
       "  </thead>\n",
       "  <tbody>\n",
       "    <tr>\n",
       "      <th>0</th>\n",
       "      <td>0</td>\n",
       "      <td>0</td>\n",
       "      <td>0</td>\n",
       "      <td>0</td>\n",
       "      <td>1</td>\n",
       "    </tr>\n",
       "    <tr>\n",
       "      <th>1</th>\n",
       "      <td>0</td>\n",
       "      <td>0</td>\n",
       "      <td>0</td>\n",
       "      <td>1</td>\n",
       "      <td>1</td>\n",
       "    </tr>\n",
       "    <tr>\n",
       "      <th>2</th>\n",
       "      <td>0</td>\n",
       "      <td>0</td>\n",
       "      <td>1</td>\n",
       "      <td>0</td>\n",
       "      <td>1</td>\n",
       "    </tr>\n",
       "    <tr>\n",
       "      <th>3</th>\n",
       "      <td>0</td>\n",
       "      <td>0</td>\n",
       "      <td>1</td>\n",
       "      <td>1</td>\n",
       "      <td>1</td>\n",
       "    </tr>\n",
       "    <tr>\n",
       "      <th>4</th>\n",
       "      <td>0</td>\n",
       "      <td>1</td>\n",
       "      <td>0</td>\n",
       "      <td>0</td>\n",
       "      <td>1</td>\n",
       "    </tr>\n",
       "    <tr>\n",
       "      <th>5</th>\n",
       "      <td>0</td>\n",
       "      <td>1</td>\n",
       "      <td>0</td>\n",
       "      <td>1</td>\n",
       "      <td>1</td>\n",
       "    </tr>\n",
       "    <tr>\n",
       "      <th>6</th>\n",
       "      <td>0</td>\n",
       "      <td>1</td>\n",
       "      <td>1</td>\n",
       "      <td>0</td>\n",
       "      <td>1</td>\n",
       "    </tr>\n",
       "    <tr>\n",
       "      <th>7</th>\n",
       "      <td>0</td>\n",
       "      <td>1</td>\n",
       "      <td>1</td>\n",
       "      <td>1</td>\n",
       "      <td>1</td>\n",
       "    </tr>\n",
       "    <tr>\n",
       "      <th>8</th>\n",
       "      <td>1</td>\n",
       "      <td>0</td>\n",
       "      <td>0</td>\n",
       "      <td>0</td>\n",
       "      <td>1</td>\n",
       "    </tr>\n",
       "    <tr>\n",
       "      <th>9</th>\n",
       "      <td>1</td>\n",
       "      <td>0</td>\n",
       "      <td>0</td>\n",
       "      <td>1</td>\n",
       "      <td>1</td>\n",
       "    </tr>\n",
       "    <tr>\n",
       "      <th>10</th>\n",
       "      <td>1</td>\n",
       "      <td>0</td>\n",
       "      <td>1</td>\n",
       "      <td>0</td>\n",
       "      <td>0</td>\n",
       "    </tr>\n",
       "    <tr>\n",
       "      <th>11</th>\n",
       "      <td>1</td>\n",
       "      <td>0</td>\n",
       "      <td>1</td>\n",
       "      <td>1</td>\n",
       "      <td>0</td>\n",
       "    </tr>\n",
       "    <tr>\n",
       "      <th>12</th>\n",
       "      <td>1</td>\n",
       "      <td>1</td>\n",
       "      <td>0</td>\n",
       "      <td>0</td>\n",
       "      <td>0</td>\n",
       "    </tr>\n",
       "    <tr>\n",
       "      <th>13</th>\n",
       "      <td>1</td>\n",
       "      <td>1</td>\n",
       "      <td>0</td>\n",
       "      <td>1</td>\n",
       "      <td>0</td>\n",
       "    </tr>\n",
       "    <tr>\n",
       "      <th>14</th>\n",
       "      <td>1</td>\n",
       "      <td>1</td>\n",
       "      <td>1</td>\n",
       "      <td>0</td>\n",
       "      <td>0</td>\n",
       "    </tr>\n",
       "    <tr>\n",
       "      <th>15</th>\n",
       "      <td>1</td>\n",
       "      <td>1</td>\n",
       "      <td>1</td>\n",
       "      <td>1</td>\n",
       "      <td>0</td>\n",
       "    </tr>\n",
       "  </tbody>\n",
       "</table>\n",
       "</div>"
      ],
      "text/plain": [
       "    A  B  C  D  F\n",
       "0   0  0  0  0  1\n",
       "1   0  0  0  1  1\n",
       "2   0  0  1  0  1\n",
       "3   0  0  1  1  1\n",
       "4   0  1  0  0  1\n",
       "5   0  1  0  1  1\n",
       "6   0  1  1  0  1\n",
       "7   0  1  1  1  1\n",
       "8   1  0  0  0  1\n",
       "9   1  0  0  1  1\n",
       "10  1  0  1  0  0\n",
       "11  1  0  1  1  0\n",
       "12  1  1  0  0  0\n",
       "13  1  1  0  1  0\n",
       "14  1  1  1  0  0\n",
       "15  1  1  1  1  0"
      ]
     },
     "metadata": {},
     "output_type": "display_data"
    },
    {
     "data": {
      "text/markdown": [
       "### KMAP"
      ],
      "text/plain": [
       "<IPython.core.display.Markdown object>"
      ]
     },
     "metadata": {},
     "output_type": "display_data"
    },
    {
     "data": {
      "text/html": [
       "<div>\n",
       "<style scoped>\n",
       "    .dataframe tbody tr th:only-of-type {\n",
       "        vertical-align: middle;\n",
       "    }\n",
       "\n",
       "    .dataframe tbody tr th {\n",
       "        vertical-align: top;\n",
       "    }\n",
       "\n",
       "    .dataframe thead tr th {\n",
       "        text-align: left;\n",
       "    }\n",
       "</style>\n",
       "<table border=\"1\" class=\"dataframe\">\n",
       "  <thead>\n",
       "    <tr>\n",
       "      <th></th>\n",
       "      <th></th>\n",
       "      <th>00</th>\n",
       "      <th>01</th>\n",
       "      <th>11</th>\n",
       "      <th>10</th>\n",
       "    </tr>\n",
       "    <tr>\n",
       "      <th></th>\n",
       "      <th></th>\n",
       "      <th>C'D'</th>\n",
       "      <th>C'D</th>\n",
       "      <th>CD</th>\n",
       "      <th>CD'</th>\n",
       "    </tr>\n",
       "  </thead>\n",
       "  <tbody>\n",
       "    <tr>\n",
       "      <th>00</th>\n",
       "      <th>A'B'</th>\n",
       "      <td>1</td>\n",
       "      <td>1</td>\n",
       "      <td>1</td>\n",
       "      <td>1</td>\n",
       "    </tr>\n",
       "    <tr>\n",
       "      <th>01</th>\n",
       "      <th>A'B</th>\n",
       "      <td>1</td>\n",
       "      <td>1</td>\n",
       "      <td>1</td>\n",
       "      <td>1</td>\n",
       "    </tr>\n",
       "    <tr>\n",
       "      <th>11</th>\n",
       "      <th>AB</th>\n",
       "      <td>0</td>\n",
       "      <td>0</td>\n",
       "      <td>0</td>\n",
       "      <td>0</td>\n",
       "    </tr>\n",
       "    <tr>\n",
       "      <th>10</th>\n",
       "      <th>AB'</th>\n",
       "      <td>1</td>\n",
       "      <td>1</td>\n",
       "      <td>0</td>\n",
       "      <td>0</td>\n",
       "    </tr>\n",
       "  </tbody>\n",
       "</table>\n",
       "</div>"
      ],
      "text/plain": [
       "          00  01 11  10\n",
       "        C'D' C'D CD CD'\n",
       "00 A'B'    1   1  1   1\n",
       "01 A'B     1   1  1   1\n",
       "11 AB      0   0  0   0\n",
       "10 AB'     1   1  0   0"
      ]
     },
     "metadata": {},
     "output_type": "display_data"
    },
    {
     "data": {
      "text/plain": []
     },
     "metadata": {},
     "output_type": "display_data"
    },
    {
     "data": {
      "text/markdown": [
       "### KMAP Legend"
      ],
      "text/plain": [
       "<IPython.core.display.Markdown object>"
      ]
     },
     "metadata": {},
     "output_type": "display_data"
    },
    {
     "data": {
      "text/html": [
       "<div>\n",
       "<style scoped>\n",
       "    .dataframe tbody tr th:only-of-type {\n",
       "        vertical-align: middle;\n",
       "    }\n",
       "\n",
       "    .dataframe tbody tr th {\n",
       "        vertical-align: top;\n",
       "    }\n",
       "\n",
       "    .dataframe thead tr th {\n",
       "        text-align: left;\n",
       "    }\n",
       "</style>\n",
       "<table border=\"1\" class=\"dataframe\">\n",
       "  <thead>\n",
       "    <tr>\n",
       "      <th></th>\n",
       "      <th></th>\n",
       "      <th>00</th>\n",
       "      <th>01</th>\n",
       "      <th>11</th>\n",
       "      <th>10</th>\n",
       "    </tr>\n",
       "    <tr>\n",
       "      <th></th>\n",
       "      <th></th>\n",
       "      <th>C'D'</th>\n",
       "      <th>C'D</th>\n",
       "      <th>CD</th>\n",
       "      <th>CD'</th>\n",
       "    </tr>\n",
       "  </thead>\n",
       "  <tbody>\n",
       "    <tr>\n",
       "      <th>00</th>\n",
       "      <th>A'B'</th>\n",
       "      <td>0</td>\n",
       "      <td>1</td>\n",
       "      <td>3</td>\n",
       "      <td>2</td>\n",
       "    </tr>\n",
       "    <tr>\n",
       "      <th>01</th>\n",
       "      <th>A'B</th>\n",
       "      <td>4</td>\n",
       "      <td>5</td>\n",
       "      <td>7</td>\n",
       "      <td>6</td>\n",
       "    </tr>\n",
       "    <tr>\n",
       "      <th>11</th>\n",
       "      <th>AB</th>\n",
       "      <td>12</td>\n",
       "      <td>13</td>\n",
       "      <td>15</td>\n",
       "      <td>14</td>\n",
       "    </tr>\n",
       "    <tr>\n",
       "      <th>10</th>\n",
       "      <th>AB'</th>\n",
       "      <td>8</td>\n",
       "      <td>9</td>\n",
       "      <td>11</td>\n",
       "      <td>10</td>\n",
       "    </tr>\n",
       "  </tbody>\n",
       "</table>\n",
       "</div>"
      ],
      "text/plain": [
       "          00  01  11  10\n",
       "        C'D' C'D  CD CD'\n",
       "00 A'B'    0   1   3   2\n",
       "01 A'B     4   5   7   6\n",
       "11 AB     12  13  15  14\n",
       "10 AB'     8   9  11  10"
      ]
     },
     "metadata": {},
     "output_type": "display_data"
    },
    {
     "data": {
      "text/plain": []
     },
     "metadata": {},
     "output_type": "display_data"
    }
   ],
   "source": [
    "import numpy as np\n",
    "XOR = lambda x: np.logical_xor(x).astype(int)\n",
    "OR = lambda x: np.logical_or(x).astype(int)\n",
    "AND =lambda x:  np.logical_and(x).astype(int)\n",
    "NOT = lambda x: np.logical_not(x).astype(int)\n",
    "Signal(num_vars = 4,fn = ([1,1,1,1,1,1,1,1,1,1,0,0,0,0,0,0]), show_legend =False).display()"
   ]
  },
  {
   "cell_type": "markdown",
   "id": "4a543b29-e896-4c23-b649-81c56dfee5ca",
   "metadata": {},
   "source": [
    "### [1.0] First Prototype (SOP from TT):\n",
    "$A'B'C'D' + A'B'C'D + A'B'CD' + A'B'CD + A'BC'D' + A'BC'D + A'BCD' + A'BCD + AB'C'D' + AB'C'D$"
   ]
  },
  {
   "cell_type": "code",
   "execution_count": 2,
   "id": "8e183872-0357-4e6e-b4a8-59f588e8d2e9",
   "metadata": {
    "tags": []
   },
   "outputs": [
    {
     "data": {
      "image/png": "[encoded data removed]",
      "text/plain": [
       "<Figure size 2000x4000 with 1 Axes>"
      ]
     },
     "metadata": {},
     "output_type": "display_data"
    }
   ],
   "source": [
    "from BooleanAlgebra import LogicPlotter\n",
    "tp = LogicPlotter()\n",
    "\n",
    "circuit = {\n",
    "    \"assign\": [\n",
    "        [\n",
    "            \"F\",\n",
    "            [\"|\", \n",
    "             [\"&\", [\"~\", \"A\"],[\"~\", \"B\"],[\"~\", \"C\"],[\"~\", \"D\"]],\n",
    "             [\"&\", [\"~\", \"A\"],[\"~\", \"B\"],[\"~\", \"C\"], \"D\"],\n",
    "             [\"&\", [\"~\", \"A\"],[\"~\", \"B\"],\"C\",[\"~\", \"D\"]],\n",
    "             [\"&\", [\"~\", \"A\"],[\"~\", \"B\"],\"C\",\"D\"],\n",
    "             [\"&\", [\"~\", \"A\"],\"B\",[\"~\", \"C\"],[\"~\", \"D\"]],\n",
    "             [\"&\", [\"~\", \"A\"], \"B\",[\"~\", \"C\"], \"D\"],\n",
    "             [\"&\", [\"~\", \"A\"], \"B\", \"C\",[\"~\", \"D\"]],\n",
    "             [\"&\", [\"~\", \"A\"], \"B\",\"C\", \"D\"],\n",
    "             [\"&\",  \"A\",[\"~\", \"B\"],[\"~\", \"C\"],[\"~\", \"D\"]],\n",
    "             [\"&\", \"A\",[\"~\", \"B\"],[\"~\", \"C\"],\"D\"],\n",
    "            ],\n",
    "        ]\n",
    "    ]\n",
    "}\n",
    "\n",
    "tp.make_logic(circuit,20,40,2500,2500)"
   ]
  },
  {
   "cell_type": "markdown",
   "id": "84e2e9c4-118f-43bd-a292-342f5db75f6f",
   "metadata": {},
   "source": [
    "From the diagram, we need:\n",
    "- 25 7404 ICs (not gates)                                       = 100\\$\n",
    "- 5 7408 ICs (and gates) $\\rightarrow $ ceil(( 20x two input and gates)/(4 gates per IC)) = 20\\$\n",
    "- 10 7432 IC  (2pin or gate) = 40\\$\n",
    "- 4 switched to control the system = 8\\$\n",
    "- 1 led =2$\n",
    "- 40 + 10 + 25 wires = 75\\$\n",
    "\n",
    "#### **Total BOM cost = 245**\\$\n",
    "----"
   ]
  },
  {
   "cell_type": "markdown",
   "id": "46543263-44b4-41b6-99ac-f7f10db60570",
   "metadata": {},
   "source": [
    "## [2.3] First Reuction: (using only AND, OR, NOT)"
   ]
  },
  {
   "cell_type": "markdown",
   "id": "9b54341c-8e44-49dc-b76d-a0693cefd900",
   "metadata": {},
   "source": [
    "$A'+ B'C'$"
   ]
  },
  {
   "cell_type": "code",
   "execution_count": 4,
   "id": "44e8e0b4-10cb-4185-b92f-f313ea581e79",
   "metadata": {
    "tags": []
   },
   "outputs": [
    {
     "data": {
      "image/png": "[encoded data removed]",
      "text/plain": [
       "<Figure size 800x800 with 1 Axes>"
      ]
     },
     "metadata": {},
     "output_type": "display_data"
    }
   ],
   "source": [
    "\n",
    "tp = LogicPlotter()\n",
    "circuit = {\n",
    "    \"assign\": [\n",
    "        [\n",
    "            \"F\",\n",
    "            [\"|\", [\"~\", \"A\"], \n",
    "             [\"&\", [\"~\", \"B\"],[\"~\", \"C\"]]\n",
    "            ],\n",
    "        ]\n",
    "    ]\n",
    "}\n",
    "\n",
    "tp.make_logic(circuit)"
   ]
  },
  {
   "cell_type": "markdown",
   "id": "eabaf5da-6462-4126-a615-fc7e82462032",
   "metadata": {
    "tags": []
   },
   "source": [
    "From the diagram, we need:\n",
    "- 3 7404 ICs (not gates)                = 12\\$\n",
    "- 1 7408 ICs (and gates) $\\rightarrow $ = 4\\$\n",
    "- 1 7432 IC  (or gate) = 4\\$\n",
    "- 3 switches to control the system = 6\\$\n",
    "- 1 led =2$\n",
    "- 2 + 2+3 +1 wires = 9\\$\n",
    "\n",
    "#### **Total BOM cost = 39**\\$\n",
    "-----"
   ]
  },
  {
   "cell_type": "markdown",
   "id": "d3bdcc12-b97b-4477-8182-ce6a282c00e2",
   "metadata": {},
   "source": [
    "## [4.1] NAND only Reduction (Bubble Method)(No Don't Cares)"
   ]
  },
  {
   "cell_type": "code",
   "execution_count": 5,
   "id": "f043be15-c2e9-4530-a066-70cda8b7eaee",
   "metadata": {
    "tags": []
   },
   "outputs": [
    {
     "data": {
      "image/png": "[encoded data removed]",
      "text/plain": [
       "<Figure size 800x800 with 1 Axes>"
      ]
     },
     "metadata": {},
     "output_type": "display_data"
    }
   ],
   "source": [
    "from BooleanAlgebra import LogicPlotter\n",
    "\n",
    "tp = LogicPlotter()\n",
    "circuit = {\n",
    "    \"assign\": [\n",
    "        [\n",
    "            \"F\",\n",
    "            [\"~&\",  \"A\", \n",
    "             [\"|\",  \"B\", \"C\"]\n",
    "            ],\n",
    "        ]\n",
    "    ]\n",
    "}\n",
    "\n",
    "tp.make_logic(circuit)"
   ]
  },
  {
   "cell_type": "code",
   "execution_count": 6,
   "id": "175b9121-f3f5-4e11-8d45-bf4405780a49",
   "metadata": {
    "tags": []
   },
   "outputs": [
    {
     "data": {
      "text/plain": [
       "'Verifying that the reduced circuit has the same truth table as before, it does. '"
      ]
     },
     "metadata": {},
     "output_type": "display_data"
    },
    {
     "data": {
      "text/markdown": [
       "### Truth Table"
      ],
      "text/plain": [
       "<IPython.core.display.Markdown object>"
      ]
     },
     "metadata": {},
     "output_type": "display_data"
    },
    {
     "data": {
      "text/html": [
       "<div>\n",
       "<style scoped>\n",
       "    .dataframe tbody tr th:only-of-type {\n",
       "        vertical-align: middle;\n",
       "    }\n",
       "\n",
       "    .dataframe tbody tr th {\n",
       "        vertical-align: top;\n",
       "    }\n",
       "\n",
       "    .dataframe thead th {\n",
       "        text-align: right;\n",
       "    }\n",
       "</style>\n",
       "<table border=\"1\" class=\"dataframe\">\n",
       "  <thead>\n",
       "    <tr style=\"text-align: right;\">\n",
       "      <th></th>\n",
       "      <th>A</th>\n",
       "      <th>B</th>\n",
       "      <th>C</th>\n",
       "      <th>D</th>\n",
       "      <th>F</th>\n",
       "    </tr>\n",
       "  </thead>\n",
       "  <tbody>\n",
       "    <tr>\n",
       "      <th>0</th>\n",
       "      <td>0</td>\n",
       "      <td>0</td>\n",
       "      <td>0</td>\n",
       "      <td>0</td>\n",
       "      <td>1</td>\n",
       "    </tr>\n",
       "    <tr>\n",
       "      <th>1</th>\n",
       "      <td>0</td>\n",
       "      <td>0</td>\n",
       "      <td>0</td>\n",
       "      <td>1</td>\n",
       "      <td>1</td>\n",
       "    </tr>\n",
       "    <tr>\n",
       "      <th>2</th>\n",
       "      <td>0</td>\n",
       "      <td>0</td>\n",
       "      <td>1</td>\n",
       "      <td>0</td>\n",
       "      <td>1</td>\n",
       "    </tr>\n",
       "    <tr>\n",
       "      <th>3</th>\n",
       "      <td>0</td>\n",
       "      <td>0</td>\n",
       "      <td>1</td>\n",
       "      <td>1</td>\n",
       "      <td>1</td>\n",
       "    </tr>\n",
       "    <tr>\n",
       "      <th>4</th>\n",
       "      <td>0</td>\n",
       "      <td>1</td>\n",
       "      <td>0</td>\n",
       "      <td>0</td>\n",
       "      <td>1</td>\n",
       "    </tr>\n",
       "    <tr>\n",
       "      <th>5</th>\n",
       "      <td>0</td>\n",
       "      <td>1</td>\n",
       "      <td>0</td>\n",
       "      <td>1</td>\n",
       "      <td>1</td>\n",
       "    </tr>\n",
       "    <tr>\n",
       "      <th>6</th>\n",
       "      <td>0</td>\n",
       "      <td>1</td>\n",
       "      <td>1</td>\n",
       "      <td>0</td>\n",
       "      <td>1</td>\n",
       "    </tr>\n",
       "    <tr>\n",
       "      <th>7</th>\n",
       "      <td>0</td>\n",
       "      <td>1</td>\n",
       "      <td>1</td>\n",
       "      <td>1</td>\n",
       "      <td>1</td>\n",
       "    </tr>\n",
       "    <tr>\n",
       "      <th>8</th>\n",
       "      <td>1</td>\n",
       "      <td>0</td>\n",
       "      <td>0</td>\n",
       "      <td>0</td>\n",
       "      <td>1</td>\n",
       "    </tr>\n",
       "    <tr>\n",
       "      <th>9</th>\n",
       "      <td>1</td>\n",
       "      <td>0</td>\n",
       "      <td>0</td>\n",
       "      <td>1</td>\n",
       "      <td>1</td>\n",
       "    </tr>\n",
       "    <tr>\n",
       "      <th>10</th>\n",
       "      <td>1</td>\n",
       "      <td>0</td>\n",
       "      <td>1</td>\n",
       "      <td>0</td>\n",
       "      <td>0</td>\n",
       "    </tr>\n",
       "    <tr>\n",
       "      <th>11</th>\n",
       "      <td>1</td>\n",
       "      <td>0</td>\n",
       "      <td>1</td>\n",
       "      <td>1</td>\n",
       "      <td>0</td>\n",
       "    </tr>\n",
       "    <tr>\n",
       "      <th>12</th>\n",
       "      <td>1</td>\n",
       "      <td>1</td>\n",
       "      <td>0</td>\n",
       "      <td>0</td>\n",
       "      <td>0</td>\n",
       "    </tr>\n",
       "    <tr>\n",
       "      <th>13</th>\n",
       "      <td>1</td>\n",
       "      <td>1</td>\n",
       "      <td>0</td>\n",
       "      <td>1</td>\n",
       "      <td>0</td>\n",
       "    </tr>\n",
       "    <tr>\n",
       "      <th>14</th>\n",
       "      <td>1</td>\n",
       "      <td>1</td>\n",
       "      <td>1</td>\n",
       "      <td>0</td>\n",
       "      <td>0</td>\n",
       "    </tr>\n",
       "    <tr>\n",
       "      <th>15</th>\n",
       "      <td>1</td>\n",
       "      <td>1</td>\n",
       "      <td>1</td>\n",
       "      <td>1</td>\n",
       "      <td>0</td>\n",
       "    </tr>\n",
       "  </tbody>\n",
       "</table>\n",
       "</div>"
      ],
      "text/plain": [
       "    A  B  C  D  F\n",
       "0   0  0  0  0  1\n",
       "1   0  0  0  1  1\n",
       "2   0  0  1  0  1\n",
       "3   0  0  1  1  1\n",
       "4   0  1  0  0  1\n",
       "5   0  1  0  1  1\n",
       "6   0  1  1  0  1\n",
       "7   0  1  1  1  1\n",
       "8   1  0  0  0  1\n",
       "9   1  0  0  1  1\n",
       "10  1  0  1  0  0\n",
       "11  1  0  1  1  0\n",
       "12  1  1  0  0  0\n",
       "13  1  1  0  1  0\n",
       "14  1  1  1  0  0\n",
       "15  1  1  1  1  0"
      ]
     },
     "metadata": {},
     "output_type": "display_data"
    },
    {
     "data": {
      "text/markdown": [
       "### KMAP"
      ],
      "text/plain": [
       "<IPython.core.display.Markdown object>"
      ]
     },
     "metadata": {},
     "output_type": "display_data"
    },
    {
     "data": {
      "text/html": [
       "<div>\n",
       "<style scoped>\n",
       "    .dataframe tbody tr th:only-of-type {\n",
       "        vertical-align: middle;\n",
       "    }\n",
       "\n",
       "    .dataframe tbody tr th {\n",
       "        vertical-align: top;\n",
       "    }\n",
       "\n",
       "    .dataframe thead tr th {\n",
       "        text-align: left;\n",
       "    }\n",
       "</style>\n",
       "<table border=\"1\" class=\"dataframe\">\n",
       "  <thead>\n",
       "    <tr>\n",
       "      <th></th>\n",
       "      <th></th>\n",
       "      <th>00</th>\n",
       "      <th>01</th>\n",
       "      <th>11</th>\n",
       "      <th>10</th>\n",
       "    </tr>\n",
       "    <tr>\n",
       "      <th></th>\n",
       "      <th></th>\n",
       "      <th>C'D'</th>\n",
       "      <th>C'D</th>\n",
       "      <th>CD</th>\n",
       "      <th>CD'</th>\n",
       "    </tr>\n",
       "  </thead>\n",
       "  <tbody>\n",
       "    <tr>\n",
       "      <th>00</th>\n",
       "      <th>A'B'</th>\n",
       "      <td>1</td>\n",
       "      <td>1</td>\n",
       "      <td>1</td>\n",
       "      <td>1</td>\n",
       "    </tr>\n",
       "    <tr>\n",
       "      <th>01</th>\n",
       "      <th>A'B</th>\n",
       "      <td>1</td>\n",
       "      <td>1</td>\n",
       "      <td>1</td>\n",
       "      <td>1</td>\n",
       "    </tr>\n",
       "    <tr>\n",
       "      <th>11</th>\n",
       "      <th>AB</th>\n",
       "      <td>0</td>\n",
       "      <td>0</td>\n",
       "      <td>0</td>\n",
       "      <td>0</td>\n",
       "    </tr>\n",
       "    <tr>\n",
       "      <th>10</th>\n",
       "      <th>AB'</th>\n",
       "      <td>1</td>\n",
       "      <td>1</td>\n",
       "      <td>0</td>\n",
       "      <td>0</td>\n",
       "    </tr>\n",
       "  </tbody>\n",
       "</table>\n",
       "</div>"
      ],
      "text/plain": [
       "          00  01 11  10\n",
       "        C'D' C'D CD CD'\n",
       "00 A'B'    1   1  1   1\n",
       "01 A'B     1   1  1   1\n",
       "11 AB      0   0  0   0\n",
       "10 AB'     1   1  0   0"
      ]
     },
     "metadata": {},
     "output_type": "display_data"
    },
    {
     "data": {
      "text/plain": []
     },
     "metadata": {},
     "output_type": "display_data"
    },
    {
     "data": {
      "text/markdown": [
       "### KMAP Legend"
      ],
      "text/plain": [
       "<IPython.core.display.Markdown object>"
      ]
     },
     "metadata": {},
     "output_type": "display_data"
    },
    {
     "data": {
      "text/html": [
       "<div>\n",
       "<style scoped>\n",
       "    .dataframe tbody tr th:only-of-type {\n",
       "        vertical-align: middle;\n",
       "    }\n",
       "\n",
       "    .dataframe tbody tr th {\n",
       "        vertical-align: top;\n",
       "    }\n",
       "\n",
       "    .dataframe thead tr th {\n",
       "        text-align: left;\n",
       "    }\n",
       "</style>\n",
       "<table border=\"1\" class=\"dataframe\">\n",
       "  <thead>\n",
       "    <tr>\n",
       "      <th></th>\n",
       "      <th></th>\n",
       "      <th>00</th>\n",
       "      <th>01</th>\n",
       "      <th>11</th>\n",
       "      <th>10</th>\n",
       "    </tr>\n",
       "    <tr>\n",
       "      <th></th>\n",
       "      <th></th>\n",
       "      <th>C'D'</th>\n",
       "      <th>C'D</th>\n",
       "      <th>CD</th>\n",
       "      <th>CD'</th>\n",
       "    </tr>\n",
       "  </thead>\n",
       "  <tbody>\n",
       "    <tr>\n",
       "      <th>00</th>\n",
       "      <th>A'B'</th>\n",
       "      <td>0</td>\n",
       "      <td>1</td>\n",
       "      <td>3</td>\n",
       "      <td>2</td>\n",
       "    </tr>\n",
       "    <tr>\n",
       "      <th>01</th>\n",
       "      <th>A'B</th>\n",
       "      <td>4</td>\n",
       "      <td>5</td>\n",
       "      <td>7</td>\n",
       "      <td>6</td>\n",
       "    </tr>\n",
       "    <tr>\n",
       "      <th>11</th>\n",
       "      <th>AB</th>\n",
       "      <td>12</td>\n",
       "      <td>13</td>\n",
       "      <td>15</td>\n",
       "      <td>14</td>\n",
       "    </tr>\n",
       "    <tr>\n",
       "      <th>10</th>\n",
       "      <th>AB'</th>\n",
       "      <td>8</td>\n",
       "      <td>9</td>\n",
       "      <td>11</td>\n",
       "      <td>10</td>\n",
       "    </tr>\n",
       "  </tbody>\n",
       "</table>\n",
       "</div>"
      ],
      "text/plain": [
       "          00  01  11  10\n",
       "        C'D' C'D  CD CD'\n",
       "00 A'B'    0   1   3   2\n",
       "01 A'B     4   5   7   6\n",
       "11 AB     12  13  15  14\n",
       "10 AB'     8   9  11  10"
      ]
     },
     "metadata": {},
     "output_type": "display_data"
    },
    {
     "data": {
      "text/plain": []
     },
     "metadata": {},
     "output_type": "display_data"
    }
   ],
   "source": [
    "display(\"Verifying that the reduced circuit has the same truth table as before, it does. \")\n",
    "Signal(4, expression=['not ( A and ( B or C ))']).display()"
   ]
  },
  {
   "cell_type": "markdown",
   "id": "42f184f3-75b6-4a68-b238-e5c3726b43c5",
   "metadata": {},
   "source": [
    "Final Part cost :\n",
    "\n",
    "- 1 7420 ICs (nand gates)  = 4\\$\n",
    "- 1 7432 IC (or gate) = 4\\$\n",
    "- 3 switches to control the system = 6\\$\n",
    "- 1 led =2\\$\n",
    "- 5 wires = 5\\$\n",
    "\n",
    "#### **Total reduced BOM cost: 21\\$**"
   ]
  },
  {
   "cell_type": "markdown",
   "id": "0067ff0a-6054-41a2-879f-28d286468e15",
   "metadata": {
    "tags": []
   },
   "source": [
    "Therefore, there was a 9.1x cost reduction"
   ]
  },
  {
   "cell_type": "markdown",
   "id": "0f1998de-111a-4f0e-b567-bdcab69e64e1",
   "metadata": {},
   "source": [
    "------"
   ]
  },
  {
   "cell_type": "markdown",
   "id": "f765fb70-65fe-4f64-a0f0-bc0f6c266923",
   "metadata": {
    "tags": []
   },
   "source": [
    "### [4.2] Don't Care Reduction\n",
    "See above KMAP legend, setting 11 and 10 to don't care would result in the following groups:\n",
    "\n",
    "$(0,1,2,3,4,5,6,7)\\rightarrow A'$\n",
    "\n",
    "$(0,1,2,3,8,9,10,11) \\rightarrow B'$\n",
    "\n",
    "Therefore, the final reduction is  : $A' + B'$"
   ]
  },
  {
   "cell_type": "code",
   "execution_count": 7,
   "id": "ff4b780a-a645-4f12-b3bb-a7496676a49e",
   "metadata": {
    "tags": []
   },
   "outputs": [
    {
     "data": {
      "image/png": "[encoded data removed]",
      "text/plain": [
       "<Figure size 800x800 with 1 Axes>"
      ]
     },
     "metadata": {},
     "output_type": "display_data"
    }
   ],
   "source": [
    "from BooleanAlgebra import LogicPlotter\n",
    "\n",
    "tp = LogicPlotter()\n",
    "circuit = {\n",
    "    \"assign\": [\n",
    "        [\n",
    "            \"F\",\n",
    "             [\"|\",  [\"~\",\"A\"], [\"~\",\"B\"]]\n",
    "            ],\n",
    "        ]\n",
    "}\n",
    "\n",
    "tp.make_logic(circuit)"
   ]
  },
  {
   "cell_type": "markdown",
   "id": "c8cb5f80-5484-43a1-b009-f8b79c57422b",
   "metadata": {},
   "source": [
    "Final Part cost :\n",
    "\n",
    "- 2 7404 ICs (not gates)  = 4\\$\n",
    "- 1 7432 IC (or gate) = 4\\$\n",
    "- 2 switches to control the system = 6\\$\n",
    "- 1 led =2\\$\n",
    "- 5 wires = 5\\$\n",
    "\n",
    "#### **Total reduced BOM cost: 19\\$**"
   ]
  },
  {
   "cell_type": "markdown",
   "id": "898944d5-bbd1-4141-a80e-9cc396f6063d",
   "metadata": {
    "tags": []
   },
   "source": [
    "------\n",
    "\n",
    "### [4.4] NAND only Don't Care Reduction\n",
    "Convert the don't care logic diagram to use only NAND gates.\n",
    "\n",
    "*Note:  I used the demorgans law here*"
   ]
  },
  {
   "cell_type": "code",
   "execution_count": 8,
   "id": "6d6434f0-94ed-4706-bfd7-aa0465bae04e",
   "metadata": {
    "tags": []
   },
   "outputs": [
    {
     "data": {
      "image/png": "[encoded data removed]",
      "text/plain": [
       "<Figure size 800x800 with 1 Axes>"
      ]
     },
     "metadata": {},
     "output_type": "display_data"
    }
   ],
   "source": [
    "tp = LogicPlotter()\n",
    "circuit = {\n",
    "    \"assign\": [\n",
    "        [\n",
    "            \"F\",\n",
    "             [\"~&\",  \"A\", \"B\"]\n",
    "            ],\n",
    "        ]\n",
    "}\n",
    "\n",
    "tp.make_logic(circuit)"
   ]
  },
  {
   "cell_type": "markdown",
   "id": "95d7ff8d-371f-4d17-b251-3c78108a18f5",
   "metadata": {},
   "source": [
    "Final Part cost :\n",
    "\n",
    "- 1 7420 ICs (nand gates)  = 4\\$\n",
    "- 2 switches to control the system = 4\\$\n",
    "- 1 led =2\\$\n",
    "- 3 wires = 3\\$\n",
    "\n",
    "#### **Total reduced BOM cost: 13\\$**"
   ]
  },
  {
   "cell_type": "code",
   "execution_count": 9,
   "id": "75a6454e-7343-4d3e-a95f-2a316498fc16",
   "metadata": {
    "tags": []
   },
   "outputs": [
    {
     "data": {
      "text/plain": [
       "\"Note, 10 and 11 minterms are don't cares. The truth table is equivalent to the starting circuit so this is valid. Very cool that we can reduce to a single nand gate\""
      ]
     },
     "metadata": {},
     "output_type": "display_data"
    },
    {
     "data": {
      "text/markdown": [
       "### Truth Table"
      ],
      "text/plain": [
       "<IPython.core.display.Markdown object>"
      ]
     },
     "metadata": {},
     "output_type": "display_data"
    },
    {
     "data": {
      "text/html": [
       "<div>\n",
       "<style scoped>\n",
       "    .dataframe tbody tr th:only-of-type {\n",
       "        vertical-align: middle;\n",
       "    }\n",
       "\n",
       "    .dataframe tbody tr th {\n",
       "        vertical-align: top;\n",
       "    }\n",
       "\n",
       "    .dataframe thead th {\n",
       "        text-align: right;\n",
       "    }\n",
       "</style>\n",
       "<table border=\"1\" class=\"dataframe\">\n",
       "  <thead>\n",
       "    <tr style=\"text-align: right;\">\n",
       "      <th></th>\n",
       "      <th>A</th>\n",
       "      <th>B</th>\n",
       "      <th>C</th>\n",
       "      <th>D</th>\n",
       "      <th>F</th>\n",
       "    </tr>\n",
       "  </thead>\n",
       "  <tbody>\n",
       "    <tr>\n",
       "      <th>0</th>\n",
       "      <td>0</td>\n",
       "      <td>0</td>\n",
       "      <td>0</td>\n",
       "      <td>0</td>\n",
       "      <td>1</td>\n",
       "    </tr>\n",
       "    <tr>\n",
       "      <th>1</th>\n",
       "      <td>0</td>\n",
       "      <td>0</td>\n",
       "      <td>0</td>\n",
       "      <td>1</td>\n",
       "      <td>1</td>\n",
       "    </tr>\n",
       "    <tr>\n",
       "      <th>2</th>\n",
       "      <td>0</td>\n",
       "      <td>0</td>\n",
       "      <td>1</td>\n",
       "      <td>0</td>\n",
       "      <td>1</td>\n",
       "    </tr>\n",
       "    <tr>\n",
       "      <th>3</th>\n",
       "      <td>0</td>\n",
       "      <td>0</td>\n",
       "      <td>1</td>\n",
       "      <td>1</td>\n",
       "      <td>1</td>\n",
       "    </tr>\n",
       "    <tr>\n",
       "      <th>4</th>\n",
       "      <td>0</td>\n",
       "      <td>1</td>\n",
       "      <td>0</td>\n",
       "      <td>0</td>\n",
       "      <td>1</td>\n",
       "    </tr>\n",
       "    <tr>\n",
       "      <th>5</th>\n",
       "      <td>0</td>\n",
       "      <td>1</td>\n",
       "      <td>0</td>\n",
       "      <td>1</td>\n",
       "      <td>1</td>\n",
       "    </tr>\n",
       "    <tr>\n",
       "      <th>6</th>\n",
       "      <td>0</td>\n",
       "      <td>1</td>\n",
       "      <td>1</td>\n",
       "      <td>0</td>\n",
       "      <td>1</td>\n",
       "    </tr>\n",
       "    <tr>\n",
       "      <th>7</th>\n",
       "      <td>0</td>\n",
       "      <td>1</td>\n",
       "      <td>1</td>\n",
       "      <td>1</td>\n",
       "      <td>1</td>\n",
       "    </tr>\n",
       "    <tr>\n",
       "      <th>8</th>\n",
       "      <td>1</td>\n",
       "      <td>0</td>\n",
       "      <td>0</td>\n",
       "      <td>0</td>\n",
       "      <td>1</td>\n",
       "    </tr>\n",
       "    <tr>\n",
       "      <th>9</th>\n",
       "      <td>1</td>\n",
       "      <td>0</td>\n",
       "      <td>0</td>\n",
       "      <td>1</td>\n",
       "      <td>1</td>\n",
       "    </tr>\n",
       "    <tr>\n",
       "      <th>10</th>\n",
       "      <td>1</td>\n",
       "      <td>0</td>\n",
       "      <td>1</td>\n",
       "      <td>0</td>\n",
       "      <td>1</td>\n",
       "    </tr>\n",
       "    <tr>\n",
       "      <th>11</th>\n",
       "      <td>1</td>\n",
       "      <td>0</td>\n",
       "      <td>1</td>\n",
       "      <td>1</td>\n",
       "      <td>1</td>\n",
       "    </tr>\n",
       "    <tr>\n",
       "      <th>12</th>\n",
       "      <td>1</td>\n",
       "      <td>1</td>\n",
       "      <td>0</td>\n",
       "      <td>0</td>\n",
       "      <td>0</td>\n",
       "    </tr>\n",
       "    <tr>\n",
       "      <th>13</th>\n",
       "      <td>1</td>\n",
       "      <td>1</td>\n",
       "      <td>0</td>\n",
       "      <td>1</td>\n",
       "      <td>0</td>\n",
       "    </tr>\n",
       "    <tr>\n",
       "      <th>14</th>\n",
       "      <td>1</td>\n",
       "      <td>1</td>\n",
       "      <td>1</td>\n",
       "      <td>0</td>\n",
       "      <td>0</td>\n",
       "    </tr>\n",
       "    <tr>\n",
       "      <th>15</th>\n",
       "      <td>1</td>\n",
       "      <td>1</td>\n",
       "      <td>1</td>\n",
       "      <td>1</td>\n",
       "      <td>0</td>\n",
       "    </tr>\n",
       "  </tbody>\n",
       "</table>\n",
       "</div>"
      ],
      "text/plain": [
       "    A  B  C  D  F\n",
       "0   0  0  0  0  1\n",
       "1   0  0  0  1  1\n",
       "2   0  0  1  0  1\n",
       "3   0  0  1  1  1\n",
       "4   0  1  0  0  1\n",
       "5   0  1  0  1  1\n",
       "6   0  1  1  0  1\n",
       "7   0  1  1  1  1\n",
       "8   1  0  0  0  1\n",
       "9   1  0  0  1  1\n",
       "10  1  0  1  0  1\n",
       "11  1  0  1  1  1\n",
       "12  1  1  0  0  0\n",
       "13  1  1  0  1  0\n",
       "14  1  1  1  0  0\n",
       "15  1  1  1  1  0"
      ]
     },
     "metadata": {},
     "output_type": "display_data"
    },
    {
     "data": {
      "text/markdown": [
       "### KMAP"
      ],
      "text/plain": [
       "<IPython.core.display.Markdown object>"
      ]
     },
     "metadata": {},
     "output_type": "display_data"
    },
    {
     "data": {
      "text/html": [
       "<div>\n",
       "<style scoped>\n",
       "    .dataframe tbody tr th:only-of-type {\n",
       "        vertical-align: middle;\n",
       "    }\n",
       "\n",
       "    .dataframe tbody tr th {\n",
       "        vertical-align: top;\n",
       "    }\n",
       "\n",
       "    .dataframe thead tr th {\n",
       "        text-align: left;\n",
       "    }\n",
       "</style>\n",
       "<table border=\"1\" class=\"dataframe\">\n",
       "  <thead>\n",
       "    <tr>\n",
       "      <th></th>\n",
       "      <th></th>\n",
       "      <th>00</th>\n",
       "      <th>01</th>\n",
       "      <th>11</th>\n",
       "      <th>10</th>\n",
       "    </tr>\n",
       "    <tr>\n",
       "      <th></th>\n",
       "      <th></th>\n",
       "      <th>C'D'</th>\n",
       "      <th>C'D</th>\n",
       "      <th>CD</th>\n",
       "      <th>CD'</th>\n",
       "    </tr>\n",
       "  </thead>\n",
       "  <tbody>\n",
       "    <tr>\n",
       "      <th>00</th>\n",
       "      <th>A'B'</th>\n",
       "      <td>1</td>\n",
       "      <td>1</td>\n",
       "      <td>1</td>\n",
       "      <td>1</td>\n",
       "    </tr>\n",
       "    <tr>\n",
       "      <th>01</th>\n",
       "      <th>A'B</th>\n",
       "      <td>1</td>\n",
       "      <td>1</td>\n",
       "      <td>1</td>\n",
       "      <td>1</td>\n",
       "    </tr>\n",
       "    <tr>\n",
       "      <th>11</th>\n",
       "      <th>AB</th>\n",
       "      <td>0</td>\n",
       "      <td>0</td>\n",
       "      <td>0</td>\n",
       "      <td>0</td>\n",
       "    </tr>\n",
       "    <tr>\n",
       "      <th>10</th>\n",
       "      <th>AB'</th>\n",
       "      <td>1</td>\n",
       "      <td>1</td>\n",
       "      <td>1</td>\n",
       "      <td>1</td>\n",
       "    </tr>\n",
       "  </tbody>\n",
       "</table>\n",
       "</div>"
      ],
      "text/plain": [
       "          00  01 11  10\n",
       "        C'D' C'D CD CD'\n",
       "00 A'B'    1   1  1   1\n",
       "01 A'B     1   1  1   1\n",
       "11 AB      0   0  0   0\n",
       "10 AB'     1   1  1   1"
      ]
     },
     "metadata": {},
     "output_type": "display_data"
    },
    {
     "data": {
      "text/plain": []
     },
     "metadata": {},
     "output_type": "display_data"
    },
    {
     "data": {
      "text/markdown": [
       "### KMAP Legend"
      ],
      "text/plain": [
       "<IPython.core.display.Markdown object>"
      ]
     },
     "metadata": {},
     "output_type": "display_data"
    },
    {
     "data": {
      "text/html": [
       "<div>\n",
       "<style scoped>\n",
       "    .dataframe tbody tr th:only-of-type {\n",
       "        vertical-align: middle;\n",
       "    }\n",
       "\n",
       "    .dataframe tbody tr th {\n",
       "        vertical-align: top;\n",
       "    }\n",
       "\n",
       "    .dataframe thead tr th {\n",
       "        text-align: left;\n",
       "    }\n",
       "</style>\n",
       "<table border=\"1\" class=\"dataframe\">\n",
       "  <thead>\n",
       "    <tr>\n",
       "      <th></th>\n",
       "      <th></th>\n",
       "      <th>00</th>\n",
       "      <th>01</th>\n",
       "      <th>11</th>\n",
       "      <th>10</th>\n",
       "    </tr>\n",
       "    <tr>\n",
       "      <th></th>\n",
       "      <th></th>\n",
       "      <th>C'D'</th>\n",
       "      <th>C'D</th>\n",
       "      <th>CD</th>\n",
       "      <th>CD'</th>\n",
       "    </tr>\n",
       "  </thead>\n",
       "  <tbody>\n",
       "    <tr>\n",
       "      <th>00</th>\n",
       "      <th>A'B'</th>\n",
       "      <td>0</td>\n",
       "      <td>1</td>\n",
       "      <td>3</td>\n",
       "      <td>2</td>\n",
       "    </tr>\n",
       "    <tr>\n",
       "      <th>01</th>\n",
       "      <th>A'B</th>\n",
       "      <td>4</td>\n",
       "      <td>5</td>\n",
       "      <td>7</td>\n",
       "      <td>6</td>\n",
       "    </tr>\n",
       "    <tr>\n",
       "      <th>11</th>\n",
       "      <th>AB</th>\n",
       "      <td>12</td>\n",
       "      <td>13</td>\n",
       "      <td>15</td>\n",
       "      <td>14</td>\n",
       "    </tr>\n",
       "    <tr>\n",
       "      <th>10</th>\n",
       "      <th>AB'</th>\n",
       "      <td>8</td>\n",
       "      <td>9</td>\n",
       "      <td>11</td>\n",
       "      <td>10</td>\n",
       "    </tr>\n",
       "  </tbody>\n",
       "</table>\n",
       "</div>"
      ],
      "text/plain": [
       "          00  01  11  10\n",
       "        C'D' C'D  CD CD'\n",
       "00 A'B'    0   1   3   2\n",
       "01 A'B     4   5   7   6\n",
       "11 AB     12  13  15  14\n",
       "10 AB'     8   9  11  10"
      ]
     },
     "metadata": {},
     "output_type": "display_data"
    },
    {
     "data": {
      "text/plain": []
     },
     "metadata": {},
     "output_type": "display_data"
    }
   ],
   "source": [
    "display(\"Note, 10 and 11 minterms are don't cares. The truth table is equivalent to the starting circuit so this is valid. Very cool that we can reduce to a single nand gate\")\n",
    "Signal(4, expression=['not ( A  and B)']).display()"
   ]
  },
  {
   "cell_type": "markdown",
   "id": "2fa6de51-bb31-4232-975f-59f0381d8c9d",
   "metadata": {},
   "source": [
    "____\n",
    "# [R] Results\n",
    "\n",
    "**[R.1] \"Why isn’t input D needed in the BCD detector design?\" :**\n",
    "\n",
    "Because, D was factored out during minimum SOP reduction. In the Don't care reduction, C is also eliminated\n",
    "\n",
    "**[R.2] Cost Table**"
   ]
  },
  {
   "cell_type": "code",
   "execution_count": 13,
   "id": "8fbb9568-6d9f-4925-b68a-67482ccbc306",
   "metadata": {
    "tags": []
   },
   "outputs": [
    {
     "data": {
      "text/html": [
       "<div>\n",
       "<style scoped>\n",
       "    .dataframe tbody tr th:only-of-type {\n",
       "        vertical-align: middle;\n",
       "    }\n",
       "\n",
       "    .dataframe tbody tr th {\n",
       "        vertical-align: top;\n",
       "    }\n",
       "\n",
       "    .dataframe thead th {\n",
       "        text-align: right;\n",
       "    }\n",
       "</style>\n",
       "<table border=\"1\" class=\"dataframe\">\n",
       "  <thead>\n",
       "    <tr style=\"text-align: right;\">\n",
       "      <th></th>\n",
       "      <th>Part Cost</th>\n",
       "      <th>Chip Cost</th>\n",
       "      <th>Connection Cost</th>\n",
       "      <th>Total Cost</th>\n",
       "    </tr>\n",
       "  </thead>\n",
       "  <tbody>\n",
       "    <tr>\n",
       "      <th>Original/Proto</th>\n",
       "      <td>10</td>\n",
       "      <td>160</td>\n",
       "      <td>75</td>\n",
       "      <td>245</td>\n",
       "    </tr>\n",
       "    <tr>\n",
       "      <th>Simplified</th>\n",
       "      <td>8</td>\n",
       "      <td>20</td>\n",
       "      <td>5</td>\n",
       "      <td>33</td>\n",
       "    </tr>\n",
       "    <tr>\n",
       "      <th>Don't Care</th>\n",
       "      <td>6</td>\n",
       "      <td>8</td>\n",
       "      <td>5</td>\n",
       "      <td>19</td>\n",
       "    </tr>\n",
       "    <tr>\n",
       "      <th>NAND</th>\n",
       "      <td>6</td>\n",
       "      <td>4</td>\n",
       "      <td>3</td>\n",
       "      <td>13</td>\n",
       "    </tr>\n",
       "  </tbody>\n",
       "</table>\n",
       "</div>"
      ],
      "text/plain": [
       "                Part Cost  Chip Cost  Connection Cost  Total Cost\n",
       "Original/Proto         10        160               75         245\n",
       "Simplified              8         20                5          33\n",
       "Don't Care              6          8                5          19\n",
       "NAND                    6          4                3          13"
      ]
     },
     "execution_count": 13,
     "metadata": {},
     "output_type": "execute_result"
    }
   ],
   "source": [
    "import pandas as pd\n",
    "\n",
    "pd.DataFrame({\n",
    "    \"Original/Proto\": {\"Part Cost\":10, \"Chip Cost\" : 160, \"Connection Cost\" : 75, \"Total Cost\": 245},\n",
    "    \"Simplified\": {\"Part Cost\":8, \"Chip Cost\" : 20, \"Connection Cost\" : 5, \"Total Cost\": 33},\n",
    "    \"Don't Care\": {\"Part Cost\":6, \"Chip Cost\" : 8, \"Connection Cost\" : 5, \"Total Cost\": 19},\n",
    "    \"NAND\": {\"Part Cost\":6, \"Chip Cost\" : 4, \"Connection Cost\" : 3, \"Total Cost\": 13},\n",
    "}).transpose()\n"
   ]
  },
  {
   "cell_type": "code",
   "execution_count": null,
   "id": "1798265b-b7d1-4905-893a-28c161759a6b",
   "metadata": {},
   "outputs": [],
   "source": []
  },
  {
   "cell_type": "code",
   "execution_count": 3,
   "id": "657b8f09-464f-494a-be96-adea0015dc32",
   "metadata": {
    "tags": []
   },
   "outputs": [
    {
     "ename": "ValueError",
     "evalue": "min() arg is an empty sequence",
     "output_type": "error",
     "traceback": [
      "\u001b[0;31m---------------------------------------------------------------------------\u001b[0m",
      "\u001b[0;31mValueError\u001b[0m                                Traceback (most recent call last)",
      "Cell \u001b[0;32mIn [3], line 24\u001b[0m\n\u001b[1;32m      2\u001b[0m tp \u001b[38;5;241m=\u001b[39m LogicPlotter()\n\u001b[1;32m      4\u001b[0m circuit \u001b[38;5;241m=\u001b[39m {\n\u001b[1;32m      5\u001b[0m     \u001b[38;5;124m\"\u001b[39m\u001b[38;5;124massign\u001b[39m\u001b[38;5;124m\"\u001b[39m: [\n\u001b[1;32m      6\u001b[0m         [\n\u001b[0;32m   (...)\u001b[0m\n\u001b[1;32m     21\u001b[0m     ]\n\u001b[1;32m     22\u001b[0m }\n\u001b[0;32m---> 24\u001b[0m \u001b[43mtp\u001b[49m\u001b[38;5;241;43m.\u001b[39;49m\u001b[43mmake_logic\u001b[49m\u001b[43m(\u001b[49m\u001b[43mcircuit\u001b[49m\u001b[43m,\u001b[49m\u001b[38;5;241;43m20\u001b[39;49m\u001b[43m,\u001b[49m\u001b[38;5;241;43m40\u001b[39;49m\u001b[43m,\u001b[49m\u001b[38;5;241;43m2500\u001b[39;49m\u001b[43m,\u001b[49m\u001b[38;5;241;43m2500\u001b[39;49m\u001b[43m)\u001b[49m\n",
      "File \u001b[0;32m~/personal/repo/education/northeastern/EET3300/Lab2_BCD_Detector/BooleanAlgebra.py:207\u001b[0m, in \u001b[0;36mLogicPlotter.make_logic\u001b[0;34m(self, circuit, fig_x, fig_y, width, height)\u001b[0m\n\u001b[1;32m    206\u001b[0m \u001b[38;5;28;01mdef\u001b[39;00m \u001b[38;5;21mmake_logic\u001b[39m(\u001b[38;5;28mself\u001b[39m, circuit, fig_x \u001b[38;5;241m=\u001b[39m \u001b[38;5;241m8\u001b[39m, fig_y \u001b[38;5;241m=\u001b[39m \u001b[38;5;241m8\u001b[39m, width\u001b[38;5;241m=\u001b[39m \u001b[38;5;241m2500\u001b[39m, height \u001b[38;5;241m=\u001b[39m \u001b[38;5;241m1500\u001b[39m):\n\u001b[0;32m--> 207\u001b[0m     svg \u001b[38;5;241m=\u001b[39m \u001b[43mwavedrom\u001b[49m\u001b[38;5;241;43m.\u001b[39;49m\u001b[43mrender\u001b[49m\u001b[43m(\u001b[49m\n\u001b[1;32m    208\u001b[0m \u001b[43m        \u001b[49m\u001b[38;5;124;43mf\u001b[39;49m\u001b[38;5;124;43m\"\"\"\u001b[39;49m\u001b[38;5;132;43;01m{\u001b[39;49;00m\u001b[43mcircuit\u001b[49m\u001b[38;5;132;43;01m}\u001b[39;49;00m\n\u001b[1;32m    209\u001b[0m \u001b[38;5;124;43m    \u001b[39;49m\u001b[38;5;124;43m\"\"\"\u001b[39;49m\n\u001b[1;32m    210\u001b[0m \u001b[43m    \u001b[49m\u001b[43m)\u001b[49m\n\u001b[1;32m    211\u001b[0m     svg[\u001b[38;5;124m\"\u001b[39m\u001b[38;5;124mwidth\u001b[39m\u001b[38;5;124m\"\u001b[39m] \u001b[38;5;241m=\u001b[39m \u001b[38;5;124mf\u001b[39m\u001b[38;5;124m\"\u001b[39m\u001b[38;5;132;01m{\u001b[39;00mwidth\u001b[38;5;132;01m}\u001b[39;00m\u001b[38;5;124mpx\u001b[39m\u001b[38;5;124m\"\u001b[39m\n\u001b[1;32m    212\u001b[0m     svg[\u001b[38;5;124m\"\u001b[39m\u001b[38;5;124mheight\u001b[39m\u001b[38;5;124m\"\u001b[39m] \u001b[38;5;241m=\u001b[39m \u001b[38;5;124mf\u001b[39m\u001b[38;5;124m\"\u001b[39m\u001b[38;5;132;01m{\u001b[39;00mheight\u001b[38;5;132;01m}\u001b[39;00m\u001b[38;5;124mpx\u001b[39m\u001b[38;5;124m\"\u001b[39m\n",
      "File \u001b[0;32m~/.local/lib/python3.8/site-packages/wavedrom/__init__.py:30\u001b[0m, in \u001b[0;36mrender\u001b[0;34m(source, output, strict_js_features)\u001b[0m\n\u001b[1;32m     28\u001b[0m     \u001b[38;5;28;01mreturn\u001b[39;00m WaveDrom()\u001b[38;5;241m.\u001b[39mrender_waveform(\u001b[38;5;241m0\u001b[39m, source, output, strict_js_features)\n\u001b[1;32m     29\u001b[0m \u001b[38;5;28;01melif\u001b[39;00m source\u001b[38;5;241m.\u001b[39mget(\u001b[38;5;124m\"\u001b[39m\u001b[38;5;124massign\u001b[39m\u001b[38;5;124m\"\u001b[39m):\n\u001b[0;32m---> 30\u001b[0m     \u001b[38;5;28;01mreturn\u001b[39;00m \u001b[43mAssign\u001b[49m\u001b[43m(\u001b[49m\u001b[43m)\u001b[49m\u001b[38;5;241;43m.\u001b[39;49m\u001b[43mrender\u001b[49m\u001b[43m(\u001b[49m\u001b[38;5;241;43m0\u001b[39;49m\u001b[43m,\u001b[49m\u001b[43m \u001b[49m\u001b[43msource\u001b[49m\u001b[43m,\u001b[49m\u001b[43m \u001b[49m\u001b[43moutput\u001b[49m\u001b[43m)\u001b[49m\n\u001b[1;32m     31\u001b[0m \u001b[38;5;28;01melif\u001b[39;00m source\u001b[38;5;241m.\u001b[39mget(\u001b[38;5;124m\"\u001b[39m\u001b[38;5;124mreg\u001b[39m\u001b[38;5;124m\"\u001b[39m):\n\u001b[1;32m     32\u001b[0m     \u001b[38;5;28;01mreturn\u001b[39;00m BitField()\u001b[38;5;241m.\u001b[39mrenderJson(source)\n",
      "File \u001b[0;32m~/.local/lib/python3.8/site-packages/wavedrom/assign.py:164\u001b[0m, in \u001b[0;36mAssign.render\u001b[0;34m(self, index, source, output)\u001b[0m\n\u001b[1;32m    161\u001b[0m         grid\u001b[38;5;241m.\u001b[39madd(\u001b[38;5;28mself\u001b[39m\u001b[38;5;241m.\u001b[39melement\u001b[38;5;241m.\u001b[39mrect(height\u001b[38;5;241m=\u001b[39m\u001b[38;5;241m1\u001b[39m, width\u001b[38;5;241m=\u001b[39m\u001b[38;5;241m1\u001b[39m, x\u001b[38;5;241m=\u001b[39m(i \u001b[38;5;241m*\u001b[39m \u001b[38;5;241m8\u001b[39m \u001b[38;5;241m-\u001b[39m \u001b[38;5;241m0.5\u001b[39m), y\u001b[38;5;241m=\u001b[39m(j \u001b[38;5;241m*\u001b[39m \u001b[38;5;241m8\u001b[39m \u001b[38;5;241m-\u001b[39m \u001b[38;5;241m0.5\u001b[39m), class_\u001b[38;5;241m=\u001b[39m\u001b[38;5;124m'\u001b[39m\u001b[38;5;124mgrid\u001b[39m\u001b[38;5;124m'\u001b[39m))\n\u001b[1;32m    163\u001b[0m \u001b[38;5;28;01mfor\u001b[39;00m t \u001b[38;5;129;01min\u001b[39;00m tree:\n\u001b[0;32m--> 164\u001b[0m     content \u001b[38;5;241m=\u001b[39m \u001b[38;5;28;43mself\u001b[39;49m\u001b[38;5;241;43m.\u001b[39;49m\u001b[43mdraw_boxes\u001b[49m\u001b[43m(\u001b[49m\u001b[43mt\u001b[49m\u001b[43m,\u001b[49m\u001b[43m \u001b[49m\u001b[43mxmax\u001b[49m\u001b[43m)\u001b[49m\n\u001b[1;32m    167\u001b[0m attr \u001b[38;5;241m=\u001b[39m { \u001b[38;5;124m'\u001b[39m\u001b[38;5;124mviewBox\u001b[39m\u001b[38;5;124m'\u001b[39m: \u001b[38;5;124m\"\u001b[39m\u001b[38;5;124m0 0 \u001b[39m\u001b[38;5;132;01m{}\u001b[39;00m\u001b[38;5;124m \u001b[39m\u001b[38;5;132;01m{}\u001b[39;00m\u001b[38;5;124m\"\u001b[39m\u001b[38;5;241m.\u001b[39mformat(width, height)}\n\u001b[1;32m    168\u001b[0m template \u001b[38;5;241m=\u001b[39m svgwrite\u001b[38;5;241m.\u001b[39mDrawing(\u001b[38;5;28mid\u001b[39m\u001b[38;5;241m=\u001b[39m\u001b[38;5;124m\"\u001b[39m\u001b[38;5;124msvgcontent_\u001b[39m\u001b[38;5;132;01m{index}\u001b[39;00m\u001b[38;5;124m\"\u001b[39m\u001b[38;5;241m.\u001b[39mformat(index\u001b[38;5;241m=\u001b[39mindex), size\u001b[38;5;241m=\u001b[39m[width, height], \u001b[38;5;241m*\u001b[39m\u001b[38;5;241m*\u001b[39mattr)\n",
      "File \u001b[0;32m~/.local/lib/python3.8/site-packages/wavedrom/assign.py:124\u001b[0m, in \u001b[0;36mAssign.draw_boxes\u001b[0;34m(self, tree, xmax)\u001b[0m\n\u001b[1;32m    121\u001b[0m     ret\u001b[38;5;241m.\u001b[39madd(\u001b[38;5;28mself\u001b[39m\u001b[38;5;241m.\u001b[39mdraw_gate(spec))\n\u001b[1;32m    123\u001b[0m     \u001b[38;5;28;01mfor\u001b[39;00m t \u001b[38;5;129;01min\u001b[39;00m tree[\u001b[38;5;241m1\u001b[39m:]:\n\u001b[0;32m--> 124\u001b[0m         ret\u001b[38;5;241m.\u001b[39madd(\u001b[38;5;28;43mself\u001b[39;49m\u001b[38;5;241;43m.\u001b[39;49m\u001b[43mdraw_boxes\u001b[49m\u001b[43m(\u001b[49m\u001b[43mt\u001b[49m\u001b[43m,\u001b[49m\u001b[43m \u001b[49m\u001b[43mxmax\u001b[49m\u001b[43m)\u001b[49m)\n\u001b[1;32m    125\u001b[0m \u001b[38;5;28;01melse\u001b[39;00m:\n\u001b[1;32m    126\u001b[0m     fname \u001b[38;5;241m=\u001b[39m tree\u001b[38;5;241m.\u001b[39mname\n",
      "File \u001b[0;32m~/.local/lib/python3.8/site-packages/wavedrom/assign.py:124\u001b[0m, in \u001b[0;36mAssign.draw_boxes\u001b[0;34m(self, tree, xmax)\u001b[0m\n\u001b[1;32m    121\u001b[0m     ret\u001b[38;5;241m.\u001b[39madd(\u001b[38;5;28mself\u001b[39m\u001b[38;5;241m.\u001b[39mdraw_gate(spec))\n\u001b[1;32m    123\u001b[0m     \u001b[38;5;28;01mfor\u001b[39;00m t \u001b[38;5;129;01min\u001b[39;00m tree[\u001b[38;5;241m1\u001b[39m:]:\n\u001b[0;32m--> 124\u001b[0m         ret\u001b[38;5;241m.\u001b[39madd(\u001b[38;5;28;43mself\u001b[39;49m\u001b[38;5;241;43m.\u001b[39;49m\u001b[43mdraw_boxes\u001b[49m\u001b[43m(\u001b[49m\u001b[43mt\u001b[49m\u001b[43m,\u001b[49m\u001b[43m \u001b[49m\u001b[43mxmax\u001b[49m\u001b[43m)\u001b[49m)\n\u001b[1;32m    125\u001b[0m \u001b[38;5;28;01melse\u001b[39;00m:\n\u001b[1;32m    126\u001b[0m     fname \u001b[38;5;241m=\u001b[39m tree\u001b[38;5;241m.\u001b[39mname\n",
      "File \u001b[0;32m~/.local/lib/python3.8/site-packages/wavedrom/assign.py:124\u001b[0m, in \u001b[0;36mAssign.draw_boxes\u001b[0;34m(self, tree, xmax)\u001b[0m\n\u001b[1;32m    121\u001b[0m     ret\u001b[38;5;241m.\u001b[39madd(\u001b[38;5;28mself\u001b[39m\u001b[38;5;241m.\u001b[39mdraw_gate(spec))\n\u001b[1;32m    123\u001b[0m     \u001b[38;5;28;01mfor\u001b[39;00m t \u001b[38;5;129;01min\u001b[39;00m tree[\u001b[38;5;241m1\u001b[39m:]:\n\u001b[0;32m--> 124\u001b[0m         ret\u001b[38;5;241m.\u001b[39madd(\u001b[38;5;28;43mself\u001b[39;49m\u001b[38;5;241;43m.\u001b[39;49m\u001b[43mdraw_boxes\u001b[49m\u001b[43m(\u001b[49m\u001b[43mt\u001b[49m\u001b[43m,\u001b[49m\u001b[43m \u001b[49m\u001b[43mxmax\u001b[49m\u001b[43m)\u001b[49m)\n\u001b[1;32m    125\u001b[0m \u001b[38;5;28;01melse\u001b[39;00m:\n\u001b[1;32m    126\u001b[0m     fname \u001b[38;5;241m=\u001b[39m tree\u001b[38;5;241m.\u001b[39mname\n",
      "File \u001b[0;32m~/.local/lib/python3.8/site-packages/wavedrom/assign.py:121\u001b[0m, in \u001b[0;36mAssign.draw_boxes\u001b[0;34m(self, tree, xmax)\u001b[0m\n\u001b[1;32m    118\u001b[0m     \u001b[38;5;28;01melse\u001b[39;00m:\n\u001b[1;32m    119\u001b[0m         spec\u001b[38;5;241m.\u001b[39mappend([\u001b[38;5;241m32\u001b[39m \u001b[38;5;241m*\u001b[39m (xmax \u001b[38;5;241m-\u001b[39m t\u001b[38;5;241m.\u001b[39mx), \u001b[38;5;241m8\u001b[39m \u001b[38;5;241m*\u001b[39m t\u001b[38;5;241m.\u001b[39my])\n\u001b[0;32m--> 121\u001b[0m ret\u001b[38;5;241m.\u001b[39madd(\u001b[38;5;28;43mself\u001b[39;49m\u001b[38;5;241;43m.\u001b[39;49m\u001b[43mdraw_gate\u001b[49m\u001b[43m(\u001b[49m\u001b[43mspec\u001b[49m\u001b[43m)\u001b[49m)\n\u001b[1;32m    123\u001b[0m \u001b[38;5;28;01mfor\u001b[39;00m t \u001b[38;5;129;01min\u001b[39;00m tree[\u001b[38;5;241m1\u001b[39m:]:\n\u001b[1;32m    124\u001b[0m     ret\u001b[38;5;241m.\u001b[39madd(\u001b[38;5;28mself\u001b[39m\u001b[38;5;241m.\u001b[39mdraw_boxes(t, xmax))\n",
      "File \u001b[0;32m~/.local/lib/python3.8/site-packages/wavedrom/assign.py:90\u001b[0m, in \u001b[0;36mAssign.draw_gate\u001b[0;34m(self, spec)\u001b[0m\n\u001b[1;32m     86\u001b[0m ret \u001b[38;5;241m=\u001b[39m \u001b[38;5;28mself\u001b[39m\u001b[38;5;241m.\u001b[39mcontainer\u001b[38;5;241m.\u001b[39mg()\n\u001b[1;32m     88\u001b[0m ys \u001b[38;5;241m=\u001b[39m [s[\u001b[38;5;241m1\u001b[39m] \u001b[38;5;28;01mfor\u001b[39;00m s \u001b[38;5;129;01min\u001b[39;00m spec[\u001b[38;5;241m2\u001b[39m:]]\n\u001b[0;32m---> 90\u001b[0m ymin \u001b[38;5;241m=\u001b[39m \u001b[38;5;28;43mmin\u001b[39;49m\u001b[43m(\u001b[49m\u001b[43mys\u001b[49m\u001b[43m)\u001b[49m\n\u001b[1;32m     91\u001b[0m ymax \u001b[38;5;241m=\u001b[39m \u001b[38;5;28mmax\u001b[39m(ys)\n\u001b[1;32m     93\u001b[0m g \u001b[38;5;241m=\u001b[39m \u001b[38;5;28mself\u001b[39m\u001b[38;5;241m.\u001b[39mcontainer\u001b[38;5;241m.\u001b[39mg(transform\u001b[38;5;241m=\u001b[39m\u001b[38;5;124m\"\u001b[39m\u001b[38;5;124mtranslate(16,0)\u001b[39m\u001b[38;5;124m\"\u001b[39m)\n",
      "\u001b[0;31mValueError\u001b[0m: min() arg is an empty sequence"
     ]
    }
   ],
   "source": [
    "from BooleanAlgebra import LogicPlotter\n",
    "tp = LogicPlotter()\n",
    "\n",
    "circuit = {\n",
    "    \"assign\": [\n",
    "        [\n",
    "            \"F\",\n",
    "            [\"|\", \n",
    "             [\"&\", [\"~\", \"A\"],[\"~\", \"B\"],[\"~\", \"C\"],[\"~\", \"D\"]],\n",
    "             [\"&\", [\"~\", \"A\"],[\"~\", \"B\"],[\"~\", \"C\"], \"D\"],\n",
    "             [\"&\", [\"~\", \"A\"],[\"~\", \"B\"],\"C\",[\"~\", \"D\"]],\n",
    "             [\"&\", [\"~\", \"A\"],[\"~\", \"B\"],\"C\",\"D\"],\n",
    "             [\"&\", [\"~\", \"A\"],\"B\",[\"~\", \"C\"],[\"~\", \"D\"]],\n",
    "             [\"&\", [\"~\", \"A\"], \"B\",[\"~\", \"C\"], \"D\"],\n",
    "             [\"&\", [\"~\", \"A\"], \"B\", \"C\",[\"~\", \"D\"]],\n",
    "             [\"&\", [\"~\", \"A\"], \"B\",\"C\", \"D\"],\n",
    "             [\"&\",  \"A\",[\"~\", \"B\"],[\"~\", \"C\"],[\"~\", \"D\"]],\n",
    "             [\"&\", \"A\",[\"~\", \"B\"],[\"~\", \"C\"],\"D\"],\n",
    "            ],\n",
    "        ]\n",
    "    ]\n",
    "}\n",
    "\n",
    "tp.make_logic(circuit,20,40,2500,2500)"
   ]
  },
  {
   "cell_type": "code",
   "execution_count": null,
   "id": "73ada9bc-71f2-44a0-b0d7-542db3526637",
   "metadata": {},
   "outputs": [],
   "source": []
  }
 ],
 "metadata": {
  "kernelspec": {
   "display_name": "Python 3 (ipykernel)",
   "language": "python",
   "name": "python3"
  },
  "language_info": {
   "codemirror_mode": {
    "name": "ipython",
    "version": 3
   },
   "file_extension": ".py",
   "mimetype": "text/x-python",
   "name": "python",
   "nbconvert_exporter": "python",
   "pygments_lexer": "ipython3",
   "version": "3.8.10"
  }
 },
 "nbformat": 4,
 "nbformat_minor": 5
}
