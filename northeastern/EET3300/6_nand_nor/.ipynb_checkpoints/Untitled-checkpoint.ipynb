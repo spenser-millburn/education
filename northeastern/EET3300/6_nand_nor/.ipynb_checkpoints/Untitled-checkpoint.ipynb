{
 "cells": [
  {
   "cell_type": "markdown",
   "id": "a64a0f70-52da-4361-ae92-7912d1ee0e2a",
   "metadata": {},
   "source": [
    "# 6 NAND and NOR"
   ]
  },
  {
   "cell_type": "markdown",
   "id": "d9e23bcb-df80-4992-b633-0216dbb79769",
   "metadata": {
    "tags": []
   },
   "source": [
    "## NAND-Only Circuits\n",
    "\n",
    "---"
   ]
  },
  {
   "cell_type": "markdown",
   "id": "28ac5188-d0fb-45b0-ab95-0c2bebc9de7b",
   "metadata": {
    "tags": []
   },
   "source": [
    "### 1. Express F (A, B, C, D) = Σm(1, 3, 4, 5, 7, 13) as a NAND-only circuit"
   ]
  },
  {
   "cell_type": "markdown",
   "id": "7d33fa03-043d-443a-a31a-f0e20578148b",
   "metadata": {},
   "source": [
    "via quine-mccluskey : $F = A'D + A'BC' + BC'D$\n",
    "\n",
    "taking double complement\n",
    "\n",
    "$F'' = (( A'D + A'BC' + BC'D)')'$\n",
    "\n",
    "$F'' = ((A'D)'(A'BC')'(BC'D)')'$\n"
   ]
  },
  {
   "cell_type": "markdown",
   "id": "bc6e4c8b-2a69-4f21-acd8-739e0660ddc5",
   "metadata": {
    "tags": []
   },
   "source": [
    "### 2. Express F (A, B, C, D) = $BD′ + A′C′D + A′B′D + ABC$ as a NAND-only circuit"
   ]
  },
  {
   "cell_type": "markdown",
   "id": "342d4572-72fb-4bed-be90-9ed7786611b0",
   "metadata": {
    "tags": []
   },
   "source": [
    "taking double complement \n",
    "\n",
    "$F'' = ((BD′ + A′C′D + A′B′D + ABC)')'$\n",
    "\n",
    "$F'' = (BD′)'(A′C′D)'(A′B′D)'(ABC)')'$"
   ]
  },
  {
   "cell_type": "markdown",
   "id": "6ea5bd08-6604-4aec-9e3a-978cfcbbe628",
   "metadata": {
    "tags": []
   },
   "source": [
    "### 3. Express F (A, B, C, D) = $A′B′(C′ + D) + AB(C + D)$  as a NAND-only circuit"
   ]
  },
  {
   "cell_type": "markdown",
   "id": "e93df018-32e8-4ffb-bfd0-54444b225182",
   "metadata": {},
   "source": [
    "Using bubble method\n",
    "\n"
   ]
  },
  {
   "cell_type": "markdown",
   "id": "43b79a61-4d44-468a-be9d-a93a97281cf3",
   "metadata": {
    "tags": []
   },
   "source": [
    "---\n",
    "\n",
    "## NOR-Only Circuits\n",
    "\n",
    "---"
   ]
  },
  {
   "cell_type": "markdown",
   "id": "576e1e3e-3fcd-4ddb-a0bb-ef8ee2098152",
   "metadata": {},
   "source": [
    "### 1. Express F (A, B, C, D) = $ (A + B′ + C)(A′ + C′) $  as a NOR-only circuit"
   ]
  },
  {
   "cell_type": "markdown",
   "id": "ec37f5a6-0f0c-4f56-9ef8-2bf7c6025c81",
   "metadata": {},
   "source": [
    "$F'' =  ((A + B′ + C)'+(A′ + C′)')' $"
   ]
  },
  {
   "cell_type": "markdown",
   "id": "9bf22594-0e8f-476f-a52a-28576df9561e",
   "metadata": {},
   "source": [
    "### 1. Express F (A, B, C, D) = $ (A + BC)(B + C′ + D′)  $  as a NOR-only circuit"
   ]
  },
  {
   "cell_type": "markdown",
   "id": "d6624316-4075-45da-a209-500089f23f55",
   "metadata": {},
   "source": [
    "$F'' =  ((A + BC)'+(B + C′ + D′)' )' $"
   ]
  },
  {
   "cell_type": "code",
   "execution_count": null,
   "id": "729adeb1-76ad-4178-b9c9-b9e04eb8e8da",
   "metadata": {},
   "outputs": [],
   "source": []
  }
 ],
 "metadata": {
  "kernelspec": {
   "display_name": "Python 3 (ipykernel)",
   "language": "python",
   "name": "python3"
  },
  "language_info": {
   "codemirror_mode": {
    "name": "ipython",
    "version": 3
   },
   "file_extension": ".py",
   "mimetype": "text/x-python",
   "name": "python",
   "nbconvert_exporter": "python",
   "pygments_lexer": "ipython3",
   "version": "3.8.10"
  }
 },
 "nbformat": 4,
 "nbformat_minor": 5
}
