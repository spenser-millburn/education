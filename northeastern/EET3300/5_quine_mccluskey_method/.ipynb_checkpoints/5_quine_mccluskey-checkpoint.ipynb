{
 "cells": [
  {
   "cell_type": "markdown",
   "id": "c6f09ae7-770f-451d-a383-2ad7dcf91130",
   "metadata": {
    "tags": []
   },
   "source": [
    "# 5 Quine-McCluskey Method"
   ]
  },
  {
   "cell_type": "markdown",
   "id": "c9ef6da2-9b3d-4941-beb8-47388621fb76",
   "metadata": {},
   "source": []
  },
  {
   "cell_type": "markdown",
   "id": "023d78ec-d75d-428a-8df7-f3356130f03a",
   "metadata": {},
   "source": [
    "----\n",
    "\n",
    "1. Use the Quine-McCluskey method to find a minimum SOP expression for $F (A, B, C) = Σm(1, 3, 4, 5)$\n",
    "\n",
    "----"
   ]
  },
  {
   "cell_type": "code",
   "execution_count": 71,
   "id": "186b1e5c-b80e-4c03-9c6c-511cc9e23623",
   "metadata": {
    "jp-MarkdownHeadingCollapsed": true,
    "jupyter": {
     "source_hidden": true
    },
    "tags": []
   },
   "outputs": [],
   "source": [
    "from IPython.display import Markdown\n",
    "import QuineMccluskey as qm\n",
    "from BooleanAlgebra import Solver\n",
    "from BooleanAlgebra import KarnaughMap as kmap\n",
    "from BooleanAlgebra import PiTable\n",
    "import pandas as pd\n",
    "from IPython.display import HTML\n",
    "import warnings\n",
    "warnings.filterwarnings('ignore')\n",
    "def qctable(data):\n",
    "    df = pd.DataFrame(data)\n",
    "    df = (\n",
    "        df.groupby(\"group\", group_keys=True)\n",
    "        .apply(lambda x: x)\n",
    "        .loc[:, [\"minterms\", \"binary\"]]\n",
    "    )\n",
    "    return df"
   ]
  },
  {
   "cell_type": "code",
   "execution_count": 83,
   "id": "537c6aaf-ff9d-4d6c-ac66-5d8583834277",
   "metadata": {
    "jupyter": {
     "source_hidden": true
    },
    "tags": []
   },
   "outputs": [],
   "source": [
    "# qm.run([1,3,4,5])"
   ]
  },
  {
   "cell_type": "code",
   "execution_count": 107,
   "id": "d9e39357-1fb6-45db-bed9-2e490aa54d53",
   "metadata": {
    "tags": []
   },
   "outputs": [
    {
     "data": {
      "text/html": [
       "<div>\n",
       "<style scoped>\n",
       "    .dataframe tbody tr th:only-of-type {\n",
       "        vertical-align: middle;\n",
       "    }\n",
       "\n",
       "    .dataframe tbody tr th {\n",
       "        vertical-align: top;\n",
       "    }\n",
       "\n",
       "    .dataframe thead th {\n",
       "        text-align: right;\n",
       "    }\n",
       "</style>\n",
       "<table border=\"1\" class=\"dataframe\">\n",
       "  <thead>\n",
       "    <tr style=\"text-align: right;\">\n",
       "      <th></th>\n",
       "      <th></th>\n",
       "      <th>minterms</th>\n",
       "      <th>binary</th>\n",
       "    </tr>\n",
       "    <tr>\n",
       "      <th>group</th>\n",
       "      <th></th>\n",
       "      <th></th>\n",
       "      <th></th>\n",
       "    </tr>\n",
       "  </thead>\n",
       "  <tbody>\n",
       "    <tr>\n",
       "      <th rowspan=\"2\" valign=\"top\">1</th>\n",
       "      <th>0</th>\n",
       "      <td>1</td>\n",
       "      <td>001</td>\n",
       "    </tr>\n",
       "    <tr>\n",
       "      <th>1</th>\n",
       "      <td>4</td>\n",
       "      <td>100</td>\n",
       "    </tr>\n",
       "    <tr>\n",
       "      <th rowspan=\"2\" valign=\"top\">2</th>\n",
       "      <th>2</th>\n",
       "      <td>3</td>\n",
       "      <td>011</td>\n",
       "    </tr>\n",
       "    <tr>\n",
       "      <th>3</th>\n",
       "      <td>5</td>\n",
       "      <td>101</td>\n",
       "    </tr>\n",
       "  </tbody>\n",
       "</table>\n",
       "</div>"
      ],
      "text/plain": [
       "         minterms binary\n",
       "group                   \n",
       "1     0         1    001\n",
       "      1         4    100\n",
       "2     2         3    011\n",
       "      3         5    101"
      ]
     },
     "metadata": {},
     "output_type": "display_data"
    },
    {
     "data": {
      "text/html": [
       "<div>\n",
       "<style scoped>\n",
       "    .dataframe tbody tr th:only-of-type {\n",
       "        vertical-align: middle;\n",
       "    }\n",
       "\n",
       "    .dataframe tbody tr th {\n",
       "        vertical-align: top;\n",
       "    }\n",
       "\n",
       "    .dataframe thead th {\n",
       "        text-align: right;\n",
       "    }\n",
       "</style>\n",
       "<table border=\"1\" class=\"dataframe\">\n",
       "  <thead>\n",
       "    <tr style=\"text-align: right;\">\n",
       "      <th></th>\n",
       "      <th></th>\n",
       "      <th>minterms</th>\n",
       "      <th>binary</th>\n",
       "    </tr>\n",
       "    <tr>\n",
       "      <th>group</th>\n",
       "      <th></th>\n",
       "      <th></th>\n",
       "      <th></th>\n",
       "    </tr>\n",
       "  </thead>\n",
       "  <tbody>\n",
       "    <tr>\n",
       "      <th rowspan=\"3\" valign=\"top\">0</th>\n",
       "      <th>0</th>\n",
       "      <td>1,3</td>\n",
       "      <td>0-1</td>\n",
       "    </tr>\n",
       "    <tr>\n",
       "      <th>1</th>\n",
       "      <td>1,5</td>\n",
       "      <td>-01</td>\n",
       "    </tr>\n",
       "    <tr>\n",
       "      <th>2</th>\n",
       "      <td>4,5</td>\n",
       "      <td>10-</td>\n",
       "    </tr>\n",
       "  </tbody>\n",
       "</table>\n",
       "</div>"
      ],
      "text/plain": [
       "        minterms binary\n",
       "group                  \n",
       "0     0      1,3    0-1\n",
       "      1      1,5    -01\n",
       "      2      4,5    10-"
      ]
     },
     "metadata": {},
     "output_type": "display_data"
    },
    {
     "data": {
      "text/html": [
       "<div>\n",
       "<style scoped>\n",
       "    .dataframe tbody tr th:only-of-type {\n",
       "        vertical-align: middle;\n",
       "    }\n",
       "\n",
       "    .dataframe tbody tr th {\n",
       "        vertical-align: top;\n",
       "    }\n",
       "\n",
       "    .dataframe thead tr th {\n",
       "        text-align: left;\n",
       "    }\n",
       "</style>\n",
       "<table border=\"1\" class=\"dataframe\">\n",
       "  <thead>\n",
       "    <tr>\n",
       "      <th></th>\n",
       "      <th></th>\n",
       "      <th>1</th>\n",
       "      <th>3</th>\n",
       "      <th>4</th>\n",
       "      <th>5</th>\n",
       "    </tr>\n",
       "  </thead>\n",
       "  <tbody>\n",
       "    <tr>\n",
       "      <th>[1,3]</th>\n",
       "      <th></th>\n",
       "      <td>1</td>\n",
       "      <td>1</td>\n",
       "      <td>0</td>\n",
       "      <td>0</td>\n",
       "    </tr>\n",
       "    <tr>\n",
       "      <th>[1,5]</th>\n",
       "      <th></th>\n",
       "      <td>1</td>\n",
       "      <td>0</td>\n",
       "      <td>0</td>\n",
       "      <td>1</td>\n",
       "    </tr>\n",
       "    <tr>\n",
       "      <th>[4,5]</th>\n",
       "      <th></th>\n",
       "      <td>0</td>\n",
       "      <td>0</td>\n",
       "      <td>1</td>\n",
       "      <td>1</td>\n",
       "    </tr>\n",
       "  </tbody>\n",
       "</table>\n",
       "</div>"
      ],
      "text/plain": [
       "        1  3  4  5\n",
       "[1,3]   1  1  0  0\n",
       "[1,5]   1  0  0  1\n",
       "[4,5]   0  0  1  1"
      ]
     },
     "metadata": {},
     "output_type": "display_data"
    },
    {
     "data": {
      "text/plain": [
       "PI Table"
      ]
     },
     "metadata": {},
     "output_type": "display_data"
    },
    {
     "data": {
      "text/markdown": [
       "**EPIs :** $[ 0-1 , 10- ]$ "
      ],
      "text/plain": [
       "<IPython.core.display.Markdown object>"
      ]
     },
     "metadata": {},
     "output_type": "display_data"
    },
    {
     "data": {
      "text/markdown": [
       "**Function :** $F= A'C + AB'$"
      ],
      "text/plain": [
       "<IPython.core.display.Markdown object>"
      ]
     },
     "metadata": {},
     "output_type": "display_data"
    }
   ],
   "source": [
    "t1 = {\n",
    "    \"group\": [1, 1, 2, 2],\n",
    "    \"minterms\": [1, 4, 3, 5],\n",
    "    \"binary\": [\"001\", \"100\", \"011\", \"101\"],\n",
    "}\n",
    "t2 = {\n",
    "    \"group\": [0, 0, 0],\n",
    "    \"minterms\": [\"1,3\", \"1,5\", \"4,5\"],\n",
    "    \"binary\": [\"0-1\", \"-01\", \"10-\"],\n",
    "}\n",
    "\n",
    "display(\n",
    "    qctable(t1),\n",
    "    qctable(t2),\n",
    "    PiTable(\n",
    "        [\n",
    "            (\"[1,3]\", \"\"),\n",
    "            (\"[1,5]\", \"\"),\n",
    "            (\"[4,5]\", \"\"),\n",
    "        ],\n",
    "        [1, 3, 4, 5],\n",
    "    ),\n",
    ")\n",
    "\n",
    "display(Markdown(\"**EPIs :** $[ 0-1 , 10- ]$ \"))\n",
    "display(Markdown(\"**Function :** $F= A'C + AB'$\"))"
   ]
  },
  {
   "cell_type": "markdown",
   "id": "091deff4-e284-4f35-a87d-54df5bbdec52",
   "metadata": {},
   "source": [
    "------\n",
    "\n",
    "2. Use the Quine-McCluskey method to find a minimum SOP expression for $F (A, B, C , D) = Σm(0,2,8,9,10,11)$\n",
    "\n",
    "------"
   ]
  },
  {
   "cell_type": "code",
   "execution_count": 85,
   "id": "84bd194a-3c3f-4ba0-8a89-4f7c0f30ceb9",
   "metadata": {
    "jupyter": {
     "source_hidden": true
    },
    "tags": []
   },
   "outputs": [
    {
     "data": {
      "text/html": [
       "<div>\n",
       "<style scoped>\n",
       "    .dataframe tbody tr th:only-of-type {\n",
       "        vertical-align: middle;\n",
       "    }\n",
       "\n",
       "    .dataframe tbody tr th {\n",
       "        vertical-align: top;\n",
       "    }\n",
       "\n",
       "    .dataframe thead th {\n",
       "        text-align: right;\n",
       "    }\n",
       "</style>\n",
       "<table border=\"1\" class=\"dataframe\">\n",
       "  <thead>\n",
       "    <tr style=\"text-align: right;\">\n",
       "      <th></th>\n",
       "      <th></th>\n",
       "      <th>minterms</th>\n",
       "      <th>binary</th>\n",
       "    </tr>\n",
       "    <tr>\n",
       "      <th>group</th>\n",
       "      <th></th>\n",
       "      <th></th>\n",
       "      <th></th>\n",
       "    </tr>\n",
       "  </thead>\n",
       "  <tbody>\n",
       "    <tr>\n",
       "      <th>0</th>\n",
       "      <th>0</th>\n",
       "      <td>0</td>\n",
       "      <td>0000</td>\n",
       "    </tr>\n",
       "    <tr>\n",
       "      <th rowspan=\"2\" valign=\"top\">1</th>\n",
       "      <th>1</th>\n",
       "      <td>2</td>\n",
       "      <td>0010</td>\n",
       "    </tr>\n",
       "    <tr>\n",
       "      <th>2</th>\n",
       "      <td>8</td>\n",
       "      <td>1000</td>\n",
       "    </tr>\n",
       "    <tr>\n",
       "      <th rowspan=\"2\" valign=\"top\">2</th>\n",
       "      <th>3</th>\n",
       "      <td>9</td>\n",
       "      <td>1001</td>\n",
       "    </tr>\n",
       "    <tr>\n",
       "      <th>4</th>\n",
       "      <td>10</td>\n",
       "      <td>1010</td>\n",
       "    </tr>\n",
       "    <tr>\n",
       "      <th>3</th>\n",
       "      <th>5</th>\n",
       "      <td>11</td>\n",
       "      <td>1011</td>\n",
       "    </tr>\n",
       "  </tbody>\n",
       "</table>\n",
       "</div>"
      ],
      "text/plain": [
       "         minterms binary\n",
       "group                   \n",
       "0     0         0   0000\n",
       "1     1         2   0010\n",
       "      2         8   1000\n",
       "2     3         9   1001\n",
       "      4        10   1010\n",
       "3     5        11   1011"
      ]
     },
     "metadata": {},
     "output_type": "display_data"
    },
    {
     "data": {
      "text/html": [
       "<div>\n",
       "<style scoped>\n",
       "    .dataframe tbody tr th:only-of-type {\n",
       "        vertical-align: middle;\n",
       "    }\n",
       "\n",
       "    .dataframe tbody tr th {\n",
       "        vertical-align: top;\n",
       "    }\n",
       "\n",
       "    .dataframe thead th {\n",
       "        text-align: right;\n",
       "    }\n",
       "</style>\n",
       "<table border=\"1\" class=\"dataframe\">\n",
       "  <thead>\n",
       "    <tr style=\"text-align: right;\">\n",
       "      <th></th>\n",
       "      <th></th>\n",
       "      <th>minterms</th>\n",
       "      <th>binary</th>\n",
       "    </tr>\n",
       "    <tr>\n",
       "      <th>group</th>\n",
       "      <th></th>\n",
       "      <th></th>\n",
       "      <th></th>\n",
       "    </tr>\n",
       "  </thead>\n",
       "  <tbody>\n",
       "    <tr>\n",
       "      <th rowspan=\"2\" valign=\"top\">0</th>\n",
       "      <th>0</th>\n",
       "      <td>0,2</td>\n",
       "      <td>00-0</td>\n",
       "    </tr>\n",
       "    <tr>\n",
       "      <th>1</th>\n",
       "      <td>0,8</td>\n",
       "      <td>-000</td>\n",
       "    </tr>\n",
       "    <tr>\n",
       "      <th rowspan=\"3\" valign=\"top\">1</th>\n",
       "      <th>2</th>\n",
       "      <td>2,10</td>\n",
       "      <td>-010</td>\n",
       "    </tr>\n",
       "    <tr>\n",
       "      <th>3</th>\n",
       "      <td>8,9</td>\n",
       "      <td>100-</td>\n",
       "    </tr>\n",
       "    <tr>\n",
       "      <th>4</th>\n",
       "      <td>8,10</td>\n",
       "      <td>10-0</td>\n",
       "    </tr>\n",
       "    <tr>\n",
       "      <th rowspan=\"2\" valign=\"top\">2</th>\n",
       "      <th>5</th>\n",
       "      <td>9,10</td>\n",
       "      <td>10-1</td>\n",
       "    </tr>\n",
       "    <tr>\n",
       "      <th>6</th>\n",
       "      <td>10,11</td>\n",
       "      <td>101-</td>\n",
       "    </tr>\n",
       "  </tbody>\n",
       "</table>\n",
       "</div>"
      ],
      "text/plain": [
       "        minterms binary\n",
       "group                  \n",
       "0     0      0,2   00-0\n",
       "      1      0,8   -000\n",
       "1     2     2,10   -010\n",
       "      3      8,9   100-\n",
       "      4     8,10   10-0\n",
       "2     5     9,10   10-1\n",
       "      6    10,11   101-"
      ]
     },
     "metadata": {},
     "output_type": "display_data"
    },
    {
     "data": {
      "text/html": [
       "<div>\n",
       "<style scoped>\n",
       "    .dataframe tbody tr th:only-of-type {\n",
       "        vertical-align: middle;\n",
       "    }\n",
       "\n",
       "    .dataframe tbody tr th {\n",
       "        vertical-align: top;\n",
       "    }\n",
       "\n",
       "    .dataframe thead th {\n",
       "        text-align: right;\n",
       "    }\n",
       "</style>\n",
       "<table border=\"1\" class=\"dataframe\">\n",
       "  <thead>\n",
       "    <tr style=\"text-align: right;\">\n",
       "      <th></th>\n",
       "      <th></th>\n",
       "      <th>minterms</th>\n",
       "      <th>binary</th>\n",
       "    </tr>\n",
       "    <tr>\n",
       "      <th>group</th>\n",
       "      <th></th>\n",
       "      <th></th>\n",
       "      <th></th>\n",
       "    </tr>\n",
       "  </thead>\n",
       "  <tbody>\n",
       "    <tr>\n",
       "      <th>0</th>\n",
       "      <th>0</th>\n",
       "      <td>0,2,8,10</td>\n",
       "      <td>-0-0</td>\n",
       "    </tr>\n",
       "    <tr>\n",
       "      <th>1</th>\n",
       "      <th>1</th>\n",
       "      <td>0,9,10,11</td>\n",
       "      <td>10--</td>\n",
       "    </tr>\n",
       "  </tbody>\n",
       "</table>\n",
       "</div>"
      ],
      "text/plain": [
       "          minterms binary\n",
       "group                    \n",
       "0     0   0,2,8,10   -0-0\n",
       "1     1  0,9,10,11   10--"
      ]
     },
     "metadata": {},
     "output_type": "display_data"
    },
    {
     "data": {
      "text/html": [
       "<div>\n",
       "<style scoped>\n",
       "    .dataframe tbody tr th:only-of-type {\n",
       "        vertical-align: middle;\n",
       "    }\n",
       "\n",
       "    .dataframe tbody tr th {\n",
       "        vertical-align: top;\n",
       "    }\n",
       "\n",
       "    .dataframe thead tr th {\n",
       "        text-align: left;\n",
       "    }\n",
       "</style>\n",
       "<table border=\"1\" class=\"dataframe\">\n",
       "  <thead>\n",
       "    <tr>\n",
       "      <th></th>\n",
       "      <th></th>\n",
       "      <th>0</th>\n",
       "      <th>2</th>\n",
       "      <th>8</th>\n",
       "      <th>9</th>\n",
       "      <th>10</th>\n",
       "      <th>11</th>\n",
       "    </tr>\n",
       "  </thead>\n",
       "  <tbody>\n",
       "    <tr>\n",
       "      <th>[0,2,8,10]</th>\n",
       "      <th></th>\n",
       "      <td>1</td>\n",
       "      <td>1</td>\n",
       "      <td>1</td>\n",
       "      <td>0</td>\n",
       "      <td>1</td>\n",
       "      <td>0</td>\n",
       "    </tr>\n",
       "    <tr>\n",
       "      <th>[8,9,10,11]</th>\n",
       "      <th></th>\n",
       "      <td>0</td>\n",
       "      <td>0</td>\n",
       "      <td>1</td>\n",
       "      <td>1</td>\n",
       "      <td>1</td>\n",
       "      <td>1</td>\n",
       "    </tr>\n",
       "  </tbody>\n",
       "</table>\n",
       "</div>"
      ],
      "text/plain": [
       "             0  2  8  9  10 11\n",
       "[0,2,8,10]    1  1  1  0  1  0\n",
       "[8,9,10,11]   0  0  1  1  1  1"
      ]
     },
     "metadata": {},
     "output_type": "display_data"
    },
    {
     "data": {
      "text/plain": [
       "PI Table"
      ]
     },
     "metadata": {},
     "output_type": "display_data"
    },
    {
     "data": {
      "text/markdown": [
       "**EPIs :** $[-0-0 , 10--]$ "
      ],
      "text/plain": [
       "<IPython.core.display.Markdown object>"
      ]
     },
     "metadata": {},
     "output_type": "display_data"
    },
    {
     "data": {
      "text/markdown": [
       "**Function :** $F= B'D' + AB'$"
      ],
      "text/plain": [
       "<IPython.core.display.Markdown object>"
      ]
     },
     "metadata": {},
     "output_type": "display_data"
    }
   ],
   "source": [
    "t1 = {\n",
    "    \"group\":    [0, 1, 1, 2, 2, 3],\n",
    "    \"minterms\": [0, 2, 8, 9,10,11],\n",
    "    \"binary\":   [\"0000\",\"0010\",\"1000\",\"1001\",\"1010\",\"1011\"],\n",
    "}\n",
    "t2 = {\n",
    "    \"group\": [0,0,1,1,1,2,2],\n",
    "    \"minterms\": [\"0,2\", \"0,8\", \"2,10\", \"8,9\", \"8,10\", \"9,10\",\"10,11\"],\n",
    "    \"binary\": [\"00-0\", \"-000\", \"-010\",\"100-\", \"10-0\",\"10-1\",\"101-\"],\n",
    "}\n",
    "t3 = {\n",
    "    \"group\": [0,1],\n",
    "    \"minterms\": [\"0,2,8,10\",\"0,9,10,11\"],\n",
    "    \"binary\": [\"-0-0\",\"10--\"],\n",
    "}\n",
    "\n",
    "display(\n",
    "    qctable(t1),\n",
    "    qctable(t2),\n",
    "    qctable(t3),\n",
    "    PiTable(\n",
    "        [\n",
    "            (\"[0,2,8,10]\", \"\"),\n",
    "            (\"[8,9,10,11]\", \"\"),\n",
    "        ],\n",
    "        [0,2,8,9,10,11],\n",
    "    ),\n",
    ")\n",
    "\n",
    "display(Markdown(\"**EPIs :** $[-0-0 , 10--]$ \"))\n",
    "display(Markdown(\"**Function :** $F= B'D' + AB'$\"))"
   ]
  },
  {
   "cell_type": "markdown",
   "id": "57d1dd4e-261a-4d10-87b1-0ffbc32afdee",
   "metadata": {},
   "source": [
    "------\n",
    "\n",
    "3. Use the Quine-McCluskey method to find a minimum SOP expression for $F (A, B, C , D , E) = Σm(0, 7 ,21 ,23) + Σm(6,14) $\n",
    "\n",
    "------"
   ]
  },
  {
   "cell_type": "code",
   "execution_count": 106,
   "id": "681ffc29-72f7-4715-bcdc-8ede6a898a55",
   "metadata": {
    "tags": []
   },
   "outputs": [
    {
     "data": {
      "text/html": [
       "<div>\n",
       "<style scoped>\n",
       "    .dataframe tbody tr th:only-of-type {\n",
       "        vertical-align: middle;\n",
       "    }\n",
       "\n",
       "    .dataframe tbody tr th {\n",
       "        vertical-align: top;\n",
       "    }\n",
       "\n",
       "    .dataframe thead th {\n",
       "        text-align: right;\n",
       "    }\n",
       "</style>\n",
       "<table border=\"1\" class=\"dataframe\">\n",
       "  <thead>\n",
       "    <tr style=\"text-align: right;\">\n",
       "      <th></th>\n",
       "      <th></th>\n",
       "      <th>minterms</th>\n",
       "      <th>binary</th>\n",
       "    </tr>\n",
       "    <tr>\n",
       "      <th>group</th>\n",
       "      <th></th>\n",
       "      <th></th>\n",
       "      <th></th>\n",
       "    </tr>\n",
       "  </thead>\n",
       "  <tbody>\n",
       "    <tr>\n",
       "      <th>0</th>\n",
       "      <th>0</th>\n",
       "      <td>0</td>\n",
       "      <td>00000</td>\n",
       "    </tr>\n",
       "    <tr>\n",
       "      <th>2</th>\n",
       "      <th>1</th>\n",
       "      <td>6</td>\n",
       "      <td>00110</td>\n",
       "    </tr>\n",
       "    <tr>\n",
       "      <th rowspan=\"3\" valign=\"top\">3</th>\n",
       "      <th>2</th>\n",
       "      <td>7</td>\n",
       "      <td>00111</td>\n",
       "    </tr>\n",
       "    <tr>\n",
       "      <th>3</th>\n",
       "      <td>14</td>\n",
       "      <td>01110</td>\n",
       "    </tr>\n",
       "    <tr>\n",
       "      <th>4</th>\n",
       "      <td>21</td>\n",
       "      <td>10101</td>\n",
       "    </tr>\n",
       "    <tr>\n",
       "      <th>4</th>\n",
       "      <th>5</th>\n",
       "      <td>23</td>\n",
       "      <td>10111</td>\n",
       "    </tr>\n",
       "  </tbody>\n",
       "</table>\n",
       "</div>"
      ],
      "text/plain": [
       "         minterms binary\n",
       "group                   \n",
       "0     0         0  00000\n",
       "2     1         6  00110\n",
       "3     2         7  00111\n",
       "      3        14  01110\n",
       "      4        21  10101\n",
       "4     5        23  10111"
      ]
     },
     "metadata": {},
     "output_type": "display_data"
    },
    {
     "data": {
      "text/html": [
       "<div>\n",
       "<style scoped>\n",
       "    .dataframe tbody tr th:only-of-type {\n",
       "        vertical-align: middle;\n",
       "    }\n",
       "\n",
       "    .dataframe tbody tr th {\n",
       "        vertical-align: top;\n",
       "    }\n",
       "\n",
       "    .dataframe thead th {\n",
       "        text-align: right;\n",
       "    }\n",
       "</style>\n",
       "<table border=\"1\" class=\"dataframe\">\n",
       "  <thead>\n",
       "    <tr style=\"text-align: right;\">\n",
       "      <th></th>\n",
       "      <th></th>\n",
       "      <th>minterms</th>\n",
       "      <th>binary</th>\n",
       "    </tr>\n",
       "    <tr>\n",
       "      <th>group</th>\n",
       "      <th></th>\n",
       "      <th></th>\n",
       "      <th></th>\n",
       "    </tr>\n",
       "  </thead>\n",
       "  <tbody>\n",
       "    <tr>\n",
       "      <th rowspan=\"2\" valign=\"top\">1</th>\n",
       "      <th>0</th>\n",
       "      <td>6,7</td>\n",
       "      <td>0011-</td>\n",
       "    </tr>\n",
       "    <tr>\n",
       "      <th>1</th>\n",
       "      <td>6,14</td>\n",
       "      <td>0-110</td>\n",
       "    </tr>\n",
       "    <tr>\n",
       "      <th rowspan=\"2\" valign=\"top\">2</th>\n",
       "      <th>2</th>\n",
       "      <td>7,23</td>\n",
       "      <td>-0111</td>\n",
       "    </tr>\n",
       "    <tr>\n",
       "      <th>3</th>\n",
       "      <td>21,23</td>\n",
       "      <td>101-1</td>\n",
       "    </tr>\n",
       "  </tbody>\n",
       "</table>\n",
       "</div>"
      ],
      "text/plain": [
       "        minterms binary\n",
       "group                  \n",
       "1     0      6,7  0011-\n",
       "      1     6,14  0-110\n",
       "2     2     7,23  -0111\n",
       "      3    21,23  101-1"
      ]
     },
     "metadata": {},
     "output_type": "display_data"
    },
    {
     "data": {
      "text/html": [
       "<div>\n",
       "<style scoped>\n",
       "    .dataframe tbody tr th:only-of-type {\n",
       "        vertical-align: middle;\n",
       "    }\n",
       "\n",
       "    .dataframe tbody tr th {\n",
       "        vertical-align: top;\n",
       "    }\n",
       "\n",
       "    .dataframe thead tr th {\n",
       "        text-align: left;\n",
       "    }\n",
       "</style>\n",
       "<table border=\"1\" class=\"dataframe\">\n",
       "  <thead>\n",
       "    <tr>\n",
       "      <th></th>\n",
       "      <th></th>\n",
       "      <th>0</th>\n",
       "      <th>7</th>\n",
       "      <th>21</th>\n",
       "      <th>23</th>\n",
       "    </tr>\n",
       "  </thead>\n",
       "  <tbody>\n",
       "    <tr>\n",
       "      <th>[0]</th>\n",
       "      <th></th>\n",
       "      <td>1</td>\n",
       "      <td>0</td>\n",
       "      <td>0</td>\n",
       "      <td>0</td>\n",
       "    </tr>\n",
       "    <tr>\n",
       "      <th>[6,14]</th>\n",
       "      <th></th>\n",
       "      <td>0</td>\n",
       "      <td>0</td>\n",
       "      <td>0</td>\n",
       "      <td>0</td>\n",
       "    </tr>\n",
       "    <tr>\n",
       "      <th>[6,7]</th>\n",
       "      <th></th>\n",
       "      <td>0</td>\n",
       "      <td>1</td>\n",
       "      <td>0</td>\n",
       "      <td>0</td>\n",
       "    </tr>\n",
       "    <tr>\n",
       "      <th>[7,23]</th>\n",
       "      <th></th>\n",
       "      <td>0</td>\n",
       "      <td>1</td>\n",
       "      <td>0</td>\n",
       "      <td>1</td>\n",
       "    </tr>\n",
       "    <tr>\n",
       "      <th>[21,23]</th>\n",
       "      <th></th>\n",
       "      <td>0</td>\n",
       "      <td>0</td>\n",
       "      <td>1</td>\n",
       "      <td>1</td>\n",
       "    </tr>\n",
       "  </tbody>\n",
       "</table>\n",
       "</div>"
      ],
      "text/plain": [
       "         0  7  21 23\n",
       "[0]       1  0  0  0\n",
       "[6,14]    0  0  0  0\n",
       "[6,7]     0  1  0  0\n",
       "[7,23]    0  1  0  1\n",
       "[21,23]   0  0  1  1"
      ]
     },
     "metadata": {},
     "output_type": "display_data"
    },
    {
     "data": {
      "text/markdown": [
       "**EPIs :** $[ 00000,101-1 ]$ "
      ],
      "text/plain": [
       "<IPython.core.display.Markdown object>"
      ]
     },
     "metadata": {},
     "output_type": "display_data"
    },
    {
     "data": {
      "text/markdown": [
       "**Function :** $F=A'B'CD + A'B'C'D'E' + AB'CE$"
      ],
      "text/plain": [
       "<IPython.core.display.Markdown object>"
      ]
     },
     "metadata": {},
     "output_type": "display_data"
    }
   ],
   "source": [
    "t1 = {\n",
    "    \"group\": [0, 2, 3, 3, 3, 4],\n",
    "    \"minterms\": [0, 6, 7, 14, 21, 23],\n",
    "    \"binary\": [\"00000\", \"00110\", \"00111\", \"01110\", \"10101\", \"10111\"],\n",
    "}\n",
    "t2 = {\n",
    "    \"group\": [1, 1, 2, 2],\n",
    "    \"minterms\": [\"6,7\", \"6,14\", \"7,23\", \"21,23\"],\n",
    "    \"binary\": [\"0011-\", \"0-110\", \"-0111\", \"101-1\"],\n",
    "}\n",
    "\n",
    "display(\n",
    "    qctable(t1),\n",
    "    qctable(t2),\n",
    "    PiTable(\n",
    "        [\n",
    "            (\"[0]\", \"\"),\n",
    "            (\"[6,14]\", \"\"),\n",
    "            (\"[6,7]\", \"\"),\n",
    "            (\"[7,23]\", \"\"),\n",
    "            (\"[21,23]\", \"\"),\n",
    "        ],\n",
    "        [0, 6, 7, 14, 21, 23],\n",
    "    ).pt.loc[:,[0, 7, 21, 23]]\n",
    "    \n",
    ")\n",
    "\n",
    "display(Markdown(\"**EPIs :** $[00000,0011-,101-1]$ \"))\n",
    "display(Markdown(\"**Function :** $F=A'B'C'D'E' + A'B'CD + AB'CE$\"))"
   ]
  },
  {
   "cell_type": "code",
   "execution_count": null,
   "id": "c1f572de-fb0d-4563-aed1-69806586e4eb",
   "metadata": {},
   "outputs": [],
   "source": []
  }
 ],
 "metadata": {
  "kernelspec": {
   "display_name": "Python 3 (ipykernel)",
   "language": "python",
   "name": "python3"
  },
  "language_info": {
   "codemirror_mode": {
    "name": "ipython",
    "version": 3
   },
   "file_extension": ".py",
   "mimetype": "text/x-python",
   "name": "python",
   "nbconvert_exporter": "python",
   "pygments_lexer": "ipython3",
   "version": "3.8.10"
  }
 },
 "nbformat": 4,
 "nbformat_minor": 5
}
