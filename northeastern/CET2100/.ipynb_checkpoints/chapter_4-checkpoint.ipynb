{
 "cells": [
  {
   "cell_type": "markdown",
   "id": "d2b6d9ad-2cc3-444f-a8cd-b8eef9983bc2",
   "metadata": {},
   "source": [
    "# Chapter 4\n",
    "\n",
    "### Exercises 4, 6, 11, and 15.\n",
    "\n",
    "\n",
    "## Exercise 4 : Memory\n",
    "\n",
    "1. a) **byte addressable**\n",
    "\n",
    "$M = 2^{20}$\n",
    "\n",
    "$2M \\times 4\\ byte \\ word = 2^{20} * 2^2 * 2^1 = 2^{23}$\n",
    "\n",
    "$\\log_22^{23} =23$ bits to address\n",
    "\n",
    "2. b) **word addressable**\n",
    "\n",
    "$M = 2^{20}$\n",
    "\n",
    "$2M \\times 32\\ bit \\ word = 2^{20} * 2^1 = 2^{21}$\n",
    "\n",
    "$\\log_22^{21} =21$ bits to address"
   ]
  },
  {
   "cell_type": "markdown",
   "id": "9bfbe9a9-bfcf-4b2e-9814-ab554a70ee22",
   "metadata": {},
   "source": [
    "## Exercise 6 : Memory\n",
    "\n",
    "1. a) **byte addressable**\n",
    "\n",
    "$M = 2^{20}$\n",
    "\n",
    "$1M \\times 1\\ byte \\ word = 2^{20} = 2^{20}$\n",
    "\n",
    "$\\log_22^{20} =20$\n",
    "\n",
    "21 bits to address\n",
    "\n",
    "2. b) **word addressable**\n",
    "\n",
    "$M = 2^{20}$\n",
    "\n",
    "$1M \\times 8\\ bit \\ word = 2^{20} * 2^0 = 2^{20}$\n",
    "\n",
    "$\\log_22^{20} =20$ bits to address\n"
   ]
  },
  {
   "cell_type": "markdown",
   "id": "c9a2d283-d9eb-4ce1-8f8f-fafa6bb7de4e",
   "metadata": {},
   "source": [
    "## Exercise 11 : Memory\n",
    "**11. Redo exercise 10 assuming a 16M × 16 memory built using 512K × 8 RAM chips.**\n",
    "\n",
    "- Suppose that a 16M × 16 main memory is built using 512K × 8RAM chips and that memory is word addressable.\n",
    "    \n",
    "1. a) How many RAM chips are necessary?\n",
    "\n",
    "    $16M = 2^{20}*2^4 = 2^{24}$\\\n",
    "    $512K =2^{10}*2^9 = 2^{19}$\\\n",
    "    $\\textbf{number of chips} = \\frac{2^{24} \\times 16}{2^{19} \\times 8} = 64 $\n",
    "\n",
    "2. b) If we were accessing one full word, how many chips would be involved?\n",
    "    \n",
    "    **2 chips** would be required because there are two bytes per 16 bit word \n",
    "    \n",
    "3. c) How many address bits are needed for each RAM chip?\n",
    "\n",
    "    $log_2{512} =$ **19 address bits**\n",
    "    \n",
    "4. d) How many banks will this memory have?\n",
    "    \n",
    "    $log_2{2^{24} \\div 2^{19}}= 5\\ address\\ bits\\ required  $\n",
    "    \n",
    "5. e) How many address bits are needed for all memory?\n",
    "    \n",
    "    $log_2{2^{24}} =$ **24 address bits**\n",
    "    \n",
    "6. f) If high-order interleaving is used, where would address 14 (which is E in hex) be located?\n",
    "    \n",
    "    **High order interleaving results in sequential addressing across all available chips. address 14 is less than 512 so it will exist in the first chip.**\n",
    "    \n",
    "7. g) Repeat exercise 9f for low-order interleaving.\n",
    "    \n",
    "    **low order interleaving results in a chip change for every increment in address, so address 14 will exist as the first word in chip 14**"
   ]
  },
  {
   "cell_type": "markdown",
   "id": "3f3c840f-a2c6-4f79-bfc5-3b40b674cdd7",
   "metadata": {},
   "source": [
    "## Exercise 12 : Memory\n",
    "\n",
    "2. 12. Suppose we have 1G × 16 RAM chips that make up a 32G × 64 memory that uses high interleaving. (Note: This means that each word is 64 bits in size and there are 32G of these words.)\n",
    "    1. a) How many RAM chips are necessary?\n",
    "    \n",
    "        $G = 2^{30}$\\\n",
    "        $32G = 2^{30} \\times 2^5 = 2^{35}$\\\n",
    "        $\\textbf{number of chips} = \\frac{2^{35}\\times64}{2^{35}\\times16} = 4$"
   ]
  },
  {
   "cell_type": "code",
   "execution_count": 22,
   "id": "c88e4176-83cf-4c35-b765-3eaf71934f1e",
   "metadata": {
    "tags": []
   },
   "outputs": [
    {
     "data": {
      "text/latex": [
       "$\\displaystyle 4.0$"
      ],
      "text/plain": [
       "4.00000000000000"
      ]
     },
     "execution_count": 22,
     "metadata": {},
     "output_type": "execute_result"
    }
   ],
   "source": [
    "from latex2sympy2 import latex2sympy, latex2latex\n",
    "from sympy import *\n",
    "\n",
    "tex = r\"\\frac{2^{35}*64}{2^{35}*16} \"\n",
    "val = latex2sympy(tex)\n",
    "val.evalf() \n"
   ]
  },
  {
   "cell_type": "markdown",
   "id": "ac5063ad-81fd-4dd7-83f8-3c1b4053a61d",
   "metadata": {},
   "source": [
    "# Exercise 15 : Memory\n",
    "Assume a $2^{20}$ byte memory.\n",
    "\n",
    "1. a) What are the lowest and highest addresses if memory is byte addressable?\n",
    "\n",
    "    $2^{20} bytes = 1M \\times 8$\\\n",
    "    $ 0x00 \\rightarrow\\ 1111 1111 1111 1111 1111 = 0xfffff$\n",
    "\n",
    "2. b) What are the lowest and highest addresses if memory is word addressable, assuming a 16-bit word?\n",
    "    \n",
    "    $L = \\frac{2^{20}\\times 8}{2^4} = 2^{19}$\\\n",
    "    $ 0x00 \\rightarrow\\ 0111 1111 1111 1111 1111 = 0x7ffff$\n",
    "3. c) What are the lowest and highest addresses if memory is word addressable, assuming a 32-bit word?\n",
    "    \n",
    "    $L = \\frac{2^{20}\\times 8}{2^5} = 2^{18}$\\\n",
    "    $ 0x00 \\rightarrow\\ 0011 1111 1111 1111 1111 = 0x3ffff$"
   ]
  },
  {
   "cell_type": "code",
   "execution_count": null,
   "id": "e4d49d62-5645-42c6-99ca-83b879bf7421",
   "metadata": {},
   "outputs": [],
   "source": []
  },
  {
   "cell_type": "code",
   "execution_count": null,
   "id": "6d4cd35a-eafd-43ff-b5a7-1126b4cfd4b3",
   "metadata": {},
   "outputs": [],
   "source": []
  },
  {
   "cell_type": "code",
   "execution_count": null,
   "id": "b2ab97dd-c579-4baf-9dc6-14c57ddfb8ee",
   "metadata": {},
   "outputs": [],
   "source": []
  }
 ],
 "metadata": {
  "kernelspec": {
   "display_name": "Python 3 (ipykernel)",
   "language": "python",
   "name": "python3"
  },
  "language_info": {
   "codemirror_mode": {
    "name": "ipython",
    "version": 3
   },
   "file_extension": ".py",
   "mimetype": "text/x-python",
   "name": "python",
   "nbconvert_exporter": "python",
   "pygments_lexer": "ipython3",
   "version": "3.8.10"
  }
 },
 "nbformat": 4,
 "nbformat_minor": 5
}
