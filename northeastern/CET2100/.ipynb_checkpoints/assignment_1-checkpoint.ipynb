{
 "cells": [
  {
   "cell_type": "markdown",
   "id": "d8717054-cbf1-4407-bc75-a6f606a59931",
   "metadata": {},
   "source": [
    "# CET2100 Assignment 1 - Data Representation in Computer system Assignment"
   ]
  },
  {
   "cell_type": "code",
   "execution_count": 1,
   "id": "284962ff-51b9-491d-b906-a164ac714151",
   "metadata": {},
   "outputs": [],
   "source": [
    "from IPython.display import display, Math, Markdown, Latex\n",
    "\n",
    "#From decimal to any base via division remainder method\n",
    "def change_of_base(n, b):\n",
    "    if n == 0:\n",
    "        return [0]\n",
    "    digits = []\n",
    "    while n:\n",
    "        digits.append(str(n % b))\n",
    "        n //= b\n",
    "    return int(\"\".join(digits[::-1]))\n",
    "\n",
    "#Any base to decimal, by reverse iteration\n",
    "def to_decimal(n, b):\n",
    "    return sum([int(ch) * b ** i for i,ch in enumerate(str(n)[::-1])])"
   ]
  },
  {
   "cell_type": "code",
   "execution_count": 2,
   "id": "e6ab719b-ac35-4c8a-880f-b49310ee6385",
   "metadata": {},
   "outputs": [
    {
     "data": {
      "text/markdown": [
       "## **Exercises #1-#2 Base Conversions**"
      ],
      "text/plain": [
       "<IPython.core.display.Markdown object>"
      ]
     },
     "metadata": {},
     "output_type": "display_data"
    },
    {
     "data": {
      "text/latex": [
       "Exercise 1a : $458_{10} \\rightarrow 121222_{3} $ "
      ],
      "text/plain": [
       "<IPython.core.display.Latex object>"
      ]
     },
     "metadata": {},
     "output_type": "display_data"
    },
    {
     "data": {
      "text/latex": [
       "Exercise 1b : $677_{10} \\rightarrow 10202_{5} $ "
      ],
      "text/plain": [
       "<IPython.core.display.Latex object>"
      ]
     },
     "metadata": {},
     "output_type": "display_data"
    },
    {
     "data": {
      "text/latex": [
       "Exercise 1c : $1518_{10} \\rightarrow 4266_{7} $ "
      ],
      "text/plain": [
       "<IPython.core.display.Latex object>"
      ]
     },
     "metadata": {},
     "output_type": "display_data"
    },
    {
     "data": {
      "text/latex": [
       "Exercise 1d : $4401_{10} \\rightarrow 6030_{9} $ "
      ],
      "text/plain": [
       "<IPython.core.display.Latex object>"
      ]
     },
     "metadata": {},
     "output_type": "display_data"
    },
    {
     "data": {
      "text/latex": [
       "Exercise 2a : $588_{10} \\rightarrow 210210_{3} $ "
      ],
      "text/plain": [
       "<IPython.core.display.Latex object>"
      ]
     },
     "metadata": {},
     "output_type": "display_data"
    },
    {
     "data": {
      "text/latex": [
       "Exercise 2b : $2254_{10} \\rightarrow 33004_{5} $ "
      ],
      "text/plain": [
       "<IPython.core.display.Latex object>"
      ]
     },
     "metadata": {},
     "output_type": "display_data"
    },
    {
     "data": {
      "text/latex": [
       "Exercise 2c : $652_{10} \\rightarrow 1621_{7} $ "
      ],
      "text/plain": [
       "<IPython.core.display.Latex object>"
      ]
     },
     "metadata": {},
     "output_type": "display_data"
    },
    {
     "data": {
      "text/latex": [
       "Exercise 2d : $3104_{10} \\rightarrow 4228_{9} $ "
      ],
      "text/plain": [
       "<IPython.core.display.Latex object>"
      ]
     },
     "metadata": {},
     "output_type": "display_data"
    }
   ],
   "source": [
    "#1-2\n",
    "problems_1_2 = [[458,3,\"1a\"],[677,5,\"1b\"],[1518,7,\"1c\"],[4401,9,\"1d\"],\n",
    "                  [588,3,\"2a\"],[2254,5,\"2b\"],[652,7,\"2c\"],[3104,9,\"2d\"],]\n",
    "                    \n",
    "display(Markdown('## **Exercises #1-#2 Base Conversions**'))\n",
    "    \n",
    "for i, problem in enumerate(problems_1_2):\n",
    "            display(Latex(f\"Exercise {problem[2]} : ${problem[0]}_{{10}} \\\\rightarrow {change_of_base(problem[0],problem[1])}_{{{problem[1]}}} $ \"))"
   ]
  },
  {
   "cell_type": "code",
   "execution_count": 3,
   "id": "5bbb9911-fe25-4f80-b35a-f3a6acbeec24",
   "metadata": {},
   "outputs": [
    {
     "data": {
      "text/markdown": [
       "## **Exercise #4 Base Conversions**"
      ],
      "text/plain": [
       "<IPython.core.display.Markdown object>"
      ]
     },
     "metadata": {},
     "output_type": "display_data"
    },
    {
     "data": {
      "text/markdown": [
       "Perform the following base conversions"
      ],
      "text/plain": [
       "<IPython.core.display.Markdown object>"
      ]
     },
     "metadata": {},
     "output_type": "display_data"
    },
    {
     "data": {
      "text/latex": [
       "Exercise 4a : $20101_{3} \\rightarrow 172_{10} $ "
      ],
      "text/plain": [
       "<IPython.core.display.Latex object>"
      ]
     },
     "metadata": {},
     "output_type": "display_data"
    },
    {
     "data": {
      "text/latex": [
       "Exercise 4b : $2302_{5} \\rightarrow 327_{10} $ "
      ],
      "text/plain": [
       "<IPython.core.display.Latex object>"
      ]
     },
     "metadata": {},
     "output_type": "display_data"
    },
    {
     "data": {
      "text/latex": [
       "Exercise 4c : $1605_{7} \\rightarrow 642_{10} $ "
      ],
      "text/plain": [
       "<IPython.core.display.Latex object>"
      ]
     },
     "metadata": {},
     "output_type": "display_data"
    },
    {
     "data": {
      "text/latex": [
       "Exercise 4d : $687_{9} \\rightarrow 565_{10} $ "
      ],
      "text/plain": [
       "<IPython.core.display.Latex object>"
      ]
     },
     "metadata": {},
     "output_type": "display_data"
    }
   ],
   "source": [
    "#4\n",
    "display(Markdown('## **Exercise #4 Base Conversions**'))\n",
    "display(Markdown('Perform the following base conversions'))\n",
    "\n",
    "problems_4 =   [[20101,3,\"4a\"],[2302,5,\"4b\"],[1605,7,\"4c\"],[687,9,\"4d\"]]\n",
    "\n",
    "for i, problem in enumerate(problems_4):\n",
    "    display(Latex(f\"Exercise {problem[2]} : ${problem[0]}_{{{problem[1]}}} \\\\rightarrow {to_decimal(problem[0],problem[1])}_{{10}} $ \"))"
   ]
  },
  {
   "cell_type": "code",
   "execution_count": 4,
   "id": "9c5ad209-e550-433d-99ac-3b6b3a8866c6",
   "metadata": {},
   "outputs": [
    {
     "data": {
      "text/markdown": [
       "## **Exercise #7,9 float to binary**"
      ],
      "text/plain": [
       "<IPython.core.display.Markdown object>"
      ]
     },
     "metadata": {},
     "output_type": "display_data"
    },
    {
     "data": {
      "text/markdown": [
       "Convert the following decimal fractions to binary with a maximum of six places to the right of the binary point:"
      ],
      "text/plain": [
       "<IPython.core.display.Markdown object>"
      ]
     },
     "metadata": {},
     "output_type": "display_data"
    },
    {
     "name": "stdout",
     "output_type": "stream",
     "text": [
      "\n",
      "\n",
      " ------Decimal first problem------ \n",
      "\n",
      "26 [0]\n",
      "13 [0, 1]\n",
      "6 [0, 1, 0]\n",
      "3 [0, 1, 0, 1]\n",
      "1 [0, 1, 0, 1, 1]\n",
      "\n",
      "\n",
      " ------Fraction first problem------ \n",
      "\n",
      " 0.78125\n",
      "1.5625 [1]\n",
      "1.125 [1, 1]\n",
      "0.25 [1, 1, 0]\n",
      "0.5 [1, 1, 0, 0]\n",
      "1.0 [1, 1, 0, 0, 1]\n",
      "0.0 [1, 1, 0, 0, 1, 0]\n",
      "\n",
      "\n"
     ]
    },
    {
     "data": {
      "text/latex": [
       "$\\textbf{ Solution for 7a }  \\rightarrow  11010.110010$"
      ],
      "text/plain": [
       "<IPython.core.display.Latex object>"
      ]
     },
     "metadata": {},
     "output_type": "display_data"
    },
    {
     "data": {
      "text/latex": [
       "$\\textbf{ Solution for 7b }  \\rightarrow  11000010.000010$"
      ],
      "text/plain": [
       "<IPython.core.display.Latex object>"
      ]
     },
     "metadata": {},
     "output_type": "display_data"
    },
    {
     "data": {
      "text/latex": [
       "$\\textbf{ Solution for 7c }  \\rightarrow  100101010.110011$"
      ],
      "text/plain": [
       "<IPython.core.display.Latex object>"
      ]
     },
     "metadata": {},
     "output_type": "display_data"
    },
    {
     "data": {
      "text/latex": [
       "$\\textbf{ Solution for 7d }  \\rightarrow  10000.000111$"
      ],
      "text/plain": [
       "<IPython.core.display.Latex object>"
      ]
     },
     "metadata": {},
     "output_type": "display_data"
    },
    {
     "data": {
      "text/latex": [
       "$\\textbf{ Solution for 9a }  \\rightarrow  11011.100110$"
      ],
      "text/plain": [
       "<IPython.core.display.Latex object>"
      ]
     },
     "metadata": {},
     "output_type": "display_data"
    },
    {
     "data": {
      "text/latex": [
       "$\\textbf{ Solution for 9b }  \\rightarrow  1101001.100110$"
      ],
      "text/plain": [
       "<IPython.core.display.Latex object>"
      ]
     },
     "metadata": {},
     "output_type": "display_data"
    },
    {
     "data": {
      "text/latex": [
       "$\\textbf{ Solution for 9c }  \\rightarrow  11110001.100010$"
      ],
      "text/plain": [
       "<IPython.core.display.Latex object>"
      ]
     },
     "metadata": {},
     "output_type": "display_data"
    },
    {
     "data": {
      "text/latex": [
       "$\\textbf{ Solution for 9d }  \\rightarrow  101000111.110010$"
      ],
      "text/plain": [
       "<IPython.core.display.Latex object>"
      ]
     },
     "metadata": {},
     "output_type": "display_data"
    }
   ],
   "source": [
    "#4\n",
    "display(Markdown('## **Exercise #7,9 float to binary**'))\n",
    "display(Markdown('Convert the following decimal fractions to binary with a maximum of six places to the right of the binary point:'))\n",
    "\n",
    "\n",
    "from math import *\n",
    "import time\n",
    "\n",
    "#separate decimal from fraction\n",
    "problems =   [[26,0.78125,\"7a\"],[194,0.03125,\"7b\"],[298,0.796875,\"7c\"],[16,0.1240234375,\"7d\"],\n",
    "              [27,0.59375,\"9a\"],[105,0.59375,\"9b\"],[241,0.53125,\"9c\"],[327,0.78125,\"9d\"],]\n",
    "\n",
    "for i,problem in enumerate(problems):\n",
    "    \n",
    "    dec_bin,frac_bin = [],[]\n",
    "    \n",
    "    \"\"\"DECIMAL : division by 2 until reach 0 (decimal portion).\"\"\"\n",
    "    if(i==0):print(\"\\n\\n ------Decimal first problem------ \\n\")\n",
    "    while(problem[0] !=0.0):\n",
    "        dec_bin.append(problem[0]%2)\n",
    "        if(i==0): print(problem[0],dec_bin)\n",
    "        problem[0] = floor(problem[0]/2)\n",
    "        \n",
    "    #reverse and save result\n",
    "    problem[0] = \"\".join(map(str,dec_bin[::-1]))\n",
    "    \n",
    "    \"\"\"FRACTION: multiplication by 2 until reach 0 (decimal portion).\"\"\"\n",
    "    if(i==0): print(\"\\n\\n ------Fraction first problem------ \\n\\n\",problem[1])\n",
    "    while(problem[1] !=0.0):\n",
    "        time.sleep(0.001)\n",
    "        problem[1] = abs(problem[1]) %1\n",
    "        problem[1] = round(abs(problem[1]*2),9) \n",
    "        frac_bin.append(floor(problem[1]))\n",
    "        if(i==0): print(round(abs(problem[1]),9),frac_bin)\n",
    "        if(len(frac_bin) == 6): break\n",
    "        \n",
    "    #save result\n",
    "    problem[1] = \"\".join(map(str,frac_bin))\n",
    "    if(i==0):print(\"\\n\")\n",
    "    \n",
    "    #Display\n",
    "    display(Latex(f\"$\\\\textbf{{ Solution for {problem[2]} }}  \\\\rightarrow  {problem[0]}.{problem[1]}$\"))\n",
    "    \n",
    "    "
   ]
  },
  {
   "cell_type": "code",
   "execution_count": 5,
   "id": "2dba8c45-c3e0-4e91-86eb-0e164e490e12",
   "metadata": {},
   "outputs": [
    {
     "data": {
      "text/markdown": [
       "## **Exercise #13 float to binary**"
      ],
      "text/plain": [
       "<IPython.core.display.Markdown object>"
      ]
     },
     "metadata": {},
     "output_type": "display_data"
    },
    {
     "data": {
      "text/markdown": [
       "Convert the following decimal fractions to binary with a maximum of six places to the right of the binary point:"
      ],
      "text/plain": [
       "<IPython.core.display.Markdown object>"
      ]
     },
     "metadata": {},
     "output_type": "display_data"
    },
    {
     "data": {
      "text/latex": [
       "$\bA \\rightarrow 10 \\rightarrow 1010\\\\ \bC \\rightarrow 12 \\rightarrow 1100 \\\\ \b1 \\rightarrow 0001 \\\\ \b2 \\rightarrow 0010$"
      ],
      "text/plain": [
       "<IPython.core.display.Latex object>"
      ]
     },
     "metadata": {},
     "output_type": "display_data"
    },
    {
     "data": {
      "text/latex": [
       "$\\textbf{Solution : }  1010\\ 1100\\ 0001\\ 0010$"
      ],
      "text/plain": [
       "<IPython.core.display.Latex object>"
      ]
     },
     "metadata": {},
     "output_type": "display_data"
    }
   ],
   "source": [
    "#13\n",
    "display(Markdown('## **Exercise #13 float to binary**'))\n",
    "display(Markdown('Convert the following decimal fractions to binary with a maximum of six places to the right of the binary point:'))\n",
    "display(Latex(\"$\\bA \\\\rightarrow 10 \\\\rightarrow 1010\\\\\\\\ \\bC \\\\rightarrow 12 \\\\rightarrow 1100 \\\\\\\\ \\b1 \\\\rightarrow 0001 \\\\\\\\ \\b2 \\\\rightarrow 0010$\"))\n",
    "display(Latex(\"$\\\\textbf{Solution : }  1010\\ 1100\\ 0001\\ 0010$\"))\n"
   ]
  },
  {
   "cell_type": "markdown",
   "id": "0b139ead-cfe5-4a3a-a385-6a6e7b0fe643",
   "metadata": {},
   "source": [
    "#18\n",
    "## **Exercise #18**\n",
    "Represent the following decimal numbers in binary using 8-bit signed magnitude, one’s complement, two’s complement, and excess-127 representations\n",
    "\n",
    "1. a) 97\n",
    "    - signed magnitude 01100001\n",
    "    - ones complement 01100001\n",
    "    - two's complement 01100001\n",
    "    - excess 127 11100000\n",
    "2. b) −97\n",
    "    - signed magnitude 01100001\n",
    "    - ones complement 10011110\n",
    "    - two's complement 10011111\n",
    "    - excess 127 00011110\n",
    "3. c) 44\n",
    "    - signed magnitude 00101100\n",
    "    - one's complement 00101100\n",
    "    - two's complement 00101100\n",
    "    - excess 127 10101011\n",
    "4. d) −44 \n",
    "    - signed magnitude 10101100\n",
    "    - one's complement 11010011\n",
    "    - two's complement 11010100\n",
    "    - excess 127 01010011\n"
   ]
  },
  {
   "cell_type": "markdown",
   "id": "4e581afe-f3a7-49a4-8efc-a35da2845c79",
   "metadata": {},
   "source": [
    "#21\n",
    "## **Exercise #21**\n",
    "What decimal value does the 8-bit binary number 00010001 have if:\n",
    "\n",
    "- a) It is interpreted as an unsigned number? **17**\n",
    "- b) It is on a computer using signed-magnitude representation? **17**\n",
    "- c) It is on a computer using one’s complement representation? **17**\n",
    "- d) It is on a computer using two’s complement representation?**17**\n",
    "- e) It is on a computer using excess-127 representation? **-110**"
   ]
  },
  {
   "cell_type": "markdown",
   "id": "f682972d-f491-4284-b777-0db2b6f4762b",
   "metadata": {},
   "source": [
    "## **Exercise #32**\n",
    "- a) 01110101+00111011 = 10110000\n",
    "- b) 00010101+00011011 = 00110000\n",
    "- c) 01101111+00010001 = 10000000"
   ]
  },
  {
   "cell_type": "markdown",
   "id": "c4ec0c5a-2849-45a7-a24e-7ff2bc84a447",
   "metadata": {},
   "source": [
    "## **Exercise #34**\n",
    "- a) 01110101 - 00111011 = 00111010\n",
    "- b) 00110101 - 00001011 = 00101010\n",
    "- c) 01101111 - 00010001 = 00010001 "
   ]
  },
  {
   "cell_type": "code",
   "execution_count": null,
   "id": "70e065d8-22a6-4842-bd28-edcc5d094582",
   "metadata": {},
   "outputs": [],
   "source": []
  }
 ],
 "metadata": {
  "kernelspec": {
   "display_name": "Python 3 (ipykernel)",
   "language": "python",
   "name": "python3"
  },
  "language_info": {
   "codemirror_mode": {
    "name": "ipython",
    "version": 3
   },
   "file_extension": ".py",
   "mimetype": "text/x-python",
   "name": "python",
   "nbconvert_exporter": "python",
   "pygments_lexer": "ipython3",
   "version": "3.8.10"
  }
 },
 "nbformat": 4,
 "nbformat_minor": 5
}
