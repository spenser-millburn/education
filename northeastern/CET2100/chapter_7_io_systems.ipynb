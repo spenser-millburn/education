{
 "cells": [
  {
   "cell_type": "markdown",
   "id": "d2b6d9ad-2cc3-444f-a8cd-b8eef9983bc2",
   "metadata": {},
   "source": [
    "# Chapter 7\n",
    "\n",
    "### Exercises 1, 6, 10,11, 14, 15, 20, 22, 24, 29  .\n",
    "\n",
    "\n",
    "## Exercise 1 : \n",
    "\n",
    "1. a)  Calculate the overall speedup of a system that spends 65% of\n",
    "its time on I/O with a disk upgrade that provides for 50% greater\n",
    "throughput.\n",
    "\n",
    "$\\textbf{overall speed up} = \\frac{1}{0.35 +\\frac{0.65}{1.5}} = 1.276$\n",
    "\n",
    "therefore, the speedup is **28%**"
   ]
  },
  {
   "cell_type": "markdown",
   "id": "a3e28fbf-dee0-4bce-b949-18d5e3a13d59",
   "metadata": {},
   "source": [
    "## Exercise 6 : \n",
    "\n",
    "Using armdahl's formula,\n",
    "\n",
    "$speedup = \\frac{1}{(1-f)+(\\frac{f}{k})}$\n",
    "\n",
    "from prompt, speedup = **112%** $\\rightarrow$ **1.12** and the current processor accounts for 25% or 0.25. \n",
    "\n",
    "$ 1.12 = \\frac{1}{(1-0.25)+(\\frac{0.25}{k})}$\n",
    "\n"
   ]
  },
  {
   "cell_type": "code",
   "execution_count": 9,
   "id": "6d4cd35a-eafd-43ff-b5a7-1126b4cfd4b3",
   "metadata": {},
   "outputs": [
    {
     "data": {
      "text/plain": [
       "[Eq(k, 7/4)]"
      ]
     },
     "execution_count": 9,
     "metadata": {},
     "output_type": "execute_result"
    }
   ],
   "source": [
    "from latex2sympy2 import latex2sympy, latex2latex\n",
    "from sympy import *\n",
    "\n",
    "tex = r\"1.12 = \\frac{1}{(1-0.25)+(\\frac{0.25}{k})} \"\n",
    "val = latex2sympy(tex)\n",
    "val\n",
    "\n",
    "    "
   ]
  },
  {
   "cell_type": "markdown",
   "id": "8fe03c5f-06cb-4313-8ff0-428eef656e4b",
   "metadata": {},
   "source": [
    "therefore, having solved for k  = 1.75, the processor needs to be 75% faster"
   ]
  },
  {
   "cell_type": "markdown",
   "id": "3096e57b-ba95-4c95-bc76-af5554aae70b",
   "metadata": {},
   "source": [
    "# Exercise 10:\n",
    "1. **a) 90% of a program is made to run 10 times as fast (900% faster).** \n",
    "   \n",
    "$ {speedup} = \\frac{1}{(1-0.9)+(\\frac{0.9}{10})} = 5.26$\n",
    "\n",
    "2. **b) 80% of a program is made to run 20% faster.**\n",
    "\n",
    "$ {speedup} = \\frac{1}{(1-0.8)+(\\frac{0.8}{1.20})} = 1.16$"
   ]
  },
  {
   "cell_type": "markdown",
   "id": "021a1731-4286-4d98-9395-fe5ad8958b6e",
   "metadata": {},
   "source": [
    "# Exercise 11. \n",
    "Name the four types of I/O architectures. Where are each of\n",
    "these typically used, and why are they used there?\n",
    "\n",
    "Programmed IO - Used for specialized applications in embedded systems. The device is constantly polled for events. \n",
    "Interrupt driven IO - Interrupt driven io is used in small embedded systems such as keyboards. One key press would be an interrupt \n",
    "Direct Memory Access - Used for performant applications such as graphics cards and high speed sensors etc. DMA is used to relieve the processor of repetetive sequences of commands\n",
    "Channel IO - used for large systems with multiple users. Mainframes for example use this type of IO because they perform complex tasks and require multiplexing and logic to be applied to the data.\n"
   ]
  },
  {
   "cell_type": "markdown",
   "id": "d8db8683-95bd-41f7-ade3-be72f7af9b4b",
   "metadata": {},
   "source": [
    "# Exercise 14 \n",
    "**14. Of programmed I/O, interrupt-driven I/O, DMA, or channel I/O, which is most suitable for processing the I/O of a:*\n",
    "1. a) Mouse - **Programmed IO**\n",
    "2. b) Game controller **Interrupt**\n",
    "3. c) CD **DMA**\n",
    "4. d) Thumb drive or memory stick **channel**"
   ]
  },
  {
   "cell_type": "markdown",
   "id": "17c15f7a-2d75-4b54-9c70-c824abc31963",
   "metadata": {},
   "source": [
    "# Exercise15\n",
    "**15. Why are I/O buses provided with clock signals?**\n",
    "\n",
    "*I/O buses are provided with clock signals to synchronize the timing of data transfers between the processor and I/O devices. The clock signal provides a regular signal that controls the timing of when data is transferred on the bus.*\n"
   ]
  },
  {
   "cell_type": "markdown",
   "id": "7579752f-efb9-47ad-b4f9-ab05a99f7a6b",
   "metadata": {},
   "source": [
    "# Exercise 20\n",
    "\n",
    "50 * 4 = 200ns\n",
    "\n",
    "50 * 10 = 500ns\n",
    "\n",
    "50 * 1 = 50ns \n",
    "\n",
    "sum = 750ns\n",
    "\n",
    "**Without address lines**\n",
    "\n",
    "50 * 3 = 200ns\n",
    "\n",
    "50 * 10 = 500ns\n",
    "\n",
    "50 * 1 = 50ns \n",
    "\n",
    "sum = 700ns\n"
   ]
  },
  {
   "cell_type": "markdown",
   "id": "c91862ee-6a99-492e-9129-cc85ec9adcca",
   "metadata": {},
   "source": [
    "# Exercise 22:\n",
    "\n",
    "While the memory addressing in the disk is random, the process of getting data from the disk is not and does a seek to capture the data.Therefore it's a misnomer because the **access of the device is not random**."
   ]
  },
  {
   "cell_type": "markdown",
   "id": "68d1212a-e900-4a7c-b1ec-9278295808cb",
   "metadata": {},
   "source": [
    "# Exercise 24\n",
    "\n",
    "**Verify the average latency rate cited in the disk specification of Figure 7.15. Why is the calculation divided by 2?**\n",
    "\n",
    "$ \\textbf{Latency} = \\frac{\\frac{60s}{7200rpm}*\\frac{1000ms}{1s}}{2} = 4.1667$\n",
    "\n",
    "the latency listed in Figure 7.15 is 4.17, the math checks out. \n",
    "\n",
    "The calculation is divided by 2 because on average the required sector will be half of an entire rotation (180 degrees) from the current position of the head\n"
   ]
  },
  {
   "cell_type": "markdown",
   "id": "f807ab72-7477-4ef6-ab61-048cdfe69343",
   "metadata": {},
   "source": [
    "# Exercise 29 \n",
    "**Suppose a disk drive has the following characteristics:**\n",
    "1. Five surfaces\n",
    "2. 1,024 tracks per surface\n",
    "3. 256 sectors per track\n",
    "4. 512 bytes/sector\n",
    "5. Track-to-track seek time of 8ms\n",
    "6. Rotational speed of 7,500rpm\n",
    "\n",
    "**1. a) What is the capacity of the drive?**\n",
    "\n",
    "$capacity = 1024tracks*\\frac{256sectors}{track}*\\frac{512 bytes}{sector} = 134217728 bytes = 1.073GB$\n",
    "\n",
    "**2. b) What is the access time?**\n",
    "\n",
    "access time = seek time + average rotational latency \n",
    "\n",
    "access time = $\\frac{60}{7500} + \\frac{0.008}{2}$ = 12ms\n",
    "\n",
    "**3. c) Is this disk faster than the one described in Exercise 28? Explain.**\n",
    "\n",
    "*using the specs provided in exercise 28*\n",
    "\n",
    "access time = $\\frac{60}{5000} + \\frac{0.005}{2}$ = 14.5ms\n",
    "\n",
    "12ms<14.5ms therefore the disk in this problem is faster than the one in exercise 28\n",
    "\n",
    "\n"
   ]
  },
  {
   "cell_type": "code",
   "execution_count": 15,
   "id": "dbdb27b9-611e-427d-9525-db3642cfd5ef",
   "metadata": {},
   "outputs": [
    {
     "data": {
      "text/plain": [
       "0.012"
      ]
     },
     "execution_count": 15,
     "metadata": {},
     "output_type": "execute_result"
    }
   ],
   "source": [
    "60/7500 + (60/7500)/2"
   ]
  },
  {
   "cell_type": "code",
   "execution_count": null,
   "id": "c5bb9f0d-5bc3-475e-9405-657b0cbfba21",
   "metadata": {},
   "outputs": [],
   "source": []
  },
  {
   "cell_type": "code",
   "execution_count": null,
   "id": "27716500-0a12-4d12-998a-8d3aefce53f5",
   "metadata": {},
   "outputs": [],
   "source": []
  }
 ],
 "metadata": {
  "kernelspec": {
   "display_name": "Python 3 (ipykernel)",
   "language": "python",
   "name": "python3"
  },
  "language_info": {
   "codemirror_mode": {
    "name": "ipython",
    "version": 3
   },
   "file_extension": ".py",
   "mimetype": "text/x-python",
   "name": "python",
   "nbconvert_exporter": "python",
   "pygments_lexer": "ipython3",
   "version": "3.8.10"
  }
 },
 "nbformat": 4,
 "nbformat_minor": 5
}
