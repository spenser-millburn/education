{
 "cells": [
  {
   "cell_type": "markdown",
   "id": "1297d588-f24b-4813-981a-0ae998c22cee",
   "metadata": {},
   "source": [
    "# Final Exam - CET2100"
   ]
  },
  {
   "cell_type": "markdown",
   "id": "d2b6d9ad-2cc3-444f-a8cd-b8eef9983bc2",
   "metadata": {},
   "source": [
    "# Chapter 8\n",
    "\n",
    "### Exercise 17\n",
    "\n",
    "**We stated that only one method at a time can be active within\n",
    "each thread running in the JVM. Why do you think this is the case?**\n",
    "\n",
    "Because the JVM uses a thread scheduler that allows only one thread to execute on a single CPU core at any given moment, ensuring thread safety and efficient use of system resources.\n",
    "\n",
    "### Exercise 23\n",
    "**To improve performance, your company has decided to\n",
    "replicate its product database across several servers so that not all\n",
    "transactions go through a single system. What sorts of issues will\n",
    "need to be considered?**\n",
    "\n",
    "- Data consistency: Ensuring that all copies of the data across the multiple servers are consistent with each other.\n",
    "- Latency: The delay that may occur between the execution of a transaction on one server and when it's propagated to the other servers.\n",
    "- Scalability: Managing and coordinating the replication process as the number of servers increases, ensuring that the system can scale effectively.\n",
    "- Fault tolerance: Ensuring that the system can handle server failures and other types of disruptions without losing data or experiencing downtime.\n",
    "- Security: Protecting the data as it's replicated across the servers, increasing the risk of data breaches or other security issues.\n",
    "\n",
    "### Exercise 8\n",
    "**Suppose there were no such thing as relocatable program code. How would the process of memory paging be made more complex?**\n",
    "- Without relocatable program code, the memory layout of each program would be fixed, leading to fragmentation of physical memory.\n",
    "- It would be difficult to implement address translation, requiring more complex memory management schemes to map logical addresses to physical addresses.\n",
    "- Swapping out entire programs would be necessary rather than just their pages, resulting in longer swap times and slower overall performance.\n",
    "- It would be difficult to enforce memory protection between processes since they would not be able to execute in different memory regions, resulting in security vulnerabilities and memory access violations.\n"
   ]
  },
  {
   "cell_type": "markdown",
   "id": "3e9bb831-6f64-4a73-9922-03984e3216d8",
   "metadata": {},
   "source": [
    "# Chapter 9\n",
    "\n",
    "### Exercise 10 \n",
    "a) Due to the circular design of the windows, the output registers of the last window are used as input registers of the first window, which limits the number of active procedures to 4 without the need to store the registers in memory.\n",
    "b) The register windows that need to be stored in memory include the input registers from the first window and the input, local, and output registers during the second function call.\n",
    "c) After the most recent procedure call returns, the previously saved registers are restored.\n",
    "d) When another procedure is called, the input, local, and output values must be saved.\n",
    "\n",
    "### Exercise 18\n",
    "VLIW architectures operate on the basis of instruction-level parallelism, identifying independent instructions that can be executed simultaneously without the need for hardware to detect the instruction stream. Instead, the compiler identifies parallelizable instructions. In contrast, superscalar architectures use multiple processors to perform various operations on different data streams, utilizing instruction-level parallelism within each processor. This is accomplished by distributing multiple instructions among different functional units that allow them to execute concurrently."
   ]
  },
  {
   "cell_type": "markdown",
   "id": "9ffffb78-025d-4008-9224-db56e6b34169",
   "metadata": {},
   "source": [
    "# Chapter 10\n",
    "\n",
    "### Exercise 3\n",
    "This was one of the homework assignments. Here is the link to that assignment: \n",
    "https://northeastern.instructure.com/courses/140962/assignments/1635918?module_item_id=8152308\n",
    "https://northeastern.instructure.com/courses/140962/assignments/1635918/submissions/164123?download=20876330\n",
    "### Exercise 9\n",
    "Interrupts should always execute at the highest priority to ensure that time-critical tasks can be handled in a timely and efficient manner. This means that all non-kernel threads, such as application threads, should execute at a lower priority than interrupts. the goal is to ensure that the highest priority tasks are given the necessary resources and attention to perform their functions correctly and efficiently.\n",
    "\n",
    "### Exercise 10\n",
    "Embedded software is inherently resource constrained. Embedded developers are constantly concerned with memory usage, cpu utiliation, and many other factors. Designers answer these challenges by profiling their systems, optimizing their code, and providing requirements to EE teams. "
   ]
  },
  {
   "cell_type": "markdown",
   "id": "75c66d7f-3b8d-4727-affe-52b0204e28ca",
   "metadata": {},
   "source": [
    "# Chapter 11\n",
    "\n",
    "### Exercise 10 \n",
    "Organizations such as financial institutions, healthcare providers, transportation companies, and government agencies require good performance from transaction-processing systems to handle high-volume transactions accurately and efficiently. These systems are necessary to ensure real-time data processing, data integrity, and support the smooth functioning of these organizations.\n",
    "\n",
    "### Exercise 18\n",
    "The performance of a processor is important and depends on factors like CPU speed and disk access speed. Disk access is slower than CPU speed and depends on the rotation speed of the disk. In a scenario where a large number of requests are involved in a transaction processing system and requests are from far apart sectors, increasing the rotation speed of the disk may not significantly improve performance."
   ]
  },
  {
   "cell_type": "code",
   "execution_count": null,
   "id": "c35b138a-0813-4467-be8a-52e7808f3ce1",
   "metadata": {},
   "outputs": [],
   "source": []
  },
  {
   "cell_type": "code",
   "execution_count": null,
   "id": "56135850-b79c-485d-9ae7-b90389f32a7c",
   "metadata": {},
   "outputs": [],
   "source": []
  }
 ],
 "metadata": {
  "kernelspec": {
   "display_name": "Python 3 (ipykernel)",
   "language": "python",
   "name": "python3"
  },
  "language_info": {
   "codemirror_mode": {
    "name": "ipython",
    "version": 3
   },
   "file_extension": ".py",
   "mimetype": "text/x-python",
   "name": "python",
   "nbconvert_exporter": "python",
   "pygments_lexer": "ipython3",
   "version": "3.8.10"
  }
 },
 "nbformat": 4,
 "nbformat_minor": 5
}
