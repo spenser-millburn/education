{
 "cells": [
  {
   "cell_type": "markdown",
   "id": "d2b6d9ad-2cc3-444f-a8cd-b8eef9983bc2",
   "metadata": {},
   "source": [
    "# Chapter 4\n",
    "\n",
    "### Exercises 19 21 27"
   ]
  },
  {
   "cell_type": "markdown",
   "id": "1e501107-53e6-41d0-9fd8-eb9d7b494cf9",
   "metadata": {},
   "source": [
    "# Exercise 19\n",
    "*19. Explain the steps in the fetch–decode–execute cycle. Your\n",
    "explanation should include what is happening in the various*\n",
    "\n",
    "The fetch-decode-execute cycle is the process that the cpu uses to execute instructions. The cycle starts by fetching an instruction from the program, decoding it to determine the operation being performed, and executing that instruction (performing the operation)"
   ]
  },
  {
   "cell_type": "markdown",
   "id": "092cd36f-ae93-4d62-a9b4-36b10a478880",
   "metadata": {},
   "source": [
    "# Exercise 21\n",
    "21. *Explain why, in MARIE, the MAR is only 12 bits wide and the\n",
    "AC is 16 bits wide. (Hint: Consider the difference between data and\n",
    "addresses.)*\n",
    "\n",
    "The MAR or memory address register only needs to be 12 bits wide because MARIE's memory is only 4096 bytes, which means the largest value being stored in the address register will be 2^12, which means only 12 bits are required to perform the job of the MAR, which is to store addresses. \n",
    "\n"
   ]
  },
  {
   "cell_type": "markdown",
   "id": "3ee1e7e1-82fc-44c2-803c-1816c7dcbb18",
   "metadata": {},
   "source": [
    "# Exercise 27\n",
    "\n",
    "27. Write the assembly language equivalent of the following MARIE machine language instructions:\n",
    "1. a) 0111 0000 0000 0000 $ opcode 0111 \\rightarrow HALT $\n",
    "2. b) 1011 0011 0011 0000 $ opcode 1011 \\rightarrow ADDI 330 $\n",
    "3. c) 0100 1111 0100 1111 $ opcode 0100 \\rightarrow SUBT F4F $\n"
   ]
  },
  {
   "cell_type": "code",
   "execution_count": null,
   "id": "c35b138a-0813-4467-be8a-52e7808f3ce1",
   "metadata": {},
   "outputs": [],
   "source": []
  }
 ],
 "metadata": {
  "kernelspec": {
   "display_name": "Python 3 (ipykernel)",
   "language": "python",
   "name": "python3"
  },
  "language_info": {
   "codemirror_mode": {
    "name": "ipython",
    "version": 3
   },
   "file_extension": ".py",
   "mimetype": "text/x-python",
   "name": "python",
   "nbconvert_exporter": "python",
   "pygments_lexer": "ipython3",
   "version": "3.8.10"
  }
 },
 "nbformat": 4,
 "nbformat_minor": 5
}
