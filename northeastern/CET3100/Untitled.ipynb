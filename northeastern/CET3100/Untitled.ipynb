{
 "cells": [
  {
   "cell_type": "markdown",
   "id": "f28467aa-4b9d-4591-82e9-30b6a3552255",
   "metadata": {},
   "source": [
    "# Exam 1 - CET3100"
   ]
  },
  {
   "cell_type": "markdown",
   "id": "9dd9cb95-aea1-4c48-9a72-cd0b9ce0dafb",
   "metadata": {},
   "source": [
    "1. In the OSI model, the **Network** layer is concerned with finding the best path for the data from one point to the next within the network.\n"
   ]
  },
  {
   "cell_type": "markdown",
   "id": "ab9507dc-e904-4d50-960a-33185b427246",
   "metadata": {},
   "source": [
    "2. The **presentation** layer can perform ASCII to non-ASCII character conversions.\n"
   ]
  },
  {
   "cell_type": "markdown",
   "id": "2350a08b-740d-4a10-9af8-19dfff79cf14",
   "metadata": {},
   "source": [
    "3. Large networks that encompass parts of states, multiple states, countries and the world are called a **WAN**"
   ]
  },
  {
   "cell_type": "code",
   "execution_count": 4,
   "id": "8bc3a25b-90b3-4564-be65-7540c13c7a05",
   "metadata": {},
   "outputs": [],
   "source": [
    "3. Large networks that encompass parts of states, multiple states, countries and the world are called a WAN"
   ]
  }
 ],
 "metadata": {
  "kernelspec": {
   "display_name": "Python 3 (ipykernel)",
   "language": "python",
   "name": "python3"
  },
  "language_info": {
   "codemirror_mode": {
    "name": "ipython",
    "version": 3
   },
   "file_extension": ".py",
   "mimetype": "text/x-python",
   "name": "python",
   "nbconvert_exporter": "python",
   "pygments_lexer": "ipython3",
   "version": "3.8.10"
  }
 },
 "nbformat": 4,
 "nbformat_minor": 5
}
