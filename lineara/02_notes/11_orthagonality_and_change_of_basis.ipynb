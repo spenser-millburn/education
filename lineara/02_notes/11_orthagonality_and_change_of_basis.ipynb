{
 "cells": [
  {
   "cell_type": "markdown",
   "id": "a2e01408",
   "metadata": {},
   "source": [
    "# Section 11 - Orthagonality and change of basis"
   ]
  },
  {
   "cell_type": "markdown",
   "id": "d474a6a5",
   "metadata": {},
   "source": [
    "## [147] Orthagonality and change of basis\n",
    "### Definitions\n",
    "- **Orthagonal Complement** : when every vector in a subspace is orthagonal to every vector in another subspace\n",
    "### Process for finding the orthoganal complement\n",
    "- Given a set of vectors (example is a plane), take the transpose and augment with the zero vector as a single matrice\n",
    "\n",
    "$V = Span \\left(\\begin{bmatrix}1\\\\-3\\\\2\\end{bmatrix}\\begin{bmatrix}0\\\\1\\\\1 \\end{bmatrix}\\right)$\n",
    "\n",
    "$ A = \\begin{bmatrix} 1&0\\\\-3&1\\\\2&1 \\end{bmatrix}$\n",
    "\n",
    "$ O = \\begin{bmatrix}1&-3 &2 &0\\\\0&1&1&0 \\end{bmatrix}$\n",
    "\n",
    "- Take **RREF** and break out into a system of equations, find the column space\n",
    "\n",
    "$ RREF(O) =\\begin{bmatrix}1 & 0 & 5 & 0\\\\0 & 1 & 1 & 0\\end{bmatrix}$\n",
    "\n",
    "$\n",
    "x1 = -5x^3\\\\\n",
    "x2 = -x^3\\\\\n",
    "x3 = 1\n",
    "$\n",
    "\n",
    "the orthagon complement is \n",
    "$\n",
    "\\begin{bmatrix} x_1\\\\x_2\\\\x_3\\end{bmatrix}\n",
    "=\n",
    "x_3 \\begin{bmatrix}-5\\\\-1\\\\1\\end{bmatrix}\n",
    "$"
   ]
  },
  {
   "cell_type": "code",
   "execution_count": 82,
   "id": "7da20729",
   "metadata": {},
   "outputs": [
    {
     "data": {
      "text/plain": [
       "'A'"
      ]
     },
     "metadata": {},
     "output_type": "display_data"
    },
    {
     "data": {
      "text/latex": [
       "$\\displaystyle \\left[\\begin{matrix}1 & 0\\\\-3 & 1\\\\2 & 1\\end{matrix}\\right]$"
      ],
      "text/plain": [
       "Matrix([\n",
       "[ 1, 0],\n",
       "[-3, 1],\n",
       "[ 2, 1]])"
      ]
     },
     "metadata": {},
     "output_type": "display_data"
    },
    {
     "data": {
      "text/plain": [
       "'A transposed and augmented with the zero vector'"
      ]
     },
     "metadata": {},
     "output_type": "display_data"
    },
    {
     "data": {
      "text/latex": [
       "$\\displaystyle \\left[\\begin{matrix}1 & -3 & 2 & 0\\\\0 & 1 & 1 & 0\\end{matrix}\\right]$"
      ],
      "text/plain": [
       "Matrix([\n",
       "[1, -3, 2, 0],\n",
       "[0,  1, 1, 0]])"
      ]
     },
     "metadata": {},
     "output_type": "display_data"
    },
    {
     "data": {
      "text/plain": [
       "'RREF of above'"
      ]
     },
     "metadata": {},
     "output_type": "display_data"
    },
    {
     "data": {
      "text/latex": [
       "$\\displaystyle \\left[\\begin{matrix}1 & 0 & 5 & 0\\\\0 & 1 & 1 & 0\\end{matrix}\\right]$"
      ],
      "text/plain": [
       "Matrix([\n",
       "[1, 0, 5, 0],\n",
       "[0, 1, 1, 0]])"
      ]
     },
     "metadata": {},
     "output_type": "display_data"
    },
    {
     "name": "stdout",
     "output_type": "stream",
     "text": [
      "only free column is col 3, so put in terms of x3\n",
      "x1 = -5x^3\n",
      "x2 = -x^3\n",
      "x3 = 1\n"
     ]
    },
    {
     "data": {
      "text/plain": [
       "'orthagonal complement'"
      ]
     },
     "metadata": {},
     "output_type": "display_data"
    },
    {
     "data": {
      "text/latex": [
       "$\\displaystyle \\left[\\begin{matrix}-5\\\\-1\\\\1\\end{matrix}\\right]$"
      ],
      "text/plain": [
       "Matrix([\n",
       "[-5],\n",
       "[-1],\n",
       "[ 1]])"
      ]
     },
     "metadata": {},
     "output_type": "display_data"
    }
   ],
   "source": [
    "#[Quiz 59] find the orthoganal complement to the vector set below\n",
    "from sympy import *\n",
    "A = Matrix([[1,0],[-3,1],[2,1]])\n",
    "display(\"A\",A)\n",
    "A_orth = A.transpose().col_insert(A.shape[0],zeros(2,1))\n",
    "display(\"A transposed and augmented with the zero vector\",A_orth)\n",
    "\n",
    "A_orth_rref = A_orth.rref()[0]\n",
    "display(\"RREF of above\",A_orth_rref)\n",
    "\n",
    "print(\"only free column is col 3, so put in terms of x3\")\n",
    "print(\"x1 = -5x^3\")\n",
    "print(\"x2 = -x^3\")\n",
    "print(\"x3 = 1\")\n",
    "\n",
    "display(\"orthagonal complement\", Matrix([[-5],[-1],[1]]))"
   ]
  },
  {
   "cell_type": "code",
   "execution_count": 83,
   "id": "42d7fa06",
   "metadata": {},
   "outputs": [
    {
     "data": {
      "text/plain": [
       "'A'"
      ]
     },
     "metadata": {},
     "output_type": "display_data"
    },
    {
     "data": {
      "text/latex": [
       "$\\displaystyle \\left[\\begin{matrix}1 & 0 & 1\\\\-2 & 4 & 3\\\\3 & -8 & -5\\\\5 & 8 & -1\\end{matrix}\\right]$"
      ],
      "text/plain": [
       "Matrix([\n",
       "[ 1,  0,  1],\n",
       "[-2,  4,  3],\n",
       "[ 3, -8, -5],\n",
       "[ 5,  8, -1]])"
      ]
     },
     "metadata": {},
     "output_type": "display_data"
    },
    {
     "data": {
      "text/plain": [
       "'A transposed and augmented with the zero vector'"
      ]
     },
     "metadata": {},
     "output_type": "display_data"
    },
    {
     "data": {
      "text/latex": [
       "$\\displaystyle \\left[\\begin{matrix}1 & -2 & 3 & 5 & 0\\\\0 & 4 & -8 & 8 & 0\\\\1 & 3 & -5 & -1 & 0\\end{matrix}\\right]$"
      ],
      "text/plain": [
       "Matrix([\n",
       "[1, -2,  3,  5, 0],\n",
       "[0,  4, -8,  8, 0],\n",
       "[1,  3, -5, -1, 0]])"
      ]
     },
     "metadata": {},
     "output_type": "display_data"
    },
    {
     "data": {
      "text/plain": [
       "'pivots'"
      ]
     },
     "metadata": {},
     "output_type": "display_data"
    },
    {
     "data": {
      "text/plain": [
       "(0, 1, 2)"
      ]
     },
     "metadata": {},
     "output_type": "display_data"
    },
    {
     "data": {
      "text/plain": [
       "'RREF of above'"
      ]
     },
     "metadata": {},
     "output_type": "display_data"
    },
    {
     "data": {
      "text/latex": [
       "$\\displaystyle \\left[\\begin{matrix}1 & 0 & 0 & 1 & 0\\\\0 & 1 & 0 & -14 & 0\\\\0 & 0 & 1 & -8 & 0\\end{matrix}\\right]$"
      ],
      "text/plain": [
       "Matrix([\n",
       "[1, 0, 0,   1, 0],\n",
       "[0, 1, 0, -14, 0],\n",
       "[0, 0, 1,  -8, 0]])"
      ]
     },
     "metadata": {},
     "output_type": "display_data"
    },
    {
     "name": "stdout",
     "output_type": "stream",
     "text": [
      "free columns are col 2 and col 4, so put in terms of x2 and x4\n",
      "x1 = -x4\n",
      "x2 = 14x4\n",
      "x3 = -8x4\n",
      "x4 = x4\n"
     ]
    },
    {
     "data": {
      "text/plain": [
       "'orthagonal complement'"
      ]
     },
     "metadata": {},
     "output_type": "display_data"
    },
    {
     "data": {
      "text/latex": [
       "$\\displaystyle \\left[\\begin{matrix}-1\\\\14\\\\8\\\\1\\end{matrix}\\right]$"
      ],
      "text/plain": [
       "Matrix([\n",
       "[-1],\n",
       "[14],\n",
       "[ 8],\n",
       "[ 1]])"
      ]
     },
     "metadata": {},
     "output_type": "display_data"
    }
   ],
   "source": [
    "#[quiz 59] 3 find the orthoganal complement to the vector set below\n",
    "from sympy import *\n",
    "A = Matrix([[1,0,1],[-2,4,3],[3,-8,-5],[5,8,-1]])\n",
    "display(\"A\",A)\n",
    "A_orth = A.transpose().col_insert(A.shape[0],zeros(3,1))\n",
    "display(\"A transposed and augmented with the zero vector\",A_orth)\n",
    "\n",
    "A_orth_rref = A_orth.rref()[0]\n",
    "display(\"pivots\", A_orth.rref()[1])\n",
    "display(\"RREF of above\",A_orth_rref)\n",
    "\n",
    "print(\"free columns are col 2 and col 4, so put in terms of x2 and x4\")\n",
    "\n",
    "print(\"x1 = -x4\")\n",
    "print(\"x2 = 14x4\")\n",
    "print(\"x3 = -8x4\")\n",
    "print(\"x4 = x4\")\n",
    "\n",
    "display(\"orthagonal complement\", Matrix([[-1],[14],[8],[1]]))\n"
   ]
  },
  {
   "cell_type": "code",
   "execution_count": 84,
   "id": "b391d902",
   "metadata": {},
   "outputs": [
    {
     "data": {
      "text/html": [
       "<style>\n",
       "table {width:500px;}\n",
       "</style>\n"
      ],
      "text/plain": [
       "<IPython.core.display.HTML object>"
      ]
     },
     "metadata": {},
     "output_type": "display_data"
    }
   ],
   "source": [
    "%%html\n",
    "<style>\n",
    "table {width:500px;}\n",
    "</style>"
   ]
  },
  {
   "cell_type": "markdown",
   "id": "6c18969e",
   "metadata": {},
   "source": [
    "## [151] Orthoganal complements of the fundamental subspaces\n",
    "### Recall\n",
    "- **Dimension** is the number of linearly independent vectors required to form the basis\n",
    "- **Rank** is the number of pivots in a matrice\n",
    "\n",
    "### Formulae\n",
    "\n",
    "**[151.1]** The null space $N(A)$ and row space $C(A^T)$ are orthogonal complements\n",
    "\n",
    "$N(A) = (C(A^T))^{\\bot}$\n",
    "\n",
    "AND\n",
    "\n",
    "$N(A) = (C(A^T))^{\\bot}$\n",
    "\n",
    " \n",
    "**[151.2]** The left null space $N(A^T)$ and column space $C(A)$ are orthogonal complements\n",
    "\n",
    "\n",
    "$N(A^T) = (C(A))^{\\bot}$ \n",
    "\n",
    "AND\n",
    "\n",
    "$(N(A^T))^{\\bot} = C(A)$\n",
    "\n",
    "\n",
    "    \n",
    "\n",
    "**[151.3]** Dimension of the orthogonal complement \n",
    "- The dimension of a subspace V and the dimension of its orthogonal complement $V^1$ will always sum to the dimension of the space $R^n$  that contains them both.\n",
    "    \n",
    "$Dim(V) + Dim(V^{\\bot}) = n$\n",
    " \n",
    "### Example\n",
    "\n",
    " \n",
    "<br /> \n",
    "\n",
    "$\n",
    "A = \\begin{bmatrix} 1&0&0&2 \\\\ -1&1&2&0\\\\ 2&0&-1&1\\end{bmatrix}\n",
    "$\n",
    "\n",
    "$RREF(A) = \\left[\\begin{matrix}1 & 0 & 0 & 2\\\\0 & 1 & 0 & -4\\\\0 & 0 & 1 & 3\\end{matrix}\\right]$\n",
    "\n",
    "#### Therefore \n",
    "- **Rank** = 3\n",
    "- **n** = 4\n",
    "- **m** = 3\n",
    "- **Dimensions of A** = 4 = $\\mathbb{R^4}$\n",
    "\n",
    "<br /> \n",
    "<br /> \n",
    "\n",
    "![\"\"](images/orthogonal_dimensions_and_complements.png)\n",
    "\n",
    "<br /> \n",
    "<br /> \n",
    "\n",
    "|Subspace|Space|Dimensions|matrice|\n",
    "|:---|:---|:---|:---|\n",
    "|$C(A)$|$\\mathbb{R^3}$|$3$|$Span(\\begin{bmatrix}.\\\\.\\\\.\\end{bmatrix}\\begin{bmatrix}.\\\\.\\\\.\\end{bmatrix}\\begin{bmatrix}.\\\\.\\\\.\\end{bmatrix})$|\n",
    "|$N(A)$|$\\mathbb{R^4}$|$1$|$Span(\\begin{bmatrix}.\\\\.\\\\.\\end{bmatrix})$|\n",
    "|$C(A^T)$|$\\mathbb{R^4}$|$3$|$Span(\\begin{bmatrix}.\\\\.\\\\.\\end{bmatrix}\\begin{bmatrix}.\\\\.\\\\.\\end{bmatrix}\\begin{bmatrix}.\\\\.\\\\.\\end{bmatrix})$|\n",
    "|$N(A^T)$|$\\mathbb{R^3}$|$0$|$Span(\\begin{bmatrix}0\\\\0\\\\0\\end{bmatrix})$|"
   ]
  },
  {
   "cell_type": "code",
   "execution_count": 85,
   "id": "e0d5aafc",
   "metadata": {},
   "outputs": [
    {
     "data": {
      "text/latex": [
       "$\\displaystyle \\left[\\begin{matrix}1 & 0 & 0 & - \\frac{19}{11}\\\\0 & 1 & 0 & - \\frac{6}{11}\\\\0 & 0 & 1 & - \\frac{3}{11}\\end{matrix}\\right]$"
      ],
      "text/plain": [
       "Matrix([\n",
       "[1, 0, 0, -19/11],\n",
       "[0, 1, 0,  -6/11],\n",
       "[0, 0, 1,  -3/11]])"
      ]
     },
     "execution_count": 85,
     "metadata": {},
     "output_type": "execute_result"
    }
   ],
   "source": [
    "#[Quiz 60] Orthogonal complements of the fundamental subspaces\n",
    "Matrix([[-1,3,4,-1],[2,0,2,-4],[-3,5,9,0]]).rref()[0]"
   ]
  },
  {
   "cell_type": "markdown",
   "id": "03c79e32",
   "metadata": {},
   "source": [
    "#### [Quiz 60] Orthogonal complements of the fundamental subspaces continued\n",
    "- $Dim(C(A) \\rightarrow (r)\\\\ = 3 $\n",
    "\n",
    "\n",
    "- $Dim(N(A) \\rightarrow  (n-r)\\\\ 4-3 = 1$ \n",
    "\n",
    "\n",
    "- $Dim(C(A^T) \\rightarrow  (r)\\\\ = 3$ \n",
    "\n",
    "\n",
    "- $Dim(N(A^T) \\rightarrow  (m-r)\\\\3-3 = 0$\n"
   ]
  },
  {
   "cell_type": "markdown",
   "id": "83410001",
   "metadata": {},
   "source": [
    "## [154] Projection onto the subspace\n",
    "\n",
    "### Formulae\n",
    "\n",
    "$V \\in \\mathbb{R^n}$\n",
    "\n",
    "-Projection onto a vector\n",
    "   - Only relevent when matrix is not square and not invertible\n",
    "\n",
    "$Proj_v\\vec{x} = A(A^TA)^{-1}A^T\\vec{x}$ \n",
    "\n",
    "### Example\n",
    "\n",
    "$V = Span\\left(\\begin{bmatrix}2\\\\1\\\\1\\end{bmatrix},\\begin{bmatrix}1\\\\0\\\\-1\\end{bmatrix}\\right)$"
   ]
  },
  {
   "cell_type": "code",
   "execution_count": 119,
   "id": "0d526673",
   "metadata": {},
   "outputs": [
    {
     "data": {
      "text/plain": [
       "'A'"
      ]
     },
     "metadata": {},
     "output_type": "display_data"
    },
    {
     "data": {
      "text/latex": [
       "$\\displaystyle \\left[\\begin{matrix}2 & 1\\\\1 & 0\\\\1 & -1\\end{matrix}\\right]$"
      ],
      "text/plain": [
       "Matrix([\n",
       "[2,  1],\n",
       "[1,  0],\n",
       "[1, -1]])"
      ]
     },
     "metadata": {},
     "output_type": "display_data"
    },
    {
     "data": {
      "text/plain": [
       "'A_T'"
      ]
     },
     "metadata": {},
     "output_type": "display_data"
    },
    {
     "data": {
      "text/latex": [
       "$\\displaystyle \\left[\\begin{matrix}2 & 1 & 1\\\\1 & 0 & -1\\end{matrix}\\right]$"
      ],
      "text/plain": [
       "Matrix([\n",
       "[2, 1,  1],\n",
       "[1, 0, -1]])"
      ]
     },
     "metadata": {},
     "output_type": "display_data"
    },
    {
     "data": {
      "text/plain": [
       "'A_T_A'"
      ]
     },
     "metadata": {},
     "output_type": "display_data"
    },
    {
     "data": {
      "text/latex": [
       "$\\displaystyle \\left[\\begin{matrix}6 & 1\\\\1 & 2\\end{matrix}\\right]$"
      ],
      "text/plain": [
       "Matrix([\n",
       "[6, 1],\n",
       "[1, 2]])"
      ]
     },
     "metadata": {},
     "output_type": "display_data"
    },
    {
     "data": {
      "text/plain": [
       "'A_T_A_inv'"
      ]
     },
     "metadata": {},
     "output_type": "display_data"
    },
    {
     "data": {
      "text/latex": [
       "$\\displaystyle \\left[\\begin{matrix}\\frac{2}{11} & - \\frac{1}{11}\\\\- \\frac{1}{11} & \\frac{6}{11}\\end{matrix}\\right]$"
      ],
      "text/plain": [
       "Matrix([\n",
       "[ 2/11, -1/11],\n",
       "[-1/11,  6/11]])"
      ]
     },
     "metadata": {},
     "output_type": "display_data"
    },
    {
     "data": {
      "text/plain": [
       "'Projection Matrix'"
      ]
     },
     "metadata": {},
     "output_type": "display_data"
    },
    {
     "data": {
      "text/latex": [
       "$\\displaystyle \\left[\\begin{matrix}\\frac{10}{11} & \\frac{3}{11} & - \\frac{1}{11}\\\\\\frac{3}{11} & \\frac{2}{11} & \\frac{3}{11}\\\\- \\frac{1}{11} & \\frac{3}{11} & \\frac{10}{11}\\end{matrix}\\right]$"
      ],
      "text/plain": [
       "Matrix([\n",
       "[10/11, 3/11, -1/11],\n",
       "[ 3/11, 2/11,  3/11],\n",
       "[-1/11, 3/11, 10/11]])"
      ]
     },
     "metadata": {},
     "output_type": "display_data"
    },
    {
     "data": {
      "text/latex": [
       "$\\displaystyle \\left[\\begin{matrix}\\frac{10}{11} & \\frac{3}{11} & - \\frac{1}{11}\\\\\\frac{3}{11} & \\frac{2}{11} & \\frac{3}{11}\\\\- \\frac{1}{11} & \\frac{3}{11} & \\frac{10}{11}\\end{matrix}\\right]$"
      ],
      "text/plain": [
       "Matrix([\n",
       "[10/11, 3/11, -1/11],\n",
       "[ 3/11, 2/11,  3/11],\n",
       "[-1/11, 3/11, 10/11]])"
      ]
     },
     "execution_count": 119,
     "metadata": {},
     "output_type": "execute_result"
    }
   ],
   "source": [
    "\n",
    "def get_projection_matrix(A):\n",
    "    A_T = A.transpose()\n",
    "    A_T_A = A_T*A\n",
    "    A_T_A_inv = A_T_A.inv()\n",
    "    display(\n",
    "            \"A\", # baw matrix\n",
    "            A,    \n",
    "            \"A_T\", # Transposed\n",
    "            A_T,\n",
    "            \"A_T_A\", # Transposed base product\n",
    "            A_T_A,\n",
    "            \"A_T_A_inv\", # Inverse of the transposed base product\n",
    "            A_T_A_inv,\n",
    "            \"Projection Matrix\", # Final projection matrix\n",
    "            A*(A_T_A_inv)*A_T\n",
    "           )\n",
    "    \n",
    "    return A*(A_T_A_inv)*A_T\n",
    "\n",
    "M = Matrix([[2,1],[1,0],[1,-1]])\n",
    "get_projection_matrix(M)"
   ]
  },
  {
   "cell_type": "code",
   "execution_count": 118,
   "id": "f42471e1",
   "metadata": {},
   "outputs": [
    {
     "name": "stdout",
     "output_type": "stream",
     "text": [
      "--------------------Projection Matrix Q1---------------------\n"
     ]
    },
    {
     "data": {
      "text/plain": [
       "'A'"
      ]
     },
     "metadata": {},
     "output_type": "display_data"
    },
    {
     "data": {
      "text/latex": [
       "$\\displaystyle \\left[\\begin{matrix}-2 & 0\\\\0 & 4\\\\-2 & 2\\end{matrix}\\right]$"
      ],
      "text/plain": [
       "Matrix([\n",
       "[-2, 0],\n",
       "[ 0, 4],\n",
       "[-2, 2]])"
      ]
     },
     "metadata": {},
     "output_type": "display_data"
    },
    {
     "data": {
      "text/plain": [
       "'A_T'"
      ]
     },
     "metadata": {},
     "output_type": "display_data"
    },
    {
     "data": {
      "text/latex": [
       "$\\displaystyle \\left[\\begin{matrix}-2 & 0 & -2\\\\0 & 4 & 2\\end{matrix}\\right]$"
      ],
      "text/plain": [
       "Matrix([\n",
       "[-2, 0, -2],\n",
       "[ 0, 4,  2]])"
      ]
     },
     "metadata": {},
     "output_type": "display_data"
    },
    {
     "data": {
      "text/plain": [
       "'A_T_A'"
      ]
     },
     "metadata": {},
     "output_type": "display_data"
    },
    {
     "data": {
      "text/latex": [
       "$\\displaystyle \\left[\\begin{matrix}8 & -4\\\\-4 & 20\\end{matrix}\\right]$"
      ],
      "text/plain": [
       "Matrix([\n",
       "[ 8, -4],\n",
       "[-4, 20]])"
      ]
     },
     "metadata": {},
     "output_type": "display_data"
    },
    {
     "data": {
      "text/plain": [
       "'A_T_A_inv'"
      ]
     },
     "metadata": {},
     "output_type": "display_data"
    },
    {
     "data": {
      "text/latex": [
       "$\\displaystyle \\left[\\begin{matrix}\\frac{5}{36} & \\frac{1}{36}\\\\\\frac{1}{36} & \\frac{1}{18}\\end{matrix}\\right]$"
      ],
      "text/plain": [
       "Matrix([\n",
       "[5/36, 1/36],\n",
       "[1/36, 1/18]])"
      ]
     },
     "metadata": {},
     "output_type": "display_data"
    },
    {
     "data": {
      "text/plain": [
       "'Projection Matrix'"
      ]
     },
     "metadata": {},
     "output_type": "display_data"
    },
    {
     "data": {
      "text/latex": [
       "$\\displaystyle \\left[\\begin{matrix}\\frac{5}{9} & - \\frac{2}{9} & \\frac{4}{9}\\\\- \\frac{2}{9} & \\frac{8}{9} & \\frac{2}{9}\\\\\\frac{4}{9} & \\frac{2}{9} & \\frac{5}{9}\\end{matrix}\\right]$"
      ],
      "text/plain": [
       "Matrix([\n",
       "[ 5/9, -2/9, 4/9],\n",
       "[-2/9,  8/9, 2/9],\n",
       "[ 4/9,  2/9, 5/9]])"
      ]
     },
     "metadata": {},
     "output_type": "display_data"
    },
    {
     "data": {
      "text/latex": [
       "$\\displaystyle \\left[\\begin{matrix}\\frac{5}{9} & - \\frac{2}{9} & \\frac{4}{9}\\\\- \\frac{2}{9} & \\frac{8}{9} & \\frac{2}{9}\\\\\\frac{4}{9} & \\frac{2}{9} & \\frac{5}{9}\\end{matrix}\\right]$"
      ],
      "text/plain": [
       "Matrix([\n",
       "[ 5/9, -2/9, 4/9],\n",
       "[-2/9,  8/9, 2/9],\n",
       "[ 4/9,  2/9, 5/9]])"
      ]
     },
     "execution_count": 118,
     "metadata": {},
     "output_type": "execute_result"
    }
   ],
   "source": [
    "#[Quiz 61]\n",
    "from sympy import *\n",
    "from fractions import Fraction\n",
    "\n",
    "print(\"--------------------Projection Matrix Q1---------------------\")\n",
    "A = Matrix([[-2,0],[0,4],[-2,2]])\n",
    "get_projection_matrix(A)\n",
    "# print(\"--------------------Projection Matrix Q2---------------------\")\n",
    "# A = Matrix([[1,0],[0,1],[-1,1],[2,-1]])\n",
    "# A = get_projection_matrix(A)\n",
    "# print(\"--------------------Projection Matrix Q3---------------------\")\n",
    "# A = Matrix([[1,0,1],[-1,2,0],[0,0,-2]])\n",
    "# A = get_projection_matrix(A)"
   ]
  },
  {
   "cell_type": "code",
   "execution_count": null,
   "id": "c33da658",
   "metadata": {},
   "outputs": [],
   "source": []
  }
 ],
 "metadata": {
  "kernelspec": {
   "display_name": "Python 3 (ipykernel)",
   "language": "python",
   "name": "python3"
  },
  "language_info": {
   "codemirror_mode": {
    "name": "ipython",
    "version": 3
   },
   "file_extension": ".py",
   "mimetype": "text/x-python",
   "name": "python",
   "nbconvert_exporter": "python",
   "pygments_lexer": "ipython3",
   "version": "3.8.10"
  }
 },
 "nbformat": 4,
 "nbformat_minor": 5
}
