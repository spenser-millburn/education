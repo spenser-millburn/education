{
 "cells": [
  {
   "cell_type": "markdown",
   "id": "a5967a98",
   "metadata": {},
   "source": [
    "# Section 7 - Transformations\n",
    "\n",
    "## [95]Transformation matrices and the image of the subset\n",
    "\n",
    "### Formulae\n",
    "**[95]** $  TA \\rightarrow T(A) $ \n",
    "\n",
    "\n",
    "### Definitions\n",
    "- **Function matrices** are the set of vectors used to transform the preimage to the image\n",
    "- The **preimage** is the original matrix as a set of vectors\n",
    "- The **image** is the transformed matrix is as a set of vectors\n",
    "\n",
    "## [97] Preimage, Image and the kernel\n",
    "\n",
    "### Formulae\n",
    "\n",
    "### Properties of transformations\n",
    "- **Transformations are subspaces** Transformations are always closed under scalar multiplication and addition. \n",
    "- The **kernel** is all vectors that map to $\\vec{0}$\n",
    "- T transforms vectors from the domain $A$ into the codomain $B$.\n",
    "- To map values $A_x$ to $B_x$, use eq **[95]**\n",
    "- to map $B_x$ to $A_x$, augment transformation matrix $T$ with $B_x$, reduce to RREF, result will be $A_x$ \n"
   ]
  },
  {
   "cell_type": "code",
   "execution_count": 10,
   "id": "10c2c84e",
   "metadata": {},
   "outputs": [
    {
     "data": {
      "text/plain": [
       "'T Function'"
      ]
     },
     "metadata": {},
     "output_type": "display_data"
    },
    {
     "data": {
      "text/latex": [
       "$\\displaystyle \\left[\\begin{matrix}0 & -1\\\\2 & 1\\end{matrix}\\right]$"
      ],
      "text/plain": [
       "Matrix([\n",
       "[0, -1],\n",
       "[2,  1]])"
      ]
     },
     "metadata": {},
     "output_type": "display_data"
    },
    {
     "data": {
      "text/plain": [
       "'A Preimage'"
      ]
     },
     "metadata": {},
     "output_type": "display_data"
    },
    {
     "data": {
      "text/latex": [
       "$\\displaystyle \\left[\\begin{matrix}-3 & 1 & 1\\\\0 & 2 & -2\\end{matrix}\\right]$"
      ],
      "text/plain": [
       "Matrix([\n",
       "[-3, 1,  1],\n",
       "[ 0, 2, -2]])"
      ]
     },
     "metadata": {},
     "output_type": "display_data"
    },
    {
     "data": {
      "text/plain": [
       "'B Image or T(A)'"
      ]
     },
     "metadata": {},
     "output_type": "display_data"
    },
    {
     "data": {
      "text/latex": [
       "$\\displaystyle \\left[\\begin{matrix}0 & -2 & 2\\\\-6 & 4 & 0\\end{matrix}\\right]$"
      ],
      "text/plain": [
       "Matrix([\n",
       "[ 0, -2, 2],\n",
       "[-6,  4, 0]])"
      ]
     },
     "metadata": {},
     "output_type": "display_data"
    }
   ],
   "source": [
    "#[Quiz 38] Transformation matrices and the image of the subset\n",
    "import numpy as np\n",
    "from sympy import *\n",
    "\n",
    "T = Matrix([[0, -1], \n",
    "               [2, 1]])\n",
    "display(\"T Function\",T)\n",
    "\n",
    "A = Matrix([[-3, 1,1], \n",
    "               [0,2,-2]])\n",
    "display(\"A Preimage\",A)\n",
    "\n",
    "B = Matrix(np.dot(T,A))\n",
    "display(\"B Image or T(A)\",B)\n",
    "\n"
   ]
  },
  {
   "cell_type": "code",
   "execution_count": 75,
   "id": "32c9d5f2",
   "metadata": {},
   "outputs": [
    {
     "data": {
      "text/plain": [
       "'B_1'"
      ]
     },
     "metadata": {},
     "output_type": "display_data"
    },
    {
     "data": {
      "text/latex": [
       "$\\displaystyle \\left[\\begin{matrix}1\\\\-2\\end{matrix}\\right]$"
      ],
      "text/plain": [
       "Matrix([\n",
       "[ 1],\n",
       "[-2]])"
      ]
     },
     "metadata": {},
     "output_type": "display_data"
    },
    {
     "data": {
      "text/plain": [
       "'B_2'"
      ]
     },
     "metadata": {},
     "output_type": "display_data"
    },
    {
     "data": {
      "text/latex": [
       "$\\displaystyle \\left[\\begin{matrix}3\\\\5\\end{matrix}\\right]$"
      ],
      "text/plain": [
       "Matrix([\n",
       "[3],\n",
       "[5]])"
      ]
     },
     "metadata": {},
     "output_type": "display_data"
    },
    {
     "data": {
      "text/plain": [
       "'T'"
      ]
     },
     "metadata": {},
     "output_type": "display_data"
    },
    {
     "data": {
      "text/latex": [
       "$\\displaystyle \\left[\\begin{matrix}1 & -1\\\\0 & 3\\end{matrix}\\right]$"
      ],
      "text/plain": [
       "Matrix([\n",
       "[1, -1],\n",
       "[0,  3]])"
      ]
     },
     "metadata": {},
     "output_type": "display_data"
    },
    {
     "data": {
      "text/plain": [
       "'A_1: '"
      ]
     },
     "metadata": {},
     "output_type": "display_data"
    },
    {
     "data": {
      "text/latex": [
       "$\\displaystyle \\left[\\begin{matrix}0.333\\\\-0.667\\end{matrix}\\right]$"
      ],
      "text/plain": [
       "Matrix([\n",
       "[ 0.333],\n",
       "[-0.667]])"
      ]
     },
     "metadata": {},
     "output_type": "display_data"
    },
    {
     "data": {
      "text/plain": [
       "'A_2: '"
      ]
     },
     "metadata": {},
     "output_type": "display_data"
    },
    {
     "data": {
      "text/latex": [
       "$\\displaystyle \\left[\\begin{matrix}4.667\\\\1.667\\end{matrix}\\right]$"
      ],
      "text/plain": [
       "Matrix([\n",
       "[4.667],\n",
       "[1.667]])"
      ]
     },
     "metadata": {},
     "output_type": "display_data"
    }
   ],
   "source": [
    "#[Quiz 39] Preimage, Image and the Kernel - Working backwards from B_x to A_x\n",
    "\n",
    "import numpy as np\n",
    "from sympy import *\n",
    "B_1 = Matrix([1, -2])\n",
    "display(\"B_1\", B_1)\n",
    "\n",
    "B_2 = Matrix([3, 5])\n",
    "display(\"B_2\", B_2)\n",
    "\n",
    "T = Matrix([[1, -1],[0,3]])\n",
    "display(\"T\", T)\n",
    "\n",
    "def solve_matrix(T,A,number_of_decimals=3):\n",
    "    return Matrix(\n",
    "        np.linalg.solve(np.array(T).astype(np.int64),\n",
    "                        np.array(A).astype(np.int64)).round(number_of_decimals)\n",
    "    )\n",
    "\n",
    "display(\"A_1: \", solve_matrix(T,B_1))\n",
    "display(\"A_2: \", solve_matrix(T,B_2))\n",
    "\n",
    "\n"
   ]
  },
  {
   "cell_type": "code",
   "execution_count": null,
   "id": "b4e6b2ef",
   "metadata": {},
   "outputs": [],
   "source": []
  }
 ],
 "metadata": {
  "kernelspec": {
   "display_name": "Python 3 (ipykernel)",
   "language": "python",
   "name": "python3"
  },
  "language_info": {
   "codemirror_mode": {
    "name": "ipython",
    "version": 3
   },
   "file_extension": ".py",
   "mimetype": "text/x-python",
   "name": "python",
   "nbconvert_exporter": "python",
   "pygments_lexer": "ipython3",
   "version": "3.8.10"
  }
 },
 "nbformat": 4,
 "nbformat_minor": 5
}
