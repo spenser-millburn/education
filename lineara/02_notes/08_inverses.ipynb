{
 "cells": [
  {
   "cell_type": "markdown",
   "id": "a5967a98",
   "metadata": {},
   "source": [
    "# Section 8 - Inverses\n",
    "\n",
    "## [112] Inverse of a Transformation\n",
    "- **Summary**: a transformation is invertible if every vector of the output of the transformation can be mapped back to the input\n",
    "    - $T : A \\rightarrow B$ is invertible only if $T : B \\rightarrow A $ exists\n",
    "    - This is true only when the transformation $T$ is both **Injective** and **Surjective**\n",
    "    \n",
    "### Conditions for invertibility\n",
    "1. **$T^{-1}$ is unique:** Its inverse transformation is unique. In other words, an invertible\n",
    "transformation cannot have multiple inverses. It will always have\n",
    "exactly one inverse.\n",
    "2. **$\\vec{a_n} $ maps to only one $\\vec{b_m}$** :  When you apply the transformation $T^{-1}$ to a vector a ⃗ in A, you’ll be\n",
    "mapped to one unique vector b ⃗ in B. In other words, the\n",
    "transformation can never map you from a ⃗ in A to multiple values\n",
    "b ⃗ and b ⃗ in B.\n",
    "3. **$\\vec{b_n}$ maps to only one $\\vec{a_m}$ :** When you apply the inverse transformation  to a vector b ⃗ in B,\n",
    "you’ll be mapped back to one unique vector a ⃗ in A. In other\n",
    "words, the unique inverse transformation can never map you from\n",
    "b ⃗ in B back to multiple vectors a ⃗ and a ⃗ in A.\n",
    "\n",
    "### Definitions\n",
    "- **Identity Transformation** The transformation that maps vectors to themselves : $I:X\\rightarrow X$ or $ I_A(\\vec{a}) = \\vec{a}$\n",
    "- **Surjective Transformation (onto)** - If every vector b ⃗ in B is being mapped to, then T is surjective, or **onto**.\n",
    "- **Injective Transformation (one-to-one)** - If every a ⃗ maps to a unique b , ⃗ then T is injective, or **one-to-one**\n",
    "\n",
    "\n"
   ]
  },
  {
   "cell_type": "markdown",
   "id": "9828d90a",
   "metadata": {},
   "source": [
    "## [114] Invertibility from the matrix-vector product\n",
    "**Recall :** \n",
    "- $T(\\vec{x} ) = M\\vec{x}$\n",
    "- $A\\vec{x} = \\vec{b}$\n",
    "- **Rank** is given by the number of pivot columns in the RREF of a matrix\n",
    "\n",
    "**Summary** : \n",
    "- all matrix-vector products are **surjective** if the column space of $M$ is the entire codomain $\\mathbb{R^m}$\n",
    "- The above will be true only when the $RREF$ of $M$ has pivot entries in every row **AND (see below)**\n",
    "- **Only square transformation matrices $A$ have the potential to be invertible** but not all square matrices are invertible. This is because:\n",
    "    - Rectangular matrices that are wider than they are tall are not injective\n",
    "    - Rectangular matrices that are taller than they are wide are not surjective"
   ]
  },
  {
   "cell_type": "code",
   "execution_count": 2,
   "id": "2168414e",
   "metadata": {
    "tags": []
   },
   "outputs": [
    {
     "data": {
      "text/plain": [
       "'A'"
      ]
     },
     "metadata": {},
     "output_type": "display_data"
    },
    {
     "data": {
      "text/latex": [
       "$\\displaystyle \\left[\\begin{matrix}-1 & 2 & 3\\\\0 & 0 & 1\\\\2 & -2 & 1\\\\0 & 4 & 2\\end{matrix}\\right]$"
      ],
      "text/plain": [
       "Matrix([\n",
       "[-1,  2, 3],\n",
       "[ 0,  0, 1],\n",
       "[ 2, -2, 1],\n",
       "[ 0,  4, 2]])"
      ]
     },
     "metadata": {},
     "output_type": "display_data"
    },
    {
     "data": {
      "text/plain": [
       "'A_rref'"
      ]
     },
     "metadata": {},
     "output_type": "display_data"
    },
    {
     "data": {
      "text/latex": [
       "$\\displaystyle \\left[\\begin{matrix}1 & 0 & 0\\\\0 & 1 & 0\\\\0 & 0 & 1\\\\0 & 0 & 0\\end{matrix}\\right]$"
      ],
      "text/plain": [
       "Matrix([\n",
       "[1, 0, 0],\n",
       "[0, 1, 0],\n",
       "[0, 0, 1],\n",
       "[0, 0, 0]])"
      ]
     },
     "metadata": {},
     "output_type": "display_data"
    },
    {
     "name": "stdout",
     "output_type": "stream",
     "text": [
      "Matrix A is not surjective because it is taller than it is wide. It is therefore not invertible\n"
     ]
    }
   ],
   "source": [
    "#[Quiz 46] determine if the transformation T is surjective or injective\n",
    "\n",
    "from sympy import * \n",
    "A = Matrix([[-1, 2,3], [0,0,1], [2,-2,1], [0,4,2]])\n",
    "display(\"A\",A)\n",
    "A_rref = A.rref()  \n",
    "display(\"A_rref\",A_rref[0])\n",
    "\n",
    "print(\"Matrix A is not surjective because it is taller than it is wide. It is therefore not invertible\")"
   ]
  },
  {
   "cell_type": "markdown",
   "id": "cd1d7fc5",
   "metadata": {},
   "source": [
    "## [116] Inverse transformations are linear (Finding the inverse of A)\n",
    "\n",
    "### Summary\n",
    "- Because the inverse of a matrix is a also a linear transformation, it can be expressed as a vector-matrix product:\n",
    "$T^{-1}(\\vec{x}) = A^{-1}\\vec{x}$\n",
    "- To find the inverse of $A$, $A^{-1}$, simply **augment A with the appropriate identity matrix and reduce to RREF**:\n",
    "$RREF([A|I])\\rightarrow [I|A^{-1}]$\n",
    "\n",
    "### Finding the inverse of A"
   ]
  },
  {
   "cell_type": "code",
   "execution_count": 122,
   "id": "74efec16",
   "metadata": {},
   "outputs": [
    {
     "data": {
      "text/plain": [
       "'A'"
      ]
     },
     "metadata": {},
     "output_type": "display_data"
    },
    {
     "data": {
      "text/latex": [
       "$\\displaystyle \\left[\\begin{matrix}-2 & 4 & 0\\\\1 & -1 & 4\\\\0 & 6 & -4\\end{matrix}\\right]$"
      ],
      "text/plain": [
       "Matrix([\n",
       "[-2,  4,  0],\n",
       "[ 1, -1,  4],\n",
       "[ 0,  6, -4]])"
      ]
     },
     "metadata": {},
     "output_type": "display_data"
    },
    {
     "data": {
      "text/plain": [
       "'I'"
      ]
     },
     "metadata": {},
     "output_type": "display_data"
    },
    {
     "data": {
      "text/latex": [
       "$\\displaystyle \\left[\\begin{matrix}1 & 0 & 0\\\\0 & 1 & 0\\\\0 & 0 & 1\\end{matrix}\\right]$"
      ],
      "text/plain": [
       "Matrix([\n",
       "[1, 0, 0],\n",
       "[0, 1, 0],\n",
       "[0, 0, 1]])"
      ]
     },
     "metadata": {},
     "output_type": "display_data"
    },
    {
     "data": {
      "text/plain": [
       "'Augmented with I: '"
      ]
     },
     "metadata": {},
     "output_type": "display_data"
    },
    {
     "data": {
      "text/latex": [
       "$\\displaystyle \\left[\\begin{matrix}-2 & 4 & 0 & 1 & 0 & 0\\\\1 & -1 & 4 & 0 & 1 & 0\\\\0 & 6 & -4 & 0 & 0 & 1\\end{matrix}\\right]$"
      ],
      "text/plain": [
       "Matrix([\n",
       "[-2,  4,  0, 1, 0, 0],\n",
       "[ 1, -1,  4, 0, 1, 0],\n",
       "[ 0,  6, -4, 0, 0, 1]])"
      ]
     },
     "metadata": {},
     "output_type": "display_data"
    },
    {
     "data": {
      "text/plain": [
       "'Augmented matrix after rref'"
      ]
     },
     "metadata": {},
     "output_type": "display_data"
    },
    {
     "data": {
      "text/latex": [
       "$\\displaystyle \\left[\\begin{matrix}1 & 0 & 0 & - \\frac{5}{14} & \\frac{2}{7} & \\frac{2}{7}\\\\0 & 1 & 0 & \\frac{1}{14} & \\frac{1}{7} & \\frac{1}{7}\\\\0 & 0 & 1 & \\frac{3}{28} & \\frac{3}{14} & - \\frac{1}{28}\\end{matrix}\\right]$"
      ],
      "text/plain": [
       "Matrix([\n",
       "[1, 0, 0, -5/14,  2/7,   2/7],\n",
       "[0, 1, 0,  1/14,  1/7,   1/7],\n",
       "[0, 0, 1,  3/28, 3/14, -1/28]])"
      ]
     },
     "metadata": {},
     "output_type": "display_data"
    },
    {
     "data": {
      "text/plain": [
       "'Inverse'"
      ]
     },
     "metadata": {},
     "output_type": "display_data"
    },
    {
     "data": {
      "text/latex": [
       "$\\displaystyle \\left[\\begin{matrix}- \\frac{5}{14} & \\frac{2}{7} & \\frac{2}{7}\\\\\\frac{1}{14} & \\frac{1}{7} & \\frac{1}{7}\\\\\\frac{3}{28} & \\frac{3}{14} & - \\frac{1}{28}\\end{matrix}\\right]$"
      ],
      "text/plain": [
       "Matrix([\n",
       "[-5/14,  2/7,   2/7],\n",
       "[ 1/14,  1/7,   1/7],\n",
       "[ 3/28, 3/14, -1/28]])"
      ]
     },
     "metadata": {},
     "output_type": "display_data"
    },
    {
     "data": {
      "text/plain": [
       "'Alternative: Inverse via sympy builtin method'"
      ]
     },
     "metadata": {},
     "output_type": "display_data"
    },
    {
     "data": {
      "text/latex": [
       "$\\displaystyle \\left[\\begin{matrix}- \\frac{5}{14} & \\frac{2}{7} & \\frac{2}{7}\\\\\\frac{1}{14} & \\frac{1}{7} & \\frac{1}{7}\\\\\\frac{3}{28} & \\frac{3}{14} & - \\frac{1}{28}\\end{matrix}\\right]$"
      ],
      "text/plain": [
       "Matrix([\n",
       "[-5/14,  2/7,   2/7],\n",
       "[ 1/14,  1/7,   1/7],\n",
       "[ 3/28, 3/14, -1/28]])"
      ]
     },
     "metadata": {},
     "output_type": "display_data"
    }
   ],
   "source": [
    "\n",
    "from sympy import * \n",
    "I =  Matrix([[1, 0,0], [0,1,0], [0,0,1]])\n",
    "\n",
    "A = Matrix([[-2, 4,0], [1,-1,4], [0,6,-4]])\n",
    "\n",
    "def augment_matrix(A,B):\n",
    "    for i in range((shape(B)[0])):\n",
    "        A= A.col_insert(shape(A)[1],B.col(i))\n",
    "    return A\n",
    "\n",
    "def compute_inverse(A,I):\n",
    "    A_I = augment_matrix(A,I).rref()[0]\n",
    "    A_I_full = A_I.copy()\n",
    "    for i in range(shape(A)[1]):\n",
    "        A_I.col_del(0)\n",
    "    return A_I_full, A_I\n",
    "\n",
    "A_I= augment_matrix(A,I)        \n",
    "\n",
    "A_I_rref, A_inverse = compute_inverse(A,I)        \n",
    "\n",
    "display(\"A\",A,\n",
    "        \"I\",I,\n",
    "        \"Augmented with I: \", A_I,\n",
    "        \"Augmented matrix after rref\",A_I_rref,\n",
    "        \"Inverse\",A_inverse\n",
    "       )\n",
    "\n",
    "display(\"Alternative: Inverse via sympy builtin method\",A.inv())"
   ]
  },
  {
   "cell_type": "markdown",
   "id": "e3db74e1",
   "metadata": {},
   "source": [
    "## [118] Matrix inverses, and invertible and singular matrices \n",
    "### Definitions\n",
    "- A **Singular Matrix** is one that does not have an inverse\n",
    "- An **Invertible Matrix** is one that does have an inverse\n",
    "\n",
    "### Formulae\n",
    "**Determinant formula for the inverse of the matrix**\n",
    "\n",
    "determinant of $ K = |K| =  \\begin{bmatrix}a & b \\\\ c & d\\end{bmatrix}$\n",
    "\n",
    "\n",
    "$K^{-1} = \\frac{1}{|K|}\\begin{bmatrix}d & -b \\\\ -c & a\\end{bmatrix}$\n",
    "\n",
    "$ = \\frac{1}{\\begin{vmatrix}a & b\\\\ c & d \\end{vmatrix}} \\begin{bmatrix}d & -b \\\\ -c & a\\end{bmatrix}$\n",
    "\n",
    "$ = \\frac{1}{ad-bc} \\begin{bmatrix}d & -b \\\\ -c & a\\end{bmatrix}$\n",
    "\n",
    "### Summary : \n",
    "- Inverse can be found using the method above\n",
    "- When the determinant evaluates to 0 (in this case $ad-bc$), then the inverse does not exist and the matrix is singular"
   ]
  },
  {
   "cell_type": "code",
   "execution_count": 95,
   "id": "200292f2",
   "metadata": {},
   "outputs": [
    {
     "data": {
      "text/latex": [
       "$\\displaystyle \\left[\\begin{matrix}- \\frac{5}{8} & - \\frac{1}{4}\\\\- \\frac{1}{2} & 0\\end{matrix}\\right]$"
      ],
      "text/plain": [
       "Matrix([\n",
       "[-5/8, -1/4],\n",
       "[-1/2,    0]])"
      ]
     },
     "execution_count": 95,
     "metadata": {},
     "output_type": "execute_result"
    }
   ],
   "source": [
    "A = Matrix([[0,-2],[-4,5]])\n",
    "A.inv()"
   ]
  },
  {
   "cell_type": "markdown",
   "id": "0773ee1d",
   "metadata": {},
   "source": [
    "## [120] Solving systems with inverse matrices\n",
    "Another method of soving linear systems of equations is by using the inverse of a matrice\n",
    "\n",
    "### Process: Solving a system of linear equations (inverse method)\n",
    "Given the system of linear equations below, solve for $\\vec{a}=(x,y)$ :\n",
    "\n",
    "$ax + by = f$\n",
    "\n",
    "$cx + dy = g$\n",
    "\n",
    "$\\begin{bmatrix} a&b \\\\c&d \\end{bmatrix}\\begin{bmatrix} x\\\\y \\end{bmatrix} = \\begin{bmatrix} f\\\\g \\end{bmatrix}$\n",
    "\n",
    "$M\\vec{a} = \\vec{b}$\n",
    "\n",
    "$\\vec{a} = M^{-1}\\vec{b}$\n",
    "\n",
    "\n",
    "### Example\n",
    "\n",
    "**Solve the system of linear equations below:**\n",
    "\n",
    "$3x - 4y = 6$\n",
    "\n",
    "$-2x + y = -9$\n",
    "\n",
    "$\\begin{bmatrix} 3 & -4 \\\\-2 & 1 \\end{bmatrix}\\begin{bmatrix} x\\\\y \\end{bmatrix} = \\begin{bmatrix} 6\\\\9 \\end{bmatrix}$\n",
    "\n",
    "$M = \\begin{bmatrix} 3 & -4 \\\\ -2 & 1 \\end{bmatrix}$\n",
    "\n",
    "$M^{-1} = \\frac{1}{3(1) -(-2)(-4)}\\begin{bmatrix} 1 & 4 \\\\ 2 & 3 \\end{bmatrix}$\n",
    "\n",
    "$M^{-1} = -\\frac{1}{5}\\begin{bmatrix} 1 & 4 \\\\ 2 & 3 \\end{bmatrix}$\n",
    "\n",
    "$M^{-1} = \\begin{bmatrix}-\\frac{1}{5} & -\\frac{4}{5} \\\\-\\frac{2}{3} & -\\frac{3}{5} \\end{bmatrix}$\n",
    "\n",
    "$\\vec{a} = M^{-1}\\vec{b}$\n",
    "\n",
    "$\\vec{a} = \\begin{bmatrix}-\\frac{1}{5} & -\\frac{4}{5} \\\\-\\frac{2}{3} & -\\frac{3}{5} \\end{bmatrix} \\begin{bmatrix}6\\\\-9\\end{bmatrix} = \\begin{bmatrix}6\\\\3 \\end{bmatrix}$\n",
    "\n",
    "**Therefore**\n",
    "\n",
    "$\\vec{a}= (x,y) = (6,3) $"
   ]
  },
  {
   "cell_type": "code",
   "execution_count": 120,
   "id": "d1cad5c6",
   "metadata": {},
   "outputs": [
    {
     "data": {
      "text/plain": [
       "'Determinant method solution = '"
      ]
     },
     "metadata": {},
     "output_type": "display_data"
    },
    {
     "data": {
      "text/latex": [
       "$\\displaystyle \\left[\\begin{matrix}9.0\\\\2.0\\end{matrix}\\right]$"
      ],
      "text/plain": [
       "Matrix([\n",
       "[9.0],\n",
       "[2.0]])"
      ]
     },
     "metadata": {},
     "output_type": "display_data"
    },
    {
     "data": {
      "text/plain": [
       "'Sympy solution'"
      ]
     },
     "metadata": {},
     "output_type": "display_data"
    },
    {
     "data": {
      "text/latex": [
       "$\\displaystyle \\left[\\begin{matrix}9\\\\2\\end{matrix}\\right]$"
      ],
      "text/plain": [
       "Matrix([\n",
       "[9],\n",
       "[2]])"
      ]
     },
     "metadata": {},
     "output_type": "display_data"
    }
   ],
   "source": [
    "#[Quiz 49] Solving linear systems with inverse matrices\n",
    "from sympy import *\n",
    "\n",
    "\"\"\"solve the below system of equations\"\"\"\n",
    "#3x+12y = 51\n",
    "#-2x + 6y = -6\n",
    "b = Matrix([[51],[-6]])\n",
    "M = Matrix([[3,12],[-2,6]])\n",
    "\n",
    "#Using determinant\n",
    "M_det = Matrix([[6,-12],[2,3]])\n",
    "\n",
    "#1/ad-bc * determinant of M\n",
    "M_inv = 1/(3*6 - (-2*(12)))*M_det\n",
    "display(\"Determinant method solution = \",M_inv*b)\n",
    "\n",
    "#using builtin sympy function\n",
    "display(\"Sympy solution\", M.inv()*b)\n",
    "\n"
   ]
  },
  {
   "cell_type": "code",
   "execution_count": null,
   "id": "c269aa06",
   "metadata": {
    "tags": []
   },
   "outputs": [],
   "source": []
  },
  {
   "cell_type": "code",
   "execution_count": null,
   "id": "79207b90-6c82-48fb-b9d5-ae458ba5d064",
   "metadata": {
    "tags": []
   },
   "outputs": [],
   "source": []
  },
  {
   "cell_type": "code",
   "execution_count": null,
   "id": "fb03b1e0-438b-4294-8030-e05e03775b11",
   "metadata": {},
   "outputs": [],
   "source": []
  },
  {
   "cell_type": "code",
   "execution_count": null,
   "id": "a8e398ca-3fb5-4a0a-8a42-5635422c6173",
   "metadata": {},
   "outputs": [],
   "source": []
  },
  {
   "cell_type": "code",
   "execution_count": null,
   "id": "3ff6799a-9896-4b11-ae46-6e3468e71207",
   "metadata": {},
   "outputs": [],
   "source": []
  }
 ],
 "metadata": {
  "kernelspec": {
   "display_name": "Python 3 (ipykernel)",
   "language": "python",
   "name": "python3"
  },
  "language_info": {
   "codemirror_mode": {
    "name": "ipython",
    "version": 3
   },
   "file_extension": ".py",
   "mimetype": "text/x-python",
   "name": "python",
   "nbconvert_exporter": "python",
   "pygments_lexer": "ipython3",
   "version": "3.8.10"
  }
 },
 "nbformat": 4,
 "nbformat_minor": 5
}
