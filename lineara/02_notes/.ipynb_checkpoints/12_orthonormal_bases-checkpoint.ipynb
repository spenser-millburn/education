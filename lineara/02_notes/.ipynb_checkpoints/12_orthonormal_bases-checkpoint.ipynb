{
 "cells": [
  {
   "cell_type": "markdown",
   "id": "a900497f",
   "metadata": {},
   "source": [
    "# Section 12 - Orthonormal Bases"
   ]
  },
  {
   "cell_type": "markdown",
   "id": "3d84e91b",
   "metadata": {},
   "source": [
    "## [165] orthonormal bases \n",
    "### Definitions\n",
    "\n",
    "- An orthonormal set is a set of vectors where the all vectors have a length of 1 are **normal** and **oorthogonal**\n",
    "\n",
    "- Orthogonal matrix : a square matrix with all orthonormal column vectors \n",
    "\n",
    "### Formulae\n",
    "\n",
    " - Testing for orthagonality : $\\vec{v_i} \\cdot \\vec{v_j} = 0$\n",
    " \n",
    " - Testing for length : $\\vec{v_i} \\cdot \\vec{v_i} = 1$\n",
    " \n",
    " - The dot product of the solution vector and an orthogonal matrix is $[x]_b$\n",
    "     - $A\\_orth \\cdot \\vec{u} = [\\vec{x}]_b$\n",
    "\n",
    "### Example\n",
    "\n"
   ]
  },
  {
   "cell_type": "code",
   "execution_count": 69,
   "id": "027aabe7",
   "metadata": {},
   "outputs": [
    {
     "data": {
      "text/plain": [
       "True"
      ]
     },
     "metadata": {},
     "output_type": "display_data"
    },
    {
     "data": {
      "text/plain": [
       "True"
      ]
     },
     "metadata": {},
     "output_type": "display_data"
    },
    {
     "data": {
      "text/latex": [
       "$\\displaystyle \\left[\\begin{matrix}\\sqrt{6} \\left(- \\frac{7}{\\sqrt{66}}\\right) + \\frac{\\sqrt{11}}{\\sqrt{66}} + \\sqrt{66} \\cdot \\frac{4}{\\sqrt{66}}\\\\\\sqrt{66} \\left(- \\frac{2}{\\sqrt{6}}\\right) + \\sqrt{6} \\left(- \\frac{1}{\\sqrt{6}}\\right) + \\frac{\\sqrt{11}}{\\sqrt{6}}\\\\\\sqrt{11} \\left(- \\frac{3}{\\sqrt{11}}\\right) + \\sqrt{66} \\left(- \\frac{1}{\\sqrt{11}}\\right) + \\sqrt{6} \\left(- \\frac{1}{\\sqrt{11}}\\right)\\end{matrix}\\right]$"
      ],
      "text/plain": [
       "Matrix([\n",
       "[      sqrt(6)*(-7/(sqrt(66))) + sqrt(11)/(sqrt(66)) + sqrt(66)*(4/(sqrt(66)))],\n",
       "[        sqrt(66)*(-2/(sqrt(6))) + sqrt(6)*(-1/(sqrt(6))) + sqrt(11)/(sqrt(6))],\n",
       "[sqrt(11)*(-3/(sqrt(11))) + sqrt(66)*(-1/(sqrt(11))) + sqrt(6)*(-1/(sqrt(11)))]])"
      ]
     },
     "metadata": {},
     "output_type": "display_data"
    }
   ],
   "source": [
    "# [Quiz 65] \n",
    "from sympy import * \n",
    "import math\n",
    "from fractions import Fraction as F\n",
    "\n",
    "def is_matrice_orthogonal(V_1,V_2):\n",
    "    if (((V_1*V_2.transpose()).tolist()[0][0] == 0) \n",
    "         and ((V_2*V_2.transpose()).tolist()[0][0] == 1) \n",
    "         and ((V_2*V_2.transpose()).tolist()[0][0] == 1)):\n",
    "        return True\n",
    "    return False \n",
    "\n",
    "V_1 = Matrix([[F(-1,2),F(1,2),-1/sqrt(2)]])\n",
    "V_2 = Matrix([[F(-1,3),F(-2,3),F(2,3)]])\n",
    "V_3 = Matrix([[0,1/sqrt(2),1/sqrt(2)]])\n",
    "\n",
    "display(is_matrice_orthogonal(V_2,V_3))\n",
    "\n",
    "\n",
    "#Q2 - Convert b into the standard basis B = (v_1,v_2),\n",
    "V_1 = Matrix([[F(5,6),-sqrt(11)/6]])\n",
    "V_2 = Matrix([[sqrt(11)/6,F(5,6)]])\n",
    "display(is_matrice_orthogonal(V_1,V_2))\n",
    "\n",
    "b = Matrix([[-12],[6]])\n",
    "M = (V_1.row_insert(1,V_2.row(0)))\n",
    "M*b\n",
    "\n",
    "#Q3 convert x into the standard basis defined by the col vectors in M\n",
    "with evaluate(False):\n",
    "    b = Matrix([[sqrt(66),sqrt(6),sqrt(11)]]).transpose()\n",
    "    M = Matrix([[(4/sqrt(66)), (-7/sqrt(66)),(1/sqrt(66))   ],\n",
    "                 [(-2/sqrt(6)), (-1/sqrt(6)) , (1/sqrt(6))   ],\n",
    "                 [(-1/sqrt(11)),(-1/sqrt(11)), (-3/sqrt(11)) ]])\n",
    "    display(M*b)"
   ]
  },
  {
   "cell_type": "markdown",
   "id": "6e73ab82",
   "metadata": {},
   "source": [
    "## [167] orthonormal bases \n",
    "### Recall\n",
    "$Proj_v\\vec{x} = A(A^TA)^-1A^T\\vec{x}$\n",
    "\n",
    "### Definitions\n",
    "\n",
    "- When projecting vectors defined by an orthonormal basis, onto a subspace, $(A^TA)^-1$ becomes the identity matrice. \n",
    "\n",
    "\n",
    "### Formulae\n",
    "- Projection onto an orthonormal basis\n",
    "\n",
    "$\n",
    "= AIA^T\\vec{x}\\\\\n",
    "= AA^T\\vec{x}\\\\\n",
    "$\n",
    "\n",
    "### Example\n",
    "\n"
   ]
  },
  {
   "cell_type": "code",
   "execution_count": 70,
   "id": "92bde12c",
   "metadata": {},
   "outputs": [
    {
     "data": {
      "text/latex": [
       "$\\displaystyle \\left[\\begin{matrix}0 & \\frac{\\sqrt{2}}{2}\\\\0 & \\frac{\\sqrt{2}}{2}\\\\1 & 0\\end{matrix}\\right]$"
      ],
      "text/plain": [
       "Matrix([\n",
       "[0, sqrt(2)/2],\n",
       "[0, sqrt(2)/2],\n",
       "[1,         0]])"
      ]
     },
     "metadata": {},
     "output_type": "display_data"
    },
    {
     "data": {
      "text/latex": [
       "$\\displaystyle \\left[\\begin{matrix}0 & 0 & 1\\\\\\frac{\\sqrt{2}}{2} & \\frac{\\sqrt{2}}{2} & 0\\end{matrix}\\right]$"
      ],
      "text/plain": [
       "Matrix([\n",
       "[        0,         0, 1],\n",
       "[sqrt(2)/2, sqrt(2)/2, 0]])"
      ]
     },
     "metadata": {},
     "output_type": "display_data"
    },
    {
     "data": {
      "text/latex": [
       "$\\displaystyle \\left[\\begin{matrix}\\frac{3}{2}\\\\\\frac{3}{2}\\\\3\\end{matrix}\\right]$"
      ],
      "text/plain": [
       "Matrix([\n",
       "[3/2],\n",
       "[3/2],\n",
       "[  3]])"
      ]
     },
     "execution_count": 70,
     "metadata": {},
     "output_type": "execute_result"
    }
   ],
   "source": [
    "#[167] Projection onto an orthonormal basis\n",
    "from sympy import * \n",
    "\n",
    "v = Matrix([[1],[2],[3]])\n",
    "A = Matrix([[0,1/sqrt(2)],[0,1/sqrt(2)],[1,0]])\n",
    "AT = A.transpose()\n",
    "display(A,AT)\n",
    "\n",
    "#Projection\n",
    "proj = A*AT*v\n",
    "proj"
   ]
  },
  {
   "cell_type": "code",
   "execution_count": 71,
   "id": "fb44afc6",
   "metadata": {},
   "outputs": [
    {
     "data": {
      "text/latex": [
       "$\\displaystyle \\left[\\begin{matrix}\\frac{80}{3}\\\\- \\frac{50}{3}\\\\\\frac{50}{3}\\end{matrix}\\right]$"
      ],
      "text/plain": [
       "Matrix([\n",
       "[ 80/3],\n",
       "[-50/3],\n",
       "[ 50/3]])"
      ]
     },
     "metadata": {},
     "output_type": "display_data"
    }
   ],
   "source": [
    "#quiz 66\n",
    "from sympy import * \n",
    "\n",
    "x = Matrix([[-15],[-75],[25]])\n",
    "A = Matrix([\n",
    "            [5/sqrt(50),1/sqrt(6)],\n",
    "            [-3/sqrt(50),-1/sqrt(6)],\n",
    "            [4/sqrt(50),-2/sqrt(6)]\n",
    "           ])\n",
    "AT =A.transpose() \n",
    "proj = A*A.transpose()*x\n",
    "display(proj)"
   ]
  },
  {
   "cell_type": "markdown",
   "id": "f5a59916",
   "metadata": {},
   "source": [
    "## [169] Orthogonalizing with the Gram-Schmidt process\n",
    "- The gram schmidt process is used to take a set of vectors and convert them to an orthonormal basis. \n",
    "\n",
    "- **From SymPy documentation** There's a nice Gram-Schmidt orthogonalizer which will take a set of vectors and orthogonalize them with respect to another. There is an optional argument which specifies whether or not the output should also be normalized, it defaults to False. Let’s take some vectors and orthogonalize them - one normalized and one not:\n",
    "\n",
    "### Example"
   ]
  },
  {
   "cell_type": "code",
   "execution_count": 72,
   "id": "434a4ac6",
   "metadata": {},
   "outputs": [
    {
     "data": {
      "text/latex": [
       "$\\displaystyle \\left[\\begin{matrix}- \\frac{2}{3}\\\\\\frac{2}{3}\\\\\\frac{1}{3}\\end{matrix}\\right]$"
      ],
      "text/plain": [
       "Matrix([\n",
       "[-2/3],\n",
       "[ 2/3],\n",
       "[ 1/3]])"
      ]
     },
     "metadata": {},
     "output_type": "display_data"
    },
    {
     "data": {
      "text/latex": [
       "$\\displaystyle \\left[\\begin{matrix}- \\frac{\\sqrt{10}}{6}\\\\- \\frac{7 \\sqrt{10}}{30}\\\\\\frac{2 \\sqrt{10}}{15}\\end{matrix}\\right]$"
      ],
      "text/plain": [
       "Matrix([\n",
       "[   -sqrt(10)/6],\n",
       "[-7*sqrt(10)/30],\n",
       "[ 2*sqrt(10)/15]])"
      ]
     },
     "metadata": {},
     "output_type": "display_data"
    }
   ],
   "source": [
    "#Quiz 67\n",
    "L = [Matrix([-2,2,1]), Matrix([-1,-3,1])]\n",
    "out1 = GramSchmidt(L)\n",
    "out2 = GramSchmidt(L, True)\n",
    "with evaluate(False):\n",
    "    for m in out2:\n",
    "        display(m)"
   ]
  },
  {
   "cell_type": "markdown",
   "id": "8ec7564e",
   "metadata": {},
   "source": [
    "## [174] Eigenvalues, Eigenvectors, and Eigenspaces\n",
    "### Definitions\n",
    "- Any vector $\\vec{v}$ that satisfies $T(\\vec{v}) = \\lambda \\vec{v}$ is an eigenvector for the transformation T, and $\\lambda$ is the eigenvalue that's associated with the eigenvector $\\vec{v}$. The transformation $T$ is a linear transformation that can also be represented as $T(\\vec{v})= A\\vec{v}$\n",
    "- Eigenvectors are the vectors that don't change direction under the transformation $T$. Because of this, all eigenvectors will be parallel to the original vector. \n",
    "\n",
    "- **Eigenspace** is defined as the nullspace of $\\lambda I_n -A$ \n",
    "\n",
    "- **The sum of the eigenvalues should always be equal to the trace** (the sum of all values along the main diagonal)\n",
    "\n",
    "- **The product of the eigenvalues should always equal to the determinate of the transformation matrice $A$** \n",
    "\n",
    "### Formulae\n",
    "\n",
    "$T(\\vec{v}) = \\lambda \\vec{v}$\n",
    "\n",
    "$|AI_n-A| = 0$\n",
    "\n",
    "### Examples\n",
    "\n",
    "#### Solving for Eigenvalues\n",
    "- Find the eigenvalues for the below transformation matrix \n",
    "\n",
    "$T(\\vec{v}) = \\begin{bmatrix}2&-4\\\\-1&-1\\end{bmatrix}\\vec{v}$\n",
    "\n",
    "$\\left|\\lambda \\begin{bmatrix}1 & 0 \\\\0 & 1 \\end{bmatrix} - \\begin{bmatrix}2&-4\\\\-1&-1\\end{bmatrix}\\right|$\n",
    "\n",
    "$\\left|\\begin{bmatrix}\\lambda & 0 \\\\0 & \\lambda \\end{bmatrix} - \\begin{bmatrix}2&-4\\\\-1&-1\\end{bmatrix}\\right|$\n",
    "\n",
    "$\\left|\\begin{bmatrix}(\\lambda-2) & 4 \\\\ 1&(\\lambda+1)\\end{bmatrix}\\right| $\n",
    "\n",
    "Evaluating the determinate of this matrix provides the **Characteristic Polynomial**\n",
    "\n",
    "$\\lambda^2 - \\lambda - 6 $\n",
    "\n",
    "Setting the characteristic polynomial gives the **Characteristic Equation**\n",
    "\n",
    "$\\lambda^2 - \\lambda - 6  = 0$\n",
    "\n",
    "Solving this equation gives the **eigenvalues**\n",
    "\n",
    "$\\lambda = 3$ and $\\lambda = -2$\n",
    "\n",
    "#### Finding the Eigenspace\n",
    "\n"
   ]
  },
  {
   "cell_type": "code",
   "execution_count": 73,
   "id": "2ee1446d",
   "metadata": {},
   "outputs": [
    {
     "data": {
      "text/plain": [
       "{5: 1, 2: 1}"
      ]
     },
     "metadata": {},
     "output_type": "display_data"
    },
    {
     "data": {
      "text/latex": [
       "$\\displaystyle \\left[\\begin{matrix}1\\\\0\\end{matrix}\\right]$"
      ],
      "text/plain": [
       "Matrix([\n",
       "[1],\n",
       "[0]])"
      ]
     },
     "metadata": {},
     "output_type": "display_data"
    },
    {
     "data": {
      "text/latex": [
       "$\\displaystyle \\left[\\begin{matrix}-1\\\\1\\end{matrix}\\right]$"
      ],
      "text/plain": [
       "Matrix([\n",
       "[-1],\n",
       "[ 1]])"
      ]
     },
     "metadata": {},
     "output_type": "display_data"
    }
   ],
   "source": [
    "#[Quiz 68] Find the eigenvalues of the transformation matrix A\n",
    "from sympy import *\n",
    "\n",
    "A = Matrix([[2,-3],[0,5]])\n",
    "\n",
    "display(A.eigenvals())\n",
    "#Eigenvalues are (-3, 4), eigenvals returns dictionary with key as eigenvalue and value as the multiplicity of the eigenval\n",
    "\n",
    "for vec in A.eigenvects():\n",
    "    display(vec[2][0])\n",
    "    \n",
    "#Eigenvectors are [-7,1],[0,1]"
   ]
  },
  {
   "cell_type": "code",
   "execution_count": 74,
   "id": "6ce4a192",
   "metadata": {},
   "outputs": [
    {
     "data": {
      "text/latex": [
       "$\\displaystyle \\left[\\begin{matrix}0\\\\\\frac{1}{2}\\\\1\\end{matrix}\\right]$"
      ],
      "text/plain": [
       "Matrix([\n",
       "[  0],\n",
       "[1/2],\n",
       "[  1]])"
      ]
     },
     "metadata": {},
     "output_type": "display_data"
    },
    {
     "data": {
      "text/latex": [
       "$\\displaystyle \\left[\\begin{matrix}1\\\\0\\\\0\\end{matrix}\\right]$"
      ],
      "text/plain": [
       "Matrix([\n",
       "[1],\n",
       "[0],\n",
       "[0]])"
      ]
     },
     "metadata": {},
     "output_type": "display_data"
    },
    {
     "data": {
      "text/latex": [
       "$\\displaystyle \\left[\\begin{matrix}- \\frac{4}{3}\\\\1\\\\0\\end{matrix}\\right]$"
      ],
      "text/plain": [
       "Matrix([\n",
       "[-4/3],\n",
       "[   1],\n",
       "[   0]])"
      ]
     },
     "metadata": {},
     "output_type": "display_data"
    }
   ],
   "source": [
    "#[Quiz 69] Eigen in three dimensions\n",
    "from sympy import *\n",
    "A = Matrix([[1,-4,2],[0,4,-3],[0,0,-2]])\n",
    "\n",
    "for vec in A.eigenvects():\n",
    "    display(vec[2][0])"
   ]
  },
  {
   "cell_type": "code",
   "execution_count": 75,
   "id": "478da925",
   "metadata": {},
   "outputs": [
    {
     "data": {
      "text/latex": [
       "$\\displaystyle \\left[\\begin{matrix}-5\\\\1\\\\1\\end{matrix}\\right]$"
      ],
      "text/plain": [
       "Matrix([\n",
       "[-5],\n",
       "[ 1],\n",
       "[ 1]])"
      ]
     },
     "metadata": {},
     "output_type": "display_data"
    },
    {
     "data": {
      "text/latex": [
       "$\\displaystyle \\left[\\begin{matrix}0\\\\0\\\\1\\end{matrix}\\right]$"
      ],
      "text/plain": [
       "Matrix([\n",
       "[0],\n",
       "[0],\n",
       "[1]])"
      ]
     },
     "metadata": {},
     "output_type": "display_data"
    },
    {
     "data": {
      "text/latex": [
       "$\\displaystyle \\left[\\begin{matrix}0\\\\- \\frac{2}{3}\\\\1\\end{matrix}\\right]$"
      ],
      "text/plain": [
       "Matrix([\n",
       "[   0],\n",
       "[-2/3],\n",
       "[   1]])"
      ]
     },
     "metadata": {},
     "output_type": "display_data"
    }
   ],
   "source": [
    "\n",
    "from sympy import *\n",
    "A = Matrix([[-2,0,0],[1,3,0],[0,-3,1]])\n",
    "\n",
    "for vec in A.eigenvects():\n",
    "    display(vec[2][0])"
   ]
  },
  {
   "cell_type": "code",
   "execution_count": 76,
   "id": "2ad8ca02",
   "metadata": {},
   "outputs": [
    {
     "data": {
      "text/latex": [
       "$\\displaystyle \\left[\\begin{matrix}- \\frac{2}{3}\\\\1\\\\0\\end{matrix}\\right]$"
      ],
      "text/plain": [
       "Matrix([\n",
       "[-2/3],\n",
       "[   1],\n",
       "[   0]])"
      ]
     },
     "metadata": {},
     "output_type": "display_data"
    },
    {
     "data": {
      "text/latex": [
       "$\\displaystyle \\left[\\begin{matrix}1\\\\0\\\\0\\end{matrix}\\right]$"
      ],
      "text/plain": [
       "Matrix([\n",
       "[1],\n",
       "[0],\n",
       "[0]])"
      ]
     },
     "metadata": {},
     "output_type": "display_data"
    }
   ],
   "source": [
    "\n",
    "from sympy import *\n",
    "A = Matrix([[1,2,-1],[0,-2,0],[0,0,1]])\n",
    "\n",
    "for vec in A.eigenvects():\n",
    "    display(vec[2][0])"
   ]
  },
  {
   "cell_type": "code",
   "execution_count": null,
   "id": "4f4fd620",
   "metadata": {},
   "outputs": [],
   "source": []
  }
 ],
 "metadata": {
  "kernelspec": {
   "display_name": "Python 3 (ipykernel)",
   "language": "python",
   "name": "python3"
  },
  "language_info": {
   "codemirror_mode": {
    "name": "ipython",
    "version": 3
   },
   "file_extension": ".py",
   "mimetype": "text/x-python",
   "name": "python",
   "nbconvert_exporter": "python",
   "pygments_lexer": "ipython3",
   "version": "3.8.10"
  }
 },
 "nbformat": 4,
 "nbformat_minor": 5
}
