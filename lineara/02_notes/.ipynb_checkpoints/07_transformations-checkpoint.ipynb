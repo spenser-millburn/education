{
 "cells": [
  {
   "cell_type": "code",
   "execution_count": 228,
   "id": "81f27640",
   "metadata": {},
   "outputs": [],
   "source": [
    "from plotly.subplots import make_subplots\n",
    "import plotly.graph_objects as go\n",
    "\n",
    "\n",
    "def solve_matrix(T,A,number_of_decimals=3):\n",
    "    \"\"\"\n",
    "    \\brief extract a column from sympy matrix as a list\n",
    "    \\param T the transformation sympy matrix\n",
    "    \\param A the preimage sympy matrix\n",
    "    \\param number_of_decimals the number of points to round to \n",
    "    \"\"\"\n",
    "    return Matrix(\n",
    "        np.linalg.solve(np.array(T).astype(np.int64),\n",
    "                        np.array(A).astype(np.int64)).round(number_of_decimals)\n",
    "    )\n",
    "\n",
    "def sympy_column_to_list(sympy_matrix,column_index=0):\n",
    "    \"\"\"\n",
    "    \\brief extract a column from sympy matrix as a list\n",
    "    \\param sympy_matrix the matrix\n",
    "    \\param column_index the index of the column to be extracted\n",
    "    \"\"\"\n",
    "    display(sympy_matrix)\n",
    "    return list(map(float, sympy_matrix.transpose().tolist()[0]))\n",
    "\n",
    "def sympy_row_to_list(sympy_matrix,column_index=0):\n",
    "    \"\"\"\n",
    "    \\brief extract a row from sympy matrix as a list\n",
    "    \\param sympy_matrix the matrix\n",
    "    \\param column_index the index of the row to be extracted\n",
    "    \"\"\"\n",
    "    display(sympy_matrix)\n",
    "    return list(map(float, sympy_matrix.tolist()[0]))\n",
    "\n",
    "def convert_to_integer_list(sympy_matrix):\n",
    "    \"\"\"\n",
    "    \\brief converts a sympy matrix to an float list\n",
    "    \\param sympy_matrix the matrix\n",
    "    \"\"\"\n",
    "    ret = sympy_matrix.tolist()\n",
    "    for i,row in enumerate(ret):\n",
    "        ret[i] = list(map(int,ret[i]))\n",
    "    return ret\n",
    "\n",
    "def convert_to_float_list(sympy_matrix):\n",
    "    \"\"\"\n",
    "    \\brief converts a sympy matrix to an integer list\n",
    "    \\param sympy matrix\n",
    "    \"\"\"\n",
    "    ret = sympy_matrix.tolist()\n",
    "    for i,row in enumerate(ret):\n",
    "        ret[i] = list(map(int,ret[i]))\n",
    "    return ret\n",
    "\n",
    "def subplot_side_by_side(fig1,fig2):    \n",
    "    \"\"\"\n",
    "    \\brief Takes two existing figures and plots them side by side\n",
    "    \\param fig1 plotly figure to be plotted on the left \n",
    "    \\param fig2 plotly figure to be plotted on the right \n",
    "    \"\"\"\n",
    "    subplots = make_subplots(rows=1, cols=2)\n",
    "\n",
    "    # add all fig1.data as individual traces in fig at row=1, col=1\n",
    "    for d in fig1.data:\n",
    "        subplots.add_trace(go.Scatter(x=d['x'], y=d['y']),\n",
    "                      row=1, col=1)\n",
    "\n",
    "    # add all fig2.data as individual traces in fig at row=1, col=2\n",
    "    for d in fig2.data:\n",
    "        subplots.add_trace(go.Scatter(x=d['x'], y=d['y']),\n",
    "                      row=1, col=2)\n",
    "    subplots.show()\n",
    "    \n",
    "\n",
    "def plot_matrix_side_by_side(A, B,x_axes=[-10,10],y_axes=[-10,10]):\n",
    "    \"\"\"\n",
    "    \\brief Plot the result of a transformation in R2 as a filled shape scatter plot, side by side in subplots\n",
    "    \\param A the preimage sympy matrix\n",
    "    \\param B The image sympy matrix\n",
    "    \\param x_axes tuple x range\n",
    "    \\param y_axes tuple y range\n",
    "    \"\"\"\n",
    "    #Extract data    \n",
    "    A = convert_to_integer_list(A)\n",
    "    B = convert_to_integer_list(B)\n",
    "    \n",
    "    x_a, y_a, x_b, y_b = A[0], A[1], B[0], B[1]\n",
    "    \n",
    "    #Plot side by side with plotly subplots\n",
    "    fig = make_subplots(1,3, subplot_titles=(\"preimage\", \"image\"))\n",
    "\n",
    "    preimage = go.Scatter(\n",
    "            x=x_a,\n",
    "            y=y_a,\n",
    "            showlegend=False,\n",
    "            mode=\"lines\",\n",
    "            fill='toself',\n",
    "            line=dict(color=\"LightBlue\", width=2)\n",
    "            )  \n",
    "\n",
    "    image = go.Scatter(\n",
    "            x=x_b,\n",
    "            y=y_b,\n",
    "            showlegend=False,\n",
    "            mode=\"lines\",\n",
    "            fill='toself',\n",
    "            line=dict(color=\"LightBlue\", width=2)\n",
    "            )  \n",
    "\n",
    "    fig.add_trace(preimage, row=1, col=1)\n",
    "    fig.add_trace(image, row=1, col=2)\n",
    "    fig.update_xaxes(range=x_axes)\n",
    "    fig.update_yaxes(range=y_axes)\n",
    "    fig.update_xaxes(zeroline=True, zerolinewidth=6 )\n",
    "    fig.update_yaxes(zeroline=True, zerolinewidth=6 )\n",
    "    fig.show()"
   ]
  },
  {
   "cell_type": "markdown",
   "id": "a5967a98",
   "metadata": {},
   "source": [
    "# Section 7 - Linear Transformations\n",
    "\n",
    "## [95]Transformation matrices and the image of the subset\n",
    "\n",
    "### Formulae\n",
    "**[95]** $  TA \\rightarrow T(A) $\\\n",
    "\n",
    "\n",
    "\n",
    "### Definitions\n",
    "- **Function matrices** are the set of vectors used to transform the preimage to the image\n",
    "- The **preimage** is the original matrix as a set of vectors\n",
    "- The **image** is the transformed matrix is as a set of vectors\n",
    "\n",
    "\n"
   ]
  },
  {
   "cell_type": "code",
   "execution_count": 229,
   "id": "10c2c84e",
   "metadata": {},
   "outputs": [
    {
     "data": {
      "text/plain": [
       "'T Function'"
      ]
     },
     "metadata": {},
     "output_type": "display_data"
    },
    {
     "data": {
      "text/latex": [
       "$\\displaystyle \\left[\\begin{matrix}0 & -1\\\\2 & 1\\end{matrix}\\right]$"
      ],
      "text/plain": [
       "Matrix([\n",
       "[0, -1],\n",
       "[2,  1]])"
      ]
     },
     "metadata": {},
     "output_type": "display_data"
    },
    {
     "data": {
      "text/plain": [
       "'A Preimage'"
      ]
     },
     "metadata": {},
     "output_type": "display_data"
    },
    {
     "data": {
      "text/latex": [
       "$\\displaystyle \\left[\\begin{matrix}-3 & 1 & 1\\\\0 & 2 & -2\\end{matrix}\\right]$"
      ],
      "text/plain": [
       "Matrix([\n",
       "[-3, 1,  1],\n",
       "[ 0, 2, -2]])"
      ]
     },
     "metadata": {},
     "output_type": "display_data"
    },
    {
     "data": {
      "text/plain": [
       "'B Image or T(A)'"
      ]
     },
     "metadata": {},
     "output_type": "display_data"
    },
    {
     "data": {
      "text/latex": [
       "$\\displaystyle \\left[\\begin{matrix}0 & -2 & 2\\\\-6 & 4 & 0\\end{matrix}\\right]$"
      ],
      "text/plain": [
       "Matrix([\n",
       "[ 0, -2, 2],\n",
       "[-6,  4, 0]])"
      ]
     },
     "metadata": {},
     "output_type": "display_data"
    }
   ],
   "source": [
    "#[Quiz 38] Transformation matrices and the image of the subset\n",
    "import numpy as np\n",
    "from sympy import *\n",
    "\n",
    "T = Matrix([[0, -1], \n",
    "               [2, 1]])\n",
    "display(\"T Function\",T)\n",
    "\n",
    "A = Matrix([[-3, 1,1], \n",
    "               [0,2,-2]])\n",
    "display(\"A Preimage\",A)\n",
    "\n",
    "B = Matrix(np.dot(T,A))\n",
    "display(\"B Image or T(A)\",B)\n",
    "\n"
   ]
  },
  {
   "cell_type": "markdown",
   "id": "63fd7b4f",
   "metadata": {},
   "source": [
    "## [97] Preimage, Image and the kernel\n",
    "\n",
    "### Properties of transformations\n",
    "- **Transformations are subspaces** Transformations are always closed under scalar multiplication and addition. \n",
    "- The **kernel** is all vectors that map to $\\vec{0}$\n",
    "- T transforms vectors from the domain $A$ into the codomain $B$.\n",
    "- To map values $A_x$ to $B_x$, use eq **[95]**\n",
    "- to map $B_x$ to $A_x$, augment transformation matrix $T$ with $B_x$, reduce to RREF, result will be $A_x$ "
   ]
  },
  {
   "cell_type": "code",
   "execution_count": 230,
   "id": "32c9d5f2",
   "metadata": {},
   "outputs": [
    {
     "data": {
      "text/plain": [
       "'B_1'"
      ]
     },
     "metadata": {},
     "output_type": "display_data"
    },
    {
     "data": {
      "text/latex": [
       "$\\displaystyle \\left[\\begin{matrix}1\\\\-2\\end{matrix}\\right]$"
      ],
      "text/plain": [
       "Matrix([\n",
       "[ 1],\n",
       "[-2]])"
      ]
     },
     "metadata": {},
     "output_type": "display_data"
    },
    {
     "data": {
      "text/plain": [
       "'B_2'"
      ]
     },
     "metadata": {},
     "output_type": "display_data"
    },
    {
     "data": {
      "text/latex": [
       "$\\displaystyle \\left[\\begin{matrix}3\\\\5\\end{matrix}\\right]$"
      ],
      "text/plain": [
       "Matrix([\n",
       "[3],\n",
       "[5]])"
      ]
     },
     "metadata": {},
     "output_type": "display_data"
    },
    {
     "data": {
      "text/plain": [
       "'T'"
      ]
     },
     "metadata": {},
     "output_type": "display_data"
    },
    {
     "data": {
      "text/latex": [
       "$\\displaystyle \\left[\\begin{matrix}1 & -1\\\\0 & 3\\end{matrix}\\right]$"
      ],
      "text/plain": [
       "Matrix([\n",
       "[1, -1],\n",
       "[0,  3]])"
      ]
     },
     "metadata": {},
     "output_type": "display_data"
    },
    {
     "data": {
      "text/plain": [
       "'A_1: '"
      ]
     },
     "metadata": {},
     "output_type": "display_data"
    },
    {
     "data": {
      "text/latex": [
       "$\\displaystyle \\left[\\begin{matrix}0.333\\\\-0.667\\end{matrix}\\right]$"
      ],
      "text/plain": [
       "Matrix([\n",
       "[ 0.333],\n",
       "[-0.667]])"
      ]
     },
     "metadata": {},
     "output_type": "display_data"
    },
    {
     "data": {
      "text/plain": [
       "'A_2: '"
      ]
     },
     "metadata": {},
     "output_type": "display_data"
    },
    {
     "data": {
      "text/latex": [
       "$\\displaystyle \\left[\\begin{matrix}4.667\\\\1.667\\end{matrix}\\right]$"
      ],
      "text/plain": [
       "Matrix([\n",
       "[4.667],\n",
       "[1.667]])"
      ]
     },
     "metadata": {},
     "output_type": "display_data"
    }
   ],
   "source": [
    "#[Quiz 39] Preimage, Image and the Kernel - Working backwards from B_x to A_x\n",
    "\n",
    "import numpy as np\n",
    "from sympy import *\n",
    "B_1 = Matrix([1, -2])\n",
    "B_2 = Matrix([3, 5])\n",
    "T = Matrix([[1, -1],[0,3]])\n",
    "\n",
    "display(\"B_1\", B_1)\n",
    "display(\"B_2\", B_2)\n",
    "display(\"T\", T)\n",
    "display(\"A_1: \", solve_matrix(T,B_1))\n",
    "display(\"A_2: \", solve_matrix(T,B_2))"
   ]
  },
  {
   "cell_type": "markdown",
   "id": "48e4e145",
   "metadata": {},
   "source": [
    "## [100] Linear transformations as vector-matrix products\n",
    "\n",
    "### Formulae\n",
    "**[100]** $ T(\\vec{a}+\\vec{b}) = T(\\vec{a}) + T(\\vec{b})$\\\n",
    "**[100]** $T(c\\vec{a}) = cT(\\vec{a}) $\n",
    "**To convert a vector-matrice product to a transformation matrice**\n",
    "\n",
    "### Process to determine vector-matrix transformation functions\n",
    "1. Determine the transformation in generic terms eg. for translating across x and y\\\n",
    "\n",
    "$\n",
    "T\\left(\\begin{bmatrix} x \\\\ y \\end{bmatrix}\\right) \n",
    "= \\begin{bmatrix} -x \\\\ -y \\end{bmatrix}\n",
    "$\n",
    "\n",
    "2. Plug in the standard basis vector for each dimension eg for $R_2$\\\n",
    "\n",
    "$\n",
    "T\\left(\\begin{bmatrix} 1\\\\0 \\end{bmatrix}\\right) \n",
    "= \\begin{bmatrix}-1\\\\0\\end{bmatrix}\n",
    "$\n",
    "\n",
    "$\n",
    "T\\left(\\begin{bmatrix} 0\\\\1 \\end{bmatrix}\\right) \n",
    "= \\begin{bmatrix}0\\\\-1\\end{bmatrix}\n",
    "$\n",
    "\n",
    "3. The combined matrice will be the transformation matrice for all vectors\n",
    "\n",
    "$\n",
    "T = \\begin{bmatrix}-1 & 0 \\\\0 & -1 \\\\ \\end{bmatrix}\\vec{a} = \\vec{b}\n",
    "$\n",
    "\n",
    "4. To transform a polygon across a transformation matrix in vector-matrix product form, simply plug all vectors in the polygon into the transformation and plot the output of each. "
   ]
  },
  {
   "cell_type": "code",
   "execution_count": 231,
   "id": "d16946dc",
   "metadata": {},
   "outputs": [
    {
     "data": {
      "text/plain": [
       "'A'"
      ]
     },
     "metadata": {},
     "output_type": "display_data"
    },
    {
     "data": {
      "text/latex": [
       "$\\displaystyle \\left[\\begin{matrix}-3 & 4 & 4 & -3\\\\2 & 2 & -5 & -5\\end{matrix}\\right]$"
      ],
      "text/plain": [
       "Matrix([\n",
       "[-3, 4,  4, -3],\n",
       "[ 2, 2, -5, -5]])"
      ]
     },
     "metadata": {},
     "output_type": "display_data"
    },
    {
     "data": {
      "text/plain": [
       "'T'"
      ]
     },
     "metadata": {},
     "output_type": "display_data"
    },
    {
     "data": {
      "text/latex": [
       "$\\displaystyle \\left[\\begin{matrix}1 & 0\\\\0 & -1\\end{matrix}\\right]$"
      ],
      "text/plain": [
       "Matrix([\n",
       "[1,  0],\n",
       "[0, -1]])"
      ]
     },
     "metadata": {},
     "output_type": "display_data"
    },
    {
     "data": {
      "text/plain": [
       "'B'"
      ]
     },
     "metadata": {},
     "output_type": "display_data"
    },
    {
     "data": {
      "text/latex": [
       "$\\displaystyle \\left[\\begin{matrix}-3 & 4 & 4 & -3\\\\-2 & -2 & 5 & 5\\end{matrix}\\right]$"
      ],
      "text/plain": [
       "Matrix([\n",
       "[-3,  4, 4, -3],\n",
       "[-2, -2, 5,  5]])"
      ]
     },
     "metadata": {},
     "output_type": "display_data"
    },
    {
     "data": {
      "application/vnd.plotly.v1+json": {
       "config": {
        "plotlyServerURL": "https://plot.ly"
       },
       "data": [
        {
         "fill": "toself",
         "line": {
          "color": "LightBlue",
          "width": 2
         },
         "mode": "lines",
         "showlegend": false,
         "type": "scatter",
         "x": [
          -3,
          4,
          4,
          -3
         ],
         "xaxis": "x",
         "y": [
          2,
          2,
          -5,
          -5
         ],
         "yaxis": "y"
        },
        {
         "fill": "toself",
         "line": {
          "color": "LightBlue",
          "width": 2
         },
         "mode": "lines",
         "showlegend": false,
         "type": "scatter",
         "x": [
          -3,
          4,
          4,
          -3
         ],
         "xaxis": "x2",
         "y": [
          -2,
          -2,
          5,
          5
         ],
         "yaxis": "y2"
        }
       ],
       "layout": {
        "annotations": [
         {
          "font": {
           "size": 16
          },
          "showarrow": false,
          "text": "preimage",
          "x": 0.14444444444444446,
          "xanchor": "center",
          "xref": "paper",
          "y": 1,
          "yanchor": "bottom",
          "yref": "paper"
         },
         {
          "font": {
           "size": 16
          },
          "showarrow": false,
          "text": "image",
          "x": 0.5,
          "xanchor": "center",
          "xref": "paper",
          "y": 1,
          "yanchor": "bottom",
          "yref": "paper"
         }
        ],
        "template": {
         "data": {
          "bar": [
           {
            "error_x": {
             "color": "#2a3f5f"
            },
            "error_y": {
             "color": "#2a3f5f"
            },
            "marker": {
             "line": {
              "color": "#E5ECF6",
              "width": 0.5
             },
             "pattern": {
              "fillmode": "overlay",
              "size": 10,
              "solidity": 0.2
             }
            },
            "type": "bar"
           }
          ],
          "barpolar": [
           {
            "marker": {
             "line": {
              "color": "#E5ECF6",
              "width": 0.5
             },
             "pattern": {
              "fillmode": "overlay",
              "size": 10,
              "solidity": 0.2
             }
            },
            "type": "barpolar"
           }
          ],
          "carpet": [
           {
            "aaxis": {
             "endlinecolor": "#2a3f5f",
             "gridcolor": "white",
             "linecolor": "white",
             "minorgridcolor": "white",
             "startlinecolor": "#2a3f5f"
            },
            "baxis": {
             "endlinecolor": "#2a3f5f",
             "gridcolor": "white",
             "linecolor": "white",
             "minorgridcolor": "white",
             "startlinecolor": "#2a3f5f"
            },
            "type": "carpet"
           }
          ],
          "choropleth": [
           {
            "colorbar": {
             "outlinewidth": 0,
             "ticks": ""
            },
            "type": "choropleth"
           }
          ],
          "contour": [
           {
            "colorbar": {
             "outlinewidth": 0,
             "ticks": ""
            },
            "colorscale": [
             [
              0,
              "#0d0887"
             ],
             [
              0.1111111111111111,
              "#46039f"
             ],
             [
              0.2222222222222222,
              "#7201a8"
             ],
             [
              0.3333333333333333,
              "#9c179e"
             ],
             [
              0.4444444444444444,
              "#bd3786"
             ],
             [
              0.5555555555555556,
              "#d8576b"
             ],
             [
              0.6666666666666666,
              "#ed7953"
             ],
             [
              0.7777777777777778,
              "#fb9f3a"
             ],
             [
              0.8888888888888888,
              "#fdca26"
             ],
             [
              1,
              "#f0f921"
             ]
            ],
            "type": "contour"
           }
          ],
          "contourcarpet": [
           {
            "colorbar": {
             "outlinewidth": 0,
             "ticks": ""
            },
            "type": "contourcarpet"
           }
          ],
          "heatmap": [
           {
            "colorbar": {
             "outlinewidth": 0,
             "ticks": ""
            },
            "colorscale": [
             [
              0,
              "#0d0887"
             ],
             [
              0.1111111111111111,
              "#46039f"
             ],
             [
              0.2222222222222222,
              "#7201a8"
             ],
             [
              0.3333333333333333,
              "#9c179e"
             ],
             [
              0.4444444444444444,
              "#bd3786"
             ],
             [
              0.5555555555555556,
              "#d8576b"
             ],
             [
              0.6666666666666666,
              "#ed7953"
             ],
             [
              0.7777777777777778,
              "#fb9f3a"
             ],
             [
              0.8888888888888888,
              "#fdca26"
             ],
             [
              1,
              "#f0f921"
             ]
            ],
            "type": "heatmap"
           }
          ],
          "heatmapgl": [
           {
            "colorbar": {
             "outlinewidth": 0,
             "ticks": ""
            },
            "colorscale": [
             [
              0,
              "#0d0887"
             ],
             [
              0.1111111111111111,
              "#46039f"
             ],
             [
              0.2222222222222222,
              "#7201a8"
             ],
             [
              0.3333333333333333,
              "#9c179e"
             ],
             [
              0.4444444444444444,
              "#bd3786"
             ],
             [
              0.5555555555555556,
              "#d8576b"
             ],
             [
              0.6666666666666666,
              "#ed7953"
             ],
             [
              0.7777777777777778,
              "#fb9f3a"
             ],
             [
              0.8888888888888888,
              "#fdca26"
             ],
             [
              1,
              "#f0f921"
             ]
            ],
            "type": "heatmapgl"
           }
          ],
          "histogram": [
           {
            "marker": {
             "pattern": {
              "fillmode": "overlay",
              "size": 10,
              "solidity": 0.2
             }
            },
            "type": "histogram"
           }
          ],
          "histogram2d": [
           {
            "colorbar": {
             "outlinewidth": 0,
             "ticks": ""
            },
            "colorscale": [
             [
              0,
              "#0d0887"
             ],
             [
              0.1111111111111111,
              "#46039f"
             ],
             [
              0.2222222222222222,
              "#7201a8"
             ],
             [
              0.3333333333333333,
              "#9c179e"
             ],
             [
              0.4444444444444444,
              "#bd3786"
             ],
             [
              0.5555555555555556,
              "#d8576b"
             ],
             [
              0.6666666666666666,
              "#ed7953"
             ],
             [
              0.7777777777777778,
              "#fb9f3a"
             ],
             [
              0.8888888888888888,
              "#fdca26"
             ],
             [
              1,
              "#f0f921"
             ]
            ],
            "type": "histogram2d"
           }
          ],
          "histogram2dcontour": [
           {
            "colorbar": {
             "outlinewidth": 0,
             "ticks": ""
            },
            "colorscale": [
             [
              0,
              "#0d0887"
             ],
             [
              0.1111111111111111,
              "#46039f"
             ],
             [
              0.2222222222222222,
              "#7201a8"
             ],
             [
              0.3333333333333333,
              "#9c179e"
             ],
             [
              0.4444444444444444,
              "#bd3786"
             ],
             [
              0.5555555555555556,
              "#d8576b"
             ],
             [
              0.6666666666666666,
              "#ed7953"
             ],
             [
              0.7777777777777778,
              "#fb9f3a"
             ],
             [
              0.8888888888888888,
              "#fdca26"
             ],
             [
              1,
              "#f0f921"
             ]
            ],
            "type": "histogram2dcontour"
           }
          ],
          "mesh3d": [
           {
            "colorbar": {
             "outlinewidth": 0,
             "ticks": ""
            },
            "type": "mesh3d"
           }
          ],
          "parcoords": [
           {
            "line": {
             "colorbar": {
              "outlinewidth": 0,
              "ticks": ""
             }
            },
            "type": "parcoords"
           }
          ],
          "pie": [
           {
            "automargin": true,
            "type": "pie"
           }
          ],
          "scatter": [
           {
            "fillpattern": {
             "fillmode": "overlay",
             "size": 10,
             "solidity": 0.2
            },
            "type": "scatter"
           }
          ],
          "scatter3d": [
           {
            "line": {
             "colorbar": {
              "outlinewidth": 0,
              "ticks": ""
             }
            },
            "marker": {
             "colorbar": {
              "outlinewidth": 0,
              "ticks": ""
             }
            },
            "type": "scatter3d"
           }
          ],
          "scattercarpet": [
           {
            "marker": {
             "colorbar": {
              "outlinewidth": 0,
              "ticks": ""
             }
            },
            "type": "scattercarpet"
           }
          ],
          "scattergeo": [
           {
            "marker": {
             "colorbar": {
              "outlinewidth": 0,
              "ticks": ""
             }
            },
            "type": "scattergeo"
           }
          ],
          "scattergl": [
           {
            "marker": {
             "colorbar": {
              "outlinewidth": 0,
              "ticks": ""
             }
            },
            "type": "scattergl"
           }
          ],
          "scattermapbox": [
           {
            "marker": {
             "colorbar": {
              "outlinewidth": 0,
              "ticks": ""
             }
            },
            "type": "scattermapbox"
           }
          ],
          "scatterpolar": [
           {
            "marker": {
             "colorbar": {
              "outlinewidth": 0,
              "ticks": ""
             }
            },
            "type": "scatterpolar"
           }
          ],
          "scatterpolargl": [
           {
            "marker": {
             "colorbar": {
              "outlinewidth": 0,
              "ticks": ""
             }
            },
            "type": "scatterpolargl"
           }
          ],
          "scatterternary": [
           {
            "marker": {
             "colorbar": {
              "outlinewidth": 0,
              "ticks": ""
             }
            },
            "type": "scatterternary"
           }
          ],
          "surface": [
           {
            "colorbar": {
             "outlinewidth": 0,
             "ticks": ""
            },
            "colorscale": [
             [
              0,
              "#0d0887"
             ],
             [
              0.1111111111111111,
              "#46039f"
             ],
             [
              0.2222222222222222,
              "#7201a8"
             ],
             [
              0.3333333333333333,
              "#9c179e"
             ],
             [
              0.4444444444444444,
              "#bd3786"
             ],
             [
              0.5555555555555556,
              "#d8576b"
             ],
             [
              0.6666666666666666,
              "#ed7953"
             ],
             [
              0.7777777777777778,
              "#fb9f3a"
             ],
             [
              0.8888888888888888,
              "#fdca26"
             ],
             [
              1,
              "#f0f921"
             ]
            ],
            "type": "surface"
           }
          ],
          "table": [
           {
            "cells": {
             "fill": {
              "color": "#EBF0F8"
             },
             "line": {
              "color": "white"
             }
            },
            "header": {
             "fill": {
              "color": "#C8D4E3"
             },
             "line": {
              "color": "white"
             }
            },
            "type": "table"
           }
          ]
         },
         "layout": {
          "annotationdefaults": {
           "arrowcolor": "#2a3f5f",
           "arrowhead": 0,
           "arrowwidth": 1
          },
          "autotypenumbers": "strict",
          "coloraxis": {
           "colorbar": {
            "outlinewidth": 0,
            "ticks": ""
           }
          },
          "colorscale": {
           "diverging": [
            [
             0,
             "#8e0152"
            ],
            [
             0.1,
             "#c51b7d"
            ],
            [
             0.2,
             "#de77ae"
            ],
            [
             0.3,
             "#f1b6da"
            ],
            [
             0.4,
             "#fde0ef"
            ],
            [
             0.5,
             "#f7f7f7"
            ],
            [
             0.6,
             "#e6f5d0"
            ],
            [
             0.7,
             "#b8e186"
            ],
            [
             0.8,
             "#7fbc41"
            ],
            [
             0.9,
             "#4d9221"
            ],
            [
             1,
             "#276419"
            ]
           ],
           "sequential": [
            [
             0,
             "#0d0887"
            ],
            [
             0.1111111111111111,
             "#46039f"
            ],
            [
             0.2222222222222222,
             "#7201a8"
            ],
            [
             0.3333333333333333,
             "#9c179e"
            ],
            [
             0.4444444444444444,
             "#bd3786"
            ],
            [
             0.5555555555555556,
             "#d8576b"
            ],
            [
             0.6666666666666666,
             "#ed7953"
            ],
            [
             0.7777777777777778,
             "#fb9f3a"
            ],
            [
             0.8888888888888888,
             "#fdca26"
            ],
            [
             1,
             "#f0f921"
            ]
           ],
           "sequentialminus": [
            [
             0,
             "#0d0887"
            ],
            [
             0.1111111111111111,
             "#46039f"
            ],
            [
             0.2222222222222222,
             "#7201a8"
            ],
            [
             0.3333333333333333,
             "#9c179e"
            ],
            [
             0.4444444444444444,
             "#bd3786"
            ],
            [
             0.5555555555555556,
             "#d8576b"
            ],
            [
             0.6666666666666666,
             "#ed7953"
            ],
            [
             0.7777777777777778,
             "#fb9f3a"
            ],
            [
             0.8888888888888888,
             "#fdca26"
            ],
            [
             1,
             "#f0f921"
            ]
           ]
          },
          "colorway": [
           "#636efa",
           "#EF553B",
           "#00cc96",
           "#ab63fa",
           "#FFA15A",
           "#19d3f3",
           "#FF6692",
           "#B6E880",
           "#FF97FF",
           "#FECB52"
          ],
          "font": {
           "color": "#2a3f5f"
          },
          "geo": {
           "bgcolor": "white",
           "lakecolor": "white",
           "landcolor": "#E5ECF6",
           "showlakes": true,
           "showland": true,
           "subunitcolor": "white"
          },
          "hoverlabel": {
           "align": "left"
          },
          "hovermode": "closest",
          "mapbox": {
           "style": "light"
          },
          "paper_bgcolor": "white",
          "plot_bgcolor": "#E5ECF6",
          "polar": {
           "angularaxis": {
            "gridcolor": "white",
            "linecolor": "white",
            "ticks": ""
           },
           "bgcolor": "#E5ECF6",
           "radialaxis": {
            "gridcolor": "white",
            "linecolor": "white",
            "ticks": ""
           }
          },
          "scene": {
           "xaxis": {
            "backgroundcolor": "#E5ECF6",
            "gridcolor": "white",
            "gridwidth": 2,
            "linecolor": "white",
            "showbackground": true,
            "ticks": "",
            "zerolinecolor": "white"
           },
           "yaxis": {
            "backgroundcolor": "#E5ECF6",
            "gridcolor": "white",
            "gridwidth": 2,
            "linecolor": "white",
            "showbackground": true,
            "ticks": "",
            "zerolinecolor": "white"
           },
           "zaxis": {
            "backgroundcolor": "#E5ECF6",
            "gridcolor": "white",
            "gridwidth": 2,
            "linecolor": "white",
            "showbackground": true,
            "ticks": "",
            "zerolinecolor": "white"
           }
          },
          "shapedefaults": {
           "line": {
            "color": "#2a3f5f"
           }
          },
          "ternary": {
           "aaxis": {
            "gridcolor": "white",
            "linecolor": "white",
            "ticks": ""
           },
           "baxis": {
            "gridcolor": "white",
            "linecolor": "white",
            "ticks": ""
           },
           "bgcolor": "#E5ECF6",
           "caxis": {
            "gridcolor": "white",
            "linecolor": "white",
            "ticks": ""
           }
          },
          "title": {
           "x": 0.05
          },
          "xaxis": {
           "automargin": true,
           "gridcolor": "white",
           "linecolor": "white",
           "ticks": "",
           "title": {
            "standoff": 15
           },
           "zerolinecolor": "white",
           "zerolinewidth": 2
          },
          "yaxis": {
           "automargin": true,
           "gridcolor": "white",
           "linecolor": "white",
           "ticks": "",
           "title": {
            "standoff": 15
           },
           "zerolinecolor": "white",
           "zerolinewidth": 2
          }
         }
        },
        "xaxis": {
         "anchor": "y",
         "domain": [
          0,
          0.2888888888888889
         ],
         "range": [
          -10,
          10
         ],
         "zeroline": true,
         "zerolinewidth": 6
        },
        "xaxis2": {
         "anchor": "y2",
         "domain": [
          0.35555555555555557,
          0.6444444444444445
         ],
         "range": [
          -10,
          10
         ],
         "zeroline": true,
         "zerolinewidth": 6
        },
        "xaxis3": {
         "anchor": "y3",
         "domain": [
          0.7111111111111111,
          1
         ],
         "range": [
          -10,
          10
         ],
         "zeroline": true,
         "zerolinewidth": 6
        },
        "yaxis": {
         "anchor": "x",
         "domain": [
          0,
          1
         ],
         "range": [
          -10,
          10
         ],
         "zeroline": true,
         "zerolinewidth": 6
        },
        "yaxis2": {
         "anchor": "x2",
         "domain": [
          0,
          1
         ],
         "range": [
          -10,
          10
         ],
         "zeroline": true,
         "zerolinewidth": 6
        },
        "yaxis3": {
         "anchor": "x3",
         "domain": [
          0,
          1
         ],
         "range": [
          -10,
          10
         ],
         "zeroline": true,
         "zerolinewidth": 6
        }
       }
      },
      "text/html": [
       "<div>                            <div id=\"9c20489f-eb07-4719-bea7-2dda2054a9bf\" class=\"plotly-graph-div\" style=\"height:525px; width:100%;\"></div>            <script type=\"text/javascript\">                require([\"plotly\"], function(Plotly) {                    window.PLOTLYENV=window.PLOTLYENV || {};                                    if (document.getElementById(\"9c20489f-eb07-4719-bea7-2dda2054a9bf\")) {                    Plotly.newPlot(                        \"9c20489f-eb07-4719-bea7-2dda2054a9bf\",                        [{\"fill\":\"toself\",\"line\":{\"color\":\"LightBlue\",\"width\":2},\"mode\":\"lines\",\"showlegend\":false,\"x\":[-3,4,4,-3],\"y\":[2,2,-5,-5],\"type\":\"scatter\",\"xaxis\":\"x\",\"yaxis\":\"y\"},{\"fill\":\"toself\",\"line\":{\"color\":\"LightBlue\",\"width\":2},\"mode\":\"lines\",\"showlegend\":false,\"x\":[-3,4,4,-3],\"y\":[-2,-2,5,5],\"type\":\"scatter\",\"xaxis\":\"x2\",\"yaxis\":\"y2\"}],                        {\"template\":{\"data\":{\"histogram2dcontour\":[{\"type\":\"histogram2dcontour\",\"colorbar\":{\"outlinewidth\":0,\"ticks\":\"\"},\"colorscale\":[[0.0,\"#0d0887\"],[0.1111111111111111,\"#46039f\"],[0.2222222222222222,\"#7201a8\"],[0.3333333333333333,\"#9c179e\"],[0.4444444444444444,\"#bd3786\"],[0.5555555555555556,\"#d8576b\"],[0.6666666666666666,\"#ed7953\"],[0.7777777777777778,\"#fb9f3a\"],[0.8888888888888888,\"#fdca26\"],[1.0,\"#f0f921\"]]}],\"choropleth\":[{\"type\":\"choropleth\",\"colorbar\":{\"outlinewidth\":0,\"ticks\":\"\"}}],\"histogram2d\":[{\"type\":\"histogram2d\",\"colorbar\":{\"outlinewidth\":0,\"ticks\":\"\"},\"colorscale\":[[0.0,\"#0d0887\"],[0.1111111111111111,\"#46039f\"],[0.2222222222222222,\"#7201a8\"],[0.3333333333333333,\"#9c179e\"],[0.4444444444444444,\"#bd3786\"],[0.5555555555555556,\"#d8576b\"],[0.6666666666666666,\"#ed7953\"],[0.7777777777777778,\"#fb9f3a\"],[0.8888888888888888,\"#fdca26\"],[1.0,\"#f0f921\"]]}],\"heatmap\":[{\"type\":\"heatmap\",\"colorbar\":{\"outlinewidth\":0,\"ticks\":\"\"},\"colorscale\":[[0.0,\"#0d0887\"],[0.1111111111111111,\"#46039f\"],[0.2222222222222222,\"#7201a8\"],[0.3333333333333333,\"#9c179e\"],[0.4444444444444444,\"#bd3786\"],[0.5555555555555556,\"#d8576b\"],[0.6666666666666666,\"#ed7953\"],[0.7777777777777778,\"#fb9f3a\"],[0.8888888888888888,\"#fdca26\"],[1.0,\"#f0f921\"]]}],\"heatmapgl\":[{\"type\":\"heatmapgl\",\"colorbar\":{\"outlinewidth\":0,\"ticks\":\"\"},\"colorscale\":[[0.0,\"#0d0887\"],[0.1111111111111111,\"#46039f\"],[0.2222222222222222,\"#7201a8\"],[0.3333333333333333,\"#9c179e\"],[0.4444444444444444,\"#bd3786\"],[0.5555555555555556,\"#d8576b\"],[0.6666666666666666,\"#ed7953\"],[0.7777777777777778,\"#fb9f3a\"],[0.8888888888888888,\"#fdca26\"],[1.0,\"#f0f921\"]]}],\"contourcarpet\":[{\"type\":\"contourcarpet\",\"colorbar\":{\"outlinewidth\":0,\"ticks\":\"\"}}],\"contour\":[{\"type\":\"contour\",\"colorbar\":{\"outlinewidth\":0,\"ticks\":\"\"},\"colorscale\":[[0.0,\"#0d0887\"],[0.1111111111111111,\"#46039f\"],[0.2222222222222222,\"#7201a8\"],[0.3333333333333333,\"#9c179e\"],[0.4444444444444444,\"#bd3786\"],[0.5555555555555556,\"#d8576b\"],[0.6666666666666666,\"#ed7953\"],[0.7777777777777778,\"#fb9f3a\"],[0.8888888888888888,\"#fdca26\"],[1.0,\"#f0f921\"]]}],\"surface\":[{\"type\":\"surface\",\"colorbar\":{\"outlinewidth\":0,\"ticks\":\"\"},\"colorscale\":[[0.0,\"#0d0887\"],[0.1111111111111111,\"#46039f\"],[0.2222222222222222,\"#7201a8\"],[0.3333333333333333,\"#9c179e\"],[0.4444444444444444,\"#bd3786\"],[0.5555555555555556,\"#d8576b\"],[0.6666666666666666,\"#ed7953\"],[0.7777777777777778,\"#fb9f3a\"],[0.8888888888888888,\"#fdca26\"],[1.0,\"#f0f921\"]]}],\"mesh3d\":[{\"type\":\"mesh3d\",\"colorbar\":{\"outlinewidth\":0,\"ticks\":\"\"}}],\"scatter\":[{\"fillpattern\":{\"fillmode\":\"overlay\",\"size\":10,\"solidity\":0.2},\"type\":\"scatter\"}],\"parcoords\":[{\"type\":\"parcoords\",\"line\":{\"colorbar\":{\"outlinewidth\":0,\"ticks\":\"\"}}}],\"scatterpolargl\":[{\"type\":\"scatterpolargl\",\"marker\":{\"colorbar\":{\"outlinewidth\":0,\"ticks\":\"\"}}}],\"bar\":[{\"error_x\":{\"color\":\"#2a3f5f\"},\"error_y\":{\"color\":\"#2a3f5f\"},\"marker\":{\"line\":{\"color\":\"#E5ECF6\",\"width\":0.5},\"pattern\":{\"fillmode\":\"overlay\",\"size\":10,\"solidity\":0.2}},\"type\":\"bar\"}],\"scattergeo\":[{\"type\":\"scattergeo\",\"marker\":{\"colorbar\":{\"outlinewidth\":0,\"ticks\":\"\"}}}],\"scatterpolar\":[{\"type\":\"scatterpolar\",\"marker\":{\"colorbar\":{\"outlinewidth\":0,\"ticks\":\"\"}}}],\"histogram\":[{\"marker\":{\"pattern\":{\"fillmode\":\"overlay\",\"size\":10,\"solidity\":0.2}},\"type\":\"histogram\"}],\"scattergl\":[{\"type\":\"scattergl\",\"marker\":{\"colorbar\":{\"outlinewidth\":0,\"ticks\":\"\"}}}],\"scatter3d\":[{\"type\":\"scatter3d\",\"line\":{\"colorbar\":{\"outlinewidth\":0,\"ticks\":\"\"}},\"marker\":{\"colorbar\":{\"outlinewidth\":0,\"ticks\":\"\"}}}],\"scattermapbox\":[{\"type\":\"scattermapbox\",\"marker\":{\"colorbar\":{\"outlinewidth\":0,\"ticks\":\"\"}}}],\"scatterternary\":[{\"type\":\"scatterternary\",\"marker\":{\"colorbar\":{\"outlinewidth\":0,\"ticks\":\"\"}}}],\"scattercarpet\":[{\"type\":\"scattercarpet\",\"marker\":{\"colorbar\":{\"outlinewidth\":0,\"ticks\":\"\"}}}],\"carpet\":[{\"aaxis\":{\"endlinecolor\":\"#2a3f5f\",\"gridcolor\":\"white\",\"linecolor\":\"white\",\"minorgridcolor\":\"white\",\"startlinecolor\":\"#2a3f5f\"},\"baxis\":{\"endlinecolor\":\"#2a3f5f\",\"gridcolor\":\"white\",\"linecolor\":\"white\",\"minorgridcolor\":\"white\",\"startlinecolor\":\"#2a3f5f\"},\"type\":\"carpet\"}],\"table\":[{\"cells\":{\"fill\":{\"color\":\"#EBF0F8\"},\"line\":{\"color\":\"white\"}},\"header\":{\"fill\":{\"color\":\"#C8D4E3\"},\"line\":{\"color\":\"white\"}},\"type\":\"table\"}],\"barpolar\":[{\"marker\":{\"line\":{\"color\":\"#E5ECF6\",\"width\":0.5},\"pattern\":{\"fillmode\":\"overlay\",\"size\":10,\"solidity\":0.2}},\"type\":\"barpolar\"}],\"pie\":[{\"automargin\":true,\"type\":\"pie\"}]},\"layout\":{\"autotypenumbers\":\"strict\",\"colorway\":[\"#636efa\",\"#EF553B\",\"#00cc96\",\"#ab63fa\",\"#FFA15A\",\"#19d3f3\",\"#FF6692\",\"#B6E880\",\"#FF97FF\",\"#FECB52\"],\"font\":{\"color\":\"#2a3f5f\"},\"hovermode\":\"closest\",\"hoverlabel\":{\"align\":\"left\"},\"paper_bgcolor\":\"white\",\"plot_bgcolor\":\"#E5ECF6\",\"polar\":{\"bgcolor\":\"#E5ECF6\",\"angularaxis\":{\"gridcolor\":\"white\",\"linecolor\":\"white\",\"ticks\":\"\"},\"radialaxis\":{\"gridcolor\":\"white\",\"linecolor\":\"white\",\"ticks\":\"\"}},\"ternary\":{\"bgcolor\":\"#E5ECF6\",\"aaxis\":{\"gridcolor\":\"white\",\"linecolor\":\"white\",\"ticks\":\"\"},\"baxis\":{\"gridcolor\":\"white\",\"linecolor\":\"white\",\"ticks\":\"\"},\"caxis\":{\"gridcolor\":\"white\",\"linecolor\":\"white\",\"ticks\":\"\"}},\"coloraxis\":{\"colorbar\":{\"outlinewidth\":0,\"ticks\":\"\"}},\"colorscale\":{\"sequential\":[[0.0,\"#0d0887\"],[0.1111111111111111,\"#46039f\"],[0.2222222222222222,\"#7201a8\"],[0.3333333333333333,\"#9c179e\"],[0.4444444444444444,\"#bd3786\"],[0.5555555555555556,\"#d8576b\"],[0.6666666666666666,\"#ed7953\"],[0.7777777777777778,\"#fb9f3a\"],[0.8888888888888888,\"#fdca26\"],[1.0,\"#f0f921\"]],\"sequentialminus\":[[0.0,\"#0d0887\"],[0.1111111111111111,\"#46039f\"],[0.2222222222222222,\"#7201a8\"],[0.3333333333333333,\"#9c179e\"],[0.4444444444444444,\"#bd3786\"],[0.5555555555555556,\"#d8576b\"],[0.6666666666666666,\"#ed7953\"],[0.7777777777777778,\"#fb9f3a\"],[0.8888888888888888,\"#fdca26\"],[1.0,\"#f0f921\"]],\"diverging\":[[0,\"#8e0152\"],[0.1,\"#c51b7d\"],[0.2,\"#de77ae\"],[0.3,\"#f1b6da\"],[0.4,\"#fde0ef\"],[0.5,\"#f7f7f7\"],[0.6,\"#e6f5d0\"],[0.7,\"#b8e186\"],[0.8,\"#7fbc41\"],[0.9,\"#4d9221\"],[1,\"#276419\"]]},\"xaxis\":{\"gridcolor\":\"white\",\"linecolor\":\"white\",\"ticks\":\"\",\"title\":{\"standoff\":15},\"zerolinecolor\":\"white\",\"automargin\":true,\"zerolinewidth\":2},\"yaxis\":{\"gridcolor\":\"white\",\"linecolor\":\"white\",\"ticks\":\"\",\"title\":{\"standoff\":15},\"zerolinecolor\":\"white\",\"automargin\":true,\"zerolinewidth\":2},\"scene\":{\"xaxis\":{\"backgroundcolor\":\"#E5ECF6\",\"gridcolor\":\"white\",\"linecolor\":\"white\",\"showbackground\":true,\"ticks\":\"\",\"zerolinecolor\":\"white\",\"gridwidth\":2},\"yaxis\":{\"backgroundcolor\":\"#E5ECF6\",\"gridcolor\":\"white\",\"linecolor\":\"white\",\"showbackground\":true,\"ticks\":\"\",\"zerolinecolor\":\"white\",\"gridwidth\":2},\"zaxis\":{\"backgroundcolor\":\"#E5ECF6\",\"gridcolor\":\"white\",\"linecolor\":\"white\",\"showbackground\":true,\"ticks\":\"\",\"zerolinecolor\":\"white\",\"gridwidth\":2}},\"shapedefaults\":{\"line\":{\"color\":\"#2a3f5f\"}},\"annotationdefaults\":{\"arrowcolor\":\"#2a3f5f\",\"arrowhead\":0,\"arrowwidth\":1},\"geo\":{\"bgcolor\":\"white\",\"landcolor\":\"#E5ECF6\",\"subunitcolor\":\"white\",\"showland\":true,\"showlakes\":true,\"lakecolor\":\"white\"},\"title\":{\"x\":0.05},\"mapbox\":{\"style\":\"light\"}}},\"xaxis\":{\"anchor\":\"y\",\"domain\":[0.0,0.2888888888888889],\"range\":[-10,10],\"zeroline\":true,\"zerolinewidth\":6},\"yaxis\":{\"anchor\":\"x\",\"domain\":[0.0,1.0],\"range\":[-10,10],\"zeroline\":true,\"zerolinewidth\":6},\"xaxis2\":{\"anchor\":\"y2\",\"domain\":[0.35555555555555557,0.6444444444444445],\"range\":[-10,10],\"zeroline\":true,\"zerolinewidth\":6},\"yaxis2\":{\"anchor\":\"x2\",\"domain\":[0.0,1.0],\"range\":[-10,10],\"zeroline\":true,\"zerolinewidth\":6},\"xaxis3\":{\"anchor\":\"y3\",\"domain\":[0.7111111111111111,1.0],\"range\":[-10,10],\"zeroline\":true,\"zerolinewidth\":6},\"yaxis3\":{\"anchor\":\"x3\",\"domain\":[0.0,1.0],\"range\":[-10,10],\"zeroline\":true,\"zerolinewidth\":6},\"annotations\":[{\"font\":{\"size\":16},\"showarrow\":false,\"text\":\"preimage\",\"x\":0.14444444444444446,\"xanchor\":\"center\",\"xref\":\"paper\",\"y\":1.0,\"yanchor\":\"bottom\",\"yref\":\"paper\"},{\"font\":{\"size\":16},\"showarrow\":false,\"text\":\"image\",\"x\":0.5,\"xanchor\":\"center\",\"xref\":\"paper\",\"y\":1.0,\"yanchor\":\"bottom\",\"yref\":\"paper\"}]},                        {\"responsive\": true}                    ).then(function(){\n",
       "                            \n",
       "var gd = document.getElementById('9c20489f-eb07-4719-bea7-2dda2054a9bf');\n",
       "var x = new MutationObserver(function (mutations, observer) {{\n",
       "        var display = window.getComputedStyle(gd).display;\n",
       "        if (!display || display === 'none') {{\n",
       "            console.log([gd, 'removed!']);\n",
       "            Plotly.purge(gd);\n",
       "            observer.disconnect();\n",
       "        }}\n",
       "}});\n",
       "\n",
       "// Listen for the removal of the full notebook cells\n",
       "var notebookContainer = gd.closest('#notebook-container');\n",
       "if (notebookContainer) {{\n",
       "    x.observe(notebookContainer, {childList: true});\n",
       "}}\n",
       "\n",
       "// Listen for the clearing of the current output cell\n",
       "var outputEl = gd.closest('.output');\n",
       "if (outputEl) {{\n",
       "    x.observe(outputEl, {childList: true});\n",
       "}}\n",
       "\n",
       "                        })                };                });            </script>        </div>"
      ]
     },
     "metadata": {},
     "output_type": "display_data"
    }
   ],
   "source": [
    "#[Quiz 40] Linear transformations as vector products\n",
    "import numpy as np\n",
    "from sympy import *\n",
    "\n",
    "# Use matrix-vector product to reflect the square with vertices (-3,2), (4,2), (4,-5), (-3,5)\n",
    "A = Matrix([[-3,2],[4,2],[4,-5],[-3,-5]]).transpose()\n",
    "display(\"A\",A)\n",
    "\n",
    "#Multipy y values by negative 1\n",
    "T = Matrix([[1,0],[0,-1]]).transpose()\n",
    "display(\"T\", T)\n",
    "\n",
    "B = Matrix(np.dot(T,A))\n",
    "display(\"B\", B)\n",
    "plot_matrix_side_by_side(A,B)\n",
    "\n",
    "#---------------------------------------[Additional Examples]---------------------------------------\n",
    "#double the width \n",
    "T = Matrix([[2,0],[0,1]]).transpose()\n",
    "A = Matrix([[3,-6],[3,1],[-1,1],[-1,-6]]).transpose()\n",
    "B = Matrix(np.dot(T,A))\n",
    "# plot_matrix_side_by_side(A,B)\n",
    "\n",
    "#reflect across y axis and compress by factor of 3 \n",
    "T = Matrix([[-1,0],[0,(1/3)]]).transpose()\n",
    "A = Matrix([[1,1],[0,-4],[-4,-4],[-3,1]]).transpose()\n",
    "B = Matrix(np.dot(T,A))\n",
    "# plot_matrix_side_by_side(A,B)"
   ]
  },
  {
   "cell_type": "markdown",
   "id": "a80be14a",
   "metadata": {},
   "source": [
    "## Linear Transformations as Rotations\n",
    "- in $\\mathbb{R_2}$, we rotate around the origin\n",
    "- in $\\mathbb{R_3}$, we rotate around the x, y and z axes\n",
    "\n",
    "### Formulae\n",
    "\n",
    "#### Rotation in $\\mathbb{R_2}$\n",
    "- Rotating matrix counterclockwise around the origin\\\n",
    "$Rot_\\theta = \\begin{bmatrix} cos(\\theta) & -sin(\\theta) \\\\ sin(\\theta) & cos(\\theta) \\end{bmatrix}$\n",
    "$\\begin{bmatrix} x_1 \\\\ x_2 \\end{bmatrix}$\n",
    "\n",
    "#### Rotation in $\\mathbb{R_3}$\n",
    "\n",
    "$Rot_{\\theta around x} = \\begin{bmatrix} 1 & 0 & 0\\\\ 0 & cos(\\theta) & -sin(\\theta) \\\\ 0 & sin(\\theta) & cos(\\theta) \\end{bmatrix}$\n",
    "$\\begin{bmatrix} x_1 \\\\ x_2 \\\\ x_3 \\end{bmatrix}$\n",
    "\n",
    "$Rot_{\\theta around y} = \\begin{bmatrix} cos(\\theta) & 0 & sin(\\theta) \\\\ 0 & 1 & 0  \\\\ -sin(\\theta) & 0 & cos(\\theta) \\end{bmatrix}$\n",
    "$\\begin{bmatrix} x_1 \\\\ x_2 \\\\ x_3 \\end{bmatrix}$\n",
    "\n",
    "$Rot_{\\theta around z} = \\begin{bmatrix} cos(\\theta) & -sin(\\theta) & 0  \\\\ sin(\\theta) & cos(\\theta) & 0\\\\0 & 0 & 1 \\end{bmatrix}$\n",
    "$\\begin{bmatrix} x_1 \\\\ x_2 \\\\ x_3 \\end{bmatrix}$"
   ]
  },
  {
   "cell_type": "code",
   "execution_count": 232,
   "id": "62ca2b7b",
   "metadata": {
    "scrolled": false
   },
   "outputs": [
    {
     "data": {
      "text/plain": [
       "'T'"
      ]
     },
     "metadata": {},
     "output_type": "display_data"
    },
    {
     "data": {
      "text/latex": [
       "$\\displaystyle \\left[\\begin{matrix}-1.83697019872103 \\cdot 10^{-16} & 1.0\\\\-1.0 & -1.83697019872103 \\cdot 10^{-16}\\end{matrix}\\right]$"
      ],
      "text/plain": [
       "Matrix([\n",
       "[-1.83697019872103e-16,                   1.0],\n",
       "[                 -1.0, -1.83697019872103e-16]])"
      ]
     },
     "metadata": {},
     "output_type": "display_data"
    },
    {
     "data": {
      "text/plain": [
       "'A'"
      ]
     },
     "metadata": {},
     "output_type": "display_data"
    },
    {
     "data": {
      "text/latex": [
       "$\\displaystyle \\left[\\begin{matrix}-1\\\\4\\end{matrix}\\right]$"
      ],
      "text/plain": [
       "Matrix([\n",
       "[-1],\n",
       "[ 4]])"
      ]
     },
     "metadata": {},
     "output_type": "display_data"
    },
    {
     "data": {
      "text/plain": [
       "'B'"
      ]
     },
     "metadata": {},
     "output_type": "display_data"
    },
    {
     "data": {
      "text/latex": [
       "$\\displaystyle \\left[\\begin{matrix}4.0\\\\0.999999999999999\\end{matrix}\\right]$"
      ],
      "text/plain": [
       "Matrix([\n",
       "[              4.0],\n",
       "[0.999999999999999]])"
      ]
     },
     "metadata": {},
     "output_type": "display_data"
    },
    {
     "data": {
      "application/vnd.plotly.v1+json": {
       "config": {
        "plotlyServerURL": "https://plot.ly"
       },
       "data": [
        {
         "type": "scatter",
         "x": [
          0,
          -1,
          null,
          -0.7204715283692815,
          -1,
          -1.1040119592526438,
          null
         ],
         "xaxis": "x",
         "y": [
          0,
          4,
          null,
          3.6969095291042713,
          4,
          3.6010244213834306,
          null
         ],
         "yaxis": "y"
        },
        {
         "type": "scatter",
         "x": [
          0,
          4,
          null,
          3.6969095291042713,
          4,
          3.6010244213834306,
          null
         ],
         "xaxis": "x2",
         "y": [
          0,
          1,
          null,
          0.7204715283692815,
          1,
          1.1040119592526438,
          null
         ],
         "yaxis": "y2"
        }
       ],
       "layout": {
        "template": {
         "data": {
          "bar": [
           {
            "error_x": {
             "color": "#2a3f5f"
            },
            "error_y": {
             "color": "#2a3f5f"
            },
            "marker": {
             "line": {
              "color": "#E5ECF6",
              "width": 0.5
             },
             "pattern": {
              "fillmode": "overlay",
              "size": 10,
              "solidity": 0.2
             }
            },
            "type": "bar"
           }
          ],
          "barpolar": [
           {
            "marker": {
             "line": {
              "color": "#E5ECF6",
              "width": 0.5
             },
             "pattern": {
              "fillmode": "overlay",
              "size": 10,
              "solidity": 0.2
             }
            },
            "type": "barpolar"
           }
          ],
          "carpet": [
           {
            "aaxis": {
             "endlinecolor": "#2a3f5f",
             "gridcolor": "white",
             "linecolor": "white",
             "minorgridcolor": "white",
             "startlinecolor": "#2a3f5f"
            },
            "baxis": {
             "endlinecolor": "#2a3f5f",
             "gridcolor": "white",
             "linecolor": "white",
             "minorgridcolor": "white",
             "startlinecolor": "#2a3f5f"
            },
            "type": "carpet"
           }
          ],
          "choropleth": [
           {
            "colorbar": {
             "outlinewidth": 0,
             "ticks": ""
            },
            "type": "choropleth"
           }
          ],
          "contour": [
           {
            "colorbar": {
             "outlinewidth": 0,
             "ticks": ""
            },
            "colorscale": [
             [
              0,
              "#0d0887"
             ],
             [
              0.1111111111111111,
              "#46039f"
             ],
             [
              0.2222222222222222,
              "#7201a8"
             ],
             [
              0.3333333333333333,
              "#9c179e"
             ],
             [
              0.4444444444444444,
              "#bd3786"
             ],
             [
              0.5555555555555556,
              "#d8576b"
             ],
             [
              0.6666666666666666,
              "#ed7953"
             ],
             [
              0.7777777777777778,
              "#fb9f3a"
             ],
             [
              0.8888888888888888,
              "#fdca26"
             ],
             [
              1,
              "#f0f921"
             ]
            ],
            "type": "contour"
           }
          ],
          "contourcarpet": [
           {
            "colorbar": {
             "outlinewidth": 0,
             "ticks": ""
            },
            "type": "contourcarpet"
           }
          ],
          "heatmap": [
           {
            "colorbar": {
             "outlinewidth": 0,
             "ticks": ""
            },
            "colorscale": [
             [
              0,
              "#0d0887"
             ],
             [
              0.1111111111111111,
              "#46039f"
             ],
             [
              0.2222222222222222,
              "#7201a8"
             ],
             [
              0.3333333333333333,
              "#9c179e"
             ],
             [
              0.4444444444444444,
              "#bd3786"
             ],
             [
              0.5555555555555556,
              "#d8576b"
             ],
             [
              0.6666666666666666,
              "#ed7953"
             ],
             [
              0.7777777777777778,
              "#fb9f3a"
             ],
             [
              0.8888888888888888,
              "#fdca26"
             ],
             [
              1,
              "#f0f921"
             ]
            ],
            "type": "heatmap"
           }
          ],
          "heatmapgl": [
           {
            "colorbar": {
             "outlinewidth": 0,
             "ticks": ""
            },
            "colorscale": [
             [
              0,
              "#0d0887"
             ],
             [
              0.1111111111111111,
              "#46039f"
             ],
             [
              0.2222222222222222,
              "#7201a8"
             ],
             [
              0.3333333333333333,
              "#9c179e"
             ],
             [
              0.4444444444444444,
              "#bd3786"
             ],
             [
              0.5555555555555556,
              "#d8576b"
             ],
             [
              0.6666666666666666,
              "#ed7953"
             ],
             [
              0.7777777777777778,
              "#fb9f3a"
             ],
             [
              0.8888888888888888,
              "#fdca26"
             ],
             [
              1,
              "#f0f921"
             ]
            ],
            "type": "heatmapgl"
           }
          ],
          "histogram": [
           {
            "marker": {
             "pattern": {
              "fillmode": "overlay",
              "size": 10,
              "solidity": 0.2
             }
            },
            "type": "histogram"
           }
          ],
          "histogram2d": [
           {
            "colorbar": {
             "outlinewidth": 0,
             "ticks": ""
            },
            "colorscale": [
             [
              0,
              "#0d0887"
             ],
             [
              0.1111111111111111,
              "#46039f"
             ],
             [
              0.2222222222222222,
              "#7201a8"
             ],
             [
              0.3333333333333333,
              "#9c179e"
             ],
             [
              0.4444444444444444,
              "#bd3786"
             ],
             [
              0.5555555555555556,
              "#d8576b"
             ],
             [
              0.6666666666666666,
              "#ed7953"
             ],
             [
              0.7777777777777778,
              "#fb9f3a"
             ],
             [
              0.8888888888888888,
              "#fdca26"
             ],
             [
              1,
              "#f0f921"
             ]
            ],
            "type": "histogram2d"
           }
          ],
          "histogram2dcontour": [
           {
            "colorbar": {
             "outlinewidth": 0,
             "ticks": ""
            },
            "colorscale": [
             [
              0,
              "#0d0887"
             ],
             [
              0.1111111111111111,
              "#46039f"
             ],
             [
              0.2222222222222222,
              "#7201a8"
             ],
             [
              0.3333333333333333,
              "#9c179e"
             ],
             [
              0.4444444444444444,
              "#bd3786"
             ],
             [
              0.5555555555555556,
              "#d8576b"
             ],
             [
              0.6666666666666666,
              "#ed7953"
             ],
             [
              0.7777777777777778,
              "#fb9f3a"
             ],
             [
              0.8888888888888888,
              "#fdca26"
             ],
             [
              1,
              "#f0f921"
             ]
            ],
            "type": "histogram2dcontour"
           }
          ],
          "mesh3d": [
           {
            "colorbar": {
             "outlinewidth": 0,
             "ticks": ""
            },
            "type": "mesh3d"
           }
          ],
          "parcoords": [
           {
            "line": {
             "colorbar": {
              "outlinewidth": 0,
              "ticks": ""
             }
            },
            "type": "parcoords"
           }
          ],
          "pie": [
           {
            "automargin": true,
            "type": "pie"
           }
          ],
          "scatter": [
           {
            "fillpattern": {
             "fillmode": "overlay",
             "size": 10,
             "solidity": 0.2
            },
            "type": "scatter"
           }
          ],
          "scatter3d": [
           {
            "line": {
             "colorbar": {
              "outlinewidth": 0,
              "ticks": ""
             }
            },
            "marker": {
             "colorbar": {
              "outlinewidth": 0,
              "ticks": ""
             }
            },
            "type": "scatter3d"
           }
          ],
          "scattercarpet": [
           {
            "marker": {
             "colorbar": {
              "outlinewidth": 0,
              "ticks": ""
             }
            },
            "type": "scattercarpet"
           }
          ],
          "scattergeo": [
           {
            "marker": {
             "colorbar": {
              "outlinewidth": 0,
              "ticks": ""
             }
            },
            "type": "scattergeo"
           }
          ],
          "scattergl": [
           {
            "marker": {
             "colorbar": {
              "outlinewidth": 0,
              "ticks": ""
             }
            },
            "type": "scattergl"
           }
          ],
          "scattermapbox": [
           {
            "marker": {
             "colorbar": {
              "outlinewidth": 0,
              "ticks": ""
             }
            },
            "type": "scattermapbox"
           }
          ],
          "scatterpolar": [
           {
            "marker": {
             "colorbar": {
              "outlinewidth": 0,
              "ticks": ""
             }
            },
            "type": "scatterpolar"
           }
          ],
          "scatterpolargl": [
           {
            "marker": {
             "colorbar": {
              "outlinewidth": 0,
              "ticks": ""
             }
            },
            "type": "scatterpolargl"
           }
          ],
          "scatterternary": [
           {
            "marker": {
             "colorbar": {
              "outlinewidth": 0,
              "ticks": ""
             }
            },
            "type": "scatterternary"
           }
          ],
          "surface": [
           {
            "colorbar": {
             "outlinewidth": 0,
             "ticks": ""
            },
            "colorscale": [
             [
              0,
              "#0d0887"
             ],
             [
              0.1111111111111111,
              "#46039f"
             ],
             [
              0.2222222222222222,
              "#7201a8"
             ],
             [
              0.3333333333333333,
              "#9c179e"
             ],
             [
              0.4444444444444444,
              "#bd3786"
             ],
             [
              0.5555555555555556,
              "#d8576b"
             ],
             [
              0.6666666666666666,
              "#ed7953"
             ],
             [
              0.7777777777777778,
              "#fb9f3a"
             ],
             [
              0.8888888888888888,
              "#fdca26"
             ],
             [
              1,
              "#f0f921"
             ]
            ],
            "type": "surface"
           }
          ],
          "table": [
           {
            "cells": {
             "fill": {
              "color": "#EBF0F8"
             },
             "line": {
              "color": "white"
             }
            },
            "header": {
             "fill": {
              "color": "#C8D4E3"
             },
             "line": {
              "color": "white"
             }
            },
            "type": "table"
           }
          ]
         },
         "layout": {
          "annotationdefaults": {
           "arrowcolor": "#2a3f5f",
           "arrowhead": 0,
           "arrowwidth": 1
          },
          "autotypenumbers": "strict",
          "coloraxis": {
           "colorbar": {
            "outlinewidth": 0,
            "ticks": ""
           }
          },
          "colorscale": {
           "diverging": [
            [
             0,
             "#8e0152"
            ],
            [
             0.1,
             "#c51b7d"
            ],
            [
             0.2,
             "#de77ae"
            ],
            [
             0.3,
             "#f1b6da"
            ],
            [
             0.4,
             "#fde0ef"
            ],
            [
             0.5,
             "#f7f7f7"
            ],
            [
             0.6,
             "#e6f5d0"
            ],
            [
             0.7,
             "#b8e186"
            ],
            [
             0.8,
             "#7fbc41"
            ],
            [
             0.9,
             "#4d9221"
            ],
            [
             1,
             "#276419"
            ]
           ],
           "sequential": [
            [
             0,
             "#0d0887"
            ],
            [
             0.1111111111111111,
             "#46039f"
            ],
            [
             0.2222222222222222,
             "#7201a8"
            ],
            [
             0.3333333333333333,
             "#9c179e"
            ],
            [
             0.4444444444444444,
             "#bd3786"
            ],
            [
             0.5555555555555556,
             "#d8576b"
            ],
            [
             0.6666666666666666,
             "#ed7953"
            ],
            [
             0.7777777777777778,
             "#fb9f3a"
            ],
            [
             0.8888888888888888,
             "#fdca26"
            ],
            [
             1,
             "#f0f921"
            ]
           ],
           "sequentialminus": [
            [
             0,
             "#0d0887"
            ],
            [
             0.1111111111111111,
             "#46039f"
            ],
            [
             0.2222222222222222,
             "#7201a8"
            ],
            [
             0.3333333333333333,
             "#9c179e"
            ],
            [
             0.4444444444444444,
             "#bd3786"
            ],
            [
             0.5555555555555556,
             "#d8576b"
            ],
            [
             0.6666666666666666,
             "#ed7953"
            ],
            [
             0.7777777777777778,
             "#fb9f3a"
            ],
            [
             0.8888888888888888,
             "#fdca26"
            ],
            [
             1,
             "#f0f921"
            ]
           ]
          },
          "colorway": [
           "#636efa",
           "#EF553B",
           "#00cc96",
           "#ab63fa",
           "#FFA15A",
           "#19d3f3",
           "#FF6692",
           "#B6E880",
           "#FF97FF",
           "#FECB52"
          ],
          "font": {
           "color": "#2a3f5f"
          },
          "geo": {
           "bgcolor": "white",
           "lakecolor": "white",
           "landcolor": "#E5ECF6",
           "showlakes": true,
           "showland": true,
           "subunitcolor": "white"
          },
          "hoverlabel": {
           "align": "left"
          },
          "hovermode": "closest",
          "mapbox": {
           "style": "light"
          },
          "paper_bgcolor": "white",
          "plot_bgcolor": "#E5ECF6",
          "polar": {
           "angularaxis": {
            "gridcolor": "white",
            "linecolor": "white",
            "ticks": ""
           },
           "bgcolor": "#E5ECF6",
           "radialaxis": {
            "gridcolor": "white",
            "linecolor": "white",
            "ticks": ""
           }
          },
          "scene": {
           "xaxis": {
            "backgroundcolor": "#E5ECF6",
            "gridcolor": "white",
            "gridwidth": 2,
            "linecolor": "white",
            "showbackground": true,
            "ticks": "",
            "zerolinecolor": "white"
           },
           "yaxis": {
            "backgroundcolor": "#E5ECF6",
            "gridcolor": "white",
            "gridwidth": 2,
            "linecolor": "white",
            "showbackground": true,
            "ticks": "",
            "zerolinecolor": "white"
           },
           "zaxis": {
            "backgroundcolor": "#E5ECF6",
            "gridcolor": "white",
            "gridwidth": 2,
            "linecolor": "white",
            "showbackground": true,
            "ticks": "",
            "zerolinecolor": "white"
           }
          },
          "shapedefaults": {
           "line": {
            "color": "#2a3f5f"
           }
          },
          "ternary": {
           "aaxis": {
            "gridcolor": "white",
            "linecolor": "white",
            "ticks": ""
           },
           "baxis": {
            "gridcolor": "white",
            "linecolor": "white",
            "ticks": ""
           },
           "bgcolor": "#E5ECF6",
           "caxis": {
            "gridcolor": "white",
            "linecolor": "white",
            "ticks": ""
           }
          },
          "title": {
           "x": 0.05
          },
          "xaxis": {
           "automargin": true,
           "gridcolor": "white",
           "linecolor": "white",
           "ticks": "",
           "title": {
            "standoff": 15
           },
           "zerolinecolor": "white",
           "zerolinewidth": 2
          },
          "yaxis": {
           "automargin": true,
           "gridcolor": "white",
           "linecolor": "white",
           "ticks": "",
           "title": {
            "standoff": 15
           },
           "zerolinecolor": "white",
           "zerolinewidth": 2
          }
         }
        },
        "xaxis": {
         "anchor": "y",
         "domain": [
          0,
          0.45
         ]
        },
        "xaxis2": {
         "anchor": "y2",
         "domain": [
          0.55,
          1
         ]
        },
        "yaxis": {
         "anchor": "x",
         "domain": [
          0,
          1
         ]
        },
        "yaxis2": {
         "anchor": "x2",
         "domain": [
          0,
          1
         ]
        }
       }
      },
      "text/html": [
       "<div>                            <div id=\"2c080ec3-2e8a-4d3e-933b-55c371ddf23a\" class=\"plotly-graph-div\" style=\"height:525px; width:100%;\"></div>            <script type=\"text/javascript\">                require([\"plotly\"], function(Plotly) {                    window.PLOTLYENV=window.PLOTLYENV || {};                                    if (document.getElementById(\"2c080ec3-2e8a-4d3e-933b-55c371ddf23a\")) {                    Plotly.newPlot(                        \"2c080ec3-2e8a-4d3e-933b-55c371ddf23a\",                        [{\"x\":[0,-1.0,null,-0.7204715283692815,-1.0,-1.1040119592526438,null],\"y\":[0,4.0,null,3.6969095291042713,4.0,3.6010244213834306,null],\"type\":\"scatter\",\"xaxis\":\"x\",\"yaxis\":\"y\"},{\"x\":[0,4.0,null,3.6969095291042713,4.0,3.6010244213834306,null],\"y\":[0,1.0,null,0.7204715283692815,1.0,1.1040119592526438,null],\"type\":\"scatter\",\"xaxis\":\"x2\",\"yaxis\":\"y2\"}],                        {\"template\":{\"data\":{\"histogram2dcontour\":[{\"type\":\"histogram2dcontour\",\"colorbar\":{\"outlinewidth\":0,\"ticks\":\"\"},\"colorscale\":[[0.0,\"#0d0887\"],[0.1111111111111111,\"#46039f\"],[0.2222222222222222,\"#7201a8\"],[0.3333333333333333,\"#9c179e\"],[0.4444444444444444,\"#bd3786\"],[0.5555555555555556,\"#d8576b\"],[0.6666666666666666,\"#ed7953\"],[0.7777777777777778,\"#fb9f3a\"],[0.8888888888888888,\"#fdca26\"],[1.0,\"#f0f921\"]]}],\"choropleth\":[{\"type\":\"choropleth\",\"colorbar\":{\"outlinewidth\":0,\"ticks\":\"\"}}],\"histogram2d\":[{\"type\":\"histogram2d\",\"colorbar\":{\"outlinewidth\":0,\"ticks\":\"\"},\"colorscale\":[[0.0,\"#0d0887\"],[0.1111111111111111,\"#46039f\"],[0.2222222222222222,\"#7201a8\"],[0.3333333333333333,\"#9c179e\"],[0.4444444444444444,\"#bd3786\"],[0.5555555555555556,\"#d8576b\"],[0.6666666666666666,\"#ed7953\"],[0.7777777777777778,\"#fb9f3a\"],[0.8888888888888888,\"#fdca26\"],[1.0,\"#f0f921\"]]}],\"heatmap\":[{\"type\":\"heatmap\",\"colorbar\":{\"outlinewidth\":0,\"ticks\":\"\"},\"colorscale\":[[0.0,\"#0d0887\"],[0.1111111111111111,\"#46039f\"],[0.2222222222222222,\"#7201a8\"],[0.3333333333333333,\"#9c179e\"],[0.4444444444444444,\"#bd3786\"],[0.5555555555555556,\"#d8576b\"],[0.6666666666666666,\"#ed7953\"],[0.7777777777777778,\"#fb9f3a\"],[0.8888888888888888,\"#fdca26\"],[1.0,\"#f0f921\"]]}],\"heatmapgl\":[{\"type\":\"heatmapgl\",\"colorbar\":{\"outlinewidth\":0,\"ticks\":\"\"},\"colorscale\":[[0.0,\"#0d0887\"],[0.1111111111111111,\"#46039f\"],[0.2222222222222222,\"#7201a8\"],[0.3333333333333333,\"#9c179e\"],[0.4444444444444444,\"#bd3786\"],[0.5555555555555556,\"#d8576b\"],[0.6666666666666666,\"#ed7953\"],[0.7777777777777778,\"#fb9f3a\"],[0.8888888888888888,\"#fdca26\"],[1.0,\"#f0f921\"]]}],\"contourcarpet\":[{\"type\":\"contourcarpet\",\"colorbar\":{\"outlinewidth\":0,\"ticks\":\"\"}}],\"contour\":[{\"type\":\"contour\",\"colorbar\":{\"outlinewidth\":0,\"ticks\":\"\"},\"colorscale\":[[0.0,\"#0d0887\"],[0.1111111111111111,\"#46039f\"],[0.2222222222222222,\"#7201a8\"],[0.3333333333333333,\"#9c179e\"],[0.4444444444444444,\"#bd3786\"],[0.5555555555555556,\"#d8576b\"],[0.6666666666666666,\"#ed7953\"],[0.7777777777777778,\"#fb9f3a\"],[0.8888888888888888,\"#fdca26\"],[1.0,\"#f0f921\"]]}],\"surface\":[{\"type\":\"surface\",\"colorbar\":{\"outlinewidth\":0,\"ticks\":\"\"},\"colorscale\":[[0.0,\"#0d0887\"],[0.1111111111111111,\"#46039f\"],[0.2222222222222222,\"#7201a8\"],[0.3333333333333333,\"#9c179e\"],[0.4444444444444444,\"#bd3786\"],[0.5555555555555556,\"#d8576b\"],[0.6666666666666666,\"#ed7953\"],[0.7777777777777778,\"#fb9f3a\"],[0.8888888888888888,\"#fdca26\"],[1.0,\"#f0f921\"]]}],\"mesh3d\":[{\"type\":\"mesh3d\",\"colorbar\":{\"outlinewidth\":0,\"ticks\":\"\"}}],\"scatter\":[{\"fillpattern\":{\"fillmode\":\"overlay\",\"size\":10,\"solidity\":0.2},\"type\":\"scatter\"}],\"parcoords\":[{\"type\":\"parcoords\",\"line\":{\"colorbar\":{\"outlinewidth\":0,\"ticks\":\"\"}}}],\"scatterpolargl\":[{\"type\":\"scatterpolargl\",\"marker\":{\"colorbar\":{\"outlinewidth\":0,\"ticks\":\"\"}}}],\"bar\":[{\"error_x\":{\"color\":\"#2a3f5f\"},\"error_y\":{\"color\":\"#2a3f5f\"},\"marker\":{\"line\":{\"color\":\"#E5ECF6\",\"width\":0.5},\"pattern\":{\"fillmode\":\"overlay\",\"size\":10,\"solidity\":0.2}},\"type\":\"bar\"}],\"scattergeo\":[{\"type\":\"scattergeo\",\"marker\":{\"colorbar\":{\"outlinewidth\":0,\"ticks\":\"\"}}}],\"scatterpolar\":[{\"type\":\"scatterpolar\",\"marker\":{\"colorbar\":{\"outlinewidth\":0,\"ticks\":\"\"}}}],\"histogram\":[{\"marker\":{\"pattern\":{\"fillmode\":\"overlay\",\"size\":10,\"solidity\":0.2}},\"type\":\"histogram\"}],\"scattergl\":[{\"type\":\"scattergl\",\"marker\":{\"colorbar\":{\"outlinewidth\":0,\"ticks\":\"\"}}}],\"scatter3d\":[{\"type\":\"scatter3d\",\"line\":{\"colorbar\":{\"outlinewidth\":0,\"ticks\":\"\"}},\"marker\":{\"colorbar\":{\"outlinewidth\":0,\"ticks\":\"\"}}}],\"scattermapbox\":[{\"type\":\"scattermapbox\",\"marker\":{\"colorbar\":{\"outlinewidth\":0,\"ticks\":\"\"}}}],\"scatterternary\":[{\"type\":\"scatterternary\",\"marker\":{\"colorbar\":{\"outlinewidth\":0,\"ticks\":\"\"}}}],\"scattercarpet\":[{\"type\":\"scattercarpet\",\"marker\":{\"colorbar\":{\"outlinewidth\":0,\"ticks\":\"\"}}}],\"carpet\":[{\"aaxis\":{\"endlinecolor\":\"#2a3f5f\",\"gridcolor\":\"white\",\"linecolor\":\"white\",\"minorgridcolor\":\"white\",\"startlinecolor\":\"#2a3f5f\"},\"baxis\":{\"endlinecolor\":\"#2a3f5f\",\"gridcolor\":\"white\",\"linecolor\":\"white\",\"minorgridcolor\":\"white\",\"startlinecolor\":\"#2a3f5f\"},\"type\":\"carpet\"}],\"table\":[{\"cells\":{\"fill\":{\"color\":\"#EBF0F8\"},\"line\":{\"color\":\"white\"}},\"header\":{\"fill\":{\"color\":\"#C8D4E3\"},\"line\":{\"color\":\"white\"}},\"type\":\"table\"}],\"barpolar\":[{\"marker\":{\"line\":{\"color\":\"#E5ECF6\",\"width\":0.5},\"pattern\":{\"fillmode\":\"overlay\",\"size\":10,\"solidity\":0.2}},\"type\":\"barpolar\"}],\"pie\":[{\"automargin\":true,\"type\":\"pie\"}]},\"layout\":{\"autotypenumbers\":\"strict\",\"colorway\":[\"#636efa\",\"#EF553B\",\"#00cc96\",\"#ab63fa\",\"#FFA15A\",\"#19d3f3\",\"#FF6692\",\"#B6E880\",\"#FF97FF\",\"#FECB52\"],\"font\":{\"color\":\"#2a3f5f\"},\"hovermode\":\"closest\",\"hoverlabel\":{\"align\":\"left\"},\"paper_bgcolor\":\"white\",\"plot_bgcolor\":\"#E5ECF6\",\"polar\":{\"bgcolor\":\"#E5ECF6\",\"angularaxis\":{\"gridcolor\":\"white\",\"linecolor\":\"white\",\"ticks\":\"\"},\"radialaxis\":{\"gridcolor\":\"white\",\"linecolor\":\"white\",\"ticks\":\"\"}},\"ternary\":{\"bgcolor\":\"#E5ECF6\",\"aaxis\":{\"gridcolor\":\"white\",\"linecolor\":\"white\",\"ticks\":\"\"},\"baxis\":{\"gridcolor\":\"white\",\"linecolor\":\"white\",\"ticks\":\"\"},\"caxis\":{\"gridcolor\":\"white\",\"linecolor\":\"white\",\"ticks\":\"\"}},\"coloraxis\":{\"colorbar\":{\"outlinewidth\":0,\"ticks\":\"\"}},\"colorscale\":{\"sequential\":[[0.0,\"#0d0887\"],[0.1111111111111111,\"#46039f\"],[0.2222222222222222,\"#7201a8\"],[0.3333333333333333,\"#9c179e\"],[0.4444444444444444,\"#bd3786\"],[0.5555555555555556,\"#d8576b\"],[0.6666666666666666,\"#ed7953\"],[0.7777777777777778,\"#fb9f3a\"],[0.8888888888888888,\"#fdca26\"],[1.0,\"#f0f921\"]],\"sequentialminus\":[[0.0,\"#0d0887\"],[0.1111111111111111,\"#46039f\"],[0.2222222222222222,\"#7201a8\"],[0.3333333333333333,\"#9c179e\"],[0.4444444444444444,\"#bd3786\"],[0.5555555555555556,\"#d8576b\"],[0.6666666666666666,\"#ed7953\"],[0.7777777777777778,\"#fb9f3a\"],[0.8888888888888888,\"#fdca26\"],[1.0,\"#f0f921\"]],\"diverging\":[[0,\"#8e0152\"],[0.1,\"#c51b7d\"],[0.2,\"#de77ae\"],[0.3,\"#f1b6da\"],[0.4,\"#fde0ef\"],[0.5,\"#f7f7f7\"],[0.6,\"#e6f5d0\"],[0.7,\"#b8e186\"],[0.8,\"#7fbc41\"],[0.9,\"#4d9221\"],[1,\"#276419\"]]},\"xaxis\":{\"gridcolor\":\"white\",\"linecolor\":\"white\",\"ticks\":\"\",\"title\":{\"standoff\":15},\"zerolinecolor\":\"white\",\"automargin\":true,\"zerolinewidth\":2},\"yaxis\":{\"gridcolor\":\"white\",\"linecolor\":\"white\",\"ticks\":\"\",\"title\":{\"standoff\":15},\"zerolinecolor\":\"white\",\"automargin\":true,\"zerolinewidth\":2},\"scene\":{\"xaxis\":{\"backgroundcolor\":\"#E5ECF6\",\"gridcolor\":\"white\",\"linecolor\":\"white\",\"showbackground\":true,\"ticks\":\"\",\"zerolinecolor\":\"white\",\"gridwidth\":2},\"yaxis\":{\"backgroundcolor\":\"#E5ECF6\",\"gridcolor\":\"white\",\"linecolor\":\"white\",\"showbackground\":true,\"ticks\":\"\",\"zerolinecolor\":\"white\",\"gridwidth\":2},\"zaxis\":{\"backgroundcolor\":\"#E5ECF6\",\"gridcolor\":\"white\",\"linecolor\":\"white\",\"showbackground\":true,\"ticks\":\"\",\"zerolinecolor\":\"white\",\"gridwidth\":2}},\"shapedefaults\":{\"line\":{\"color\":\"#2a3f5f\"}},\"annotationdefaults\":{\"arrowcolor\":\"#2a3f5f\",\"arrowhead\":0,\"arrowwidth\":1},\"geo\":{\"bgcolor\":\"white\",\"landcolor\":\"#E5ECF6\",\"subunitcolor\":\"white\",\"showland\":true,\"showlakes\":true,\"lakecolor\":\"white\"},\"title\":{\"x\":0.05},\"mapbox\":{\"style\":\"light\"}}},\"xaxis\":{\"anchor\":\"y\",\"domain\":[0.0,0.45]},\"yaxis\":{\"anchor\":\"x\",\"domain\":[0.0,1.0]},\"xaxis2\":{\"anchor\":\"y2\",\"domain\":[0.55,1.0]},\"yaxis2\":{\"anchor\":\"x2\",\"domain\":[0.0,1.0]}},                        {\"responsive\": true}                    ).then(function(){\n",
       "                            \n",
       "var gd = document.getElementById('2c080ec3-2e8a-4d3e-933b-55c371ddf23a');\n",
       "var x = new MutationObserver(function (mutations, observer) {{\n",
       "        var display = window.getComputedStyle(gd).display;\n",
       "        if (!display || display === 'none') {{\n",
       "            console.log([gd, 'removed!']);\n",
       "            Plotly.purge(gd);\n",
       "            observer.disconnect();\n",
       "        }}\n",
       "}});\n",
       "\n",
       "// Listen for the removal of the full notebook cells\n",
       "var notebookContainer = gd.closest('#notebook-container');\n",
       "if (notebookContainer) {{\n",
       "    x.observe(notebookContainer, {childList: true});\n",
       "}}\n",
       "\n",
       "// Listen for the clearing of the current output cell\n",
       "var outputEl = gd.closest('.output');\n",
       "if (outputEl) {{\n",
       "    x.observe(outputEl, {childList: true});\n",
       "}}\n",
       "\n",
       "                        })                };                });            </script>        </div>"
      ]
     },
     "metadata": {},
     "output_type": "display_data"
    }
   ],
   "source": [
    "#[Quiz 41] Linear transformations as rotations in R2\n",
    "import plotly.figure_factory as ff\n",
    "import numpy as np\n",
    "import math\n",
    "\n",
    "theta = math.radians(270)\n",
    "\n",
    "#Transofrmation matrix to rotate by theta around origin\n",
    "T = Matrix([[math.cos(theta), -1*math.sin(theta)],[math.sin(theta), math.cos(theta)]])\n",
    "display(\"T\", T)\n",
    "\n",
    "#Preimage\n",
    "A = Matrix([[-1],[4]])\n",
    "display(\"A\",A)\n",
    "\n",
    "#Image\n",
    "B = Matrix(np.dot(T,A))\n",
    "display(\"B\", B)\n",
    "\n",
    "#Plot \n",
    "data = A.col_insert(1,B).tolist()\n",
    "\"\"\"convert to all elements uniform data type (float)\"\"\"\n",
    "d = [[float(x.round(3)) for x in l] for l in data]\n",
    "\n",
    "preimage = ff.create_quiver([0],[0], [d[0][0]],[d[0][1]],scale=1,arrow_scale=0.1,angle=0.5)\n",
    "# preimage.show()\n",
    "image = ff.create_quiver([0],[0], [d[1][0]],[d[1][1]],scale=1,arrow_scale=0.1,angle=0.5)\n",
    "# image.show()\n",
    "subplot_side_by_side(preimage,image)\n"
   ]
  },
  {
   "cell_type": "code",
   "execution_count": 233,
   "id": "ec9dff3c",
   "metadata": {
    "scrolled": false
   },
   "outputs": [
    {
     "data": {
      "text/plain": [
       "'T_z'"
      ]
     },
     "metadata": {},
     "output_type": "display_data"
    },
    {
     "data": {
      "text/latex": [
       "$\\displaystyle \\left[\\begin{matrix}1 & 0 & 0\\\\0 & -0.707106781186548 & 0.707106781186547\\\\0 & -0.707106781186547 & -0.707106781186548\\end{matrix}\\right]$"
      ],
      "text/plain": [
       "Matrix([\n",
       "[1,                  0,                  0],\n",
       "[0, -0.707106781186548,  0.707106781186547],\n",
       "[0, -0.707106781186547, -0.707106781186548]])"
      ]
     },
     "metadata": {},
     "output_type": "display_data"
    },
    {
     "data": {
      "text/plain": [
       "'A'"
      ]
     },
     "metadata": {},
     "output_type": "display_data"
    },
    {
     "data": {
      "text/latex": [
       "$\\displaystyle \\left[\\begin{matrix}-2\\\\3\\\\-1\\end{matrix}\\right]$"
      ],
      "text/plain": [
       "Matrix([\n",
       "[-2],\n",
       "[ 3],\n",
       "[-1]])"
      ]
     },
     "metadata": {},
     "output_type": "display_data"
    },
    {
     "data": {
      "text/plain": [
       "'B'"
      ]
     },
     "metadata": {},
     "output_type": "display_data"
    },
    {
     "data": {
      "text/latex": [
       "$\\displaystyle \\left[\\begin{matrix}-2\\\\-2.82842712474619\\\\-1.41421356237309\\end{matrix}\\right]$"
      ],
      "text/plain": [
       "Matrix([\n",
       "[               -2],\n",
       "[-2.82842712474619],\n",
       "[-1.41421356237309]])"
      ]
     },
     "metadata": {},
     "output_type": "display_data"
    }
   ],
   "source": [
    "#[Quiz 41] Linear transformations as rotations in R3\n",
    "\n",
    "import plotly.express as px\n",
    "import numpy as np\n",
    "import math\n",
    "\n",
    "theta = math.radians(225)\n",
    "\n",
    "#Transformation matrices for R3\n",
    "\n",
    "\"\"\"to rotate by theta around x axis \"\"\"\n",
    "T_x = Matrix([\n",
    "    [1,0,0],\n",
    "    [0,cos(theta),(-1*sin(theta))],\n",
    "    [0,sin(theta),cos(theta)]\n",
    "])\n",
    "\n",
    "\"\"\"to rotate by theta around y axis \"\"\"\n",
    "T_y = Matrix([\n",
    "    [cos(theta),0,sin(theta)],\n",
    "    [0,1,0],\n",
    "    [(-1*sin(theta)),0,cos(theta)]\n",
    "])\n",
    "\n",
    "\"\"\"to rotate by theta around z axis \"\"\"\n",
    "T_z = Matrix([\n",
    "    [1,0,0],\n",
    "    [0,cos(theta),(-1*sin(theta))],\n",
    "    [0,sin(theta),cos(theta)]\n",
    "])\n",
    "\n",
    "display(\"T_z\",T_z)\n",
    "#Preimage\n",
    "A = Matrix([[-2],[3],[-1]])\n",
    "display(\"A\",A)\n",
    "\n",
    "# Example : find the rotation of \\vec{x} =(-2,3,1) by an angle of theta = 225 degrees about z axis\n",
    "\"\"\"refer to Eq[95]\"\"\"\n",
    "B = Matrix(np.dot(T_z,A))\n",
    "display(\"B\",B)\n",
    "\n",
    "#Plot\n",
    "data = A.col_insert(1,B).tolist()\n",
    "\"\"\"convert to all elements uniform data type (float)\"\"\"\n",
    "d = [[float(x.round(3)) for x in l] for l in data]\n",
    "\n",
    "preimage= px.line_3d( x=[0,d[0][0]], y=[0,d[1][0]], z=[0,d[2][0]])\n",
    "# preimage.show()\n",
    "image = px.line_3d(x=[0,d[0][1]], y=[0,d[1][1]], z=[0,d[2][1]])\n",
    "# image.show()\n"
   ]
  },
  {
   "cell_type": "markdown",
   "id": "b51c73e4",
   "metadata": {},
   "source": [
    "## [104] Adding and scaling transformations\n",
    "#### Recall\n",
    "- Tranformation notation\n",
    "$S(\\vec{x}) : \\mathbb{R^n} \\rightarrow \\mathbb{R^m}$ - Transformation from $\\mathbb{R^n}$ to $\\mathbb{R^m}$\n",
    "\n",
    "#### Sums of transformations\n",
    "- **Condition for adding transformations:**\n",
    "    - both transformations must transform from a common $\\mathbb{R^n}$ to a common $\\mathbb{R^m}$ \n",
    "    - transformation matrices must have common dimensions $dimensions(A)=m \\times n$ and $dimensions(B)=m \\times n$ \n",
    "- To find the sum of transformations $S(\\vec{x})$ and $T(\\vec{x})$, simply add the individual matrices to get the transformation matrix of the sum of S and T transformations\n",
    "\n",
    "**[103.1]** $(S + T)(\\vec{x}) = S(\\vec{x}) + T(\\vec{x}) \\rightarrow (S+T)(\\vec{x}) = (A + B) \\vec{x}$\n",
    "\n",
    "#### Scaled transformations\n",
    "- To find a scaled transformation, multiply the transformation matrice (in a vector matrice product) by the scalar (see below equation)\n",
    "\n",
    "**[103.2]** $cT(\\vec{x}) = c(B\\vec{x}) = (cB)\\vec{x}$ \n",
    "\n",
    "\n",
    "\n"
   ]
  },
  {
   "cell_type": "markdown",
   "id": "3d96e31a",
   "metadata": {},
   "source": [
    "## [105] Projections as linear transformations\n",
    "- Note: projections are always closed under addition and scalar multiplication and are therefore always linear transformations\n",
    "### Formulae\n",
    "- Projection as a linear transformation\n",
    "\n",
    "**[103]** $Proj_M(\\vec{v}) = (\\vec{v} \\cdot \\hat{u} ) \\hat{u}$\n",
    "\n",
    "#### Recall \n",
    "- The unit vector \n",
    "$\\hat{u} = \\frac{1}{||\\vec{x}||}\\vec{x}$\n",
    "\n",
    "### Projection with matrices, two methods \n",
    "- **NOTE : Method 3 provides a generalized transformation matrix for all vectors**\n",
    "\n",
    "- To project $\\vec{v} = (0,2)$ on to $M$, a the span of $\\vec{x} = \\begin{bmatrix}1\\\\3\\end{bmatrix}$\n",
    "\n",
    "#### Method 1, projection of a vector onto a line\n",
    "$Proj_L(\\vec{v}) = \\frac{\\vec{v} \\cdot \\vec{x} }{\\vec{x} \\cdot \\vec{x}}$ \n",
    "\n",
    "$= \\frac{\\begin{bmatrix}0&2\\end{bmatrix}\\cdot \\begin{bmatrix}1 \\\\3 \\end{bmatrix}}{\\begin{bmatrix}1 & 3 \\end{bmatrix} \\begin{bmatrix}{1\\\\3}\\end{bmatrix} } \\begin{bmatrix}1 \\\\3\\end{bmatrix} = \\begin{bmatrix}\\frac{3}{5} \\\\ \\frac{9}{5} \\end{bmatrix}$ \n",
    "\n",
    "#### Method 2: Normalizing the vector that defines the line with its  unit vector\n",
    "\n",
    "\n",
    "$\\hat{u} = \\frac{1}{\\sqrt{10} } \\begin{bmatrix}1\\\\3\\end{bmatrix} = \\begin{bmatrix} \\frac{1}{\\sqrt{10} } \\\\ \\frac{3}{\\sqrt{10}} \\end{bmatrix} $\n",
    "\n",
    "$Proj_M(\\vec{v}) = (\\vec{v} \\cdot \\hat{u} ) \\hat{u}$\n",
    "\n",
    "$ = ( \\begin{bmatrix}0 & 2 \\end{bmatrix} \\cdot \\begin{bmatrix} \\frac{1}{\\sqrt{10} } \\\\ \\frac{3}{\\sqrt{10}} \\end{bmatrix}) \\begin{bmatrix} \\frac{1}{\\sqrt{10} } \\\\ \\frac{3}{\\sqrt{10}} \\end{bmatrix} $\n",
    "\n",
    "$ = \\begin{bmatrix}\\frac{3}{5} \\\\ \\frac{9}{5} \\end{bmatrix}$\n",
    "\n",
    "#### Method 3: using the identity matrice to to find a generalized transformation matrix for a given line\n",
    "1. determine A$\\vec{v}$ \n",
    "    - use identity matrix for respective $\\mathbb{R^n}$ in this case $\\mathbb{R^2}$\n",
    "\n",
    "$\n",
    "A\\vec{v} =\n",
    "\\left[\n",
    "\\left(\n",
    "\\begin{bmatrix} 1 \\\\ 0 \\end{bmatrix} \\cdot\n",
    "\\begin{bmatrix} u_1 \\\\ u_2 \\end{bmatrix}\n",
    "\\right)\n",
    "\\begin{bmatrix} u_1 \\\\ u_2 \\end{bmatrix}\n",
    "\\left(\n",
    "\\begin{bmatrix} 0 \\\\ 1 \\end{bmatrix}\\cdot\n",
    "\\begin{bmatrix} u_1 \\\\ {u_2} \\end{bmatrix}\n",
    "\\right)\n",
    "\\begin{bmatrix} u_1 \\\\ u_2 \\end{bmatrix}\n",
    "\\right]\n",
    "\\cdot\n",
    "\\begin{bmatrix}\n",
    "v_1\\\\\n",
    "v_2 \n",
    "\\end{bmatrix}\n",
    "$\n",
    "\n",
    "2. Simplify: \n",
    "\n",
    "$\n",
    "A\\vec{v} = \n",
    "\\begin{bmatrix}\n",
    "u_1^2 & u_1u_2\\\\\n",
    "u_1 u_2 & u_2^2\\\\\n",
    "\\end{bmatrix}\n",
    "\\cdot\n",
    "\\begin{bmatrix}\n",
    "v_1\\\\\n",
    "v_2 \n",
    "\\end{bmatrix}\n",
    "$\n",
    "\n",
    "$A\\vec{v} =\n",
    "\\begin{bmatrix}\n",
    "u_1^2 & u_1u_2\\\\\n",
    "u_1 u_2 & u_2^2\\\\\n",
    "\\end{bmatrix}\n",
    "\\cdot\n",
    "\\begin{bmatrix} 0 \\\\2 \\end{bmatrix}$\n",
    "\n",
    "- Plugging in $\\vec{u} = \\begin{bmatrix}\\frac{1}{\\sqrt{10} } \\\\ \\frac{3}{\\sqrt{10}}\\end{bmatrix}$\n",
    "\n",
    "$\n",
    "A\\vec{v} =\n",
    "\\begin{bmatrix}\n",
    "\\frac{1}{10}&\\frac{3}{10}\\\\\n",
    "\\frac{3}{10}&\\frac{9}{10}\\\\\n",
    "\\end{bmatrix}\n",
    "\\cdot\n",
    "\\begin{bmatrix} 0 \\\\2 \\end{bmatrix}\n",
    "= \\begin{bmatrix}\\frac{3}{5} \\\\ \\frac{9}{5} \\end{bmatrix}$\n",
    "\n",
    "\n",
    "\n"
   ]
  },
  {
   "cell_type": "code",
   "execution_count": 293,
   "id": "3877988b",
   "metadata": {},
   "outputs": [
    {
     "data": {
      "text/plain": [
       "'A'"
      ]
     },
     "metadata": {},
     "output_type": "display_data"
    },
    {
     "data": {
      "text/latex": [
       "$\\displaystyle \\left[\\begin{matrix}0.9 & -0.3\\\\-0.3 & 0.1\\end{matrix}\\right]$"
      ],
      "text/plain": [
       "Matrix([\n",
       "[ 0.9, -0.3],\n",
       "[-0.3,  0.1]])"
      ]
     },
     "metadata": {},
     "output_type": "display_data"
    },
    {
     "data": {
      "text/plain": [
       "'v'"
      ]
     },
     "metadata": {},
     "output_type": "display_data"
    },
    {
     "data": {
      "text/latex": [
       "$\\displaystyle \\left[\\begin{matrix}2\\\\4\\end{matrix}\\right]$"
      ],
      "text/plain": [
       "Matrix([\n",
       "[2],\n",
       "[4]])"
      ]
     },
     "metadata": {},
     "output_type": "display_data"
    },
    {
     "data": {
      "text/plain": [
       "'Av'"
      ]
     },
     "metadata": {},
     "output_type": "display_data"
    },
    {
     "data": {
      "text/latex": [
       "$\\displaystyle \\left[\\begin{matrix}0.6\\\\-0.2\\end{matrix}\\right]$"
      ],
      "text/plain": [
       "Matrix([\n",
       "[ 0.6],\n",
       "[-0.2]])"
      ]
     },
     "metadata": {},
     "output_type": "display_data"
    }
   ],
   "source": [
    "# [Quiz 43] Projections as linear transformations. Using method 3\n",
    "from sympy import *\n",
    "import math\n",
    "\n",
    "# The vector in the line we are projecting onto\n",
    "v_target = Matrix([[-6],[2]])\n",
    "\n",
    "# The vector \n",
    "v_source = Matrix([[2],[4]])\n",
    "\n",
    "def get_projection_matrix_from_unit_vector(v):\n",
    "    #unit vector calculation\n",
    "    u = Matrix([1/math.sqrt(v[0]**2 + v[1]**2)])*v.transpose()\n",
    "    #Method 3 step 2\n",
    "    return Matrix([[u[0]**2, u[0]*u[1]]\n",
    "                   ,[u[0]*u[1],u[1]**2]])\n",
    "\n",
    "A = get_projection_matrix_from_unit_vector(v_target)\n",
    "display(\"A\",A)\n",
    "display(\"v\",v_source)\n",
    "display(\"Av\",A*v_source)"
   ]
  },
  {
   "cell_type": "markdown",
   "id": "5e3d554c",
   "metadata": {},
   "source": [
    "## [107] Compositions of Linear transformations\n",
    "The notation for a composition of linear transformations is as follows: \n",
    "- For example, a sequence of two transformations, $T$ and $S$,\\\n",
    "$T : Y \\rightarrow Z = T(\\vec{x})$\\\n",
    "$S : X \\rightarrow Y = S(\\vec{x})$\\\n",
    "can be rewritten as: \n",
    "$T(S(\\vec{x}))$\n",
    "- Compositions of linear transformations are always closed under addition and scalar multiplication and are therefore **considered linear transformations themselves**. \n",
    "- Compositions can also be written as a **matrix-vector product**\\\n",
    "$T(S(\\vec{x})) = T(A\\vec{x}) = BA\\vec{x} = C \\vec{x}$\n",
    "- If Matrix $A$ is a $m \\times n$ matrix, and $B$ is a $p \\times m$ matrix, then the resulting matrix is a $p \\times n$ matrix\n",
    "- By finding matrix $C$, we can transform directly from subset $X$ to subset $Z$ by dotting it ($C$) with any vector in subset $X$\n",
    "\n",
    "### Example\n",
    "- Compose a singular transformation from the following\n",
    "\n",
    "$S(\\vec{x}) = \\begin{bmatrix} 3x_1\\\\ x_1 - x_2 \\end{bmatrix}$\n",
    "\n",
    "$T(\\vec{y}) = \\begin{bmatrix} 2y_1 + 4y_2\\\\ -y_2 \\end{bmatrix}$\n",
    "\n",
    "$\\vec{x} = \\begin{bmatrix} 3 \\\\ 4 \\end{bmatrix}$\n",
    "\n",
    "1. Begin from the identity matrix since we need to represent the transformations as vector-matrix products\n",
    "\n",
    "$I_2 = \\begin{bmatrix}1 & 0\\\\0 & 1\\end{bmatrix} $ \n",
    "\n",
    "2. Apply S to each column\n",
    "\n",
    "$ S \\left( \\begin{bmatrix}1 \\\\ 0\\end{bmatrix}\\right) = \\begin{bmatrix} 3(1) \\\\ 1-0 \\end{bmatrix} = \\begin{bmatrix} 3 \\\\ 1 \\end{bmatrix}$\n",
    "\n",
    "$ S \\left( \\begin{bmatrix}0 \\\\ 1\\end{bmatrix}\\right) = \\begin{bmatrix} 3(0) \\\\ 0-1 \\end{bmatrix} = \\begin{bmatrix} 0 \\\\ -1 \\end{bmatrix}$\n",
    "\n",
    "$S(\\vec{x}) = \\begin{bmatrix}3&0 \\\\ 1 & -1\\end{bmatrix}\\vec{x}$\n",
    "\n",
    "2. Apply T to each column\n",
    "\n",
    "\n",
    "$ T \\left( \\begin{bmatrix}1 \\\\ 0\\end{bmatrix}\\right) = \\begin{bmatrix} 2(1) + 4(0) \\\\ -0 \\end{bmatrix} = \\begin{bmatrix} 2 \\\\ 0 \\end{bmatrix}$\n",
    "\n",
    "$ T \\left( \\begin{bmatrix}0 \\\\ 1\\end{bmatrix}\\right) = \\begin{bmatrix} 2(0) + 4(1) \\\\ -1 \\end{bmatrix} = \\begin{bmatrix} 4 \\\\ -1 \\end{bmatrix}$\n",
    "\n",
    "$T(\\vec{y}) = \\begin{bmatrix}2&4 \\\\ 0 & -1\\end{bmatrix}\\vec{y}$\n",
    "\n",
    "3. Dot the transformation matrix from $S(\\vec{x})$ with the matrix from $T(\\vec{y})$\n",
    "\n",
    "$C = \\begin{bmatrix}2&4 \\\\ 0 & -1\\end{bmatrix}\\begin{bmatrix}3&0 \\\\ 1 & -1\\end{bmatrix}$\n",
    "\n",
    "$C= \\begin{bmatrix}10&-4\\\\-1&1\\end{bmatrix}$\n",
    "\n",
    "$T(S(\\vec{x})) = \\begin{bmatrix}10&-4\\\\-1&1\\end{bmatrix}\\vec{x} $\n",
    "\n",
    "4. Find the matrix-vector product $C\\vec{x}$\n",
    "\n",
    "$T\\left(S\\left(\\begin{bmatrix}3\\\\4\\end{bmatrix}\\right)\\right) = \\begin{bmatrix} 10 & -4 \\\\ -1 & 1 \\end{bmatrix} \\begin{bmatrix}3 \\\\ 4 \\end{bmatrix}$\n",
    "\n",
    "$T\\left(S\\left(\\begin{bmatrix}3\\\\4\\end{bmatrix}\\right)\\right) =\\begin{bmatrix} 30 -16 \\\\ -3 + 4 \\end{bmatrix} $\n",
    "\n",
    "$T\\left(S\\left(\\begin{bmatrix}3\\\\4\\end{bmatrix}\\right)\\right) = \\begin{bmatrix} 14 \\\\1 \\end{bmatrix}$\n"
   ]
  },
  {
   "cell_type": "code",
   "execution_count": null,
   "id": "ebe5ef3a",
   "metadata": {},
   "outputs": [],
   "source": []
  }
 ],
 "metadata": {
  "kernelspec": {
   "display_name": "Python 3 (ipykernel)",
   "language": "python",
   "name": "python3"
  },
  "language_info": {
   "codemirror_mode": {
    "name": "ipython",
    "version": 3
   },
   "file_extension": ".py",
   "mimetype": "text/x-python",
   "name": "python",
   "nbconvert_exporter": "python",
   "pygments_lexer": "ipython3",
   "version": "3.8.10"
  }
 },
 "nbformat": 4,
 "nbformat_minor": 5
}
