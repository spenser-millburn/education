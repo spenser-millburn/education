{
 "cells": [
  {
   "cell_type": "markdown",
   "id": "f9a5665b",
   "metadata": {},
   "source": [
    "# Section 10 - Transposes\n",
    "- The transpose of a matrix is the result of converting all rows to columns"
   ]
  },
  {
   "cell_type": "markdown",
   "id": "3377a824",
   "metadata": {},
   "source": [
    "## [139] Transposes and their determinants\n",
    "- The determinant of a transpose is always equivalant to the determinant of the original matrix (prior to transpose)"
   ]
  },
  {
   "cell_type": "code",
   "execution_count": 4,
   "id": "65e23aea",
   "metadata": {},
   "outputs": [
    {
     "name": "stdout",
     "output_type": "stream",
     "text": [
      "-------------------------1 Find the Transpose--------------------------\n"
     ]
    },
    {
     "data": {
      "text/latex": [
       "$\\displaystyle \\left[\\begin{matrix}4 & 1 & -2\\\\-6 & 1 & 9\\end{matrix}\\right]$"
      ],
      "text/plain": [
       "Matrix([\n",
       "[ 4, 1, -2],\n",
       "[-6, 1,  9]])"
      ]
     },
     "metadata": {},
     "output_type": "display_data"
    },
    {
     "name": "stdout",
     "output_type": "stream",
     "text": [
      "-------------------------1 Find the Transpose--------------------------\n"
     ]
    },
    {
     "data": {
      "text/latex": [
       "$\\displaystyle \\left[\\begin{matrix}-1 & -1 & 2\\\\-5 & -1 & 5\\\\1 & 1 & 3\\end{matrix}\\right]$"
      ],
      "text/plain": [
       "Matrix([\n",
       "[-1, -1, 2],\n",
       "[-5, -1, 5],\n",
       "[ 1,  1, 3]])"
      ]
     },
     "metadata": {},
     "output_type": "display_data"
    },
    {
     "name": "stdout",
     "output_type": "stream",
     "text": [
      "-------------------------1 Find determinate of the transpose--------------------------\n"
     ]
    },
    {
     "data": {
      "text/latex": [
       "$\\displaystyle 69$"
      ],
      "text/plain": [
       "69"
      ]
     },
     "metadata": {},
     "output_type": "display_data"
    }
   ],
   "source": [
    "#[Quiz 55]\n",
    "from sympy import *\n",
    "#1\n",
    "print(\"-------------------------1 Find the Transpose--------------------------\")\n",
    "display(Matrix([[4,-6],[1,1],[-2,9]]).transpose())\n",
    "print(\"-------------------------1 Find the Transpose--------------------------\")\n",
    "display(Matrix([[-1,-5,1],[-1,-1,1],[2,5,3]]).transpose())\n",
    "print(\"-------------------------1 Find determinate of the transpose--------------------------\")\n",
    "display(Matrix([[7,3,4],[1,6,1],[2,2,3]]).transpose().det())"
   ]
  },
  {
   "cell_type": "markdown",
   "id": "bb29412f",
   "metadata": {},
   "source": [
    "## [141] Transposes of products, sums and inverses\n",
    "\n",
    "### Formulae\n",
    "- The transpose of a matrix that is the **product** of two matrices $A$ and $B$ is equal to $B^TA^T$\n",
    "\n",
    "$(AB)^T = B^TA^T$\n",
    "\n",
    "- The transpose of a matrix that is the **sum** of two matrices $A$ and $B$ is equal to $A^T + B^T$\n",
    "\n",
    "$(A+B)^T = A^T + B^T$\n",
    "\n",
    "- The transpose of a matrix that is the **inverse** of two matrices $A$ and $B$ is equal to $(A^{-1})^T$\n",
    "\n",
    "$(A^T)^{-1} = (A^{-1})^T$"
   ]
  },
  {
   "cell_type": "code",
   "execution_count": 10,
   "id": "6e3ae577",
   "metadata": {},
   "outputs": [
    {
     "name": "stdout",
     "output_type": "stream",
     "text": [
      "-------------------------1 Product--------------------------\n"
     ]
    },
    {
     "data": {
      "text/plain": [
       "'A'"
      ]
     },
     "metadata": {},
     "output_type": "display_data"
    },
    {
     "data": {
      "text/latex": [
       "$\\displaystyle \\left[\\begin{matrix}1 & 1 & -2\\\\2 & 3 & 1\\\\3 & -3 & 4\\end{matrix}\\right]$"
      ],
      "text/plain": [
       "Matrix([\n",
       "[1,  1, -2],\n",
       "[2,  3,  1],\n",
       "[3, -3,  4]])"
      ]
     },
     "metadata": {},
     "output_type": "display_data"
    },
    {
     "data": {
      "text/plain": [
       "'B'"
      ]
     },
     "metadata": {},
     "output_type": "display_data"
    },
    {
     "data": {
      "text/latex": [
       "$\\displaystyle \\left[\\begin{matrix}4 & -6 & 1\\\\0 & -8 & 5\\\\1 & 1 & -2\\end{matrix}\\right]$"
      ],
      "text/plain": [
       "Matrix([\n",
       "[4, -6,  1],\n",
       "[0, -8,  5],\n",
       "[1,  1, -2]])"
      ]
     },
     "metadata": {},
     "output_type": "display_data"
    },
    {
     "data": {
      "text/plain": [
       "'Transpose of AB'"
      ]
     },
     "metadata": {},
     "output_type": "display_data"
    },
    {
     "data": {
      "text/latex": [
       "$\\displaystyle \\left[\\begin{matrix}2 & 9 & 16\\\\-16 & -35 & 10\\\\10 & 15 & -20\\end{matrix}\\right]$"
      ],
      "text/plain": [
       "Matrix([\n",
       "[  2,   9,  16],\n",
       "[-16, -35,  10],\n",
       "[ 10,  15, -20]])"
      ]
     },
     "metadata": {},
     "output_type": "display_data"
    },
    {
     "name": "stdout",
     "output_type": "stream",
     "text": [
      "-------------------------2 Sum--------------------------\n"
     ]
    },
    {
     "data": {
      "text/plain": [
       "'Transpose of the sum'"
      ]
     },
     "metadata": {},
     "output_type": "display_data"
    },
    {
     "data": {
      "text/latex": [
       "$\\displaystyle \\left[\\begin{matrix}5 & 2 & 4\\\\-5 & -5 & -2\\\\-1 & 6 & 2\\end{matrix}\\right]$"
      ],
      "text/plain": [
       "Matrix([\n",
       "[ 5,  2,  4],\n",
       "[-5, -5, -2],\n",
       "[-1,  6,  2]])"
      ]
     },
     "metadata": {},
     "output_type": "display_data"
    },
    {
     "name": "stdout",
     "output_type": "stream",
     "text": [
      "-------------------------3 Inverse--------------------------\n"
     ]
    },
    {
     "data": {
      "text/plain": [
       "'Transpose of the inverse'"
      ]
     },
     "metadata": {},
     "output_type": "display_data"
    },
    {
     "data": {
      "text/latex": [
       "$\\displaystyle \\left[\\begin{matrix}\\frac{3}{8} & - \\frac{1}{8} & - \\frac{3}{8}\\\\\\frac{1}{20} & \\frac{1}{4} & \\frac{3}{20}\\\\\\frac{7}{40} & - \\frac{1}{8} & \\frac{1}{40}\\end{matrix}\\right]$"
      ],
      "text/plain": [
       "Matrix([\n",
       "[ 3/8, -1/8, -3/8],\n",
       "[1/20,  1/4, 3/20],\n",
       "[7/40, -1/8, 1/40]])"
      ]
     },
     "metadata": {},
     "output_type": "display_data"
    }
   ],
   "source": [
    "#[Quiz 56]\n",
    "from sympy import *\n",
    "\n",
    "#1 Find (AB)^T \n",
    "print(\"-------------------------1 Product--------------------------\")\n",
    "A = Matrix([[1,1,-2],[2, 3,1],[3,-3,4]])\n",
    "display(\"A\",A)\n",
    "B = Matrix([[4,-6,1],[0,-8,5],[1,1,-2]])\n",
    "display(\"B\",B)\n",
    "\n",
    "AB_T = (A*B).transpose()\n",
    "display(\"Transpose of AB\",AB_T)\n",
    "\n",
    "#2 Find (A+B)^T\n",
    "print(\"-------------------------2 Sum--------------------------\")\n",
    "display(\"Transpose of the sum\",(A+B).transpose())\n",
    "#2 Find (A^-1)^T\n",
    "print(\"-------------------------3 Inverse--------------------------\")\n",
    "display(\"Transpose of the inverse\",(A.inv()).transpose())"
   ]
  },
  {
   "cell_type": "markdown",
   "id": "609f62b6",
   "metadata": {},
   "source": [
    "## [142] Null and column space of the transpose\n",
    "\n",
    "### Recall - The four fundamental subspaces\n",
    "1. The Column Space\n",
    "2. The Null Space\n",
    "3. The Column Space of the transpose - the row space  \n",
    "4. The Null Space of the transpose\n",
    "\n",
    "### Formulae\n",
    "REVISIT THIS SECTION\n"
   ]
  },
  {
   "cell_type": "code",
   "execution_count": 52,
   "id": "c3804a27",
   "metadata": {},
   "outputs": [
    {
     "name": "stdout",
     "output_type": "stream",
     "text": [
      "-------------------------1 --------------------------\n"
     ]
    },
    {
     "data": {
      "text/plain": [
       "'Column Space 0'"
      ]
     },
     "metadata": {},
     "output_type": "display_data"
    },
    {
     "data": {
      "text/latex": [
       "$\\displaystyle \\left[\\begin{matrix}1\\\\-3\\end{matrix}\\right]$"
      ],
      "text/plain": [
       "Matrix([\n",
       "[ 1],\n",
       "[-3]])"
      ]
     },
     "metadata": {},
     "output_type": "display_data"
    },
    {
     "data": {
      "text/plain": [
       "'Column Space 1'"
      ]
     },
     "metadata": {},
     "output_type": "display_data"
    },
    {
     "data": {
      "text/latex": [
       "$\\displaystyle \\left[\\begin{matrix}0\\\\1\\end{matrix}\\right]$"
      ],
      "text/plain": [
       "Matrix([\n",
       "[0],\n",
       "[1]])"
      ]
     },
     "metadata": {},
     "output_type": "display_data"
    },
    {
     "data": {
      "text/latex": [
       "$\\displaystyle \\left[\\begin{matrix}1 & 0 & 4 & 0\\\\0 & 1 & 12 & 0\\end{matrix}\\right]$"
      ],
      "text/plain": [
       "Matrix([\n",
       "[1, 0,  4, 0],\n",
       "[0, 1, 12, 0]])"
      ]
     },
     "metadata": {},
     "output_type": "display_data"
    },
    {
     "name": "stdout",
     "output_type": "stream",
     "text": [
      "x_1 = -4x_3 \n",
      "x_2l = -12x_3\n",
      "\n",
      "nullspace = [[-4] ,[-12],[1]] \n",
      "-------------------------2 Sum--------------------------\n"
     ]
    },
    {
     "data": {
      "text/plain": [
       "'Column Space 0'"
      ]
     },
     "metadata": {},
     "output_type": "display_data"
    },
    {
     "data": {
      "text/latex": [
       "$\\displaystyle \\left[\\begin{matrix}2\\\\-2\\\\1\\\\0\\end{matrix}\\right]$"
      ],
      "text/plain": [
       "Matrix([\n",
       "[ 2],\n",
       "[-2],\n",
       "[ 1],\n",
       "[ 0]])"
      ]
     },
     "metadata": {},
     "output_type": "display_data"
    },
    {
     "data": {
      "text/plain": [
       "'Column Space 1'"
      ]
     },
     "metadata": {},
     "output_type": "display_data"
    },
    {
     "data": {
      "text/latex": [
       "$\\displaystyle \\left[\\begin{matrix}1\\\\3\\\\-3\\\\-2\\end{matrix}\\right]$"
      ],
      "text/plain": [
       "Matrix([\n",
       "[ 1],\n",
       "[ 3],\n",
       "[-3],\n",
       "[-2]])"
      ]
     },
     "metadata": {},
     "output_type": "display_data"
    },
    {
     "data": {
      "text/plain": [
       "'Column Space 2'"
      ]
     },
     "metadata": {},
     "output_type": "display_data"
    },
    {
     "data": {
      "text/latex": [
       "$\\displaystyle \\left[\\begin{matrix}0\\\\0\\\\4\\\\-4\\end{matrix}\\right]$"
      ],
      "text/plain": [
       "Matrix([\n",
       "[ 0],\n",
       "[ 0],\n",
       "[ 4],\n",
       "[-4]])"
      ]
     },
     "metadata": {},
     "output_type": "display_data"
    },
    {
     "data": {
      "text/latex": [
       "$\\displaystyle \\left[\\begin{matrix}1 & 0 & 0 & 0\\\\0 & 1 & 0 & 0\\\\0 & 0 & 1 & 0\\\\0 & 0 & 0 & 0\\end{matrix}\\right]$"
      ],
      "text/plain": [
       "Matrix([\n",
       "[1, 0, 0, 0],\n",
       "[0, 1, 0, 0],\n",
       "[0, 0, 1, 0],\n",
       "[0, 0, 0, 0]])"
      ]
     },
     "metadata": {},
     "output_type": "display_data"
    },
    {
     "name": "stdout",
     "output_type": "stream",
     "text": [
      "nullspace = [[0],[0],[0]] \n",
      "-------------------------3 Inverse--------------------------\n"
     ]
    },
    {
     "data": {
      "text/plain": [
       "'Column Space 0'"
      ]
     },
     "metadata": {},
     "output_type": "display_data"
    },
    {
     "data": {
      "text/latex": [
       "$\\displaystyle \\left[\\begin{matrix}-1\\\\5\\\\0\\end{matrix}\\right]$"
      ],
      "text/plain": [
       "Matrix([\n",
       "[-1],\n",
       "[ 5],\n",
       "[ 0]])"
      ]
     },
     "metadata": {},
     "output_type": "display_data"
    },
    {
     "data": {
      "text/plain": [
       "'Column Space 1'"
      ]
     },
     "metadata": {},
     "output_type": "display_data"
    },
    {
     "data": {
      "text/latex": [
       "$\\displaystyle \\left[\\begin{matrix}1\\\\-2\\\\3\\end{matrix}\\right]$"
      ],
      "text/plain": [
       "Matrix([\n",
       "[ 1],\n",
       "[-2],\n",
       "[ 3]])"
      ]
     },
     "metadata": {},
     "output_type": "display_data"
    },
    {
     "data": {
      "text/plain": [
       "'Column Space 2'"
      ]
     },
     "metadata": {},
     "output_type": "display_data"
    },
    {
     "data": {
      "text/latex": [
       "$\\displaystyle \\left[\\begin{matrix}0\\\\0\\\\-4\\end{matrix}\\right]$"
      ],
      "text/plain": [
       "Matrix([\n",
       "[ 0],\n",
       "[ 0],\n",
       "[-4]])"
      ]
     },
     "metadata": {},
     "output_type": "display_data"
    },
    {
     "data": {
      "text/latex": [
       "$\\displaystyle \\left[\\begin{matrix}1 & 0 & 0 & 0\\\\0 & 1 & 0 & 0\\\\0 & 0 & 1 & 0\\end{matrix}\\right]$"
      ],
      "text/plain": [
       "Matrix([\n",
       "[1, 0, 0, 0],\n",
       "[0, 1, 0, 0],\n",
       "[0, 0, 1, 0]])"
      ]
     },
     "metadata": {},
     "output_type": "display_data"
    },
    {
     "name": "stdout",
     "output_type": "stream",
     "text": [
      "nullspace = [[0],[0],[0]] \n"
     ]
    }
   ],
   "source": [
    "#[Quiz 57] Null and Column spaces of the transpose\n",
    "from sympy import *\n",
    "import numpy as np\n",
    "#1 Find the null and column space of the transpose of the matrix \n",
    "print(\"-------------------------1 --------------------------\")\n",
    "A = Matrix([[1,-3],[0,1],[4,0]]).transpose()\n",
    "A_pivots = (A.rref()[1])\n",
    "for pivot in A_pivots:\n",
    "    display(f\"Column Space {pivot}\",A.col(pivot))\n",
    "A_solutions = A.col_insert(len(A.row(0)),Matrix([0,0])).rref()[0]\n",
    "display(A_solutions)\n",
    "print(\"x_1 = -4x_3 \\nx_2l = -12x_3\\n\")\n",
    "print(\"nullspace = [[-4] ,[-12],[1]] \")\n",
    "#2 Find the null and column space of the transpose\n",
    "\n",
    "print(\"-------------------------2 Sum--------------------------\")\n",
    "A = Matrix([[2,-2,1,0],[1,3,-3,-2],[0,0,4,-4]]).transpose()\n",
    "A_pivots = (A.rref()[1])\n",
    "for pivot in A_pivots:\n",
    "    display(f\"Column Space {pivot}\",A.col(pivot))\n",
    "A_solutions = A.col_insert(len(A.row(0)),Matrix([0,0,0,0]) ).rref()[0]\n",
    "display(A_solutions)\n",
    "\n",
    "print(\"nullspace = [[0],[0],[0]] \")\n",
    "\n",
    "#2 Find the null and column space of the transpose \n",
    "print(\"-------------------------3 Inverse--------------------------\")\n",
    "A = Matrix([[-1,5,0],[1,-2,3],[0,0,-4]]).transpose()\n",
    "A_pivots = (A.rref()[1])\n",
    "for pivot in A_pivots:\n",
    "    display(f\"Column Space {pivot}\",A.col(pivot))\n",
    "A_solutions = A.col_insert(len(A.row(0)),Matrix([0,0,0]) ).rref()[0]\n",
    "display(A_solutions)\n",
    "\n",
    "print(\"nullspace = [[0],[0],[0]] \")\n",
    "# display(\"Transpose of the inverse\",(A.inv()).transpose())"
   ]
  },
  {
   "cell_type": "markdown",
   "id": "3fe16fac",
   "metadata": {},
   "source": [
    "## [145] The product of a matrix and its transpose\n"
   ]
  },
  {
   "cell_type": "code",
   "execution_count": 11,
   "id": "1226ea56",
   "metadata": {},
   "outputs": [
    {
     "data": {
      "text/latex": [
       "$\\displaystyle \\left[\\begin{matrix}10 & -3 & 4\\\\-3 & 1 & 0\\\\4 & 0 & 16\\end{matrix}\\right]$"
      ],
      "text/plain": [
       "Matrix([\n",
       "[10, -3,  4],\n",
       "[-3,  1,  0],\n",
       "[ 4,  0, 16]])"
      ]
     },
     "metadata": {},
     "output_type": "display_data"
    },
    {
     "data": {
      "text/latex": [
       "$\\displaystyle \\left[\\begin{matrix}1 & 0 & 4\\\\0 & 1 & 12\\\\0 & 0 & 0\\end{matrix}\\right]$"
      ],
      "text/plain": [
       "Matrix([\n",
       "[1, 0,  4],\n",
       "[0, 1, 12],\n",
       "[0, 0,  0]])"
      ]
     },
     "metadata": {},
     "output_type": "display_data"
    }
   ],
   "source": [
    "#[Quiz 58]\n",
    "from sympy import *\n",
    "\n",
    "A = Matrix([[1,-3],[0,1],[4,0]])\n",
    "B = (A*A.transpose())\n",
    "display(B, B.rref()[0])"
   ]
  }
 ],
 "metadata": {
  "kernelspec": {
   "display_name": "Python 3 (ipykernel)",
   "language": "python",
   "name": "python3"
  },
  "language_info": {
   "codemirror_mode": {
    "name": "ipython",
    "version": 3
   },
   "file_extension": ".py",
   "mimetype": "text/x-python",
   "name": "python",
   "nbconvert_exporter": "python",
   "pygments_lexer": "ipython3",
   "version": "3.8.10"
  }
 },
 "nbformat": 4,
 "nbformat_minor": 5
}
