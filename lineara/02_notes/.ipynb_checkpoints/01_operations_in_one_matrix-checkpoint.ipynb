{
 "cells": [
  {
   "cell_type": "markdown",
   "id": "dd36b593",
   "metadata": {},
   "source": [
    "# Become a Linear Algebra Master | *Section 3: Operations on Two Matrices*\n",
    "---------------------------------"
   ]
  },
  {
   "cell_type": "markdown",
   "id": "25df3a1c",
   "metadata": {},
   "source": [
    "## [25] Matrix Addition and Subtraction\n",
    " - Follows similar properties to real numbers\n",
    " \n",
    "***Properties of Matrix Addition:***\n",
    "- IS Commutative - you can add two matrices together in either order and still get the same answer A+B=B+A\n",
    "- IS Associative - you can shift parentheses and get the same answer: A+(B+C) = (B+C)+A \n",
    "\n",
    "***Properties of Matrix Subtraction:***\n",
    "- IS NOT Commutative - you can NOT add two matrices together in either order and still get the same answer A-B!=B-A\n",
    "- IS NOT Associative - you can NOTift parentheses and get the same answer: A-(B-C) != (B-C)-A "
   ]
  },
  {
   "cell_type": "code",
   "execution_count": 24,
   "id": "82ab8803",
   "metadata": {},
   "outputs": [
    {
     "data": {
      "text/plain": [
       "matrix([[3, 4],\n",
       "        [5, 6]])"
      ]
     },
     "metadata": {},
     "output_type": "display_data"
    },
    {
     "data": {
      "text/plain": [
       "matrix([[-1,  0],\n",
       "        [ 1,  2]])"
      ]
     },
     "metadata": {},
     "output_type": "display_data"
    }
   ],
   "source": [
    "import numpy as np\n",
    "\n",
    "a = np.matrix([[1, 2], \n",
    "               [3, 4]])\n",
    "\n",
    "b = np.matrix([[2, 2], \n",
    "               [2, 2]])\n",
    "display(a+b)\n",
    "\n",
    "display(a-b)"
   ]
  },
  {
   "cell_type": "markdown",
   "id": "5058154f",
   "metadata": {},
   "source": [
    "## [27] Scalar Multiplication\n",
    "- Follows similar properties to real numbers\n",
    "- Multiply the scalar by all values in matrix"
   ]
  },
  {
   "cell_type": "code",
   "execution_count": 25,
   "id": "ca01db20",
   "metadata": {},
   "outputs": [
    {
     "data": {
      "text/plain": [
       "matrix([[ 5, 10],\n",
       "        [15, 20]])"
      ]
     },
     "metadata": {},
     "output_type": "display_data"
    }
   ],
   "source": [
    "import numpy as np\n",
    "\n",
    "a = np.matrix([[1, 2], \n",
    "               [3, 4]])\n",
    "display(5*a)"
   ]
  },
  {
   "cell_type": "markdown",
   "id": "4942e211",
   "metadata": {},
   "source": [
    "## [32]Matrix Multiplication\n",
    " - Use the **dot product** to multiply matrices\n",
    " - Matrices are able to be multiplied together if the inner numbers of the operation eg (2X**5** * **5**X4) are equal\n",
    " - The resultant dimensions are determined by the outer numbers eg(**2**X5 * 5X**4**) -> resultant dimension of 2X4\n",
    " \n",
    " \n",
    "***Properties of Matrix Multiplication:***\n",
    "- NOT Commutative\n",
    "- IS Associative - you can shift parentheses and get the same answer\n",
    "- IS Distributive - A(B+/-C) = AB +/- AC and (B+/-C)A = BA +/- CA \n"
   ]
  },
  {
   "cell_type": "code",
   "execution_count": 30,
   "id": "934e3dd4",
   "metadata": {},
   "outputs": [
    {
     "data": {
      "text/plain": [
       "array([[ 0, -1],\n",
       "       [ 0, -1]])"
      ]
     },
     "metadata": {},
     "output_type": "display_data"
    }
   ],
   "source": [
    "import numpy as np\n",
    "\n",
    "a = ([2, 3],\n",
    "     [-1, 0])\n",
    "\n",
    "b = ([0, 1],\n",
    "     [0, -1]) \n",
    "\n",
    "#| 2(0)+3(0)=0  | 2(1)+3(-1)=-1  |\n",
    "#| -1(0)+0(0)=0 | -1(1)+0(-1)=-1 |\n",
    "\n",
    "c = np.dot(a,b)\n",
    "\n",
    "display(c)"
   ]
  },
  {
   "cell_type": "code",
   "execution_count": 37,
   "id": "390c3424",
   "metadata": {},
   "outputs": [
    {
     "data": {
      "text/plain": [
       "matrix([[17,  1],\n",
       "        [23, 22]])"
      ]
     },
     "metadata": {},
     "output_type": "display_data"
    }
   ],
   "source": [
    "import numpy as np\n",
    "#Use the distributive property to find A(B+C)\n",
    "\n",
    "a = np.matrix([[3, -1],\n",
    "               [1, 4]])\n",
    "\n",
    "b = np.matrix ([[5, 2],\n",
    "                [-2, 3]]) \n",
    "\n",
    "c = np.matrix([[2, 0],\n",
    "               [6, 2]]) \n",
    "\n",
    "display(a*(b+c))"
   ]
  },
  {
   "cell_type": "markdown",
   "id": "6a01973a",
   "metadata": {},
   "source": [
    "## [36]Elimination Matrix \n",
    " - A matrix that produces REF when multiplied with a given matrix A\n",
    " - A^-1A = I\n",
    " - only applies to square matrices and the elimination matrix is the same dimension as A\n",
    " "
   ]
  },
  {
   "cell_type": "code",
   "execution_count": null,
   "id": "bd190356",
   "metadata": {},
   "outputs": [],
   "source": []
  },
  {
   "cell_type": "code",
   "execution_count": null,
   "id": "5a8c053e",
   "metadata": {},
   "outputs": [],
   "source": []
  }
 ],
 "metadata": {
  "kernelspec": {
   "display_name": "Python 3 (ipykernel)",
   "language": "python",
   "name": "python3"
  },
  "language_info": {
   "codemirror_mode": {
    "name": "ipython",
    "version": 3
   },
   "file_extension": ".py",
   "mimetype": "text/x-python",
   "name": "python",
   "nbconvert_exporter": "python",
   "pygments_lexer": "ipython3",
   "version": "3.8.10"
  }
 },
 "nbformat": 4,
 "nbformat_minor": 5
}
