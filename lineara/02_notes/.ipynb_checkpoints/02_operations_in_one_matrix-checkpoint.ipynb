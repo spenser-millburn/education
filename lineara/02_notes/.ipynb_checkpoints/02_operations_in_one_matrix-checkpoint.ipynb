{
 "cells": [
  {
   "cell_type": "markdown",
   "id": "dd36b593",
   "metadata": {},
   "source": [
    "# *Section 2: Operations in One Matrix*\n",
    "---------------------------------"
   ]
  },
  {
   "cell_type": "markdown",
   "id": "121765c5",
   "metadata": {},
   "source": [
    "## [6] Solving Linear Systems\n",
    "- Use numpy.linalg.solve in x unkowns:\n",
    "    - ***Example a :**\n",
    "        - $x_0 + 2x_1 = 1 $ \n",
    "        - $3x_0 + 5x_1 = 2$\n",
    "    - ***Example b :**\n",
    "        - $2x_0 - 4x_1 + 4x_2= 8 $ \n",
    "        - $34x_0 + 3x_1 -x_2= 30$\n",
    "        - $x_0 + x_1 + x_2= 108$"
   ]
  },
  {
   "cell_type": "code",
   "execution_count": 32,
   "id": "ac32e92a",
   "metadata": {},
   "outputs": [
    {
     "data": {
      "text/plain": [
       "'Example A: '"
      ]
     },
     "metadata": {},
     "output_type": "display_data"
    },
    {
     "data": {
      "text/plain": [
       "array([-1.,  1.])"
      ]
     },
     "metadata": {},
     "output_type": "display_data"
    },
    {
     "data": {
      "text/plain": [
       "'Example B: '"
      ]
     },
     "metadata": {},
     "output_type": "display_data"
    },
    {
     "data": {
      "text/plain": [
       "array([-2.17647059, 53.54411765, 56.63235294])"
      ]
     },
     "metadata": {},
     "output_type": "display_data"
    }
   ],
   "source": [
    "import numpy as np\n",
    "#Two unkowns: Example A\n",
    "a = np.array([[1, 2], [3, 5]])\n",
    "b = np.array([1, 2])\n",
    "x = np.linalg.solve(a, b)\n",
    "display(\"Example A: \", x)\n",
    "\n",
    "#Three unkowns: Example B\n",
    "c = np.array([[2, -4, 4], [34, 3, -1], [1, 1, 1]])\n",
    "d = np.array([8, 30, 108])\n",
    "y = np.linalg.solve(c, d)\n",
    "display(\"Example B: \", y)"
   ]
  },
  {
   "cell_type": "markdown",
   "id": "cfe2663e",
   "metadata": {},
   "source": [
    "## [14] Simple Row Operations \n",
    "- Scope:\n",
    "    - Switching Rows in a matrix : EXAMPLE $R_0 \\leftrightarrow R_3$\n",
    "    - Multiplying or dividing rows in a  matrix - EXAMPLE : $R_3 \\rightarrow 5R3$  \n",
    "    - Adding or subtracting rows : EXAMPLE $R_4 \\rightarrow R_4 - R_3$\n",
    "    \n",
    "    \n",
    "***Properties of Matrix Addition:***\n",
    "- IS Commutative - you can add two matrices together in either order and still get the same answer A+B=B+A\n",
    "- IS Associative - you can shift parentheses and get the same answer: A+(B+C) = (B+C)+A \n",
    "\n",
    "***Properties of Matrix Subtraction:***\n",
    "- IS NOT Commutative - you can NOT add two matrices together in either order and still get the same answer A-B!=B-A\n",
    "- IS NOT Associative - you can NOTift parentheses and get the same answer: A-(B-C) != (B-C)-A "
   ]
  },
  {
   "cell_type": "code",
   "execution_count": 33,
   "id": "dcc6affc",
   "metadata": {},
   "outputs": [
    {
     "data": {
      "text/plain": [
       "'Before switching R0 and R3'"
      ]
     },
     "metadata": {},
     "output_type": "display_data"
    },
    {
     "data": {
      "text/plain": [
       "array([[4, 3, 1],\n",
       "       [5, 7, 0],\n",
       "       [9, 9, 3],\n",
       "       [8, 2, 4]])"
      ]
     },
     "metadata": {},
     "output_type": "display_data"
    },
    {
     "data": {
      "text/plain": [
       "'After switching: '"
      ]
     },
     "metadata": {},
     "output_type": "display_data"
    },
    {
     "data": {
      "text/plain": [
       "array([[9, 9, 3],\n",
       "       [5, 7, 0],\n",
       "       [4, 3, 1],\n",
       "       [8, 2, 4]])"
      ]
     },
     "metadata": {},
     "output_type": "display_data"
    },
    {
     "data": {
      "text/plain": [
       "'After multiplying R2 by scalar of 5'"
      ]
     },
     "metadata": {},
     "output_type": "display_data"
    },
    {
     "data": {
      "text/plain": [
       "array([[ 9,  9,  3],\n",
       "       [ 5,  7,  0],\n",
       "       [20, 15,  5],\n",
       "       [ 8,  2,  4]])"
      ]
     },
     "metadata": {},
     "output_type": "display_data"
    },
    {
     "data": {
      "text/plain": [
       "'After subtracting R2 from R3'"
      ]
     },
     "metadata": {},
     "output_type": "display_data"
    },
    {
     "data": {
      "text/plain": [
       "array([[  9,   9,   3],\n",
       "       [  5,   7,   0],\n",
       "       [ 20,  15,   5],\n",
       "       [-12, -13,  -1]])"
      ]
     },
     "metadata": {},
     "output_type": "display_data"
    }
   ],
   "source": [
    "import numpy as np\n",
    "#Switching Rows in a matrix\n",
    "a = np.array([[4,3,1], [5,7,0], [9,9,3], [8,2,4]])\n",
    "display(\"Before switching R0 and R3\",a)\n",
    "a[[0, 2]] = a[[2, 0]]\n",
    "display(\"After switching: \",a)\n",
    "\n",
    "#Multiplying/Dividing rows in a matrix\n",
    "a[2] = 5*a[2]\n",
    "display(\"After multiplying R2 by scalar of 5\", a)\n",
    "\n",
    "#Adding/subtracting rows in a matrix\n",
    "a[3] = a[3]-a[2]\n",
    "display(\"After subtracting R2 from R3\", a)\n"
   ]
  },
  {
   "cell_type": "markdown",
   "id": "acc6adb4",
   "metadata": {},
   "source": [
    "## [16] Pivot  entries and row-echelon form\n",
    "- Pivot Entries:\n",
    "    - A pivot entry is the first non-zero entry in each row\n",
    "    \n",
    "$\\left[ \n",
    "    \\begin{array}{ccc|c}\n",
    "        4 & 1 & 0 & 17\\\\\n",
    "        0 & 2 & 5 & 10\\\\\n",
    "        0 & 0 & -3 & 2\\\\\n",
    "    \\end{array}\n",
    "\\right]$\n",
    "\n",
    "- Row echelon form : REF\n",
    "    1. All pivots are equal to 1\n",
    "    2. Any row that consists of only 0's is moved to the bottom of the matrix\n",
    "    3. The pivot in each row sits in a staircase pattern\n",
    "- Reduced Row Echelon Form - RREF\n",
    "    - All conditions of REF but the pivot entry is the only non zero entry \n",
    " \n",
    "$\\left[ \n",
    "    \\begin{array}{cccc|c}\n",
    "        1 & -2 & 0 & 0 & 3\\\\\n",
    "        0 & 0 & 1 & 0 & 4\\\\\n",
    "        0 & 0 & 0 & 1 & -3\\\\\n",
    "    \\end{array}\n",
    "\\right]$\n"
   ]
  },
  {
   "cell_type": "code",
   "execution_count": 34,
   "id": "442e96ce",
   "metadata": {},
   "outputs": [
    {
     "data": {
      "text/plain": [
       "'before converting to RREF : '"
      ]
     },
     "metadata": {},
     "output_type": "display_data"
    },
    {
     "data": {
      "text/latex": [
       "$\\displaystyle \\left[\\begin{matrix}14 & 0 & 11 & 3\\\\22 & 23 & 4 & 7\\\\-12 & -34 & -3 & -4\\end{matrix}\\right]$"
      ],
      "text/plain": [
       "Matrix([\n",
       "[ 14,   0, 11,  3],\n",
       "[ 22,  23,  4,  7],\n",
       "[-12, -34, -3, -4]])"
      ]
     },
     "metadata": {},
     "output_type": "display_data"
    },
    {
     "data": {
      "text/plain": [
       "'After converting to RREF : '"
      ]
     },
     "metadata": {},
     "output_type": "display_data"
    },
    {
     "data": {
      "text/latex": [
       "$\\displaystyle \\left[\\begin{matrix}1 & 0 & 0 & \\frac{1405}{4254}\\\\0 & 1 & 0 & \\frac{10}{709}\\\\0 & 0 & 1 & - \\frac{314}{2127}\\end{matrix}\\right]$"
      ],
      "text/plain": [
       "Matrix([\n",
       "[1, 0, 0, 1405/4254],\n",
       "[0, 1, 0,    10/709],\n",
       "[0, 0, 1, -314/2127]])"
      ]
     },
     "metadata": {},
     "output_type": "display_data"
    },
    {
     "data": {
      "text/plain": [
       "'Pivot columns'"
      ]
     },
     "metadata": {},
     "output_type": "display_data"
    },
    {
     "data": {
      "text/plain": [
       "(0, 1, 2)"
      ]
     },
     "metadata": {},
     "output_type": "display_data"
    }
   ],
   "source": [
    "#Reducing to RREF\n",
    "from sympy import * \n",
    "M = Matrix([[14, 0, 11, 3], [22, 23, 4, 7], [-12, -34, -3, -4]])\n",
    "display(\"before converting to RREF : \",M)\n",
    "M_rref = M.rref()  \n",
    "      \n",
    "display(\"After converting to RREF : \",M_rref[0])\n",
    "display( \"Pivot columns\", M_rref[1])"
   ]
  },
  {
   "cell_type": "markdown",
   "id": "25df3a1c",
   "metadata": {},
   "source": [
    "# [18] Gauss-Jordan Elimination\n",
    "\n",
    "1. Optional: **Pull out any scalars** from each row in the matrix.\n",
    "2. **Swap nonzero rows** : If the first entry in the first row is 0, swap it with another row that\n",
    "has a non-zero entry in its first column. Otherwise, move to step 3.\n",
    "3. **Multiply through the first row by a scalar** to make the leading\n",
    "entry equal to 1.\n",
    "4. **Add scaled multiples of the first row to every other row** in the\n",
    "matrix until every entry in the first column, other than the leading\n",
    "1 in the first row, is a 0.\n",
    "5. Go back step 2 and repeat the process until the matrix is in\n",
    "reduced row-echelon form.\n",
    " \n"
   ]
  },
  {
   "cell_type": "code",
   "execution_count": 35,
   "id": "82ab8803",
   "metadata": {},
   "outputs": [
    {
     "data": {
      "text/plain": [
       "matrix([[3, 4],\n",
       "        [5, 6]])"
      ]
     },
     "metadata": {},
     "output_type": "display_data"
    },
    {
     "data": {
      "text/plain": [
       "matrix([[-1,  0],\n",
       "        [ 1,  2]])"
      ]
     },
     "metadata": {},
     "output_type": "display_data"
    }
   ],
   "source": [
    "import numpy as np\n",
    "\n",
    "a = np.matrix([[1, 2], \n",
    "               [3, 4]])\n",
    "\n",
    "b = np.matrix([[2, 2], \n",
    "               [2, 2]])\n",
    "display(a+b)\n",
    "\n",
    "display(a-b)"
   ]
  },
  {
   "cell_type": "markdown",
   "id": "5058154f",
   "metadata": {},
   "source": [
    "## [20] Number of solutions in a linear system\n",
    "**After reducing to RREF**\n",
    "- If a zero row  =  some constant, there are **no solutions** :\n",
    "\n",
    "$\\left[ \n",
    "    \\begin{array}{ccc|c}\n",
    "        1 & 0 & 0 & 17\\\\\n",
    "        0 & 1 & 0 & 10\\\\\n",
    "        0 & 0 & 0 & 5\\\\\n",
    "    \\end{array}\n",
    "\\right]\n",
    "$\n",
    "\n",
    "- If pivot entries of 1 all equal one constant, **there is one solution** :\n",
    "\n",
    "$\\left[ \n",
    "    \\begin{array}{ccc|c}\n",
    "        1 & 0 & 0 & 17\\\\\n",
    "        0 & 1 & 0 & 10\\\\\n",
    "        0 & 0 & 1 & 5\\\\\n",
    "    \\end{array}\n",
    "\\right]\n",
    "$\n",
    "- If there are **infinitely many solutions** :\n",
    "\n",
    "$\\left[ \n",
    "    \\begin{array}{ccc|c}\n",
    "        1 & 0 & 0 & 17\\\\\n",
    "        0 & 1 & 0 & 10\\\\\n",
    "        0 & 0 & 0 & 0\\\\\n",
    "    \\end{array}\n",
    "\\right]\n",
    "$"
   ]
  },
  {
   "cell_type": "code",
   "execution_count": null,
   "id": "4bbe27cc",
   "metadata": {},
   "outputs": [],
   "source": []
  },
  {
   "cell_type": "code",
   "execution_count": null,
   "id": "a347b6d6",
   "metadata": {},
   "outputs": [],
   "source": []
  }
 ],
 "metadata": {
  "kernelspec": {
   "display_name": "Python 3 (ipykernel)",
   "language": "python",
   "name": "python3"
  },
  "language_info": {
   "codemirror_mode": {
    "name": "ipython",
    "version": 3
   },
   "file_extension": ".py",
   "mimetype": "text/x-python",
   "name": "python",
   "nbconvert_exporter": "python",
   "pygments_lexer": "ipython3",
   "version": "3.8.10"
  }
 },
 "nbformat": 4,
 "nbformat_minor": 5
}
