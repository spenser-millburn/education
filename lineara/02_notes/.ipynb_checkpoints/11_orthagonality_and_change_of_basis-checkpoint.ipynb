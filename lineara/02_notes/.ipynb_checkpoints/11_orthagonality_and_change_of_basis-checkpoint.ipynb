{
 "cells": [
  {
   "cell_type": "markdown",
   "id": "4ac79ac1",
   "metadata": {},
   "source": [
    "# Section 11 - Orthagonality and change of basis"
   ]
  },
  {
   "cell_type": "markdown",
   "id": "c2698dc6",
   "metadata": {},
   "source": [
    "## [147] Orthagonality and change of basis\n",
    "### Definitions\n",
    "- **Orthagonal Complement** : when every vector in a subspace is orthagonal to every vector in another subspace\n",
    "### Process for finding the orthoganal complement\n",
    "- Given a set of vectors (example is a plane), take the transpose and augment with the zero vector as a single matrice\n",
    "\n",
    "$V = Span \\left(\\begin{bmatrix}1\\\\-3\\\\2\\end{bmatrix}\\begin{bmatrix}0\\\\1\\\\1 \\end{bmatrix}\\right)$\n",
    "\n",
    "$ A = \\begin{bmatrix} 1&0\\\\-3&1\\\\2&1 \\end{bmatrix}$\n",
    "\n",
    "$ O = \\begin{bmatrix}1&-3 &2 &0\\\\0&1&1&0 \\end{bmatrix}$\n",
    "\n",
    "- Take **RREF** then break out into a system of equations, find the column space\n",
    "\n",
    "$ RREF(O) =\\begin{bmatrix}1 & 0 & 5 & 0\\\\0 & 1 & 1 & 0\\end{bmatrix}$\n",
    "\n",
    "$\n",
    "x1 = -5x^3\\\\\n",
    "x2 = -x^3\\\\\n",
    "x3 = 1\n",
    "$\n",
    "\n",
    "the orthagon complement is \n",
    "$\n",
    "\\begin{bmatrix} x_1\\\\x_2\\\\x_3\\end{bmatrix}\n",
    "=\n",
    "x_3 \\begin{bmatrix}-5\\\\-1\\\\1\\end{bmatrix}\n",
    "$"
   ]
  },
  {
   "cell_type": "code",
   "execution_count": 82,
   "id": "0ef035b8",
   "metadata": {},
   "outputs": [
    {
     "data": {
      "text/plain": [
       "'A'"
      ]
     },
     "metadata": {},
     "output_type": "display_data"
    },
    {
     "data": {
      "text/latex": [
       "$\\displaystyle \\left[\\begin{matrix}1 & 0\\\\-3 & 1\\\\2 & 1\\end{matrix}\\right]$"
      ],
      "text/plain": [
       "Matrix([\n",
       "[ 1, 0],\n",
       "[-3, 1],\n",
       "[ 2, 1]])"
      ]
     },
     "metadata": {},
     "output_type": "display_data"
    },
    {
     "data": {
      "text/plain": [
       "'A transposed and augmented with the zero vector'"
      ]
     },
     "metadata": {},
     "output_type": "display_data"
    },
    {
     "data": {
      "text/latex": [
       "$\\displaystyle \\left[\\begin{matrix}1 & -3 & 2 & 0\\\\0 & 1 & 1 & 0\\end{matrix}\\right]$"
      ],
      "text/plain": [
       "Matrix([\n",
       "[1, -3, 2, 0],\n",
       "[0,  1, 1, 0]])"
      ]
     },
     "metadata": {},
     "output_type": "display_data"
    },
    {
     "data": {
      "text/plain": [
       "'RREF of above'"
      ]
     },
     "metadata": {},
     "output_type": "display_data"
    },
    {
     "data": {
      "text/latex": [
       "$\\displaystyle \\left[\\begin{matrix}1 & 0 & 5 & 0\\\\0 & 1 & 1 & 0\\end{matrix}\\right]$"
      ],
      "text/plain": [
       "Matrix([\n",
       "[1, 0, 5, 0],\n",
       "[0, 1, 1, 0]])"
      ]
     },
     "metadata": {},
     "output_type": "display_data"
    },
    {
     "name": "stdout",
     "output_type": "stream",
     "text": [
      "only free column is col 3, so put in terms of x3\n",
      "x1 = -5x^3\n",
      "x2 = -x^3\n",
      "x3 = 1\n"
     ]
    },
    {
     "data": {
      "text/plain": [
       "'orthagonal complement'"
      ]
     },
     "metadata": {},
     "output_type": "display_data"
    },
    {
     "data": {
      "text/latex": [
       "$\\displaystyle \\left[\\begin{matrix}-5\\\\-1\\\\1\\end{matrix}\\right]$"
      ],
      "text/plain": [
       "Matrix([\n",
       "[-5],\n",
       "[-1],\n",
       "[ 1]])"
      ]
     },
     "metadata": {},
     "output_type": "display_data"
    }
   ],
   "source": [
    "#[Quiz 59] find the orthoganal complement to the vector set below\n",
    "from sympy import *\n",
    "A = Matrix([[1,0],[-3,1],[2,1]])\n",
    "display(\"A\",A)\n",
    "A_orth = A.transpose().col_insert(A.shape[0],zeros(2,1))\n",
    "display(\"A transposed and augmented with the zero vector\",A_orth)\n",
    "\n",
    "A_orth_rref = A_orth.rref()[0]\n",
    "display(\"RREF of above\",A_orth_rref)\n",
    "\n",
    "print(\"only free column is col 3, so put in terms of x3\")\n",
    "print(\"x1 = -5x^3\")\n",
    "print(\"x2 = -x^3\")\n",
    "print(\"x3 = 1\")\n",
    "\n",
    "display(\"orthagonal complement\", Matrix([[-5],[-1],[1]]))"
   ]
  },
  {
   "cell_type": "code",
   "execution_count": 83,
   "id": "ef84c58a",
   "metadata": {},
   "outputs": [
    {
     "data": {
      "text/plain": [
       "'A'"
      ]
     },
     "metadata": {},
     "output_type": "display_data"
    },
    {
     "data": {
      "text/latex": [
       "$\\displaystyle \\left[\\begin{matrix}1 & 0 & 1\\\\-2 & 4 & 3\\\\3 & -8 & -5\\\\5 & 8 & -1\\end{matrix}\\right]$"
      ],
      "text/plain": [
       "Matrix([\n",
       "[ 1,  0,  1],\n",
       "[-2,  4,  3],\n",
       "[ 3, -8, -5],\n",
       "[ 5,  8, -1]])"
      ]
     },
     "metadata": {},
     "output_type": "display_data"
    },
    {
     "data": {
      "text/plain": [
       "'A transposed and augmented with the zero vector'"
      ]
     },
     "metadata": {},
     "output_type": "display_data"
    },
    {
     "data": {
      "text/latex": [
       "$\\displaystyle \\left[\\begin{matrix}1 & -2 & 3 & 5 & 0\\\\0 & 4 & -8 & 8 & 0\\\\1 & 3 & -5 & -1 & 0\\end{matrix}\\right]$"
      ],
      "text/plain": [
       "Matrix([\n",
       "[1, -2,  3,  5, 0],\n",
       "[0,  4, -8,  8, 0],\n",
       "[1,  3, -5, -1, 0]])"
      ]
     },
     "metadata": {},
     "output_type": "display_data"
    },
    {
     "data": {
      "text/plain": [
       "'pivots'"
      ]
     },
     "metadata": {},
     "output_type": "display_data"
    },
    {
     "data": {
      "text/plain": [
       "(0, 1, 2)"
      ]
     },
     "metadata": {},
     "output_type": "display_data"
    },
    {
     "data": {
      "text/plain": [
       "'RREF of above'"
      ]
     },
     "metadata": {},
     "output_type": "display_data"
    },
    {
     "data": {
      "text/latex": [
       "$\\displaystyle \\left[\\begin{matrix}1 & 0 & 0 & 1 & 0\\\\0 & 1 & 0 & -14 & 0\\\\0 & 0 & 1 & -8 & 0\\end{matrix}\\right]$"
      ],
      "text/plain": [
       "Matrix([\n",
       "[1, 0, 0,   1, 0],\n",
       "[0, 1, 0, -14, 0],\n",
       "[0, 0, 1,  -8, 0]])"
      ]
     },
     "metadata": {},
     "output_type": "display_data"
    },
    {
     "name": "stdout",
     "output_type": "stream",
     "text": [
      "free columns are col 2 and col 4, so put in terms of x2 and x4\n",
      "x1 = -x4\n",
      "x2 = 14x4\n",
      "x3 = -8x4\n",
      "x4 = x4\n"
     ]
    },
    {
     "data": {
      "text/plain": [
       "'orthagonal complement'"
      ]
     },
     "metadata": {},
     "output_type": "display_data"
    },
    {
     "data": {
      "text/latex": [
       "$\\displaystyle \\left[\\begin{matrix}-1\\\\14\\\\8\\\\1\\end{matrix}\\right]$"
      ],
      "text/plain": [
       "Matrix([\n",
       "[-1],\n",
       "[14],\n",
       "[ 8],\n",
       "[ 1]])"
      ]
     },
     "metadata": {},
     "output_type": "display_data"
    }
   ],
   "source": [
    "#[quiz 59] 3 find the orthoganal complement to the vector set below\n",
    "from sympy import *\n",
    "A = Matrix([[1,0,1],[-2,4,3],[3,-8,-5],[5,8,-1]])\n",
    "display(\"A\",A)\n",
    "A_orth = A.transpose().col_insert(A.shape[0],zeros(3,1))\n",
    "display(\"A transposed and augmented with the zero vector\",A_orth)\n",
    "\n",
    "A_orth_rref = A_orth.rref()[0]\n",
    "display(\"pivots\", A_orth.rref()[1])\n",
    "display(\"RREF of above\",A_orth_rref)\n",
    "\n",
    "print(\"free columns are col 2 and col 4, so put in terms of x2 and x4\")\n",
    "\n",
    "print(\"x1 = -x4\")\n",
    "print(\"x2 = 14x4\")\n",
    "print(\"x3 = -8x4\")\n",
    "print(\"x4 = x4\")\n",
    "\n",
    "display(\"orthagonal complement\", Matrix([[-1],[14],[8],[1]]))\n"
   ]
  },
  {
   "cell_type": "code",
   "execution_count": 84,
   "id": "965116b8",
   "metadata": {},
   "outputs": [
    {
     "data": {
      "text/html": [
       "<style>\n",
       "table {width:500px;}\n",
       "</style>\n"
      ],
      "text/plain": [
       "<IPython.core.display.HTML object>"
      ]
     },
     "metadata": {},
     "output_type": "display_data"
    }
   ],
   "source": [
    "%%html\n",
    "<style>\n",
    "table {width:500px;}\n",
    "</style>"
   ]
  },
  {
   "cell_type": "markdown",
   "id": "a087623a",
   "metadata": {},
   "source": [
    "## [151] Orthoganal complements of the fundamental subspaces\n",
    "### Recall\n",
    "- **Dimension** is the number of linearly independent vectors required to form the basis\n",
    "- **Rank** is the number of pivots in a matrice\n",
    "\n",
    "### Formulae\n",
    "\n",
    "**[151.1]** The null space $N(A)$ and row space $C(A^T)$ are orthogonal complements\n",
    "\n",
    "$N(A) = (C(A^T))^{\\bot}$\n",
    "\n",
    "AND\n",
    "\n",
    "$N(A) = (C(A^T))^{\\bot}$\n",
    "\n",
    " \n",
    "**[151.2]** The left null space $N(A^T)$ and column space $C(A)$ are orthogonal complements\n",
    "\n",
    "\n",
    "$N(A^T) = (C(A))^{\\bot}$ \n",
    "\n",
    "AND\n",
    "\n",
    "$(N(A^T))^{\\bot} = C(A)$\n",
    "\n",
    "\n",
    "    \n",
    "\n",
    "**[151.3]** Dimension of the orthogonal complement \n",
    "- The dimension of a subspace V and the dimension of its orthogonal complement $V^1$ will always sum to the dimension of the space $R^n$  that contains them both.\n",
    "    \n",
    "$Dim(V) + Dim(V^{\\bot}) = n$\n",
    " \n",
    "### Example\n",
    "\n",
    " \n",
    "<br /> \n",
    "\n",
    "$\n",
    "A = \\begin{bmatrix} 1&0&0&2 \\\\ -1&1&2&0\\\\ 2&0&-1&1\\end{bmatrix}\n",
    "$\n",
    "\n",
    "$RREF(A) = \\left[\\begin{matrix}1 & 0 & 0 & 2\\\\0 & 1 & 0 & -4\\\\0 & 0 & 1 & 3\\end{matrix}\\right]$\n",
    "\n",
    "#### Therefore \n",
    "- **Rank** = 3\n",
    "- **n** = 4\n",
    "- **m** = 3\n",
    "- **Dimensions of A** = 4 = $\\mathbb{R^4}$\n",
    "\n",
    "<br /> \n",
    "<br /> \n",
    "\n",
    "![\"\"](images/orthogonal_dimensions_and_complements.png)\n",
    "\n",
    "<br /> \n",
    "<br /> \n",
    "\n",
    "|Subspace|Space|Dimensions|matrice|\n",
    "|:---|:---|:---|:---|\n",
    "|$C(A)$|$\\mathbb{R^3}$|$3$|$Span(\\begin{bmatrix}.\\\\.\\\\.\\end{bmatrix}\\begin{bmatrix}.\\\\.\\\\.\\end{bmatrix}\\begin{bmatrix}.\\\\.\\\\.\\end{bmatrix})$|\n",
    "|$N(A)$|$\\mathbb{R^4}$|$1$|$Span(\\begin{bmatrix}.\\\\.\\\\.\\end{bmatrix})$|\n",
    "|$C(A^T)$|$\\mathbb{R^4}$|$3$|$Span(\\begin{bmatrix}.\\\\.\\\\.\\end{bmatrix}\\begin{bmatrix}.\\\\.\\\\.\\end{bmatrix}\\begin{bmatrix}.\\\\.\\\\.\\end{bmatrix})$|\n",
    "|$N(A^T)$|$\\mathbb{R^3}$|$0$|$Span(\\begin{bmatrix}0\\\\0\\\\0\\end{bmatrix})$|"
   ]
  },
  {
   "cell_type": "code",
   "execution_count": 85,
   "id": "1f0f7d35",
   "metadata": {},
   "outputs": [
    {
     "data": {
      "text/latex": [
       "$\\displaystyle \\left[\\begin{matrix}1 & 0 & 0 & - \\frac{19}{11}\\\\0 & 1 & 0 & - \\frac{6}{11}\\\\0 & 0 & 1 & - \\frac{3}{11}\\end{matrix}\\right]$"
      ],
      "text/plain": [
       "Matrix([\n",
       "[1, 0, 0, -19/11],\n",
       "[0, 1, 0,  -6/11],\n",
       "[0, 0, 1,  -3/11]])"
      ]
     },
     "execution_count": 85,
     "metadata": {},
     "output_type": "execute_result"
    }
   ],
   "source": [
    "#[Quiz 60] Orthogonal complements of the fundamental subspaces\n",
    "Matrix([[-1,3,4,-1],[2,0,2,-4],[-3,5,9,0]]).rref()[0]"
   ]
  },
  {
   "cell_type": "markdown",
   "id": "2be3a1aa",
   "metadata": {},
   "source": [
    "#### [Quiz 60] Orthogonal complements of the fundamental subspaces continued\n",
    "- $Dim(C(A) \\rightarrow (r)\\\\ = 3 $\n",
    "\n",
    "\n",
    "- $Dim(N(A) \\rightarrow  (n-r)\\\\ 4-3 = 1$ \n",
    "\n",
    "\n",
    "- $Dim(C(A^T) \\rightarrow  (r)\\\\ = 3$ \n",
    "\n",
    "\n",
    "- $Dim(N(A^T) \\rightarrow  (m-r)\\\\3-3 = 0$\n"
   ]
  },
  {
   "cell_type": "markdown",
   "id": "dc017cd9",
   "metadata": {},
   "source": [
    "## [154] Projection onto the subspace\n",
    "\n",
    "### Formulae\n",
    "\n",
    "$V \\in \\mathbb{R^n}$\n",
    "\n",
    "-Projection onto a vector\n",
    "   - Only relevent when matrix is not square and not invertible\n",
    "\n",
    "$Proj_v\\vec{x} = A(A^TA)^{-1}A^T\\vec{x}$ \n",
    "\n",
    "### Example\n",
    "\n",
    "$V = Span\\left(\\begin{bmatrix}2\\\\1\\\\1\\end{bmatrix},\\begin{bmatrix}1\\\\0\\\\-1\\end{bmatrix}\\right)$"
   ]
  },
  {
   "cell_type": "code",
   "execution_count": 119,
   "id": "e40679b5",
   "metadata": {},
   "outputs": [
    {
     "data": {
      "text/plain": [
       "'A'"
      ]
     },
     "metadata": {},
     "output_type": "display_data"
    },
    {
     "data": {
      "text/latex": [
       "$\\displaystyle \\left[\\begin{matrix}2 & 1\\\\1 & 0\\\\1 & -1\\end{matrix}\\right]$"
      ],
      "text/plain": [
       "Matrix([\n",
       "[2,  1],\n",
       "[1,  0],\n",
       "[1, -1]])"
      ]
     },
     "metadata": {},
     "output_type": "display_data"
    },
    {
     "data": {
      "text/plain": [
       "'A_T'"
      ]
     },
     "metadata": {},
     "output_type": "display_data"
    },
    {
     "data": {
      "text/latex": [
       "$\\displaystyle \\left[\\begin{matrix}2 & 1 & 1\\\\1 & 0 & -1\\end{matrix}\\right]$"
      ],
      "text/plain": [
       "Matrix([\n",
       "[2, 1,  1],\n",
       "[1, 0, -1]])"
      ]
     },
     "metadata": {},
     "output_type": "display_data"
    },
    {
     "data": {
      "text/plain": [
       "'A_T_A'"
      ]
     },
     "metadata": {},
     "output_type": "display_data"
    },
    {
     "data": {
      "text/latex": [
       "$\\displaystyle \\left[\\begin{matrix}6 & 1\\\\1 & 2\\end{matrix}\\right]$"
      ],
      "text/plain": [
       "Matrix([\n",
       "[6, 1],\n",
       "[1, 2]])"
      ]
     },
     "metadata": {},
     "output_type": "display_data"
    },
    {
     "data": {
      "text/plain": [
       "'A_T_A_inv'"
      ]
     },
     "metadata": {},
     "output_type": "display_data"
    },
    {
     "data": {
      "text/latex": [
       "$\\displaystyle \\left[\\begin{matrix}\\frac{2}{11} & - \\frac{1}{11}\\\\- \\frac{1}{11} & \\frac{6}{11}\\end{matrix}\\right]$"
      ],
      "text/plain": [
       "Matrix([\n",
       "[ 2/11, -1/11],\n",
       "[-1/11,  6/11]])"
      ]
     },
     "metadata": {},
     "output_type": "display_data"
    },
    {
     "data": {
      "text/plain": [
       "'Projection Matrix'"
      ]
     },
     "metadata": {},
     "output_type": "display_data"
    },
    {
     "data": {
      "text/latex": [
       "$\\displaystyle \\left[\\begin{matrix}\\frac{10}{11} & \\frac{3}{11} & - \\frac{1}{11}\\\\\\frac{3}{11} & \\frac{2}{11} & \\frac{3}{11}\\\\- \\frac{1}{11} & \\frac{3}{11} & \\frac{10}{11}\\end{matrix}\\right]$"
      ],
      "text/plain": [
       "Matrix([\n",
       "[10/11, 3/11, -1/11],\n",
       "[ 3/11, 2/11,  3/11],\n",
       "[-1/11, 3/11, 10/11]])"
      ]
     },
     "metadata": {},
     "output_type": "display_data"
    },
    {
     "data": {
      "text/latex": [
       "$\\displaystyle \\left[\\begin{matrix}\\frac{10}{11} & \\frac{3}{11} & - \\frac{1}{11}\\\\\\frac{3}{11} & \\frac{2}{11} & \\frac{3}{11}\\\\- \\frac{1}{11} & \\frac{3}{11} & \\frac{10}{11}\\end{matrix}\\right]$"
      ],
      "text/plain": [
       "Matrix([\n",
       "[10/11, 3/11, -1/11],\n",
       "[ 3/11, 2/11,  3/11],\n",
       "[-1/11, 3/11, 10/11]])"
      ]
     },
     "execution_count": 119,
     "metadata": {},
     "output_type": "execute_result"
    }
   ],
   "source": [
    "\n",
    "def get_projection_matrix(A):\n",
    "    A_T = A.transpose()\n",
    "    A_T_A = A_T*A\n",
    "    A_T_A_inv = A_T_A.inv()\n",
    "    display(\n",
    "            \"A\", # baw matrix\n",
    "            A,    \n",
    "            \"A_T\", # Transposed\n",
    "            A_T,\n",
    "            \"A_T_A\", # Transposed base product\n",
    "            A_T_A,\n",
    "            \"A_T_A_inv\", # Inverse of the transposed base product\n",
    "            A_T_A_inv,\n",
    "            \"Projection Matrix\", # Final projection matrix\n",
    "            A*(A_T_A_inv)*A_T\n",
    "           )\n",
    "    \n",
    "    return A*(A_T_A_inv)*A_T\n",
    "\n",
    "M = Matrix([[2,1],[1,0],[1,-1]])\n",
    "get_projection_matrix(M)"
   ]
  },
  {
   "cell_type": "code",
   "execution_count": 118,
   "id": "26bba3b2",
   "metadata": {},
   "outputs": [
    {
     "name": "stdout",
     "output_type": "stream",
     "text": [
      "--------------------Projection Matrix Q1---------------------\n"
     ]
    },
    {
     "data": {
      "text/plain": [
       "'A'"
      ]
     },
     "metadata": {},
     "output_type": "display_data"
    },
    {
     "data": {
      "text/latex": [
       "$\\displaystyle \\left[\\begin{matrix}-2 & 0\\\\0 & 4\\\\-2 & 2\\end{matrix}\\right]$"
      ],
      "text/plain": [
       "Matrix([\n",
       "[-2, 0],\n",
       "[ 0, 4],\n",
       "[-2, 2]])"
      ]
     },
     "metadata": {},
     "output_type": "display_data"
    },
    {
     "data": {
      "text/plain": [
       "'A_T'"
      ]
     },
     "metadata": {},
     "output_type": "display_data"
    },
    {
     "data": {
      "text/latex": [
       "$\\displaystyle \\left[\\begin{matrix}-2 & 0 & -2\\\\0 & 4 & 2\\end{matrix}\\right]$"
      ],
      "text/plain": [
       "Matrix([\n",
       "[-2, 0, -2],\n",
       "[ 0, 4,  2]])"
      ]
     },
     "metadata": {},
     "output_type": "display_data"
    },
    {
     "data": {
      "text/plain": [
       "'A_T_A'"
      ]
     },
     "metadata": {},
     "output_type": "display_data"
    },
    {
     "data": {
      "text/latex": [
       "$\\displaystyle \\left[\\begin{matrix}8 & -4\\\\-4 & 20\\end{matrix}\\right]$"
      ],
      "text/plain": [
       "Matrix([\n",
       "[ 8, -4],\n",
       "[-4, 20]])"
      ]
     },
     "metadata": {},
     "output_type": "display_data"
    },
    {
     "data": {
      "text/plain": [
       "'A_T_A_inv'"
      ]
     },
     "metadata": {},
     "output_type": "display_data"
    },
    {
     "data": {
      "text/latex": [
       "$\\displaystyle \\left[\\begin{matrix}\\frac{5}{36} & \\frac{1}{36}\\\\\\frac{1}{36} & \\frac{1}{18}\\end{matrix}\\right]$"
      ],
      "text/plain": [
       "Matrix([\n",
       "[5/36, 1/36],\n",
       "[1/36, 1/18]])"
      ]
     },
     "metadata": {},
     "output_type": "display_data"
    },
    {
     "data": {
      "text/plain": [
       "'Projection Matrix'"
      ]
     },
     "metadata": {},
     "output_type": "display_data"
    },
    {
     "data": {
      "text/latex": [
       "$\\displaystyle \\left[\\begin{matrix}\\frac{5}{9} & - \\frac{2}{9} & \\frac{4}{9}\\\\- \\frac{2}{9} & \\frac{8}{9} & \\frac{2}{9}\\\\\\frac{4}{9} & \\frac{2}{9} & \\frac{5}{9}\\end{matrix}\\right]$"
      ],
      "text/plain": [
       "Matrix([\n",
       "[ 5/9, -2/9, 4/9],\n",
       "[-2/9,  8/9, 2/9],\n",
       "[ 4/9,  2/9, 5/9]])"
      ]
     },
     "metadata": {},
     "output_type": "display_data"
    },
    {
     "data": {
      "text/latex": [
       "$\\displaystyle \\left[\\begin{matrix}\\frac{5}{9} & - \\frac{2}{9} & \\frac{4}{9}\\\\- \\frac{2}{9} & \\frac{8}{9} & \\frac{2}{9}\\\\\\frac{4}{9} & \\frac{2}{9} & \\frac{5}{9}\\end{matrix}\\right]$"
      ],
      "text/plain": [
       "Matrix([\n",
       "[ 5/9, -2/9, 4/9],\n",
       "[-2/9,  8/9, 2/9],\n",
       "[ 4/9,  2/9, 5/9]])"
      ]
     },
     "execution_count": 118,
     "metadata": {},
     "output_type": "execute_result"
    }
   ],
   "source": [
    "#[Quiz 61]\n",
    "from sympy import *\n",
    "from fractions import Fraction\n",
    "\n",
    "print(\"--------------------Projection Matrix Q1---------------------\")\n",
    "A = Matrix([[-2,0],[0,4],[-2,2]])\n",
    "get_projection_matrix(A)\n",
    "# print(\"--------------------Projection Matrix Q2---------------------\")\n",
    "# A = Matrix([[1,0],[0,1],[-1,1],[2,-1]])\n",
    "# A = get_projection_matrix(A)\n",
    "# print(\"--------------------Projection Matrix Q3---------------------\")\n",
    "# A = Matrix([[1,0,1],[-1,2,0],[0,0,-2]])\n",
    "# A = get_projection_matrix(A)"
   ]
  },
  {
   "cell_type": "markdown",
   "id": "410cdfe4",
   "metadata": {},
   "source": [
    "## [156] Least Squares Solution\n",
    "- Provides the best possible approximation for the solution to a linear system if one existed\n",
    "\n",
    "### Definitions\n",
    "- The least squares solution is the projection of $\\vec{x}$ onto the column space of $A$\n",
    "\n",
    "### Formulae\n",
    "- Least Squares Solution $A^TA\\vec{x}^{*} =  A^T\\vec{b}$\n",
    "\n",
    "### Example\n",
    "\n",
    "- Given the system of equations below that **does not have a solution**, find the LCS solution\n",
    "\n",
    "$-2x+y =1 \\\\ -x + y = 0 \\\\ x + 2y = 3$\n",
    "\n",
    "- Convert to matrix-vector product $ A\\vec{x} = \\vec{b} $\n",
    "\n",
    "$ \\begin{bmatrix}-2&1 \\\\ -1 & 1 \\\\ 1&2 \\end{bmatrix} \\begin{bmatrix}x \\\\ y \\end{bmatrix} = \\begin{bmatrix} 1 \\\\ 0 \\\\ 3 \\end{bmatrix}$\n"
   ]
  },
  {
   "cell_type": "code",
   "execution_count": 132,
   "id": "58ef68bb",
   "metadata": {},
   "outputs": [
    {
     "data": {
      "text/plain": [
       "'A'"
      ]
     },
     "metadata": {},
     "output_type": "display_data"
    },
    {
     "data": {
      "text/latex": [
       "$\\displaystyle \\left[\\begin{matrix}-2 & 1\\\\-1 & 1\\\\1 & 2\\end{matrix}\\right]$"
      ],
      "text/plain": [
       "Matrix([\n",
       "[-2, 1],\n",
       "[-1, 1],\n",
       "[ 1, 2]])"
      ]
     },
     "metadata": {},
     "output_type": "display_data"
    },
    {
     "data": {
      "text/plain": [
       "'A_T'"
      ]
     },
     "metadata": {},
     "output_type": "display_data"
    },
    {
     "data": {
      "text/latex": [
       "$\\displaystyle \\left[\\begin{matrix}-2 & -1 & 1\\\\1 & 1 & 2\\end{matrix}\\right]$"
      ],
      "text/plain": [
       "Matrix([\n",
       "[-2, -1, 1],\n",
       "[ 1,  1, 2]])"
      ]
     },
     "metadata": {},
     "output_type": "display_data"
    },
    {
     "data": {
      "text/plain": [
       "'A_T_A'"
      ]
     },
     "metadata": {},
     "output_type": "display_data"
    },
    {
     "data": {
      "text/latex": [
       "$\\displaystyle \\left[\\begin{matrix}6 & -1\\\\-1 & 6\\end{matrix}\\right]$"
      ],
      "text/plain": [
       "Matrix([\n",
       "[ 6, -1],\n",
       "[-1,  6]])"
      ]
     },
     "metadata": {},
     "output_type": "display_data"
    },
    {
     "data": {
      "text/plain": [
       "'A_T_b'"
      ]
     },
     "metadata": {},
     "output_type": "display_data"
    },
    {
     "data": {
      "text/latex": [
       "$\\displaystyle \\left[\\begin{matrix}1\\\\7\\end{matrix}\\right]$"
      ],
      "text/plain": [
       "Matrix([\n",
       "[1],\n",
       "[7]])"
      ]
     },
     "metadata": {},
     "output_type": "display_data"
    },
    {
     "data": {
      "text/plain": [
       "'A_T_A augmented with A_T_B and reduced to RREF'"
      ]
     },
     "metadata": {},
     "output_type": "display_data"
    },
    {
     "data": {
      "text/latex": [
       "$\\displaystyle \\left[\\begin{matrix}1 & 0 & \\frac{13}{35}\\\\0 & 1 & \\frac{43}{35}\\end{matrix}\\right]$"
      ],
      "text/plain": [
       "Matrix([\n",
       "[1, 0, 13/35],\n",
       "[0, 1, 43/35]])"
      ]
     },
     "metadata": {},
     "output_type": "display_data"
    },
    {
     "data": {
      "text/plain": [
       "'Least squares solution'"
      ]
     },
     "metadata": {},
     "output_type": "display_data"
    },
    {
     "data": {
      "text/latex": [
       "$\\displaystyle \\left[\\begin{matrix}\\frac{13}{35}\\\\\\frac{43}{35}\\end{matrix}\\right]$"
      ],
      "text/plain": [
       "Matrix([\n",
       "[13/35],\n",
       "[43/35]])"
      ]
     },
     "metadata": {},
     "output_type": "display_data"
    },
    {
     "data": {
      "text/latex": [
       "$\\displaystyle \\left[\\begin{matrix}\\frac{13}{35}\\\\\\frac{43}{35}\\end{matrix}\\right]$"
      ],
      "text/plain": [
       "Matrix([\n",
       "[13/35],\n",
       "[43/35]])"
      ]
     },
     "execution_count": 132,
     "metadata": {},
     "output_type": "execute_result"
    }
   ],
   "source": [
    "#Algorithm to solve above example\n",
    "from sympy import *\n",
    "\n",
    "def least_squares_solution(A,b_vec):\n",
    "    A_T = A.transpose()\n",
    "    A_T_A = A_T * A\n",
    "    A_T_b = A_T*b_vec \n",
    "    A_T_A_aug_A_T_b_rref = A_T_A.col_insert(A_T_A.shape[0],A_T_b).rref()[0]\n",
    "    \n",
    "    #Least Squares Solution\n",
    "    LSS = A_T_A_aug_A_T_b_rref.col(A_T_A_aug_A_T_b_rref.shape[0])\n",
    "    display(\n",
    "        \"A\", # base matrix\n",
    "        A,    \n",
    "        \"A_T\", # transposed\n",
    "        A_T,\n",
    "        \"A_T_A\", # base_transposed_matrix*base_matrix product\n",
    "        A_T_A,\n",
    "        \"A_T_b\", # base_transposed_matrix*b_vector\n",
    "        A_T_b,\n",
    "        \"A_T_A augmented with A_T_B and reduced to RREF\",\n",
    "        A_T_A_aug_A_T_b_rref,\n",
    "        \"Least squares solution\",\n",
    "        LSS\n",
    "       ) \n",
    "    return LSS\n",
    " \n",
    "A = Matrix([[-2,1],[-1,1],[1,2]])\n",
    "b_vec = Matrix([[1],[0],[3]]) \n",
    "\n",
    "least_squares_solution(A,b_vec)"
   ]
  },
  {
   "cell_type": "code",
   "execution_count": 138,
   "id": "c86454d0",
   "metadata": {},
   "outputs": [
    {
     "data": {
      "text/plain": [
       "'A'"
      ]
     },
     "metadata": {},
     "output_type": "display_data"
    },
    {
     "data": {
      "text/latex": [
       "$\\displaystyle \\left[\\begin{matrix}1 & 2\\\\1 & -1\\\\0 & 1\\end{matrix}\\right]$"
      ],
      "text/plain": [
       "Matrix([\n",
       "[1,  2],\n",
       "[1, -1],\n",
       "[0,  1]])"
      ]
     },
     "metadata": {},
     "output_type": "display_data"
    },
    {
     "data": {
      "text/plain": [
       "'A_T'"
      ]
     },
     "metadata": {},
     "output_type": "display_data"
    },
    {
     "data": {
      "text/latex": [
       "$\\displaystyle \\left[\\begin{matrix}1 & 1 & 0\\\\2 & -1 & 1\\end{matrix}\\right]$"
      ],
      "text/plain": [
       "Matrix([\n",
       "[1,  1, 0],\n",
       "[2, -1, 1]])"
      ]
     },
     "metadata": {},
     "output_type": "display_data"
    },
    {
     "data": {
      "text/plain": [
       "'A_T_A'"
      ]
     },
     "metadata": {},
     "output_type": "display_data"
    },
    {
     "data": {
      "text/latex": [
       "$\\displaystyle \\left[\\begin{matrix}2 & 1\\\\1 & 6\\end{matrix}\\right]$"
      ],
      "text/plain": [
       "Matrix([\n",
       "[2, 1],\n",
       "[1, 6]])"
      ]
     },
     "metadata": {},
     "output_type": "display_data"
    },
    {
     "data": {
      "text/plain": [
       "'A_T_b'"
      ]
     },
     "metadata": {},
     "output_type": "display_data"
    },
    {
     "data": {
      "text/latex": [
       "$\\displaystyle \\left[\\begin{matrix}-1\\\\-9\\end{matrix}\\right]$"
      ],
      "text/plain": [
       "Matrix([\n",
       "[-1],\n",
       "[-9]])"
      ]
     },
     "metadata": {},
     "output_type": "display_data"
    },
    {
     "data": {
      "text/plain": [
       "'A_T_A augmented with A_T_B and reduced to RREF'"
      ]
     },
     "metadata": {},
     "output_type": "display_data"
    },
    {
     "data": {
      "text/latex": [
       "$\\displaystyle \\left[\\begin{matrix}1 & 0 & \\frac{3}{11}\\\\0 & 1 & - \\frac{17}{11}\\end{matrix}\\right]$"
      ],
      "text/plain": [
       "Matrix([\n",
       "[1, 0,   3/11],\n",
       "[0, 1, -17/11]])"
      ]
     },
     "metadata": {},
     "output_type": "display_data"
    },
    {
     "data": {
      "text/plain": [
       "'Least squares solution'"
      ]
     },
     "metadata": {},
     "output_type": "display_data"
    },
    {
     "data": {
      "text/latex": [
       "$\\displaystyle \\left[\\begin{matrix}\\frac{3}{11}\\\\- \\frac{17}{11}\\end{matrix}\\right]$"
      ],
      "text/plain": [
       "Matrix([\n",
       "[  3/11],\n",
       "[-17/11]])"
      ]
     },
     "metadata": {},
     "output_type": "display_data"
    },
    {
     "data": {
      "text/latex": [
       "$\\displaystyle \\left[\\begin{matrix}\\frac{3}{11}\\\\- \\frac{17}{11}\\end{matrix}\\right]$"
      ],
      "text/plain": [
       "Matrix([\n",
       "[  3/11],\n",
       "[-17/11]])"
      ]
     },
     "execution_count": 138,
     "metadata": {},
     "output_type": "execute_result"
    }
   ],
   "source": [
    "# [Quiz 62] Least squares solution\n",
    "\n",
    "#Q1 given\n",
    "# x-2y = 5\n",
    "# 3x+y = -6 \n",
    "# -x-2y = -2 \n",
    "\n",
    "# A = Matrix([[1,-2],[3,1],[-1,-2]])\n",
    "# b = Matrix([[5],[-6],[-2]])\n",
    "# least_squares_solution(A,b)\n",
    "\n",
    "#Q2 given\n",
    "# 3x-2y = -6\n",
    "# x-5y = -5 \n",
    "# x+y = 4 \n",
    "\n",
    "# A = Matrix([[3,-2],[1,-5],[1,1]])\n",
    "# b = Matrix([[-6],[-5],[4]])\n",
    "# least_squares_solution(A,b)\n",
    "\n",
    "#Q3 given\n",
    "# x + 2y = -4\n",
    "# x - y = 3\n",
    "# y = 2\n",
    "\n",
    "A = Matrix([[1,2],[1,-1],[0,1]])\n",
    "b = Matrix([[-4],[3],[2]])\n",
    "least_squares_solution(A,b)\n",
    "\n"
   ]
  },
  {
   "cell_type": "markdown",
   "id": "81461ccd",
   "metadata": {},
   "source": [
    "## [158] Coordinates in a new basis\n",
    "\n",
    "### Definitions\n",
    "\n",
    "### Formulae\n",
    "\n",
    "**[158.1]** $change\\_of\\_basis\\_matrix = \\begin{bmatrix} x_1& w_1 \\\\ x_2 & w_2 \\end{bmatrix}$\n",
    "\n",
    "**[158.2]** $change\\_of\\_basis\\_matrix \\cdot \\vec{v} = \\vec{solution\\_vector}$\n",
    "\n",
    "### Example\n",
    "\n",
    "Given the vector $\\vec{v} = (5,3)$,\n",
    "\n",
    "- Default basis is $i = (1,0)$ , $j = (0,1)$, express in terms of x and w\n",
    "    - $x = (x_1,x_2)$ , $w = (w_1,w_2)$ in this case $x = (2,1)$ , $w = (1,1)$\n",
    "\n",
    "$\\vec{v} = 5i + 3j$\n",
    "\n",
    "$\\vec{v} = 2x + w$\n",
    "\n",
    "- To change basis, use **[158.1]** \n",
    "\n",
    "$\\begin{bmatrix} 2&1 \\\\ 1 & 1 \\end{bmatrix} \\left[\\vec{v} \\right]_B = \\begin{bmatrix}5 \\\\ 3 \\end{bmatrix}$\n",
    "\n",
    "$\\left[\\begin{matrix}2 & 1 & 5\\\\1 & 1 & 3\\end{matrix}\\right]$\n",
    "\n",
    "$\\left[\\begin{matrix}1 & 0 & 2\\\\0 & 1 & 1\\end{matrix}\\right]$\n",
    "\n",
    "\n",
    "$\\left[\\vec{v} \\right]_B = \\begin{bmatrix} 2 \\\\ 1 \\end{bmatrix}$ \n",
    "\n",
    "To convert to $\\begin{bmatrix} x \\\\ y \\end{bmatrix}$, \n",
    "\n",
    "$\\left[\\begin{matrix}2 & 1 \\\\1 & 1 \\end{matrix}\\right]\n",
    "\\begin{bmatrix} 2 \\\\ 1 \\end{bmatrix} = \\begin{bmatrix} x \\\\ y \\end{bmatrix} = \\begin{bmatrix} 5\\\\3 \\end{bmatrix}\n",
    "$\n",
    "\n",
    "To convert back to i,j, take the inverse of the change of basis matrix\n",
    "\n",
    "$\\left[\\begin{matrix}1 & -1\\\\-1 & 2\\end{matrix}\\right] \\begin{bmatrix} 5 \\\\ 3 \\end{bmatrix} = \\begin{bmatrix} x \\\\ w \\end{bmatrix} = \\begin{bmatrix} 2 \\\\ 1 \\end{bmatrix}\n",
    "$"
   ]
  },
  {
   "cell_type": "code",
   "execution_count": 195,
   "id": "6cb657a4",
   "metadata": {
    "scrolled": true
   },
   "outputs": [
    {
     "data": {
      "text/latex": [
       "$\\displaystyle \\left[\\begin{matrix}1\\\\-1\\end{matrix}\\right]$"
      ],
      "text/plain": [
       "Matrix([\n",
       "[ 1],\n",
       "[-1]])"
      ]
     },
     "execution_count": 195,
     "metadata": {},
     "output_type": "execute_result"
    }
   ],
   "source": [
    "# [Quiz 63] \n",
    "from sympy import *\n",
    "\n",
    "# Given the vectors v = (2,2,3) s = (-6,0,2), and w = (2,-2,-5)\n",
    "# Form an alternate basis for R^3\n",
    "# Use them to transform vec(x)  = -2i + k into the alternate basus\n",
    "\n",
    "def change_of_basis(A,v):\n",
    "    A_aug_v_rref = A.col_insert(A.shape[0],v).rref()[0]\n",
    "    v_b = A_aug_v_rref.col(A_aug_v_rref.shape[0])\n",
    "    return v_b\n",
    "\n",
    "def inverse_change_of_basis(A,v):\n",
    "    A = A.inv()\n",
    "    v = change_of_basis(A,v)\n",
    "    return v\n",
    "\n",
    "#Q1 \n",
    "A = Matrix([[2,2,3],[-6,0,2],[2,-2,-5]]).transpose()\n",
    "v = Matrix([[-2],[0],[1]])\n",
    "v_b = change_of_basis(A,v)\n",
    "v_b\n",
    "\n",
    "#Q2 \n",
    "A = Matrix([[1,-4],[-3,2]]).transpose()\n",
    "v = Matrix([-1,-6])\n",
    "v_b = change_of_basis(A,v)\n",
    "v_b\n",
    "\n",
    "#Q3\n",
    "A = Matrix([[1,-5],[-2,0]]).transpose()\n",
    "v = Matrix([[3],[-5]])\n",
    "v_b = change_of_basis(A,v)\n",
    "v_b"
   ]
  },
  {
   "cell_type": "markdown",
   "id": "471b3e71",
   "metadata": {},
   "source": [
    "## [160] Transformation matrix for a basis\n",
    "\n",
    "### Recall\n",
    "\n",
    "$T(\\vec{x}) = A\\vec{x}$\n",
    "\n",
    "- Notation for vector in an alternate basis\n",
    "$[\\vec{x}]_B$\n",
    "\n",
    "### Definitions\n",
    "\n",
    "\n",
    "### Formulae\n",
    "\n",
    "\n",
    "$[T(\\vec{x})]_B = M[\\vec{x}]_B = C^{-1} AC[ \\vec{x} ]_B$\n",
    "\n",
    "$C[(\\vec{x})]_B = \\vec{x}$\n",
    "\n",
    "$M = C^{-1}AC$\n",
    "\n",
    "### Example\n",
    "\n"
   ]
  },
  {
   "cell_type": "code",
   "execution_count": 223,
   "id": "d1907ab9",
   "metadata": {},
   "outputs": [
    {
     "data": {
      "text/latex": [
       "$\\displaystyle \\left[\\begin{matrix}- \\frac{71}{3}\\\\- \\frac{28}{3}\\end{matrix}\\right]$"
      ],
      "text/plain": [
       "Matrix([\n",
       "[-71/3],\n",
       "[-28/3]])"
      ]
     },
     "execution_count": 223,
     "metadata": {},
     "output_type": "execute_result"
    }
   ],
   "source": [
    "#B is defined as the span of (-1,0),(2,-3)\n",
    "from sympy import *\n",
    "#Given\n",
    "b = Matrix([[1],[3]]) # A vector in an alternate basis\n",
    "A = Matrix([[1,0],[2,-2]]) # The original transformation matrix, T(x) = Ax\n",
    "                           # Intended for use with standard basis\n",
    "C = Matrix([[-1,2],[0,-3]]) # The vectors that span space B\n",
    "\n",
    "# Transform b, the vector in an alternate basis, by transformation matrix A\n",
    "def transform_vector_in_alternate_basis(A,C,b):\n",
    "    C_inv = C.inv()\n",
    "    M = C_inv*A*C\n",
    "    M_b = M*b\n",
    "    return M_b # The transformed vector\n",
    "\n",
    "transform_vector_in_alternate_basis(A,C,b)\n"
   ]
  },
  {
   "cell_type": "code",
   "execution_count": 225,
   "id": "471a718e",
   "metadata": {},
   "outputs": [
    {
     "data": {
      "text/latex": [
       "$\\displaystyle \\left[\\begin{matrix}-15\\\\-36\\\\12\\end{matrix}\\right]$"
      ],
      "text/plain": [
       "Matrix([\n",
       "[-15],\n",
       "[-36],\n",
       "[ 12]])"
      ]
     },
     "execution_count": 225,
     "metadata": {},
     "output_type": "execute_result"
    }
   ],
   "source": [
    "#[Quiz 64]\n",
    "\n",
    "b = Matrix([[5],[4],[-2]]) # A vector in an alternate basis\n",
    "A = Matrix([[-2,-2,1],[1,0,-2],[0,1,0]]) # The original transformation matrix, T(x) = Ax\n",
    "                           # Intended for use with standard basis\n",
    "C =Matrix([[1,0,2],[-1,1,1],[1,-1,-2]]) # The vectors that span space B\n",
    "\n",
    "transform_vector_in_alternate_basis(A,C,b)"
   ]
  },
  {
   "cell_type": "code",
   "execution_count": null,
   "id": "fe0fd67d",
   "metadata": {},
   "outputs": [],
   "source": []
  },
  {
   "cell_type": "code",
   "execution_count": null,
   "id": "f3987c54",
   "metadata": {},
   "outputs": [],
   "source": []
  }
 ],
 "metadata": {
  "kernelspec": {
   "display_name": "Python 3 (ipykernel)",
   "language": "python",
   "name": "python3"
  },
  "language_info": {
   "codemirror_mode": {
    "name": "ipython",
    "version": 3
   },
   "file_extension": ".py",
   "mimetype": "text/x-python",
   "name": "python",
   "nbconvert_exporter": "python",
   "pygments_lexer": "ipython3",
   "version": "3.8.10"
  }
 },
 "nbformat": 4,
 "nbformat_minor": 5
}
