{
 "cells": [
  {
   "cell_type": "markdown",
   "id": "186ccc8d",
   "metadata": {},
   "source": [
    "# Become a Linear Algebra Master | *Section 2: Operations on One Matrix*\n",
    "---------------------------------\n",
    "\n"
   ]
  },
  {
   "cell_type": "markdown",
   "id": "711509b8",
   "metadata": {},
   "source": [
    "## [0-8] Solving Linear Systems of Equations with X Unknowns"
   ]
  },
  {
   "cell_type": "code",
   "execution_count": 23,
   "id": "2e1f24c9",
   "metadata": {
    "scrolled": true
   },
   "outputs": [
    {
     "data": {
      "text/plain": [
       "array([ 1.,  1., -2.])"
      ]
     },
     "execution_count": 23,
     "metadata": {},
     "output_type": "execute_result"
    }
   ],
   "source": [
    "import numpy as np\n",
    "# x+y-z=4\n",
    "# x-y-z=2\n",
    "# x+2y+z=1\n",
    "\n",
    "A = np.array([[1, 1, -1],\n",
    "              [1, -1, -1],\n",
    "              [1, 2, 1]])\n",
    "b = np.array([4, 2, 1])\n",
    "np.linalg.solve(A, b)"
   ]
  },
  {
   "cell_type": "code",
   "execution_count": 24,
   "id": "b49c9245",
   "metadata": {},
   "outputs": [
    {
     "data": {
      "text/plain": [
       "array([-60., -46.,   8.])"
      ]
     },
     "execution_count": 24,
     "metadata": {},
     "output_type": "execute_result"
    }
   ],
   "source": [
    "import numpy as np\n",
    "# x-y+z=-6\n",
    "# 3x-4y-z=-4\n",
    "# -2x+3y+4z=14\n",
    "\n",
    "A = np.array([[1, -1, 1],\n",
    "              [3, -4, -1],\n",
    "              [-2, 3, 4]])\n",
    "b = np.array([-6, -4, 14])\n",
    "np.linalg.solve(A, b)"
   ]
  },
  {
   "cell_type": "code",
   "execution_count": 25,
   "id": "986dd91f",
   "metadata": {},
   "outputs": [
    {
     "data": {
      "text/plain": [
       "array([-1.,  5.,  2.])"
      ]
     },
     "execution_count": 25,
     "metadata": {},
     "output_type": "execute_result"
    }
   ],
   "source": [
    "import numpy as np\n",
    "\n",
    "A = np.array([[1, 0, 2],\n",
    "              [3, -2, 1],\n",
    "              [2, 1, 3]])\n",
    "b = np.array([3, -11, 9])\n",
    "np.linalg.solve(A, b)"
   ]
  },
  {
   "cell_type": "markdown",
   "id": "4942e211",
   "metadata": {},
   "source": [
    "## [14] Simple Row Operations\n",
    "***Simple row operations include:***\n",
    "- Switching rows\n",
    "- Multiplying/dividing rows\n",
    "- Adding/Subtracting rows\n"
   ]
  },
  {
   "cell_type": "code",
   "execution_count": 26,
   "id": "2522dfb3",
   "metadata": {},
   "outputs": [
    {
     "name": "stdout",
     "output_type": "stream",
     "text": [
      "Before switching 0 <--> 2\n"
     ]
    },
    {
     "data": {
      "text/plain": [
       "array([[4, 3, 1],\n",
       "       [5, 7, 0],\n",
       "       [9, 9, 3],\n",
       "       [8, 2, 4]])"
      ]
     },
     "metadata": {},
     "output_type": "display_data"
    },
    {
     "name": "stdout",
     "output_type": "stream",
     "text": [
      "After switching 0 <--> 2\n"
     ]
    },
    {
     "data": {
      "text/plain": [
       "array([[9, 9, 3],\n",
       "       [5, 7, 0],\n",
       "       [4, 3, 1],\n",
       "       [8, 2, 4]])"
      ]
     },
     "metadata": {},
     "output_type": "display_data"
    }
   ],
   "source": [
    "# Switching Rows\n",
    "a = np.array([[4,3,1], [5,7,0], [9,9,3], [8,2,4]])\n",
    "\n",
    "print(\"Before switching 0 <--> 2\")\n",
    "display(a) \n",
    "\n",
    "a[[0, 2]] = a[[2, 0]]\n",
    "\n",
    "print(\"After switching 0 <--> 2\")\n",
    "display(a)"
   ]
  },
  {
   "cell_type": "code",
   "execution_count": 27,
   "id": "e824dfa6",
   "metadata": {},
   "outputs": [
    {
     "name": "stdout",
     "output_type": "stream",
     "text": [
      "Before 5R2 --> R2\n"
     ]
    },
    {
     "data": {
      "text/plain": [
       "array([[4, 3, 1],\n",
       "       [5, 7, 0],\n",
       "       [9, 9, 3],\n",
       "       [8, 2, 4]])"
      ]
     },
     "metadata": {},
     "output_type": "display_data"
    },
    {
     "name": "stdout",
     "output_type": "stream",
     "text": [
      "After 5R2 --> R2\n"
     ]
    },
    {
     "data": {
      "text/plain": [
       "array([[ 4,  3,  1],\n",
       "       [ 5,  7,  0],\n",
       "       [45, 45, 15],\n",
       "       [ 8,  2,  4]])"
      ]
     },
     "metadata": {},
     "output_type": "display_data"
    }
   ],
   "source": [
    "# Multiplying/dividing rows\n",
    "a = np.array([[4,3,1], [5,7,0], [9,9,3], [8,2,4]])\n",
    "\n",
    "print(\"Before 5R2 --> R2\")\n",
    "display(a) \n",
    "\n",
    "a[[2]] = a[[2]]*5\n",
    "\n",
    "print(\"After 5R2 --> R2\")\n",
    "display(a)"
   ]
  },
  {
   "cell_type": "code",
   "execution_count": 28,
   "id": "82b7d8df",
   "metadata": {},
   "outputs": [
    {
     "name": "stdout",
     "output_type": "stream",
     "text": [
      "Before R2+R1 --> R2\n"
     ]
    },
    {
     "data": {
      "text/plain": [
       "array([[4, 3, 1],\n",
       "       [5, 7, 0],\n",
       "       [9, 9, 3],\n",
       "       [8, 2, 4]])"
      ]
     },
     "metadata": {},
     "output_type": "display_data"
    },
    {
     "name": "stdout",
     "output_type": "stream",
     "text": [
      "After R2+R1 --> R2\n"
     ]
    },
    {
     "data": {
      "text/plain": [
       "array([[ 4,  3,  1],\n",
       "       [ 5,  7,  0],\n",
       "       [14, 16,  3],\n",
       "       [ 8,  2,  4]])"
      ]
     },
     "metadata": {},
     "output_type": "display_data"
    }
   ],
   "source": [
    "# Adding/subtracting rows\n",
    "a = np.array([[4,3,1], [5,7,0], [9,9,3], [8,2,4]])\n",
    "\n",
    "print(\"Before R2+R1 --> R2\")\n",
    "display(a) \n",
    "\n",
    "a[[2]] = a[[2]] + a[[1]]\n",
    "\n",
    "print(\"After R2+R1 --> R2\")\n",
    "display(a)"
   ]
  },
  {
   "cell_type": "markdown",
   "id": "f9fbb8d4",
   "metadata": {},
   "source": [
    "## [16-18] Pivot entries and row-echelon forms\n",
    "- ***Pivot entries*** are the first non-zero entry in a matrix\n",
    "\n",
    "\n",
    "### [17] Row Echelon Form (REF):\n",
    "- A matrix is in REF if:\n",
    "    1. **Pivots are 1:** All the pivot entries are equal to 1.\n",
    "    2. **Zero rows at the bottom:** Any row(s) that consist of only 0s are at the bottom of the matrix.\n",
    "    3. **Staircase pivots:** The pivot in each row sits in a column to the right of the column\n",
    "that houses the pivot in the row above it. In other words, the pivot\n",
    "entries sit in a staircase pattern, where they stair-step down from\n",
    "the upper left corner to the lower right corner of the matrix.\n",
    "\n",
    "#### Example:\n",
    "------------------------------------\n",
    "$$\\begin{equation*}\n",
    "\\left[\n",
    "  \\begin{matrix}\n",
    "1 & −2 & 0  \\\\\n",
    "0 & 1 & 5  \\\\ \n",
    "0 & 0 & 1 \\\\\n",
    "0 & 0 & 0 \\\\\n",
    "  \\end{matrix}\n",
    "  \\left|\n",
    "    \\,\n",
    "    \\begin{matrix}\n",
    "      6  \\\\\n",
    "      -1  \\\\\n",
    "      4  \\\\\n",
    "      0  \\\\\n",
    "    \\end{matrix}\n",
    "  \\right.\n",
    "\\right]\n",
    "\\end{equation*}\n",
    "$$\n",
    "\n",
    "------------------------------------\n",
    "\n",
    "### [17] Reduced Row Echelon Form (RREF):\n",
    "- A matrix is in RREF if:\n",
    "    1. All REF conditions are satisfied\n",
    "    2. in each **pivot column**, the pivot entry\n",
    "    is the only non-zero entry\n",
    "\n",
    "\n",
    "#### Example:\n",
    "------------------------------------\n",
    "\n",
    "$$\\begin{equation*}\n",
    "\\left[\n",
    "  \\begin{matrix}\n",
    "1 & 0 & 0  \\\\\n",
    "0 & 1 & 0  \\\\ \n",
    "0 & 0 & 1 \\\\\n",
    "0 & 0 & 0 \\\\\n",
    "  \\end{matrix}\n",
    "  \\left|\n",
    "    \\,\n",
    "    \\begin{matrix}\n",
    "      a  \\\\\n",
    "      b  \\\\\n",
    "      c  \\\\\n",
    "      d  \\\\\n",
    "    \\end{matrix}\n",
    "  \\right.\n",
    "\\right]\n",
    "\\end{equation*}\n",
    "$$\n",
    "\n",
    "------------------------------------\n",
    "###  [19] Gauss-Jordan Elimination\n",
    "- Algorithm to **reduce a matrix to row-echelon form**\n",
    "    1. Optional: Pull out any scalars (common factor of all entries in a given row) from each row in the matrix.\n",
    "    2. If the first entry in the first row is 0, swap it with another row that\n",
    "    has a non-zero entry in its first column. Otherwise, move to step 3.\n",
    "    3. Multiply through the first row by a scalar to make the leading\n",
    "    entry equal to 1.\n",
    "    4. Add scaled multiples of the first row to every other row in the\n",
    "    matrix until every entry in the first column, other than the leading\n",
    "    1 in the first row, is 0.\n",
    "    5. Go back step 2 and repeat the process until the matrix is in\n",
    "    reduced row-echelon form."
   ]
  },
  {
   "cell_type": "code",
   "execution_count": 4,
   "id": "d7676f79",
   "metadata": {},
   "outputs": [
    {
     "data": {
      "text/plain": [
       "(Matrix([\n",
       " [1, 0, 0, -1],\n",
       " [0, 1, 0,  5],\n",
       " [0, 0, 1,  2]]),\n",
       " (0, 1, 2))"
      ]
     },
     "execution_count": 4,
     "metadata": {},
     "output_type": "execute_result"
    }
   ],
   "source": [
    "# Reduce to RREF\n",
    "import numpy as np\n",
    "import sympy\n",
    "A = np.array([[1, 0, 2,3],\n",
    "              [3, -2, 1,-11],\n",
    "              [2, 1, 3,9 ]])\n",
    "sympy.Matrix(A).rref()"
   ]
  },
  {
   "cell_type": "markdown",
   "id": "30711a02",
   "metadata": {},
   "source": []
  },
  {
   "cell_type": "code",
   "execution_count": null,
   "id": "360eeb42",
   "metadata": {},
   "outputs": [],
   "source": []
  }
 ],
 "metadata": {
  "kernelspec": {
   "display_name": "Python 3 (ipykernel)",
   "language": "python",
   "name": "python3"
  },
  "language_info": {
   "codemirror_mode": {
    "name": "ipython",
    "version": 3
   },
   "file_extension": ".py",
   "mimetype": "text/x-python",
   "name": "python",
   "nbconvert_exporter": "python",
   "pygments_lexer": "ipython3",
   "version": "3.8.10"
  }
 },
 "nbformat": 4,
 "nbformat_minor": 5
}
