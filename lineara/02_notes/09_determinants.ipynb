{
 "cells": [
  {
   "cell_type": "markdown",
   "id": "99d42b01",
   "metadata": {},
   "source": [
    "# Section 9 - Determinants\n",
    "\n",
    "## [125] Determinants \n",
    "\n",
    "The determinant of a 2x2 matrix can be written as \n",
    "\n",
    "$Det(A) = |A| = \\begin{vmatrix}a&b \\\\ c & d \\end{vmatrix} = ad-bc$\n",
    "\n",
    "For nxn matrices (example below is a 3x3 determinate): \n",
    "\n",
    "$Det(A) = |A| = \\begin{vmatrix}a&b&c \\\\ d &e&f \\\\ g&h&i \\end{vmatrix} \n",
    "= a\\begin{vmatrix} e&f\\\\ h&i \\end{vmatrix}\n",
    "-\n",
    "b\\begin{vmatrix} d&f\\\\ g&i\\end{vmatrix}\n",
    "+\n",
    "c\\begin{vmatrix}d&e\\\\g&h\\end{vmatrix}$\n",
    "\n",
    "**explanation: Reducing a nxn determinate to a sum of 2x2 determinates**\n",
    "- first refer to this checkerboard matrix for coefficient signs.\n",
    "- a, b, and c get their signs from the top row of the matrix\n",
    "\n",
    "$\n",
    "\\begin{vmatrix}\n",
    "+ & - & + \\\\ \n",
    "- & + & -\\\\ \n",
    "+ & - & +\\\\ \n",
    "\\end{vmatrix}\n",
    "$\n",
    "\n",
    "- The n-1xn-1 determinates come from blocking out the column and row of the nxn determinate for each column a, b,c \n",
    "\n",
    "$ \n",
    "\\begin{vmatrix} a&. &. \\\\.&e&f\\\\.&h&i\\end{vmatrix}\n",
    "\\begin{vmatrix} .&b &. \\\\d&.&f\\\\g&.&i\\end{vmatrix} \n",
    "\\begin{vmatrix} .&. &c \\\\d&e&.\\\\g&h&.\\end{vmatrix}\n",
    "$\n",
    "\n",
    "- pull out the only remaining value in top row (a, b, c) and remove all excluded (.) values\n",
    "\n",
    "\n",
    "$Det(A) = |A| = \\begin{vmatrix}a&b&c \\\\ d &e&f \\\\ g&h&i \\end{vmatrix} \n",
    "= a\\begin{vmatrix} e&f\\\\ h&i \\end{vmatrix}\n",
    "-\n",
    "b\\begin{vmatrix} d&f\\\\ g&i\\end{vmatrix}\n",
    "+\n",
    "c\\begin{vmatrix}d&e\\\\g&h\\end{vmatrix}$\n",
    "\n",
    "- for a 3x3 determinate, this process only needs to be repeated once, however for larger nxn determinates, multiple iterations are required. **See below example**\n",
    "\n",
    "![title](images/determinants.png)"
   ]
  },
  {
   "cell_type": "code",
   "execution_count": 16,
   "id": "2ea96983",
   "metadata": {},
   "outputs": [
    {
     "data": {
      "text/plain": [
       "'Using builtin SymPy method'"
      ]
     },
     "metadata": {},
     "output_type": "display_data"
    },
    {
     "data": {
      "text/plain": [
       "'determinate'"
      ]
     },
     "metadata": {},
     "output_type": "display_data"
    },
    {
     "data": {
      "text/latex": [
       "$\\displaystyle 126$"
      ],
      "text/plain": [
       "126"
      ]
     },
     "metadata": {},
     "output_type": "display_data"
    }
   ],
   "source": [
    "# [126] Determinants\n",
    "from sympy import *\n",
    "A = Matrix([[1,5,0,-1],[3,-2,-1,2],[-1,1,0,3],[1,3,2,-2]])\n",
    "display(\"Using builtin SymPy method\",\"determinate\",A.det())"
   ]
  },
  {
   "cell_type": "markdown",
   "id": "8cc90afc",
   "metadata": {},
   "source": [
    "## [127] Cramers Rule\n",
    "### Summary\n",
    "- Cramers rule is another method for solving linear systems\n",
    "- The rule declares that you can solve any variable in the system by calculating $\\frac{D_v}{D}$\n",
    "\n",
    "### Example\n",
    "$a_1x +b_1y = d_1 \\\\ a_2x + b_2y = d_2$\n",
    "\n",
    "$x = \\frac{D_x}{D}$ and $ y = \\frac{D_y}{D}$\n",
    "\n",
    "where\n",
    "\n",
    "$D = \\begin{vmatrix} a_1 & b_1 \\\\ a_2 & b_2 \\end{vmatrix}$\n",
    "$D_x = \\begin{vmatrix} d_1 & b_1 \\\\ d_2 & b_2 \\end{vmatrix}$\n",
    "$D_y = \\begin{vmatrix} a_1 & d_1 \\\\ a_2 & d_2 \\end{vmatrix}$\n",
    "\n"
   ]
  },
  {
   "cell_type": "code",
   "execution_count": 30,
   "id": "914f271c",
   "metadata": {},
   "outputs": [
    {
     "data": {
      "text/plain": [
       "'D_x'"
      ]
     },
     "metadata": {},
     "output_type": "display_data"
    },
    {
     "data": {
      "text/latex": [
       "$\\displaystyle \\left[\\begin{matrix}21 & -2\\\\12 & -5\\end{matrix}\\right]$"
      ],
      "text/plain": [
       "Matrix([\n",
       "[21, -2],\n",
       "[12, -5]])"
      ]
     },
     "metadata": {},
     "output_type": "display_data"
    },
    {
     "data": {
      "text/plain": [
       "'='"
      ]
     },
     "metadata": {},
     "output_type": "display_data"
    },
    {
     "data": {
      "text/latex": [
       "$\\displaystyle -81$"
      ],
      "text/plain": [
       "-81"
      ]
     },
     "metadata": {},
     "output_type": "display_data"
    },
    {
     "data": {
      "text/plain": [
       "'D'"
      ]
     },
     "metadata": {},
     "output_type": "display_data"
    },
    {
     "data": {
      "text/latex": [
       "$\\displaystyle \\left[\\begin{matrix}3 & -2\\\\-6 & -5\\end{matrix}\\right]$"
      ],
      "text/plain": [
       "Matrix([\n",
       "[ 3, -2],\n",
       "[-6, -5]])"
      ]
     },
     "metadata": {},
     "output_type": "display_data"
    },
    {
     "data": {
      "text/plain": [
       "'='"
      ]
     },
     "metadata": {},
     "output_type": "display_data"
    },
    {
     "data": {
      "text/latex": [
       "$\\displaystyle -27$"
      ],
      "text/plain": [
       "-27"
      ]
     },
     "metadata": {},
     "output_type": "display_data"
    },
    {
     "name": "stdout",
     "output_type": "stream",
     "text": [
      "D_x/D = x = 3\n"
     ]
    }
   ],
   "source": [
    "#[Quiz 51] Cramers rule\n",
    "from sympy import * \n",
    "\n",
    "\"Solve for x given the system below\"\n",
    "# 3x -2y =21 \n",
    "# -6x -5y =12\n",
    "\n",
    "D_x = Matrix([[21,-2],[12,-5]])\n",
    "display (\"D_x\", D_x,\"=\", D_x.det())\n",
    "\n",
    "D = Matrix([[3,-2],[-6,-5]])\n",
    "display (\"D\", D,\"=\", D.det())\n",
    "\n",
    "print(f\"D_x/D = x = {D_x.det()/D.det()}\"  )"
   ]
  },
  {
   "cell_type": "markdown",
   "id": "5cdf9117",
   "metadata": {},
   "source": [
    "## [129] Modifying Determinants\n",
    "\n",
    "### Multiplying rows by a scalar $k$\n",
    "$A = \\begin{bmatrix}a&b\\\\c&d\\end{bmatrix}$\n",
    "\n",
    "$B = \\begin{bmatrix}ka&kb\\\\c&d\\end{bmatrix}$\n",
    "\n",
    "$|B| = kA$\n",
    "\n",
    "- NOTE: when $n$ rows are multiplied by k, determinant is multiplied by $k^n$\n",
    "\n",
    "$A = \\begin{bmatrix}a&b\\\\c&d\\end{bmatrix}$\n",
    "\n",
    "\n",
    "$B = \\begin{bmatrix}ka&kb\\\\kc&kd\\end{bmatrix}$\n",
    "\n",
    "$|B| = k^2|A|$\n",
    "###  Sum of two rows\n",
    "\n",
    "\n",
    "### Swapping rows in a matrix\n",
    "When you swap rows in a matrix A, the determinant of the resulting matrix B is equal to the determinant of matrix A multiplied by negative 1 \n",
    "- If multiple row swaps are performed, -1 is multiplied by the number of swaps n \n",
    "- NOTE: $|A| = -|A|$ only when A = 0, therefore, when any rows in a matrix are equal, you know its determinant must be 0\n",
    "\n",
    "$A(A_1 \\leftrightarrow A_2) = B$\n",
    "\n",
    "$\\begin{vmatrix}B\\end{vmatrix} = -\\begin{vmatrix}A\\end{vmatrix}$\n",
    "\n",
    "### Adding, subtracting rows in a matrix\n",
    "does not affect the determinant"
   ]
  },
  {
   "cell_type": "markdown",
   "id": "123b75d8",
   "metadata": {},
   "source": [
    "## [131] Triangular Matrices\n",
    "\n",
    "### Definitions\n",
    "- The **main diagonal** values of a matrix are the values diagonally from the top left to bottom right of the matrix\n",
    "-  A **Upper Triangular Matrice** is one that has only zeroes below the main diagonal \n",
    "-  A **Lower Triangular Matrice** is one that has only zeroes above the main diagonal \n",
    "\n",
    "### Summary\n",
    "- Finding the determinant of a trangular matrice is significantly easier, since many partial determinants get reduced to zero\n",
    "- The determinant will always be equal to the product of all values in the main diagonal\n",
    "$\n",
    "A = \\begin{bmatrix} \n",
    "1&2&3&4\\\\\n",
    "0&-2&0&2\\\\\n",
    "0&0&5&3\\\\\n",
    "0&0&0&0\n",
    "\\end{bmatrix}\\\\\n",
    "|A| = \n",
    "+1\\begin{vmatrix}-2&0&2\\\\0&5&3\\\\0&0&-1\\\\\\end{vmatrix}\n",
    "-0\\begin{vmatrix}2&3&4\\\\0&5&3\\\\0&0&-1\\\\\\end{vmatrix}\n",
    "+0\\begin{vmatrix}2&3&4\\\\-2&0&2\\\\0&0&-1\\\\\\end{vmatrix}\n",
    "-0\\begin{vmatrix}2&3&4\\\\-2&0&2\\\\0&5&3\\\\\\end{vmatrix}\\\\\n",
    "|A| = +1\\begin{vmatrix}-2&0&2\\\\0&5&3\\\\0&0&-1\\\\\\end{vmatrix} \\\\\n",
    "|A|= \n",
    "+1\\begin{bmatrix}-2\\begin{vmatrix}5&3\\\\0&-1\\end{vmatrix}\n",
    "-0\\begin{vmatrix}0&2\\\\0&-1\\end{vmatrix}\n",
    "+0\\begin{vmatrix}0&2\\\\5&3\\end{vmatrix} \\end{bmatrix}\\\\\n",
    "|A|= 1\\begin{bmatrix}-2\\begin{vmatrix}5&3\\\\0&-1\\end{vmatrix}\\end{bmatrix} =  10\n",
    "$\n",
    "\n",
    "- Because of the above, the determinant will always be equal to the product of all values in the main diagonal\\\n",
    "$|A| = 1\\times-2\\times5\\times-1 = 10$\n"
   ]
  },
  {
   "cell_type": "markdown",
   "id": "7404855c",
   "metadata": {},
   "source": [
    "## [134] Using determinants to find the area of a paralellogram\n",
    "### Summary \n",
    "- The area of a parallelogram is given by the absolute value of the determinate\n",
    "- In the case that a parallelogram is formed by a transformation from a square, multipying the area of the square with the determinate of the transformation matrix used to find the image (the parallelogram) and taking the absollute value will result in the area of the paralellogram\n",
    "### Example\n",
    "\n",
    "$A = \\begin{bmatrix}1&2\\\\3&0\\end{bmatrix}$\n",
    "\n",
    "From A, a parallelogram can be formed by using two of each column vector as the sides\n",
    "\n",
    "The area of the parallelogram can be found by taking the absolute value of the determinate of A\n",
    "\n",
    "$|A| = 6 = Area_{parallelogram}$\n",
    "\n"
   ]
  },
  {
   "cell_type": "code",
   "execution_count": 34,
   "id": "6c41fba0",
   "metadata": {},
   "outputs": [
    {
     "data": {
      "text/latex": [
       "$\\displaystyle 8$"
      ],
      "text/plain": [
       "8"
      ]
     },
     "execution_count": 34,
     "metadata": {},
     "output_type": "execute_result"
    }
   ],
   "source": [
    "#[Quiz 54]\n",
    "from sympy import *\n",
    "A = Matrix([[2,0],[-1,4]])\n",
    "A_det = A.det()\n",
    "A_det\n"
   ]
  },
  {
   "cell_type": "code",
   "execution_count": null,
   "id": "16235d1e",
   "metadata": {},
   "outputs": [],
   "source": []
  }
 ],
 "metadata": {
  "kernelspec": {
   "display_name": "Python 3 (ipykernel)",
   "language": "python",
   "name": "python3"
  },
  "language_info": {
   "codemirror_mode": {
    "name": "ipython",
    "version": 3
   },
   "file_extension": ".py",
   "mimetype": "text/x-python",
   "name": "python",
   "nbconvert_exporter": "python",
   "pygments_lexer": "ipython3",
   "version": "3.8.10"
  }
 },
 "nbformat": 4,
 "nbformat_minor": 5
}
