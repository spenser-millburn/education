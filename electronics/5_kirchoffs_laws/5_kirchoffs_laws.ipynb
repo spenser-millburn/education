{
 "cells": [
  {
   "cell_type": "markdown",
   "metadata": {},
   "source": [
    "# [27-33] Kirchoff Circuit Laws\n"
   ]
  },
  {
   "cell_type": "markdown",
   "metadata": {},
   "source": [
    "## Kirchhoff's Current Law (KCL):\n",
    "   - The sum of currents entering and leaving a node (or junction) in a circuit is zero.\n",
    "   - Mathematically, ΣI = 0, where ΣI represents the algebraic sum of currents at a node.\n",
    "\n",
    "   $\\sum I_{in} = \\sum I_{out}$\n",
    "\n",
    "   e.g. if i2 flows into node and i1, i3, i4 flows out, then $i_2 = i_1 + i_3 + i_4$\n",
    "\n",
    "\n",
    "## Kirchhoff's Voltage Law (KVL):\n",
    "   - The sum of voltages in any closed loop in a circuit is zero.\n",
    "   - Mathematically, ΣV = 0, where ΣV represents the algebraic sum of voltages in a loop.\n",
    "   \n",
    "$\\sum V = 0$\n",
    "\n",
    "\n",
    "These laws are fundamental principles in electrical circuit analysis. They provide a systematic approach to analyzing and solving complex circuits, helping us determine unknown currents and voltages.\n"
   ]
  },
  {
   "cell_type": "markdown",
   "metadata": {},
   "source": [
    "### Steps to apply kirchoff's rules\n",
    "\n",
    "1. Label the points in the circuit diagram using lowercase letters a,b,c,...These labels help with orientation. \n",
    "\n",
    "2. Locate the nodes in the circuit. Label each node with the currents and directions into and out of it. \n",
    "\n",
    "3. Choose the loops in the circuit. Every component must be contained in at least one loop.\n",
    "\n",
    "4. Apply Kirchhoff's Current Law. You only need to use enough nodes to include every current. \n",
    "\n",
    "5. Apply Kirchhoff's Voltage Law. "
   ]
  },
  {
   "cell_type": "markdown",
   "metadata": {},
   "source": [
    "# Power"
   ]
  },
  {
   "cell_type": "markdown",
   "metadata": {},
   "source": [
    "## Power Formulas:\n",
    "\n",
    "   - $(P = I \\cdot V)$\n",
    "\n",
    "   - $(P = I^2 \\cdot R)$\n",
    "\n",
    "   - $(P = \\frac{V^2}{R})$\n"
   ]
  },
  {
   "cell_type": "code",
   "execution_count": null,
   "metadata": {},
   "outputs": [],
   "source": []
  }
 ],
 "metadata": {
  "kernelspec": {
   "display_name": "Python 3",
   "language": "python",
   "name": "python3"
  },
  "language_info": {
   "codemirror_mode": {
    "name": "ipython",
    "version": 3
   },
   "file_extension": ".py",
   "mimetype": "text/x-python",
   "name": "python",
   "nbconvert_exporter": "python",
   "pygments_lexer": "ipython3",
   "version": "3.10.12"
  }
 },
 "nbformat": 4,
 "nbformat_minor": 2
}
