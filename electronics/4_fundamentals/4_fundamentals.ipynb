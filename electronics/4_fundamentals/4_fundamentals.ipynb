{
 "cells": [
  {
   "cell_type": "markdown",
   "metadata": {},
   "source": [
    "# Section 4 Notes\n",
    "\n",
    "\n",
    "## [COURSE link](https://www.udemy.com/course/electronic-circuits-for-beginners-analog-hardware-design/)"
   ]
  },
  {
   "cell_type": "markdown",
   "metadata": {},
   "source": []
  },
  {
   "cell_type": "markdown",
   "metadata": {},
   "source": [
    "# Fundamental Addition\n",
    "To calculate the total resistance in a series circuit, you can use the following equation:\n",
    "\n",
    "$\n",
    "R_{\\text{total}} = R_1 + R_2 + R_3 + \\ldots\n",
    "$\n",
    "\n",
    "where $(R_1, R_2, R_3, \\ldots)$ are the individual resistances in the circuit.\n",
    "\n",
    "On the other hand, to calculate the total resistance in a parallel circuit, you can use the following equation:\n",
    "\n",
    "$\n",
    "\\frac{1}{R_{\\text{total}}} = \\frac{1}{R_1} + \\frac{1}{R_2} + \\frac{1}{R_3} + \\ldots\n",
    "$\n",
    "\n",
    "### or \n",
    "$\n",
    "\\frac{R_1 \\times R_2}{R_1 + R_2}\n",
    "$\n",
    "\n",
    "where $(R_1, R_2, R_3, \\ldots)$ are the individual resistances in the circuit."
   ]
  },
  {
   "cell_type": "markdown",
   "metadata": {},
   "source": [
    "# Voltage Division\n",
    "\n",
    "### Without load\n",
    "\n",
    "$v_{out} = v_{in}\\times\\frac{R_2}{R_1 + R_2}$\n",
    "\n",
    "### With load\n",
    "$v_{out} = v_{in}\\times\\frac{R_2 || R_L}{(R_1 + R_2)||R_Lk}$"
   ]
  },
  {
   "cell_type": "markdown",
   "metadata": {},
   "source": [
    "# Voltage Division\n",
    "\n",
    "$v_{out} = v_{in}\\times\\frac{R_2}{R_1 + R_2}$"
   ]
  },
  {
   "cell_type": "markdown",
   "metadata": {},
   "source": [
    "# Calculating a current limiting resistor for an LED\n",
    "To calculate the resistance required to drive one series-connected LED from a 12V battery at 20mA with a forward voltage (Vf) of 1.8V, you can use Ohm's Law:\n",
    "\n",
    "Determine the voltage across the resistor (Vr):\n",
    "\n",
    "$Vr = Vs - Vf$\n",
    "\n",
    "$Vr = 12V - 1.8V$\n",
    "\n",
    "$Vr = 10.2V$\n",
    "\n",
    "Determine the desired current (I) through the LED:\n",
    "\n",
    "$I = 20mA = 0.02A$\n",
    "\n",
    "Calculate the resistance (R) using Ohm's Law:\n",
    "\n",
    "$R = Vr / I$\n",
    "\n",
    "$R = 10.2V / 0.02A$\n",
    "\n",
    "$R = 510$ ohms\n",
    "\n",
    "So, you should use a resistor with a value of 510 ohms to limit the current through the LED to no more than 20mA when connected to a 12V supply voltage. Since standard resistor values are available in discrete steps, you can use a 510-ohm resistor for this purpose.\n"
   ]
  },
  {
   "cell_type": "code",
   "execution_count": null,
   "metadata": {},
   "outputs": [],
   "source": []
  },
  {
   "cell_type": "code",
   "execution_count": null,
   "metadata": {},
   "outputs": [],
   "source": []
  }
 ],
 "metadata": {
  "kernelspec": {
   "display_name": "Python 3",
   "language": "python",
   "name": "python3"
  },
  "language_info": {
   "codemirror_mode": {
    "name": "ipython",
    "version": 3
   },
   "file_extension": ".py",
   "mimetype": "text/x-python",
   "name": "python",
   "nbconvert_exporter": "python",
   "pygments_lexer": "ipython3",
   "version": "3.10.12"
  }
 },
 "nbformat": 4,
 "nbformat_minor": 2
}
